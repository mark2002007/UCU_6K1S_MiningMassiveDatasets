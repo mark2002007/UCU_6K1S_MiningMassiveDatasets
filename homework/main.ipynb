{
 "cells": [
  {
   "cell_type": "markdown",
   "metadata": {},
   "source": [
    "# Homework on Mining Massive Databases (MMDS)\n",
    "\n",
    "**by Andrii Shevtsov and Markiian Mandzak**\n",
    "\n",
    "Task formulation:\n",
    "![Task formulation screenshot](./task.jpg)\n",
    "\n",
    "# Imports and constants"
   ]
  },
  {
   "cell_type": "code",
   "execution_count": null,
   "metadata": {},
   "outputs": [
    {
     "name": "stderr",
     "output_type": "stream",
     "text": [
      "/home/andrii/MMDS/venv/lib/python3.12/site-packages/tqdm/auto.py:21: TqdmWarning: IProgress not found. Please update jupyter and ipywidgets. See https://ipywidgets.readthedocs.io/en/stable/user_install.html\n",
      "  from .autonotebook import tqdm as notebook_tqdm\n"
     ]
    }
   ],
   "source": [
    "import requests\n",
    "import time\n",
    "import pandas as pd\n",
    "import matplotlib.pyplot as plt\n",
    "import seaborn as sns\n",
    "\n",
    "from pyspark.sql import SparkSession, functions as F, types as T, Window\n",
    "from pyspark.ml.feature import HashingTF, IDF, Tokenizer, MinHashLSH\n",
    "from pyspark.ml.linalg import SparseVector\n",
    "\n",
    "from tree_stem import stem_word"
   ]
  },
  {
   "cell_type": "markdown",
   "metadata": {},
   "source": [
    "We set spark session here as it is a singletone for our application:"
   ]
  },
  {
   "cell_type": "code",
   "execution_count": 2,
   "metadata": {},
   "outputs": [
    {
     "name": "stderr",
     "output_type": "stream",
     "text": [
      "24/11/04 15:50:30 WARN Utils: Your hostname, ucuvm resolves to a loopback address: 127.0.1.1; using 10.0.2.15 instead (on interface enp0s3)\n",
      "24/11/04 15:50:30 WARN Utils: Set SPARK_LOCAL_IP if you need to bind to another address\n",
      "Setting default log level to \"WARN\".\n",
      "To adjust logging level use sc.setLogLevel(newLevel). For SparkR, use setLogLevel(newLevel).\n",
      "24/11/04 15:50:33 WARN NativeCodeLoader: Unable to load native-hadoop library for your platform... using builtin-java classes where applicable\n"
     ]
    }
   ],
   "source": [
    "SPARK = SparkSession.builder \\\n",
    "    .appName(\"MMDS_HW_LSH\") \\\n",
    "    .config(\"spark.executor.memory\", \"4g\") \\\n",
    "    .config(\"spark.driver.memory\", \"8g\") \\\n",
    "    .getOrCreate()"
   ]
  },
  {
   "cell_type": "markdown",
   "metadata": {},
   "source": [
    "Other constants, that can be useful:"
   ]
  },
  {
   "cell_type": "code",
   "execution_count": 3,
   "metadata": {},
   "outputs": [],
   "source": [
    "SEARCHED_ELEMENTS_COUNT = 20  # Count of elements that should occur in search with LSH\n",
    "BEST_PARAMS_COUNT = 5  # Count of best param sets to return during the grid search\n",
    "VECTOR_SIZE = 1000 # Size of the feature vector used"
   ]
  },
  {
   "cell_type": "markdown",
   "metadata": {},
   "source": [
    "## Part 0. Common functions\n",
    "\n",
    "Here, we list functions that are reutilized in both parts. This section is crucial in explaining our approach. Also it makes sure we use the same general approach for both tasks.\n",
    "\n",
    "### Features calculation"
   ]
  },
  {
   "cell_type": "code",
   "execution_count": 4,
   "metadata": {},
   "outputs": [],
   "source": [
    "@F.udf(T.ArrayType(T.StringType()))\n",
    "def stem_and_clean(tokens):\n",
    "    \"\"\"A small UDF function to clean tokenized words from empty an then stem them\"\"\"\n",
    "    return [stem_word(token) for token in tokens if token.strip() != \"\"]"
   ]
  },
  {
   "cell_type": "code",
   "execution_count": 5,
   "metadata": {},
   "outputs": [],
   "source": [
    "def add_features(df, input_text_col: str, output_features_col: str = 'features'):\n",
    "    \"\"\"This function helps us to add vectors with features to the original dataframe with text\n",
    "    \n",
    "    Args:\n",
    "        - df: pyspark DataFrame - a dataframe with `input_text_col` present, for which we should add a column with vectors of features\n",
    "        - input_text_col: str - a name of column in `df` where we should take a text to obtain vector features\n",
    "        - output_features_col: str - a name of a column in `df` where we should put final vectors with features\n",
    "\n",
    "    Returns:\n",
    "        pyspark DataFrame, with `output_features_col` column added and filled with feature vectors\n",
    "    \"\"\"\n",
    "\n",
    "    # We need to remove symbols to correctly tokenize the text\n",
    "    df = df.withColumn(f'{input_text_col}_clean', F.regexp_replace(input_text_col, r'_|:|\\.|-|\\(|\\)|\"|\\'|«|»', ' '))\n",
    "\n",
    "    tokenizer = Tokenizer(inputCol=f'{input_text_col}_clean', outputCol=\"words\")\n",
    "    df = tokenizer.transform(df)\n",
    "\n",
    "    df = df.withColumn(\"stemmedWords\", stem_and_clean(F.col(\"words\")))\n",
    "\n",
    "    hashingTF = HashingTF(inputCol=\"stemmedWords\", outputCol=\"rawFeatures\", numFeatures=VECTOR_SIZE)\n",
    "    df = hashingTF.transform(df)\n",
    "\n",
    "    idf = IDF(inputCol=\"rawFeatures\", outputCol=output_features_col)\n",
    "    idfModel = idf.fit(df)\n",
    "    df = idfModel.transform(df)\n",
    "\n",
    "    return df\n"
   ]
  },
  {
   "cell_type": "markdown",
   "metadata": {},
   "source": [
    "### Ground truth similarity calculation\n",
    "\n",
    "We should use some function to understand the distance (or similarity) between two feature vectors (for ground truth calculation). Cosine similarity is perfect for that:"
   ]
  },
  {
   "cell_type": "code",
   "execution_count": 6,
   "metadata": {},
   "outputs": [],
   "source": [
    "@F.udf(T.DoubleType())\n",
    "def cos_sim(vec_a, vec_b):\n",
    "    if isinstance(vec_a, SparseVector) and isinstance(vec_b, SparseVector):\n",
    "        dot_product = float(vec_a.dot(vec_b))\n",
    "        norm_a = float(vec_a.norm(2))\n",
    "        norm_b = float(vec_b.norm(2))\n",
    "        return dot_product / (norm_a * norm_b) if norm_a and norm_b else 0.0\n",
    "    return 0.0"
   ]
  },
  {
   "cell_type": "markdown",
   "metadata": {},
   "source": [
    "Then, we need to have a function to calculate ground truth similarity and then obtaining ids of the closest elements:"
   ]
  },
  {
   "cell_type": "code",
   "execution_count": 7,
   "metadata": {},
   "outputs": [],
   "source": [
    "def add_gt_similar(df, id_col: str, features_col: str = 'features', gt_similar_col: str = 'gt_similar', searched_elements_count: int = SEARCHED_ELEMENTS_COUNT):\n",
    "    \"\"\"Add column with lists of ids of similar ground truth elements\n",
    "    \n",
    "    Args:\n",
    "        - df: pyspark DataFrame - a dataframe with `id_col` and `features_col` present, for which we should add a column with lists of similar items\n",
    "        - id_col: str - a name of column in `df` where we should take indexes to put into `gt_similar_col`\n",
    "        - features_col: str (default 'features') - a name of column in `df` where vector features are located\n",
    "        - gt_similar_col: str (default 'gt_similar') - a name for a new column that is created as a result\n",
    "        - searched_elements_count: int (default SEARCHED_ELEMENTS_COUNT) - maximum count of elements we want to search\n",
    "    \n",
    "    Returns:\n",
    "    pyspark DataFrame, a copy of `df` with filled `gt_similar_col` that contains ids of ground truth similar items\n",
    "    \"\"\"\n",
    "\n",
    "    # We can now make an `NxN` similarity table, containing cosine similarities between each pair of feature vectors\n",
    "    similarity_table = (\n",
    "        df.alias('a')\n",
    "        .crossJoin(df.alias('b'))\n",
    "        .withColumn(\n",
    "            'cs',\n",
    "            cos_sim(\n",
    "                F.col(f'a.{features_col}'),\n",
    "                F.col(f'b.{features_col}'),\n",
    "            )\n",
    "        )\n",
    "        .groupBy(f'a.{id_col}')\n",
    "        .pivot(f'b.{id_col}')\n",
    "        .sum('cs')\n",
    "        .orderBy(id_col)\n",
    "    )\n",
    "\n",
    "    # Now, we can obtain all the perspective similarity pairs (with similarity bigger than 0)\n",
    "    similarity_columns = [column for column in similarity_table.columns if column != id_col]\n",
    "\n",
    "    mapping_expr = []\n",
    "    for c in similarity_columns:\n",
    "        mapping_expr.extend([F.lit(c), F.col(c)])\n",
    "\n",
    "    paired_df = similarity_table.select(\n",
    "        F.col(id_col),\n",
    "        F.explode(F.create_map(*mapping_expr)).alias(\"similar_id\", \"similarity\")\n",
    "    ).filter(\n",
    "        (F.col(id_col) != F.col(\"similar_id\")) & (F.col(\"similarity\") > 0)\n",
    "    )\n",
    "\n",
    "    # And take top k similar items by the similarity value for each other item\n",
    "    window_spec = Window.partitionBy(id_col).orderBy(F.col(\"similarity\").desc())\n",
    "    paired_df = paired_df.withColumn(\"simrank\", F.row_number().over(window_spec)).filter(F.col(\"simrank\") <= searched_elements_count)\n",
    "\n",
    "    # Here we collect lists with similar ids and add them to the original dataframe \n",
    "    top_similarities_df = paired_df.groupBy(id_col).agg(F.collect_list(\"similar_id\").alias(gt_similar_col))\n",
    "    res_df = df.join(top_similarities_df, on=id_col, how='left').orderBy(id_col)\n",
    "\n",
    "    return res_df"
   ]
  },
  {
   "cell_type": "markdown",
   "metadata": {},
   "source": [
    "### Predicting with LSH"
   ]
  },
  {
   "cell_type": "code",
   "execution_count": 8,
   "metadata": {},
   "outputs": [],
   "source": [
    "def predict_similar_lsh(df, lsh_params, id_col: str, features_col: str = 'features', pred_similar_col: str = 'pred_similar', searched_elements_count: int = SEARCHED_ELEMENTS_COUNT):\n",
    "    \"\"\"Predict similar items with MinHashLSH and add them to the original dataframe into the `pred_similar_col` column\n",
    "    \n",
    "    Args:\n",
    "        - df: pyspark DataFrame - a dataframe with `id_col` and `features_col` present, for which we should add a column with lists of similar items\n",
    "        - id_col: str - a name of column in `df` where we should take indexes to put into `pred_similar_col`\n",
    "        - features_col: str (default 'features') - a name of column in `df` where vector features are located\n",
    "        - pred_similar_col: str (default 'pred_similar') - a name for a new column that is created as a result\n",
    "        - searched_elements_count: int (default SEARCHED_ELEMENTS_COUNT) - maximum count of elements we want to search\n",
    "    \n",
    "    Returns:\n",
    "    pyspark DataFrame, a copy of `df` with filled `pred_similar_col` column that contains ids of predicted similar items\n",
    "    \"\"\"\n",
    "    \n",
    "    num_hash_tables = lsh_params['numHashTables']\n",
    "    distance_threshold = lsh_params['distanceThreshold']\n",
    "\n",
    "    mh = MinHashLSH(inputCol=features_col, outputCol=\"hashes\", numHashTables=num_hash_tables)\n",
    "\n",
    "    model = mh.fit(df)\n",
    "\n",
    "    similar_items = model.approxSimilarityJoin(df, df, threshold=distance_threshold, distCol=\"similarity\")\n",
    "    similar_items = similar_items.filter(F.col(f\"datasetA.{id_col}\") != F.col(f\"datasetB.{id_col}\"))\n",
    "    similar_items = similar_items.orderBy(F.col(\"similarity\").desc())\n",
    "\n",
    "    window_spec = Window.partitionBy(f\"datasetA.{id_col}\").orderBy(F.col(\"similarity\").desc())\n",
    "    similar_items = similar_items.withColumn(\"simrank\", F.row_number().over(window_spec)).filter(F.col(\"simrank\") <= searched_elements_count)\n",
    "\n",
    "    found_items = similar_items.groupBy(f\"datasetA.{id_col}\").agg(F.collect_list(f\"datasetB.{id_col}\").alias(pred_similar_col))\n",
    "\n",
    "    res_df = df.join(found_items, on=id_col, how='left')\n",
    "\n",
    "    return res_df"
   ]
  },
  {
   "cell_type": "markdown",
   "metadata": {},
   "source": [
    "### Measuring quality\n",
    "\n",
    "Let's also define a function to calculate the quality of our prediction. We will use intersection over union (IOU) to evaluate quality, as it is intuitive and penalizes both false positives and false negatives equally:"
   ]
  },
  {
   "cell_type": "code",
   "execution_count": 9,
   "metadata": {},
   "outputs": [],
   "source": [
    "@F.udf(T.DoubleType())\n",
    "def iou_func(real_items, pred_items):\n",
    "    if real_items is None:\n",
    "        return 1.\n",
    "    elif pred_items is None:\n",
    "        return 0.\n",
    "    else:\n",
    "        real_items_set = set([int(i) for i in real_items])\n",
    "        pred_items_set = set([int(i) for i in pred_items])\n",
    "        intersection_len = len(real_items_set.intersection(pred_items_set))\n",
    "        union_len = len(real_items_set.union(pred_items_set))\n",
    "        # Division of integers here somehow breaks the logic when NULL is passed in\n",
    "        return float(intersection_len)/float(union_len)  "
   ]
  },
  {
   "cell_type": "markdown",
   "metadata": {},
   "source": [
    "Now we need a function that makes an evaluation of the current parameters set (using time and IOU) for the LSH prediction:"
   ]
  },
  {
   "cell_type": "code",
   "execution_count": 10,
   "metadata": {},
   "outputs": [],
   "source": [
    "def test_lsh_params(df, params, id_col: str, features_col: str = 'features', pred_similar_col: str = 'pred_similar', searched_elements_count: int = SEARCHED_ELEMENTS_COUNT):\n",
    "    \"\"\"A function to measure performance of the LSH algorithm with given parameters\n",
    "    \n",
    "    Args:\n",
    "        - df: pyspark DataFrame - a dataframe with `id_col` and `features_col` present, for which we should add a column with lists of similar items\n",
    "        - id_col: str - a name of column in `df` where we should take indexes to put into `pred_similar_col`\n",
    "        - features_col: str (default 'features') - a name of column in `df` where vector features are located\n",
    "        - pred_similar_col: str (default 'pred_similar') - a name for a new column that is created as a result\n",
    "        - searched_elements_count: int (default SEARCHED_ELEMENTS_COUNT) - maximum count of elements we want to search\n",
    "    \n",
    "    Returns:\n",
    "    dict, a dictionary with lst parameters and results of model with that parameters\n",
    "    \"\"\"\n",
    "    \n",
    "    start_time = time.time()\n",
    "    test_iou_df = predict_similar_lsh(df, params, \n",
    "                                      id_col=id_col, \n",
    "                                      features_col=features_col, \n",
    "                                      pred_similar_col=pred_similar_col,\n",
    "                                      searched_elements_count=searched_elements_count)\n",
    "    computation_time = time.time() - start_time\n",
    "\n",
    "    test_iou_df = test_iou_df.withColumn(\"iou\", iou_func(F.col(\"gt_similar_articles\"), F.col(\"pred_similar_articles\")))\n",
    "    iou_value = test_iou_df.agg(F.avg(\"iou\")).collect()[0][0]\n",
    "\n",
    "    return {\n",
    "        'params': params,\n",
    "        'iou': iou_value,\n",
    "        'computation_time': computation_time,\n",
    "    }"
   ]
  },
  {
   "cell_type": "markdown",
   "metadata": {},
   "source": [
    "### Performing grid search\n",
    "\n",
    "Here is a function to perform grid search:"
   ]
  },
  {
   "cell_type": "code",
   "execution_count": 11,
   "metadata": {},
   "outputs": [],
   "source": [
    "def grid_search_tuning(data, \n",
    "                       param_grid, \n",
    "                       id_col: str, \n",
    "                       features_col: str = 'features', \n",
    "                       pred_similar_col: str = 'pred_similar', \n",
    "                       searched_elements_count: int = SEARCHED_ELEMENTS_COUNT,\n",
    "                       top_parameter_sets: int = BEST_PARAMS_COUNT):\n",
    "    \"\"\"A function to calculate test MinHashLSH with different parameters and find `top_parameter_sets` best\n",
    "\n",
    "    Args:\n",
    "        - df: pyspark DataFrame - a dataframe with `id_col` and `features_col` present, for which we should add a column with lists of similar items\n",
    "        - param_grid: list of dicts - a list with paramer sets we want to evaluate on\n",
    "        - id_col: str - a name of column in `df` where we should take indexes to put into `pred_similar_col`\n",
    "        - features_col: str (default 'features') - a name of column in `df` where vector features are located\n",
    "        - pred_similar_col: str (default 'pred_similar') - a name for a new column that is created as a result\n",
    "        - searched_elements_count: int (default SEARCHED_ELEMENTS_COUNT) - maximum count of elements we want to search\n",
    "        - top_parameter_sets: int (default BEST_PARAMS_COUNT) - count of best parameter sets we want to return. If <= 0; return all parameter sets\n",
    "    \n",
    "    Returns:\n",
    "    list of dicts, a dictionary with lst parameters and results of model with that parameters\n",
    "    \"\"\"\n",
    "    results = []\n",
    "    for params in param_grid:\n",
    "        result = test_lsh_params(data, \n",
    "                                 params, \n",
    "                                 id_col=id_col, \n",
    "                                 features_col=features_col, \n",
    "                                 pred_similar_col=pred_similar_col, \n",
    "                                 searched_elements_count=searched_elements_count)\n",
    "        results.append(result)\n",
    "\n",
    "    top_results = sorted(results, key=lambda x: x['iou'], reverse=True)\n",
    "    if top_parameter_sets > 0:\n",
    "        top_results = top_results[:top_parameter_sets]\n",
    "\n",
    "    return top_results\n"
   ]
  },
  {
   "cell_type": "markdown",
   "metadata": {},
   "source": [
    "### Visualizing results"
   ]
  },
  {
   "cell_type": "code",
   "execution_count": 41,
   "metadata": {},
   "outputs": [],
   "source": [
    "def visualize_gridsearch_res(gridsearch_res):\n",
    "    \"\"\"Plot two heatmaps with gridsearch results\"\"\"\n",
    "    gridsearch_res_df = pd.DataFrame(gridsearch_res)\n",
    "\n",
    "    gridsearch_res_df['numHashTables'] = gridsearch_res_df['params'].apply(lambda x: x.get('numHashTables'))\n",
    "    gridsearch_res_df['distanceThreshold'] = gridsearch_res_df['params'].apply(lambda x: x.get('distanceThreshold'))\n",
    "    gridsearch_res_df = gridsearch_res_df.drop(columns=['params'])\n",
    "\n",
    "    iou_pivot = gridsearch_res_df.pivot(index=\"numHashTables\", columns=\"distanceThreshold\", values=\"iou\")\n",
    "    time_pivot = gridsearch_res_df.pivot(index=\"numHashTables\", columns=\"distanceThreshold\", values=\"computation_time\")\n",
    "\n",
    "    fig, axs = plt.subplots(1, 2, figsize=(12, 6))\n",
    "\n",
    "    fig.suptitle(\"Results for different parameters\")\n",
    "\n",
    "    axs[0].set_title(\"IOU values for different parameter sets\")\n",
    "    sns.heatmap(iou_pivot, ax=axs[0], cmap='rocket_r')\n",
    "\n",
    "    axs[1].set_title(\"Computation time values for different parameter sets, seconds\")\n",
    "    sns.heatmap(time_pivot, ax=axs[1], cmap='rocket')\n",
    "\n",
    "    plt.show()"
   ]
  },
  {
   "cell_type": "markdown",
   "metadata": {},
   "source": [
    "## Part 1. Barcelona LSH experiment"
   ]
  },
  {
   "cell_type": "code",
   "execution_count": null,
   "metadata": {},
   "outputs": [
    {
     "name": "stdout",
     "output_type": "stream",
     "text": [
      "--2024-11-04 15:19:02--  https://data.insideairbnb.com/spain/catalonia/barcelona/2024-09-06/data/listings.csv.gz\n",
      "Resolving data.insideairbnb.com (data.insideairbnb.com)... 108.138.51.6, 108.138.51.28, 108.138.51.93, ...\n",
      "Connecting to data.insideairbnb.com (data.insideairbnb.com)|108.138.51.6|:443... connected.\n",
      "HTTP request sent, awaiting response... 200 OK\n",
      "Length: 9977937 (9.5M) [application/x-gzip]\n",
      "Saving to: ‘listings.csv.gz’\n",
      "\n",
      "listings.csv.gz     100%[===================>]   9.52M  10.2MB/s    in 0.9s    \n",
      "\n",
      "2024-11-04 15:19:05 (10.2 MB/s) - ‘listings.csv.gz’ saved [9977937/9977937]\n",
      "\n",
      "--2024-11-04 15:19:06--  https://data.insideairbnb.com/spain/catalonia/barcelona/2024-09-06/data/calendar.csv.gz\n",
      "Resolving data.insideairbnb.com (data.insideairbnb.com)... 108.138.51.28, 108.138.51.6, 108.138.51.112, ...\n",
      "Connecting to data.insideairbnb.com (data.insideairbnb.com)|108.138.51.28|:443... connected.\n",
      "HTTP request sent, awaiting response... 200 OK\n",
      "Length: 18042988 (17M) [application/x-gzip]\n",
      "Saving to: ‘calendar.csv.gz’\n",
      "\n",
      "calendar.csv.gz      82%[===============>    ]  14.28M  8.28MB/s               ^C\n",
      "--2024-11-04 15:19:10--  https://data.insideairbnb.com/spain/catalonia/barcelona/2024-09-06/data/reviews.csv.gz\n",
      "Resolving data.insideairbnb.com (data.insideairbnb.com)... 108.138.51.112, 108.138.51.93, 108.138.51.28, ...\n",
      "Connecting to data.insideairbnb.com (data.insideairbnb.com)|108.138.51.112|:443... connected.\n",
      "HTTP request sent, awaiting response... 200 OK\n",
      "Length: 120186325 (115M) [application/x-gzip]\n",
      "Saving to: ‘reviews.csv.gz’\n",
      "\n",
      "reviews.csv.gz       76%[==============>     ]  88.15M  11.3MB/s    eta 2s     "
     ]
    }
   ],
   "source": [
    "!wget -O listings.csv.gz https://data.insideairbnb.com/spain/catalonia/barcelona/2024-09-06/data/listings.csv.gz\n",
    "!wget -O calendar.csv.gz https://data.insideairbnb.com/spain/catalonia/barcelona/2024-09-06/data/calendar.csv.gz\n",
    "!wget -O reviews.csv.gz https://data.insideairbnb.com/spain/catalonia/barcelona/2024-09-06/data/reviews.csv.gz\n",
    "\n",
    "!gunzip -f listings.csv.gz\n",
    "!gunzip -f calendar.csv.gz\n",
    "!gunzip -f reviews.csv.gz"
   ]
  },
  {
   "cell_type": "code",
   "execution_count": null,
   "metadata": {},
   "outputs": [],
   "source": [
    "pd.set_option('display.max_rows', None)\n",
    "pd.set_option('display.max_colwidth', None)\n",
    "\n",
    "def create_info_df(df):\n",
    "    info = pd.DataFrame(df.dtypes, columns=['type'])\n",
    "    info['missing values'] = df.isnull().sum()\n",
    "    info['example value'] = df.loc[0]\n",
    "    return info\n",
    "\n",
    "listings_df = pd.read_csv('listings.csv')\n",
    "print(listings_df.shape)\n",
    "create_info_df(listings_df)"
   ]
  },
  {
   "cell_type": "code",
   "execution_count": null,
   "metadata": {},
   "outputs": [],
   "source": [
    "# Initialize Spark session\n",
    "listings_df = SPARK.createDataFrame(listings_df)\n",
    "# listings_df = listings_df.sample(False, 0.1) # REMOVE BEFORE FINAL RUN!"
   ]
  },
  {
   "cell_type": "code",
   "execution_count": null,
   "metadata": {},
   "outputs": [],
   "source": [
    "# Select relevant columns (replace 'Title' with the correct column, e.g., 'name')\n",
    "text_df = listings_df.select(\"name\").na.drop()\n",
    "\n",
    "# Tokenize the text (split into words)\n",
    "tokenizer = Tokenizer(inputCol=\"name\", outputCol=\"words\")\n",
    "wordsData = tokenizer.transform(text_df)\n",
    "\n",
    "# Use HashingTF to create term frequency vectors\n",
    "hashingTF = HashingTF(inputCol=\"words\", outputCol=\"rawFeatures\", numFeatures=10000)\n",
    "featurizedData = hashingTF.transform(wordsData)\n",
    "\n",
    "# Calculate the TF-IDF\n",
    "idf = IDF(inputCol=\"rawFeatures\", outputCol=\"features\")\n",
    "idfModel = idf.fit(featurizedData)\n",
    "rescaledData = idfModel.transform(featurizedData)\n",
    "\n",
    "# Define a function to run LSH with MinHash\n",
    "def run_lsh_experiment(data, params):\n",
    "    # Extract parameters\n",
    "    num_hash_tables = params['numHashTables']\n",
    "    bucket_length = params['bucketLength']\n",
    "    \n",
    "    # Initialize LSH\n",
    "    mh = MinHashLSH(inputCol=\"features\", outputCol=\"hashes\", numHashTables=num_hash_tables)\n",
    "    \n",
    "    # Fit the model\n",
    "    model = mh.fit(data)\n",
    "    \n",
    "    # Perform Approximate Similarity Join\n",
    "    similar_items = model.approxSimilarityJoin(data, data, threshold=bucket_length, distCol=\"JaccardDistance\")\n",
    "    \n",
    "    # Filter out exact matches (self-pairs)\n",
    "    similar_items = similar_items.filter(col(\"datasetA.name\") != col(\"datasetB.name\"))\n",
    "    \n",
    "    # Count number of similar pairs found\n",
    "    count_similar_pairs = similar_items.count()\n",
    "    \n",
    "    return count_similar_pairs\n",
    "\n",
    "# Function to tune parameters using Grid Search\n",
    "def grid_search_tuning(data, param_grid):\n",
    "    results = []\n",
    "    for params in param_grid:\n",
    "        start_time = time.time()\n",
    "        similar_pairs_count = run_lsh_experiment(data, params)\n",
    "        computation_time = time.time() - start_time\n",
    "        results.append({\n",
    "            'params': params,\n",
    "            'similar_pairs_count': similar_pairs_count,\n",
    "            'computation_time': computation_time\n",
    "        })\n",
    "    return results\n",
    "\n",
    "# Define parameter grid for LSH\n",
    "param_grid = [\n",
    "    {'numHashTables': 3, 'bucketLength': 0.1},\n",
    "    {'numHashTables': 3, 'bucketLength': 0.15},\n",
    "    {'numHashTables': 3, 'bucketLength': 0.2},\n",
    "    {'numHashTables': 4, 'bucketLength': 0.1},\n",
    "    {'numHashTables': 4, 'bucketLength': 0.15},\n",
    "    {'numHashTables': 4, 'bucketLength': 0.2},\n",
    "    {'numHashTables': 5, 'bucketLength': 0.1},\n",
    "    {'numHashTables': 5, 'bucketLength': 0.15},\n",
    "    {'numHashTables': 5, 'bucketLength': 0.2}\n",
    "]\n",
    "\n",
    "\n",
    "# Run grid search for parameter tuning\n",
    "results = grid_search_tuning(rescaledData, param_grid)\n",
    "\n",
    "# Print results\n",
    "for result in results:\n",
    "    print(f\"Params: {result['params']}, Similar Pairs: {result['similar_pairs_count']}, Time: {result['computation_time']}s\")"
   ]
  },
  {
   "cell_type": "markdown",
   "metadata": {},
   "source": [
    "### Configuration `numHashTables = 3` and `bucketLength = 0.15` looks the best"
   ]
  },
  {
   "cell_type": "markdown",
   "metadata": {},
   "source": [
    "## Part 2. Wikipedia LSH experiment"
   ]
  },
  {
   "cell_type": "markdown",
   "metadata": {},
   "source": [
    "### Obtain data"
   ]
  },
  {
   "cell_type": "code",
   "execution_count": 12,
   "metadata": {},
   "outputs": [],
   "source": [
    "wiki_request_res = requests.get(\"https://wikimedia.org/api/rest_v1/metrics/pageviews/top/uk.wikipedia.org/all-access/2024/09/all-days\", headers={\n",
    "    \"Accept\": \"application/json\",\n",
    "    \"User-Agent\": \"Mozilla/5.0 (X11; Ubuntu; Linux x86_64; rv:129.0) Gecko/20100101 Firefox/129.0\",\n",
    "    \"Referer\": \"https://doc.wikimedia.org/\"\n",
    "})"
   ]
  },
  {
   "cell_type": "code",
   "execution_count": 13,
   "metadata": {},
   "outputs": [],
   "source": [
    "articles_data = wiki_request_res.json()['items'][0]['articles']"
   ]
  },
  {
   "cell_type": "markdown",
   "metadata": {},
   "source": [
    "### Transform data"
   ]
  },
  {
   "cell_type": "code",
   "execution_count": 14,
   "metadata": {},
   "outputs": [],
   "source": [
    "articles_df = SPARK.createDataFrame(articles_data)"
   ]
  },
  {
   "cell_type": "code",
   "execution_count": 15,
   "metadata": {},
   "outputs": [
    {
     "name": "stderr",
     "output_type": "stream",
     "text": [
      "                                                                                \r"
     ]
    },
    {
     "name": "stdout",
     "output_type": "stream",
     "text": [
      "+-----------------------------------------------+----+------+\n",
      "|article                                        |rank|views |\n",
      "+-----------------------------------------------+----+------+\n",
      "|Головна_сторінка                               |1   |469652|\n",
      "|Спеціальна:Пошук                               |2   |197066|\n",
      "|Волинська_трагедія                             |3   |82508 |\n",
      "|Klavdia_Petrivna                               |4   |79497 |\n",
      "|Україна                                        |5   |61993 |\n",
      "|YouTube                                        |6   |60683 |\n",
      "|Сибіга_Андрій_Іванович                         |7   |58442 |\n",
      "|Перша_світова_війна                            |8   |50199 |\n",
      "|Національна_суспільна_телерадіокомпанія_України|9   |42675 |\n",
      "|Масляков_Олександр_Васильович                  |10  |37677 |\n",
      "|Нечуй-Левицький_Іван_Семенович                 |11  |37089 |\n",
      "|Президентські_вибори_у_США_2024                |12  |35302 |\n",
      "|Лавров_Сергій_Вікторович                       |13  |34938 |\n",
      "|Білокур_Катерина_Василівна                     |14  |34210 |\n",
      "|Київ                                           |15  |33559 |\n",
      "|Як-130                                         |16  |32892 |\n",
      "|Військові_звання_України                       |17  |32771 |\n",
      "|Радіо_«Свобода»                                |18  |32617 |\n",
      "|Лайл_і_Ерік_Менендеси                          |19  |31860 |\n",
      "|Файл:Battle_of_Ostroleka_1831.PNG              |20  |31396 |\n",
      "+-----------------------------------------------+----+------+\n",
      "only showing top 20 rows\n",
      "\n"
     ]
    }
   ],
   "source": [
    "articles_df.show(truncate=False)"
   ]
  },
  {
   "cell_type": "markdown",
   "metadata": {},
   "source": [
    "Let's add vectors of features to the dataframe:"
   ]
  },
  {
   "cell_type": "code",
   "execution_count": 16,
   "metadata": {},
   "outputs": [
    {
     "name": "stderr",
     "output_type": "stream",
     "text": [
      "                                                                                \r"
     ]
    }
   ],
   "source": [
    "articles_df = add_features(articles_df, \"article\", \"features\")"
   ]
  },
  {
   "cell_type": "code",
   "execution_count": 17,
   "metadata": {},
   "outputs": [
    {
     "name": "stdout",
     "output_type": "stream",
     "text": [
      "+--------------------+----+------+--------------------+--------------------+--------------------+--------------------+--------------------+\n",
      "|             article|rank| views|       article_clean|               words|        stemmedWords|         rawFeatures|            features|\n",
      "+--------------------+----+------+--------------------+--------------------+--------------------+--------------------+--------------------+\n",
      "|    Головна_сторінка|   1|469652|    Головна сторінка| [головна, сторінка]|    [головн, сторін]|(1000,[560,705],[...|(1000,[560,705],[...|\n",
      "|    Спеціальна:Пошук|   2|197066|    Спеціальна Пошук| [спеціальна, пошук]|  [спеціальн, пошук]|(1000,[416,722],[...|(1000,[416,722],[...|\n",
      "|  Волинська_трагедія|   3| 82508|  Волинська трагедія|[волинська, траге...| [волинськ, трагеді]|(1000,[865,897],[...|(1000,[865,897],[...|\n",
      "|    Klavdia_Petrivna|   4| 79497|    Klavdia Petrivna| [klavdia, petrivna]| [klavdia, petrivna]|(1000,[750,785],[...|(1000,[750,785],[...|\n",
      "|             Україна|   5| 61993|             Україна|           [україна]|            [україн]|  (1000,[986],[1.0])|(1000,[986],[2.08...|\n",
      "|             YouTube|   6| 60683|             YouTube|           [youtube]|           [youtube]|  (1000,[429],[1.0])|(1000,[429],[5.81...|\n",
      "|Сибіга_Андрій_Іва...|   7| 58442|Сибіга Андрій Іва...|[сибіга, андрій, ...|[сибі, андрі, іва...|(1000,[47,371,569...|(1000,[47,371,569...|\n",
      "| Перша_світова_війна|   8| 50199| Перша світова війна|[перша, світова, ...|[перш, світов, війн]|(1000,[51,148,160...|(1000,[51,148,160...|\n",
      "|Національна_суспі...|   9| 42675|Національна суспі...|[національна, сус...|[національн, сусп...|(1000,[184,202,68...|(1000,[184,202,68...|\n",
      "|Масляков_Олександ...|  10| 37677|Масляков Олександ...|[масляков, олекса...|[масляков, олекса...|(1000,[383,726,75...|(1000,[383,726,75...|\n",
      "|Нечуй-Левицький_І...|  11| 37089|Нечуй Левицький І...|[нечуй, левицький...|[нечу, левицьк, і...|(1000,[64,98,433,...|(1000,[64,98,433,...|\n",
      "|Президентські_виб...|  12| 35302|Президентські виб...|[президентські, в...|[президентськ, ви...|(1000,[215,276,37...|(1000,[215,276,37...|\n",
      "|Лавров_Сергій_Вік...|  13| 34938|Лавров Сергій Вік...|[лавров, сергій, ...|[лавров, серг, ві...|(1000,[25,281,491...|(1000,[25,281,491...|\n",
      "|Білокур_Катерина_...|  14| 34210|Білокур Катерина ...|[білокур, катерин...|[білокур, катерин...|(1000,[577,603,93...|(1000,[577,603,93...|\n",
      "|                Київ|  15| 33559|                Київ|              [київ]|                [ки]|  (1000,[226],[1.0])|(1000,[226],[5.52...|\n",
      "|              Як-130|  16| 32892|              Як 130|           [як, 130]|           [як, 130]|(1000,[161,447],[...|(1000,[161,447],[...|\n",
      "|Військові_звання_...|  17| 32771|Військові звання ...|[військові, званн...|[військ, званн, у...|(1000,[96,711,986...|(1000,[96,711,986...|\n",
      "|     Радіо_«Свобода»|  18| 32617|     Радіо  Свобода |  [радіо, , свобода]|       [радіо, своб]|(1000,[768,897],[...|(1000,[768,897],[...|\n",
      "|Лайл_і_Ерік_Менен...|  19| 31860|Лайл і Ерік Менен...|[лайл, і, ерік, м...|[лайл, , ерік, ме...|(1000,[280,372,53...|(1000,[280,372,53...|\n",
      "|Файл:Battle_of_Os...|  20| 31396|Файл Battle of Os...|[файл, battle, of...|[файл, battle, of...|(1000,[47,155,493...|(1000,[47,155,493...|\n",
      "+--------------------+----+------+--------------------+--------------------+--------------------+--------------------+--------------------+\n",
      "only showing top 20 rows\n",
      "\n"
     ]
    }
   ],
   "source": [
    "articles_df.show()"
   ]
  },
  {
   "cell_type": "markdown",
   "metadata": {},
   "source": [
    "### Obtaining Ground Truth similarities"
   ]
  },
  {
   "cell_type": "code",
   "execution_count": 18,
   "metadata": {},
   "outputs": [
    {
     "name": "stderr",
     "output_type": "stream",
     "text": [
      "                                                                                \r"
     ]
    }
   ],
   "source": [
    "articles_df = add_gt_similar(articles_df, id_col='rank', features_col='features', gt_similar_col='gt_similar_articles')"
   ]
  },
  {
   "cell_type": "markdown",
   "metadata": {},
   "source": [
    "Let's see newly added ground truth similar articles:"
   ]
  },
  {
   "cell_type": "code",
   "execution_count": 19,
   "metadata": {},
   "outputs": [
    {
     "name": "stderr",
     "output_type": "stream",
     "text": [
      "24/11/04 16:01:08 WARN SparkStringUtils: Truncated the string representation of a plan since it was too large. This behavior can be adjusted by setting 'spark.sql.debug.maxToStringFields'.\n",
      "24/11/04 16:02:03 WARN DAGScheduler: Broadcasting large task binary with size 1085.8 KiB\n",
      "                                                                                \r"
     ]
    },
    {
     "name": "stdout",
     "output_type": "stream",
     "text": [
      "+----+--------------------+------+--------------------+--------------------+--------------------+--------------------+--------------------+--------------------+\n",
      "|rank|             article| views|       article_clean|               words|        stemmedWords|         rawFeatures|            features| gt_similar_articles|\n",
      "+----+--------------------+------+--------------------+--------------------+--------------------+--------------------+--------------------+--------------------+\n",
      "|   1|    Головна_сторінка|469652|    Головна сторінка| [головна, сторінка]|    [головн, сторін]|(1000,[560,705],[...|(1000,[560,705],[...|[353, 857, 749, 7...|\n",
      "|   2|    Спеціальна:Пошук|197066|    Спеціальна Пошук| [спеціальна, пошук]|  [спеціальн, пошук]|(1000,[416,722],[...|(1000,[416,722],[...|[465, 22, 42, 406...|\n",
      "|   3|  Волинська_трагедія| 82508|  Волинська трагедія|[волинська, траге...| [волинськ, трагеді]|(1000,[865,897],[...|(1000,[865,897],[...|[936, 732, 837, 4...|\n",
      "|   4|    Klavdia_Petrivna| 79497|    Klavdia Petrivna| [klavdia, petrivna]| [klavdia, petrivna]|(1000,[750,785],[...|(1000,[750,785],[...|[286, 798, 290, 1...|\n",
      "|   5|             Україна| 61993|             Україна|           [україна]|            [україн]|  (1000,[986],[1.0])|(1000,[986],[2.08...|[419, 26, 375, 15...|\n",
      "|   6|             YouTube| 60683|             YouTube|           [youtube]|           [youtube]|  (1000,[429],[1.0])|(1000,[429],[5.81...|               [288]|\n",
      "|   7|Сибіга_Андрій_Іва...| 58442|Сибіга Андрій Іва...|[сибіга, андрій, ...|[сибі, андрі, іва...|(1000,[47,371,569...|(1000,[47,371,569...|[710, 919, 726, 2...|\n",
      "|   8| Перша_світова_війна| 50199| Перша світова війна|[перша, світова, ...|[перш, світов, війн]|(1000,[51,148,160...|(1000,[51,148,160...|[185, 248, 432, 4...|\n",
      "|   9|Національна_суспі...| 42675|Національна суспі...|[національна, сус...|[національн, сусп...|(1000,[184,202,68...|(1000,[184,202,68...|[28, 183, 927, 98...|\n",
      "|  10|Масляков_Олександ...| 37677|Масляков Олександ...|[масляков, олекса...|[масляков, олекса...|(1000,[383,726,75...|(1000,[383,726,75...|[974, 382, 846, 4...|\n",
      "|  11|Нечуй-Левицький_І...| 37089|Нечуй Левицький І...|[нечуй, левицький...|[нечу, левицьк, і...|(1000,[64,98,433,...|(1000,[64,98,433,...|[84, 182, 197, 39...|\n",
      "|  12|Президентські_виб...| 35302|Президентські виб...|[президентські, в...|[президентськ, ви...|(1000,[215,276,37...|(1000,[215,276,37...|[985, 947, 236, 6...|\n",
      "|  13|Лавров_Сергій_Вік...| 34938|Лавров Сергій Вік...|[лавров, сергій, ...|[лавров, серг, ві...|(1000,[25,281,491...|(1000,[25,281,491...|[701, 704, 859, 5...|\n",
      "|  14|Білокур_Катерина_...| 34210|Білокур Катерина ...|[білокур, катерин...|[білокур, катерин...|(1000,[577,603,93...|(1000,[577,603,93...|[29, 197, 468, 91...|\n",
      "|  15|                Київ| 33559|                Київ|              [київ]|                [ки]|  (1000,[226],[1.0])|(1000,[226],[5.52...|          [647, 312]|\n",
      "|  16|              Як-130| 32892|              Як 130|           [як, 130]|           [як, 130]|(1000,[161,447],[...|(1000,[161,447],[...|     [311, 677, 346]|\n",
      "|  17|Військові_звання_...| 32771|Військові звання ...|[військові, званн...|[військ, званн, у...|(1000,[96,711,986...|(1000,[96,711,986...|[521, 175, 181, 1...|\n",
      "|  18|     Радіо_«Свобода»| 32617|     Радіо  Свобода |  [радіо, , свобода]|       [радіо, своб]|(1000,[768,897],[...|(1000,[768,897],[...|[193, 206, 732, 4...|\n",
      "|  19|Лайл_і_Ерік_Менен...| 31860|Лайл і Ерік Менен...|[лайл, і, ерік, м...|[лайл, , ерік, ме...|(1000,[280,372,53...|(1000,[280,372,53...|[684, 220, 596, 2...|\n",
      "|  20|Файл:Battle_of_Os...| 31396|Файл Battle of Os...|[файл, battle, of...|[файл, battle, of...|(1000,[47,155,493...|(1000,[47,155,493...|[293, 41, 805, 71...|\n",
      "+----+--------------------+------+--------------------+--------------------+--------------------+--------------------+--------------------+--------------------+\n",
      "only showing top 20 rows\n",
      "\n"
     ]
    }
   ],
   "source": [
    "articles_df.show()"
   ]
  },
  {
   "cell_type": "markdown",
   "metadata": {},
   "source": [
    "## Prediction with Locality Sensitive Hashing\n",
    "\n",
    "Let's create  a parameters grid:"
   ]
  },
  {
   "cell_type": "code",
   "execution_count": null,
   "metadata": {},
   "outputs": [],
   "source": [
    "possibleHashTablesCount = [10, 20, 50, 100, 200]\n",
    "possibleDistanceThresholds = [0.3, 0.5, 0.7, 0.9, 0.95, 0.97, 0.99]\n",
    "\n",
    "param_grid = []\n",
    "for hashTablesCount in possibleHashTablesCount:\n",
    "    for distanceThreshold in possibleDistanceThresholds:\n",
    "        param_grid.append({'numHashTables': hashTablesCount, 'distanceThreshold': distanceThreshold})"
   ]
  },
  {
   "cell_type": "markdown",
   "metadata": {},
   "source": [
    "And perform the grid search. We want to obtain results for all the parameters to perform the visualization:"
   ]
  },
  {
   "cell_type": "code",
   "execution_count": 40,
   "metadata": {},
   "outputs": [
    {
     "name": "stderr",
     "output_type": "stream",
     "text": [
      "24/11/04 16:18:09 WARN DAGScheduler: Broadcasting large task binary with size 1085.8 KiB\n",
      "24/11/04 16:18:10 WARN DAGScheduler: Broadcasting large task binary with size 1227.3 KiB\n",
      "24/11/04 16:18:11 WARN DAGScheduler: Broadcasting large task binary with size 1452.5 KiB\n",
      "24/11/04 16:18:11 WARN DAGScheduler: Broadcasting large task binary with size 1243.3 KiB\n",
      "24/11/04 16:18:12 WARN DAGScheduler: Broadcasting large task binary with size 1243.1 KiB\n",
      "24/11/04 16:18:12 WARN DAGScheduler: Broadcasting large task binary with size 1211.3 KiB\n",
      "24/11/04 16:18:12 WARN DAGScheduler: Broadcasting large task binary with size 1217.8 KiB\n",
      "24/11/04 16:18:12 WARN DAGScheduler: Broadcasting large task binary with size 1215.7 KiB\n",
      "24/11/04 16:18:13 WARN DAGScheduler: Broadcasting large task binary with size 1236.1 KiB\n",
      "24/11/04 16:19:14 WARN DAGScheduler: Broadcasting large task binary with size 1085.8 KiB\n",
      "24/11/04 16:19:15 WARN DAGScheduler: Broadcasting large task binary with size 1227.4 KiB\n",
      "24/11/04 16:19:16 WARN DAGScheduler: Broadcasting large task binary with size 1452.5 KiB\n",
      "24/11/04 16:19:16 WARN DAGScheduler: Broadcasting large task binary with size 1243.3 KiB\n",
      "24/11/04 16:19:16 WARN DAGScheduler: Broadcasting large task binary with size 1243.3 KiB\n",
      "24/11/04 16:19:17 WARN DAGScheduler: Broadcasting large task binary with size 1211.3 KiB\n",
      "24/11/04 16:19:17 WARN DAGScheduler: Broadcasting large task binary with size 1217.8 KiB\n",
      "24/11/04 16:19:18 WARN DAGScheduler: Broadcasting large task binary with size 1215.7 KiB\n",
      "24/11/04 16:19:18 WARN DAGScheduler: Broadcasting large task binary with size 1236.1 KiB\n",
      "24/11/04 16:20:15 WARN DAGScheduler: Broadcasting large task binary with size 1085.8 KiB\n",
      "24/11/04 16:20:17 WARN DAGScheduler: Broadcasting large task binary with size 1227.3 KiB\n",
      "24/11/04 16:20:17 WARN DAGScheduler: Broadcasting large task binary with size 1452.5 KiB\n",
      "24/11/04 16:20:19 WARN DAGScheduler: Broadcasting large task binary with size 1243.3 KiB\n",
      "24/11/04 16:20:19 WARN DAGScheduler: Broadcasting large task binary with size 1243.6 KiB\n",
      "24/11/04 16:20:19 WARN DAGScheduler: Broadcasting large task binary with size 1211.3 KiB\n",
      "24/11/04 16:20:20 WARN DAGScheduler: Broadcasting large task binary with size 1217.8 KiB\n",
      "24/11/04 16:20:20 WARN DAGScheduler: Broadcasting large task binary with size 1215.8 KiB\n",
      "24/11/04 16:20:21 WARN DAGScheduler: Broadcasting large task binary with size 1236.2 KiB\n",
      "24/11/04 16:21:16 WARN DAGScheduler: Broadcasting large task binary with size 1085.8 KiB\n",
      "24/11/04 16:21:17 WARN DAGScheduler: Broadcasting large task binary with size 1227.3 KiB\n",
      "24/11/04 16:21:17 WARN DAGScheduler: Broadcasting large task binary with size 1452.5 KiB\n",
      "24/11/04 16:21:18 WARN DAGScheduler: Broadcasting large task binary with size 1243.3 KiB\n",
      "24/11/04 16:21:19 WARN DAGScheduler: Broadcasting large task binary with size 1244.2 KiB\n",
      "24/11/04 16:21:19 WARN DAGScheduler: Broadcasting large task binary with size 1211.3 KiB\n",
      "24/11/04 16:21:19 WARN DAGScheduler: Broadcasting large task binary with size 1217.9 KiB\n",
      "24/11/04 16:21:20 WARN DAGScheduler: Broadcasting large task binary with size 1215.8 KiB\n",
      "24/11/04 16:21:20 WARN DAGScheduler: Broadcasting large task binary with size 1236.2 KiB\n",
      "24/11/04 16:22:08 WARN DAGScheduler: Broadcasting large task binary with size 1085.8 KiB\n",
      "24/11/04 16:22:09 WARN DAGScheduler: Broadcasting large task binary with size 1227.4 KiB\n",
      "24/11/04 16:22:09 WARN DAGScheduler: Broadcasting large task binary with size 1452.5 KiB\n",
      "24/11/04 16:22:10 WARN DAGScheduler: Broadcasting large task binary with size 1243.3 KiB\n",
      "24/11/04 16:22:10 WARN DAGScheduler: Broadcasting large task binary with size 1244.4 KiB\n",
      "24/11/04 16:22:11 WARN DAGScheduler: Broadcasting large task binary with size 1211.3 KiB\n",
      "24/11/04 16:22:11 WARN DAGScheduler: Broadcasting large task binary with size 1217.9 KiB\n",
      "24/11/04 16:22:11 WARN DAGScheduler: Broadcasting large task binary with size 1215.8 KiB\n",
      "24/11/04 16:22:11 WARN DAGScheduler: Broadcasting large task binary with size 1236.2 KiB\n",
      "24/11/04 16:22:48 WARN DAGScheduler: Broadcasting large task binary with size 1085.8 KiB\n",
      "24/11/04 16:22:49 WARN DAGScheduler: Broadcasting large task binary with size 1227.6 KiB\n",
      "24/11/04 16:22:50 WARN DAGScheduler: Broadcasting large task binary with size 1452.7 KiB\n",
      "24/11/04 16:22:50 WARN DAGScheduler: Broadcasting large task binary with size 1243.5 KiB\n",
      "24/11/04 16:22:51 WARN DAGScheduler: Broadcasting large task binary with size 1243.3 KiB\n",
      "24/11/04 16:22:51 WARN DAGScheduler: Broadcasting large task binary with size 1211.5 KiB\n",
      "24/11/04 16:22:51 WARN DAGScheduler: Broadcasting large task binary with size 1218.0 KiB\n",
      "24/11/04 16:22:51 WARN DAGScheduler: Broadcasting large task binary with size 1216.0 KiB\n",
      "24/11/04 16:22:52 WARN DAGScheduler: Broadcasting large task binary with size 1236.3 KiB\n",
      "24/11/04 16:23:28 WARN DAGScheduler: Broadcasting large task binary with size 1085.8 KiB\n",
      "24/11/04 16:23:29 WARN DAGScheduler: Broadcasting large task binary with size 1227.6 KiB\n",
      "24/11/04 16:23:30 WARN DAGScheduler: Broadcasting large task binary with size 1452.7 KiB\n",
      "24/11/04 16:23:30 WARN DAGScheduler: Broadcasting large task binary with size 1243.5 KiB\n",
      "24/11/04 16:23:30 WARN DAGScheduler: Broadcasting large task binary with size 1243.6 KiB\n",
      "24/11/04 16:23:31 WARN DAGScheduler: Broadcasting large task binary with size 1211.5 KiB\n",
      "24/11/04 16:23:31 WARN DAGScheduler: Broadcasting large task binary with size 1218.0 KiB\n",
      "24/11/04 16:23:31 WARN DAGScheduler: Broadcasting large task binary with size 1216.0 KiB\n",
      "24/11/04 16:23:32 WARN DAGScheduler: Broadcasting large task binary with size 1236.3 KiB\n",
      "24/11/04 16:24:09 WARN DAGScheduler: Broadcasting large task binary with size 1085.8 KiB\n",
      "24/11/04 16:24:09 WARN DAGScheduler: Broadcasting large task binary with size 1227.6 KiB\n",
      "24/11/04 16:24:10 WARN DAGScheduler: Broadcasting large task binary with size 1452.7 KiB\n",
      "24/11/04 16:24:11 WARN DAGScheduler: Broadcasting large task binary with size 1243.5 KiB\n",
      "24/11/04 16:24:11 WARN DAGScheduler: Broadcasting large task binary with size 1243.9 KiB\n",
      "24/11/04 16:24:11 WARN DAGScheduler: Broadcasting large task binary with size 1211.5 KiB\n",
      "24/11/04 16:24:11 WARN DAGScheduler: Broadcasting large task binary with size 1218.1 KiB\n",
      "24/11/04 16:24:12 WARN DAGScheduler: Broadcasting large task binary with size 1216.0 KiB\n",
      "24/11/04 16:24:12 WARN DAGScheduler: Broadcasting large task binary with size 1236.4 KiB\n",
      "24/11/04 16:24:49 WARN DAGScheduler: Broadcasting large task binary with size 1085.8 KiB\n",
      "24/11/04 16:24:50 WARN DAGScheduler: Broadcasting large task binary with size 1227.6 KiB\n",
      "24/11/04 16:24:50 WARN DAGScheduler: Broadcasting large task binary with size 1452.7 KiB\n",
      "24/11/04 16:24:51 WARN DAGScheduler: Broadcasting large task binary with size 1243.5 KiB\n",
      "24/11/04 16:24:51 WARN DAGScheduler: Broadcasting large task binary with size 1244.4 KiB\n",
      "24/11/04 16:24:52 WARN DAGScheduler: Broadcasting large task binary with size 1211.6 KiB\n",
      "24/11/04 16:24:52 WARN DAGScheduler: Broadcasting large task binary with size 1218.1 KiB\n",
      "24/11/04 16:24:52 WARN DAGScheduler: Broadcasting large task binary with size 1216.0 KiB\n",
      "24/11/04 16:24:53 WARN DAGScheduler: Broadcasting large task binary with size 1236.4 KiB\n",
      "24/11/04 16:25:26 WARN DAGScheduler: Broadcasting large task binary with size 1085.8 KiB\n",
      "24/11/04 16:25:27 WARN DAGScheduler: Broadcasting large task binary with size 1227.6 KiB\n",
      "24/11/04 16:25:28 WARN DAGScheduler: Broadcasting large task binary with size 1452.7 KiB\n",
      "24/11/04 16:25:29 WARN DAGScheduler: Broadcasting large task binary with size 1243.5 KiB\n",
      "24/11/04 16:25:30 WARN DAGScheduler: Broadcasting large task binary with size 1244.6 KiB\n",
      "24/11/04 16:25:30 WARN DAGScheduler: Broadcasting large task binary with size 1211.6 KiB\n",
      "24/11/04 16:25:30 WARN DAGScheduler: Broadcasting large task binary with size 1218.1 KiB\n",
      "24/11/04 16:25:31 WARN DAGScheduler: Broadcasting large task binary with size 1216.0 KiB\n",
      "24/11/04 16:25:31 WARN DAGScheduler: Broadcasting large task binary with size 1236.4 KiB\n",
      "24/11/04 16:26:05 WARN DAGScheduler: Broadcasting large task binary with size 1085.8 KiB\n",
      "24/11/04 16:26:06 WARN DAGScheduler: Broadcasting large task binary with size 1228.1 KiB\n",
      "24/11/04 16:26:07 WARN DAGScheduler: Broadcasting large task binary with size 1453.2 KiB\n",
      "24/11/04 16:26:07 WARN DAGScheduler: Broadcasting large task binary with size 1244.0 KiB\n",
      "24/11/04 16:26:08 WARN DAGScheduler: Broadcasting large task binary with size 1243.8 KiB\n",
      "24/11/04 16:26:08 WARN DAGScheduler: Broadcasting large task binary with size 1212.0 KiB\n",
      "24/11/04 16:26:08 WARN DAGScheduler: Broadcasting large task binary with size 1218.5 KiB\n",
      "24/11/04 16:26:08 WARN DAGScheduler: Broadcasting large task binary with size 1216.4 KiB\n",
      "24/11/04 16:26:08 WARN DAGScheduler: Broadcasting large task binary with size 1236.8 KiB\n",
      "24/11/04 16:26:42 WARN DAGScheduler: Broadcasting large task binary with size 1085.8 KiB\n",
      "24/11/04 16:26:43 WARN DAGScheduler: Broadcasting large task binary with size 1228.1 KiB\n",
      "24/11/04 16:26:44 WARN DAGScheduler: Broadcasting large task binary with size 1453.2 KiB\n",
      "24/11/04 16:26:45 WARN DAGScheduler: Broadcasting large task binary with size 1244.0 KiB\n",
      "24/11/04 16:26:45 WARN DAGScheduler: Broadcasting large task binary with size 1244.1 KiB\n",
      "24/11/04 16:26:46 WARN DAGScheduler: Broadcasting large task binary with size 1212.0 KiB\n",
      "24/11/04 16:26:46 WARN DAGScheduler: Broadcasting large task binary with size 1218.5 KiB\n",
      "24/11/04 16:26:46 WARN DAGScheduler: Broadcasting large task binary with size 1216.4 KiB\n",
      "24/11/04 16:26:46 WARN DAGScheduler: Broadcasting large task binary with size 1236.8 KiB\n",
      "24/11/04 16:27:20 WARN DAGScheduler: Broadcasting large task binary with size 1085.8 KiB\n",
      "24/11/04 16:27:21 WARN DAGScheduler: Broadcasting large task binary with size 1228.1 KiB\n",
      "24/11/04 16:27:22 WARN DAGScheduler: Broadcasting large task binary with size 1453.2 KiB\n",
      "24/11/04 16:27:24 WARN DAGScheduler: Broadcasting large task binary with size 1244.0 KiB\n",
      "24/11/04 16:27:24 WARN DAGScheduler: Broadcasting large task binary with size 1244.3 KiB\n",
      "24/11/04 16:27:24 WARN DAGScheduler: Broadcasting large task binary with size 1212.0 KiB\n",
      "24/11/04 16:27:24 WARN DAGScheduler: Broadcasting large task binary with size 1218.6 KiB\n",
      "24/11/04 16:27:25 WARN DAGScheduler: Broadcasting large task binary with size 1216.5 KiB\n",
      "24/11/04 16:27:25 WARN DAGScheduler: Broadcasting large task binary with size 1236.9 KiB\n",
      "24/11/04 16:28:02 WARN DAGScheduler: Broadcasting large task binary with size 1085.8 KiB\n",
      "24/11/04 16:28:03 WARN DAGScheduler: Broadcasting large task binary with size 1228.1 KiB\n",
      "24/11/04 16:28:03 WARN DAGScheduler: Broadcasting large task binary with size 1453.2 KiB\n",
      "24/11/04 16:28:06 WARN DAGScheduler: Broadcasting large task binary with size 1244.0 KiB\n",
      "24/11/04 16:28:06 WARN DAGScheduler: Broadcasting large task binary with size 1244.9 KiB\n",
      "24/11/04 16:28:07 WARN DAGScheduler: Broadcasting large task binary with size 1212.0 KiB\n",
      "24/11/04 16:28:07 WARN DAGScheduler: Broadcasting large task binary with size 1218.6 KiB\n",
      "24/11/04 16:28:07 WARN DAGScheduler: Broadcasting large task binary with size 1216.5 KiB\n",
      "24/11/04 16:28:08 WARN DAGScheduler: Broadcasting large task binary with size 1236.9 KiB\n",
      "24/11/04 16:28:46 WARN DAGScheduler: Broadcasting large task binary with size 1085.8 KiB\n",
      "24/11/04 16:28:47 WARN DAGScheduler: Broadcasting large task binary with size 1228.1 KiB\n",
      "24/11/04 16:28:48 WARN DAGScheduler: Broadcasting large task binary with size 1453.2 KiB\n",
      "24/11/04 16:28:50 WARN DAGScheduler: Broadcasting large task binary with size 1244.0 KiB\n",
      "24/11/04 16:28:51 WARN DAGScheduler: Broadcasting large task binary with size 1245.2 KiB\n",
      "24/11/04 16:28:51 WARN DAGScheduler: Broadcasting large task binary with size 1212.0 KiB\n",
      "24/11/04 16:28:52 WARN DAGScheduler: Broadcasting large task binary with size 1218.6 KiB\n",
      "24/11/04 16:28:52 WARN DAGScheduler: Broadcasting large task binary with size 1216.5 KiB\n",
      "24/11/04 16:28:52 WARN DAGScheduler: Broadcasting large task binary with size 1236.9 KiB\n",
      "24/11/04 16:29:28 WARN DAGScheduler: Broadcasting large task binary with size 1085.8 KiB\n",
      "24/11/04 16:29:29 WARN DAGScheduler: Broadcasting large task binary with size 1228.9 KiB\n",
      "24/11/04 16:29:31 WARN DAGScheduler: Broadcasting large task binary with size 1454.0 KiB\n",
      "24/11/04 16:29:33 WARN DAGScheduler: Broadcasting large task binary with size 1244.8 KiB\n",
      "24/11/04 16:29:33 WARN DAGScheduler: Broadcasting large task binary with size 1244.6 KiB\n",
      "24/11/04 16:29:33 WARN DAGScheduler: Broadcasting large task binary with size 1212.8 KiB\n",
      "24/11/04 16:29:33 WARN DAGScheduler: Broadcasting large task binary with size 1219.3 KiB\n",
      "24/11/04 16:29:34 WARN DAGScheduler: Broadcasting large task binary with size 1217.2 KiB\n",
      "24/11/04 16:29:34 WARN DAGScheduler: Broadcasting large task binary with size 1237.6 KiB\n",
      "24/11/04 16:30:13 WARN DAGScheduler: Broadcasting large task binary with size 1085.8 KiB\n",
      "24/11/04 16:30:14 WARN DAGScheduler: Broadcasting large task binary with size 1228.8 KiB\n",
      "24/11/04 16:30:16 WARN DAGScheduler: Broadcasting large task binary with size 1454.0 KiB\n",
      "24/11/04 16:30:18 WARN DAGScheduler: Broadcasting large task binary with size 1244.8 KiB\n",
      "24/11/04 16:30:18 WARN DAGScheduler: Broadcasting large task binary with size 1244.8 KiB\n",
      "24/11/04 16:30:18 WARN DAGScheduler: Broadcasting large task binary with size 1212.8 KiB\n",
      "24/11/04 16:30:19 WARN DAGScheduler: Broadcasting large task binary with size 1219.3 KiB\n",
      "24/11/04 16:30:19 WARN DAGScheduler: Broadcasting large task binary with size 1217.2 KiB\n",
      "24/11/04 16:30:19 WARN DAGScheduler: Broadcasting large task binary with size 1237.6 KiB\n",
      "24/11/04 16:30:47 WARN DAGScheduler: Broadcasting large task binary with size 1085.8 KiB\n",
      "24/11/04 16:30:48 WARN DAGScheduler: Broadcasting large task binary with size 1228.9 KiB\n",
      "24/11/04 16:30:50 WARN DAGScheduler: Broadcasting large task binary with size 1454.0 KiB\n",
      "24/11/04 16:30:54 WARN DAGScheduler: Broadcasting large task binary with size 1244.8 KiB\n",
      "24/11/04 16:30:54 WARN DAGScheduler: Broadcasting large task binary with size 1245.1 KiB\n",
      "24/11/04 16:30:55 WARN DAGScheduler: Broadcasting large task binary with size 1212.8 KiB\n",
      "24/11/04 16:30:55 WARN DAGScheduler: Broadcasting large task binary with size 1219.3 KiB\n",
      "24/11/04 16:30:56 WARN DAGScheduler: Broadcasting large task binary with size 1217.2 KiB\n",
      "24/11/04 16:30:56 WARN DAGScheduler: Broadcasting large task binary with size 1237.6 KiB\n",
      "24/11/04 16:31:38 WARN DAGScheduler: Broadcasting large task binary with size 1085.8 KiB\n",
      "24/11/04 16:31:39 WARN DAGScheduler: Broadcasting large task binary with size 1228.9 KiB\n",
      "24/11/04 16:31:43 WARN DAGScheduler: Broadcasting large task binary with size 1454.0 KiB\n",
      "24/11/04 16:31:51 WARN DAGScheduler: Broadcasting large task binary with size 1244.8 KiB\n",
      "24/11/04 16:31:51 WARN DAGScheduler: Broadcasting large task binary with size 1245.6 KiB\n",
      "24/11/04 16:31:52 WARN DAGScheduler: Broadcasting large task binary with size 1212.8 KiB\n",
      "24/11/04 16:31:53 WARN DAGScheduler: Broadcasting large task binary with size 1219.3 KiB\n",
      "24/11/04 16:31:53 WARN DAGScheduler: Broadcasting large task binary with size 1217.2 KiB\n",
      "24/11/04 16:31:54 WARN DAGScheduler: Broadcasting large task binary with size 1237.6 KiB\n",
      "24/11/04 16:32:32 WARN DAGScheduler: Broadcasting large task binary with size 1085.8 KiB\n",
      "24/11/04 16:32:33 WARN DAGScheduler: Broadcasting large task binary with size 1228.8 KiB\n",
      "24/11/04 16:32:36 WARN DAGScheduler: Broadcasting large task binary with size 1454.0 KiB\n",
      "24/11/04 16:32:43 WARN DAGScheduler: Broadcasting large task binary with size 1244.8 KiB\n",
      "24/11/04 16:32:44 WARN DAGScheduler: Broadcasting large task binary with size 1245.9 KiB\n",
      "24/11/04 16:32:44 WARN DAGScheduler: Broadcasting large task binary with size 1212.8 KiB\n",
      "24/11/04 16:32:45 WARN DAGScheduler: Broadcasting large task binary with size 1219.3 KiB\n",
      "24/11/04 16:32:45 WARN DAGScheduler: Broadcasting large task binary with size 1217.2 KiB\n",
      "24/11/04 16:32:45 WARN DAGScheduler: Broadcasting large task binary with size 1237.6 KiB\n"
     ]
    }
   ],
   "source": [
    "parameters_evaled = grid_search_tuning(articles_df, \n",
    "                                       param_grid, \n",
    "                                       id_col=\"rank\", \n",
    "                                       features_col = 'features', \n",
    "                                       pred_similar_col = 'pred_similar_articles', \n",
    "                                       top_parameter_sets = -1)"
   ]
  },
  {
   "cell_type": "code",
   "execution_count": 42,
   "metadata": {},
   "outputs": [
    {
     "data": {
      "image/png": "[encoded data removed]",
      "text/plain": [
       "<Figure size 1200x600 with 4 Axes>"
      ]
     },
     "metadata": {},
     "output_type": "display_data"
    }
   ],
   "source": [
    "visualize_gridsearch_res(parameters_evaled)"
   ]
  },
  {
   "cell_type": "code",
   "execution_count": 45,
   "metadata": {},
   "outputs": [
    {
     "data": {
      "text/plain": [
       "{'params': {'numHashTables': 100, 'distanceThreshold': 0.99},\n",
       " 'iou': 0.7187936695130135,\n",
       " 'computation_time': 0.7251396179199219}"
      ]
     },
     "execution_count": 45,
     "metadata": {},
     "output_type": "execute_result"
    }
   ],
   "source": [
    "parameters_evaled[0]"
   ]
  },
  {
   "cell_type": "code",
   "execution_count": 47,
   "metadata": {},
   "outputs": [
    {
     "name": "stdout",
     "output_type": "stream",
     "text": [
      "The best parameter set is {'numHashTables': 100, 'distanceThreshold': 0.99}. It has IOU=0.719 and computation time of 0.725 seconds\n"
     ]
    }
   ],
   "source": [
    "print(f\"The best parameter set is {parameters_evaled[0]['params']}. It has IOU={parameters_evaled[0]['iou']:.3f} and computation time of {parameters_evaled[0]['computation_time']:.3f} seconds\")"
   ]
  },
  {
   "cell_type": "markdown",
   "metadata": {},
   "source": [
    "## Part 3. Parameter substitution"
   ]
  },
  {
   "cell_type": "code",
   "execution_count": null,
   "metadata": {},
   "outputs": [],
   "source": []
  },
  {
   "cell_type": "markdown",
   "metadata": {},
   "source": [
    "## Final"
   ]
  },
  {
   "cell_type": "code",
   "execution_count": 27,
   "metadata": {},
   "outputs": [
    {
     "name": "stderr",
     "output_type": "stream",
     "text": [
      "24/11/04 15:18:20 WARN TaskMemoryManager: Failed to allocate a page (33554416 bytes), try again.\n",
      "24/11/04 15:18:21 WARN TaskMemoryManager: Failed to allocate a page (33554416 bytes), try again.\n",
      "24/11/04 15:18:22 WARN TaskMemoryManager: Failed to allocate a page (33554416 bytes), try again.\n",
      "24/11/04 15:18:22 WARN TaskMemoryManager: Failed to allocate a page (33554416 bytes), try again.\n",
      "24/11/04 15:18:23 WARN TaskMemoryManager: Failed to allocate a page (33554416 bytes), try again.\n",
      "24/11/04 15:18:24 WARN TaskMemoryManager: Failed to allocate a page (33554416 bytes), try again.\n",
      "24/11/04 15:18:24 WARN TaskMemoryManager: Failed to allocate a page (33554416 bytes), try again.\n",
      "24/11/04 15:18:25 WARN TaskMemoryManager: Failed to allocate a page (33554416 bytes), try again.\n",
      "24/11/04 15:18:26 WARN TaskMemoryManager: Failed to allocate a page (33554416 bytes), try again.\n",
      "24/11/04 15:18:27 WARN TaskMemoryManager: Failed to allocate a page (33554416 bytes), try again.\n",
      "24/11/04 15:18:27 WARN TaskMemoryManager: Failed to allocate a page (33554416 bytes), try again.\n",
      "ERROR:root:KeyboardInterrupt while sending command.\n",
      "Traceback (most recent call last):\n",
      "  File \"/home/andrii/MMDS/venv/lib/python3.12/site-packages/py4j/java_gateway.py\", line 1038, in send_command\n",
      "    response = connection.send_command(command)\n",
      "               ^^^^^^^^^^^^^^^^^^^^^^^^^^^^^^^^\n",
      "  File \"/home/andrii/MMDS/venv/lib/python3.12/site-packages/py4j/clientserver.py\", line 511, in send_command\n",
      "    answer = smart_decode(self.stream.readline()[:-1])\n",
      "                          ^^^^^^^^^^^^^^^^^^^^^^\n",
      "  File \"/usr/lib/python3.12/socket.py\", line 707, in readinto\n",
      "    return self._sock.recv_into(b)\n",
      "           ^^^^^^^^^^^^^^^^^^^^^^^\n",
      "KeyboardInterrupt\n"
     ]
    },
    {
     "ename": "KeyboardInterrupt",
     "evalue": "",
     "output_type": "error",
     "traceback": [
      "\u001b[0;31m---------------------------------------------------------------------------\u001b[0m",
      "\u001b[0;31mKeyboardInterrupt\u001b[0m                         Traceback (most recent call last)",
      "Cell \u001b[0;32mIn[27], line 1\u001b[0m\n\u001b[0;32m----> 1\u001b[0m \u001b[43mSPARK\u001b[49m\u001b[38;5;241;43m.\u001b[39;49m\u001b[43mstop\u001b[49m\u001b[43m(\u001b[49m\u001b[43m)\u001b[49m\n",
      "File \u001b[0;32m~/MMDS/venv/lib/python3.12/site-packages/pyspark/sql/session.py:1796\u001b[0m, in \u001b[0;36mSparkSession.stop\u001b[0;34m(self)\u001b[0m\n\u001b[1;32m   1782\u001b[0m \u001b[38;5;250m\u001b[39m\u001b[38;5;124;03m\"\"\"\u001b[39;00m\n\u001b[1;32m   1783\u001b[0m \u001b[38;5;124;03mStop the underlying :class:`SparkContext`.\u001b[39;00m\n\u001b[1;32m   1784\u001b[0m \n\u001b[0;32m   (...)\u001b[0m\n\u001b[1;32m   1792\u001b[0m \u001b[38;5;124;03m>>> spark.stop()  # doctest: +SKIP\u001b[39;00m\n\u001b[1;32m   1793\u001b[0m \u001b[38;5;124;03m\"\"\"\u001b[39;00m\n\u001b[1;32m   1794\u001b[0m \u001b[38;5;28;01mfrom\u001b[39;00m \u001b[38;5;21;01mpyspark\u001b[39;00m\u001b[38;5;21;01m.\u001b[39;00m\u001b[38;5;21;01msql\u001b[39;00m\u001b[38;5;21;01m.\u001b[39;00m\u001b[38;5;21;01mcontext\u001b[39;00m \u001b[38;5;28;01mimport\u001b[39;00m SQLContext\n\u001b[0;32m-> 1796\u001b[0m \u001b[38;5;28;43mself\u001b[39;49m\u001b[38;5;241;43m.\u001b[39;49m\u001b[43m_sc\u001b[49m\u001b[38;5;241;43m.\u001b[39;49m\u001b[43mstop\u001b[49m\u001b[43m(\u001b[49m\u001b[43m)\u001b[49m\n\u001b[1;32m   1797\u001b[0m \u001b[38;5;66;03m# We should clean the default session up. See SPARK-23228.\u001b[39;00m\n\u001b[1;32m   1798\u001b[0m \u001b[38;5;28;01massert\u001b[39;00m \u001b[38;5;28mself\u001b[39m\u001b[38;5;241m.\u001b[39m_jvm \u001b[38;5;129;01mis\u001b[39;00m \u001b[38;5;129;01mnot\u001b[39;00m \u001b[38;5;28;01mNone\u001b[39;00m\n",
      "File \u001b[0;32m~/MMDS/venv/lib/python3.12/site-packages/pyspark/context.py:654\u001b[0m, in \u001b[0;36mSparkContext.stop\u001b[0;34m(self)\u001b[0m\n\u001b[1;32m    652\u001b[0m \u001b[38;5;28;01mif\u001b[39;00m \u001b[38;5;28mgetattr\u001b[39m(\u001b[38;5;28mself\u001b[39m, \u001b[38;5;124m\"\u001b[39m\u001b[38;5;124m_jsc\u001b[39m\u001b[38;5;124m\"\u001b[39m, \u001b[38;5;28;01mNone\u001b[39;00m):\n\u001b[1;32m    653\u001b[0m     \u001b[38;5;28;01mtry\u001b[39;00m:\n\u001b[0;32m--> 654\u001b[0m         \u001b[38;5;28;43mself\u001b[39;49m\u001b[38;5;241;43m.\u001b[39;49m\u001b[43m_jsc\u001b[49m\u001b[38;5;241;43m.\u001b[39;49m\u001b[43mstop\u001b[49m\u001b[43m(\u001b[49m\u001b[43m)\u001b[49m\n\u001b[1;32m    655\u001b[0m     \u001b[38;5;28;01mexcept\u001b[39;00m Py4JError:\n\u001b[1;32m    656\u001b[0m         \u001b[38;5;66;03m# Case: SPARK-18523\u001b[39;00m\n\u001b[1;32m    657\u001b[0m         warnings\u001b[38;5;241m.\u001b[39mwarn(\n\u001b[1;32m    658\u001b[0m             \u001b[38;5;124m\"\u001b[39m\u001b[38;5;124mUnable to cleanly shutdown Spark JVM process.\u001b[39m\u001b[38;5;124m\"\u001b[39m\n\u001b[1;32m    659\u001b[0m             \u001b[38;5;124m\"\u001b[39m\u001b[38;5;124m It is possible that the process has crashed,\u001b[39m\u001b[38;5;124m\"\u001b[39m\n\u001b[1;32m    660\u001b[0m             \u001b[38;5;124m\"\u001b[39m\u001b[38;5;124m been killed or may also be in a zombie state.\u001b[39m\u001b[38;5;124m\"\u001b[39m,\n\u001b[1;32m    661\u001b[0m             \u001b[38;5;167;01mRuntimeWarning\u001b[39;00m,\n\u001b[1;32m    662\u001b[0m         )\n",
      "File \u001b[0;32m~/MMDS/venv/lib/python3.12/site-packages/py4j/java_gateway.py:1321\u001b[0m, in \u001b[0;36mJavaMember.__call__\u001b[0;34m(self, *args)\u001b[0m\n\u001b[1;32m   1314\u001b[0m args_command, temp_args \u001b[38;5;241m=\u001b[39m \u001b[38;5;28mself\u001b[39m\u001b[38;5;241m.\u001b[39m_build_args(\u001b[38;5;241m*\u001b[39margs)\n\u001b[1;32m   1316\u001b[0m command \u001b[38;5;241m=\u001b[39m proto\u001b[38;5;241m.\u001b[39mCALL_COMMAND_NAME \u001b[38;5;241m+\u001b[39m\\\n\u001b[1;32m   1317\u001b[0m     \u001b[38;5;28mself\u001b[39m\u001b[38;5;241m.\u001b[39mcommand_header \u001b[38;5;241m+\u001b[39m\\\n\u001b[1;32m   1318\u001b[0m     args_command \u001b[38;5;241m+\u001b[39m\\\n\u001b[1;32m   1319\u001b[0m     proto\u001b[38;5;241m.\u001b[39mEND_COMMAND_PART\n\u001b[0;32m-> 1321\u001b[0m answer \u001b[38;5;241m=\u001b[39m \u001b[38;5;28;43mself\u001b[39;49m\u001b[38;5;241;43m.\u001b[39;49m\u001b[43mgateway_client\u001b[49m\u001b[38;5;241;43m.\u001b[39;49m\u001b[43msend_command\u001b[49m\u001b[43m(\u001b[49m\u001b[43mcommand\u001b[49m\u001b[43m)\u001b[49m\n\u001b[1;32m   1322\u001b[0m return_value \u001b[38;5;241m=\u001b[39m get_return_value(\n\u001b[1;32m   1323\u001b[0m     answer, \u001b[38;5;28mself\u001b[39m\u001b[38;5;241m.\u001b[39mgateway_client, \u001b[38;5;28mself\u001b[39m\u001b[38;5;241m.\u001b[39mtarget_id, \u001b[38;5;28mself\u001b[39m\u001b[38;5;241m.\u001b[39mname)\n\u001b[1;32m   1325\u001b[0m \u001b[38;5;28;01mfor\u001b[39;00m temp_arg \u001b[38;5;129;01min\u001b[39;00m temp_args:\n",
      "File \u001b[0;32m~/MMDS/venv/lib/python3.12/site-packages/py4j/java_gateway.py:1038\u001b[0m, in \u001b[0;36mGatewayClient.send_command\u001b[0;34m(self, command, retry, binary)\u001b[0m\n\u001b[1;32m   1036\u001b[0m connection \u001b[38;5;241m=\u001b[39m \u001b[38;5;28mself\u001b[39m\u001b[38;5;241m.\u001b[39m_get_connection()\n\u001b[1;32m   1037\u001b[0m \u001b[38;5;28;01mtry\u001b[39;00m:\n\u001b[0;32m-> 1038\u001b[0m     response \u001b[38;5;241m=\u001b[39m \u001b[43mconnection\u001b[49m\u001b[38;5;241;43m.\u001b[39;49m\u001b[43msend_command\u001b[49m\u001b[43m(\u001b[49m\u001b[43mcommand\u001b[49m\u001b[43m)\u001b[49m\n\u001b[1;32m   1039\u001b[0m     \u001b[38;5;28;01mif\u001b[39;00m binary:\n\u001b[1;32m   1040\u001b[0m         \u001b[38;5;28;01mreturn\u001b[39;00m response, \u001b[38;5;28mself\u001b[39m\u001b[38;5;241m.\u001b[39m_create_connection_guard(connection)\n",
      "File \u001b[0;32m~/MMDS/venv/lib/python3.12/site-packages/py4j/clientserver.py:511\u001b[0m, in \u001b[0;36mClientServerConnection.send_command\u001b[0;34m(self, command)\u001b[0m\n\u001b[1;32m    509\u001b[0m \u001b[38;5;28;01mtry\u001b[39;00m:\n\u001b[1;32m    510\u001b[0m     \u001b[38;5;28;01mwhile\u001b[39;00m \u001b[38;5;28;01mTrue\u001b[39;00m:\n\u001b[0;32m--> 511\u001b[0m         answer \u001b[38;5;241m=\u001b[39m smart_decode(\u001b[38;5;28;43mself\u001b[39;49m\u001b[38;5;241;43m.\u001b[39;49m\u001b[43mstream\u001b[49m\u001b[38;5;241;43m.\u001b[39;49m\u001b[43mreadline\u001b[49m\u001b[43m(\u001b[49m\u001b[43m)\u001b[49m[:\u001b[38;5;241m-\u001b[39m\u001b[38;5;241m1\u001b[39m])\n\u001b[1;32m    512\u001b[0m         logger\u001b[38;5;241m.\u001b[39mdebug(\u001b[38;5;124m\"\u001b[39m\u001b[38;5;124mAnswer received: \u001b[39m\u001b[38;5;132;01m{0}\u001b[39;00m\u001b[38;5;124m\"\u001b[39m\u001b[38;5;241m.\u001b[39mformat(answer))\n\u001b[1;32m    513\u001b[0m         \u001b[38;5;66;03m# Happens when a the other end is dead. There might be an empty\u001b[39;00m\n\u001b[1;32m    514\u001b[0m         \u001b[38;5;66;03m# answer before the socket raises an error.\u001b[39;00m\n",
      "File \u001b[0;32m/usr/lib/python3.12/socket.py:707\u001b[0m, in \u001b[0;36mSocketIO.readinto\u001b[0;34m(self, b)\u001b[0m\n\u001b[1;32m    705\u001b[0m \u001b[38;5;28;01mwhile\u001b[39;00m \u001b[38;5;28;01mTrue\u001b[39;00m:\n\u001b[1;32m    706\u001b[0m     \u001b[38;5;28;01mtry\u001b[39;00m:\n\u001b[0;32m--> 707\u001b[0m         \u001b[38;5;28;01mreturn\u001b[39;00m \u001b[38;5;28;43mself\u001b[39;49m\u001b[38;5;241;43m.\u001b[39;49m\u001b[43m_sock\u001b[49m\u001b[38;5;241;43m.\u001b[39;49m\u001b[43mrecv_into\u001b[49m\u001b[43m(\u001b[49m\u001b[43mb\u001b[49m\u001b[43m)\u001b[49m\n\u001b[1;32m    708\u001b[0m     \u001b[38;5;28;01mexcept\u001b[39;00m timeout:\n\u001b[1;32m    709\u001b[0m         \u001b[38;5;28mself\u001b[39m\u001b[38;5;241m.\u001b[39m_timeout_occurred \u001b[38;5;241m=\u001b[39m \u001b[38;5;28;01mTrue\u001b[39;00m\n",
      "\u001b[0;31mKeyboardInterrupt\u001b[0m: "
     ]
    },
    {
     "name": "stderr",
     "output_type": "stream",
     "text": [
      "24/11/04 15:18:28 WARN TaskMemoryManager: Failed to allocate a page (33554416 bytes), try again.\n",
      "24/11/04 15:18:29 WARN TaskMemoryManager: Failed to allocate a page (33554416 bytes), try again.\n",
      "24/11/04 15:18:29 WARN TaskMemoryManager: Failed to allocate a page (33554416 bytes), try again.\n",
      "24/11/04 15:18:30 WARN TaskMemoryManager: Failed to allocate a page (33554416 bytes), try again.\n",
      "24/11/04 15:18:31 WARN TaskMemoryManager: Failed to allocate a page (33554416 bytes), try again.\n",
      "24/11/04 15:18:31 WARN TaskMemoryManager: Failed to allocate a page (33554416 bytes), try again.\n",
      "24/11/04 15:18:32 WARN TaskMemoryManager: Failed to allocate a page (33554416 bytes), try again.\n",
      "24/11/04 15:18:33 WARN TaskMemoryManager: Failed to allocate a page (33554416 bytes), try again.\n",
      "24/11/04 15:18:33 WARN TaskMemoryManager: Failed to allocate a page (33554416 bytes), try again.\n",
      "24/11/04 15:18:34 WARN TaskMemoryManager: Failed to allocate a page (33554416 bytes), try again.\n",
      "24/11/04 15:18:34 WARN TaskMemoryManager: Failed to allocate a page (33554416 bytes), try again.\n",
      "24/11/04 15:18:35 WARN TaskMemoryManager: Failed to allocate a page (33554416 bytes), try again.\n",
      "24/11/04 15:18:36 WARN TaskMemoryManager: Failed to allocate a page (33554416 bytes), try again.\n",
      "24/11/04 15:18:36 WARN TaskMemoryManager: Failed to allocate a page (33554416 bytes), try again.\n",
      "24/11/04 15:18:37 WARN TaskMemoryManager: Failed to allocate a page (33554416 bytes), try again.\n",
      "24/11/04 15:18:37 WARN TaskMemoryManager: Failed to allocate a page (33554416 bytes), try again.\n",
      "24/11/04 15:18:38 WARN TaskMemoryManager: Failed to allocate a page (33554416 bytes), try again.\n",
      "24/11/04 15:18:38 WARN TaskMemoryManager: Failed to allocate a page (33554416 bytes), try again.\n",
      "24/11/04 15:18:39 WARN TaskMemoryManager: Failed to allocate a page (33554416 bytes), try again.\n",
      "24/11/04 15:18:39 WARN TaskMemoryManager: Failed to allocate a page (33554416 bytes), try again.\n",
      "24/11/04 15:18:40 WARN TaskMemoryManager: Failed to allocate a page (33554416 bytes), try again.\n"
     ]
    }
   ],
   "source": [
    "SPARK.stop()"
   ]
  },
  {
   "cell_type": "code",
   "execution_count": null,
   "metadata": {},
   "outputs": [],
   "source": []
  }
 ],
 "metadata": {
  "kernelspec": {
   "display_name": "venv",
   "language": "python",
   "name": "python3"
  },
  "language_info": {
   "codemirror_mode": {
    "name": "ipython",
    "version": 3
   },
   "file_extension": ".py",
   "mimetype": "text/x-python",
   "name": "python",
   "nbconvert_exporter": "python",
   "pygments_lexer": "ipython3",
   "version": "3.12.3"
  }
 },
 "nbformat": 4,
 "nbformat_minor": 2
}
