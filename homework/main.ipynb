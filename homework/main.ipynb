{
 "cells": [
  {
   "cell_type": "markdown",
   "metadata": {},
   "source": [
    "# Homework on Mining Massive Databases (MMDS)\n",
    "\n",
    "**by Andrii Shevtsov and Markiian Mandzak**\n",
    "\n",
    "Task formulation:\n",
    "![Task formulation screenshot](./task.jpg)\n",
    "\n",
    "# Imports and constants"
   ]
  },
  {
   "cell_type": "code",
   "execution_count": 1,
   "metadata": {},
   "outputs": [],
   "source": [
    "import requests\n",
    "import time\n",
    "import pandas as pd\n",
    "import matplotlib.pyplot as plt\n",
    "import seaborn as sns\n",
    "import nltk\n",
    "\n",
    "from tqdm import tqdm\n",
    "from pyspark.sql import SparkSession, functions as F, types as T, Window\n",
    "from pyspark.ml.feature import HashingTF, IDF, Tokenizer, MinHashLSH, Word2Vec\n",
    "from pyspark.ml.linalg import SparseVector, DenseVector, Vector\n",
    "from nltk.stem import PorterStemmer\n",
    "from nltk.corpus import stopwords\n",
    "from typing import Optional\n",
    "\n",
    "from tree_stem import stem_word"
   ]
  },
  {
   "cell_type": "markdown",
   "metadata": {},
   "source": [
    "We set spark session here as it is a singletone for our application:"
   ]
  },
  {
   "cell_type": "code",
   "execution_count": null,
   "metadata": {},
   "outputs": [
    {
     "name": "stderr",
     "output_type": "stream",
     "text": [
      "24/11/07 20:27:36 WARN Utils: Your hostname, ucuvm resolves to a loopback address: 127.0.1.1; using 10.0.2.15 instead (on interface enp0s3)\n",
      "24/11/07 20:27:36 WARN Utils: Set SPARK_LOCAL_IP if you need to bind to another address\n",
      "Setting default log level to \"WARN\".\n",
      "To adjust logging level use sc.setLogLevel(newLevel). For SparkR, use setLogLevel(newLevel).\n",
      "24/11/07 20:27:37 WARN NativeCodeLoader: Unable to load native-hadoop library for your platform... using builtin-java classes where applicable\n"
     ]
    }
   ],
   "source": [
    "SPARK = SparkSession.builder \\\n",
    "    .appName(\"MMDS_HW_LSH\") \\\n",
    "    .config(\"spark.executor.memory\", \"4g\") \\\n",
    "    .config(\"spark.driver.memory\", \"8g\") \\\n",
    "    .getOrCreate()\n",
    "\n",
    "SPARK.sparkContext.setLogLevel(\"ERROR\")\n",
    "\n",
    "with open(\"stopwords_ua.txt\") as f:\n",
    "    stop_words_uk = f.readlines()\n",
    "stop_words_uk = [word.replace('\\n', '') for word in stop_words_uk]\n",
    "try:\n",
    "    STOP_WORDS = set(stopwords.words('english')).union(set(stop_words_uk))\n",
    "except LookupError:\n",
    "    nltk.download('stopwords')\n",
    "    STOP_WORDS = set(stopwords.words('english')).union(set(stop_words_uk))"
   ]
  },
  {
   "cell_type": "markdown",
   "metadata": {},
   "source": [
    "Other constants, that can be useful:"
   ]
  },
  {
   "cell_type": "code",
   "execution_count": 3,
   "metadata": {},
   "outputs": [],
   "source": [
    "SEARCHED_ELEMENTS_COUNT = 5  # Count of elements that should occur in search with LSH\n",
    "BEST_PARAMS_COUNT = 5  # Count of best param sets to return during the grid search\n",
    "ENCODING_METHOD = 'word2vec' # Method of encoding used for the feature vector (word2vec or tfidf)\n",
    "VECTOR_SIZE = 128 # Size of the feature vector used"
   ]
  },
  {
   "cell_type": "markdown",
   "metadata": {},
   "source": [
    "## Part 0. Common functions\n",
    "\n",
    "Here, we list functions that are reutilized in both parts. This section is crucial in explaining our approach. Also it makes sure we use the same general approach for both tasks.\n",
    "\n",
    "### Features calculation"
   ]
  },
  {
   "cell_type": "code",
   "execution_count": 4,
   "metadata": {},
   "outputs": [],
   "source": [
    "@F.udf(T.ArrayType(T.StringType()))\n",
    "def stem_and_clean(tokens, stemmer: Optional[str] = 'uk'):\n",
    "    \"\"\"A small UDF function to clean tokenized words from empty an then stem them\"\"\"\n",
    "    cleaned_words = [token for token in tokens if token.strip() != \"\" and token not in STOP_WORDS]\n",
    "    if stemmer == 'uk':\n",
    "        return list(map(stem_word, cleaned_words))\n",
    "    elif stemmer == 'nltk':\n",
    "        stemmer = PorterStemmer()\n",
    "        return list(map(stemmer.stem, cleaned_words))\n",
    "    elif stemmer is None:\n",
    "        return cleaned_words\n",
    "    else:\n",
    "        raise ValueError(\"For nowm only 'uk', 'nltk' and None stemmers are possible\")\n"
   ]
  },
  {
   "cell_type": "code",
   "execution_count": 5,
   "metadata": {},
   "outputs": [],
   "source": [
    "@F.udf(T.BooleanType())\n",
    "def empty_words(words):\n",
    "    return len(words) == 0"
   ]
  },
  {
   "cell_type": "code",
   "execution_count": 6,
   "metadata": {},
   "outputs": [],
   "source": [
    "def add_features(df, input_text_col: str, output_features_col: str = 'features', stemmer: Optional[str] = 'uk', encoding_method: str = ENCODING_METHOD):\n",
    "    \"\"\"This function helps us to add vectors with features to the original dataframe with text\n",
    "    \n",
    "    Args:\n",
    "        - df: pyspark DataFrame - a dataframe with `input_text_col` present, for which we should add a column with vectors of features\n",
    "        - input_text_col: str - a name of column in `df` where we should take a text to obtain vector features\n",
    "        - output_features_col: str - a name of a column in `df` where we should put final vectors with features\n",
    "        - stemmer: Optional str - a name for a stemmer to be used during word stemming\n",
    "        - encoding_method: str - a name for a method that is used for tokens vector encoding\n",
    "\n",
    "    Returns:\n",
    "        pyspark DataFrame, with `output_features_col` column added and filled with feature vectors\n",
    "    \"\"\"\n",
    "\n",
    "    # We need to remove symbols to correctly tokenize the text\n",
    "    df = df.withColumn(f'{input_text_col}_clean', F.regexp_replace(input_text_col, r'[^a-zA-Z]', ' '))\n",
    "\n",
    "    tokenizer = Tokenizer(inputCol=f'{input_text_col}_clean', outputCol=\"words\")\n",
    "    df = tokenizer.transform(df)\n",
    "\n",
    "    df = df.withColumn(\"stemmedWords\", stem_and_clean(F.col(\"words\"), F.lit(stemmer)))\n",
    "\n",
    "    df = df.filter(~empty_words(F.col(\"stemmedWords\")))\n",
    "\n",
    "    if encoding_method == 'tfidf':\n",
    "        hashingTF = HashingTF(inputCol=\"stemmedWords\", outputCol=\"rawFeatures\", numFeatures=VECTOR_SIZE)\n",
    "        df = hashingTF.transform(df)\n",
    "        idf = IDF(inputCol=\"rawFeatures\", outputCol=output_features_col)\n",
    "        idfModel = idf.fit(df)\n",
    "        df = idfModel.transform(df)\n",
    "    \n",
    "    elif encoding_method == 'word2vec':\n",
    "        word2Vec = Word2Vec(inputCol=\"stemmedWords\", outputCol=output_features_col, vectorSize=VECTOR_SIZE, minCount=0)\n",
    "        model = word2Vec.fit(df)\n",
    "        df = model.transform(df)\n",
    "    \n",
    "    else:\n",
    "        raise ValueError(\"Invalid ENCODING_METHOD. Choose 'tfidf' or 'word2vec'.\")\n",
    "    \n",
    "    return df"
   ]
  },
  {
   "cell_type": "markdown",
   "metadata": {},
   "source": [
    "### Ground truth similarity calculation\n",
    "\n",
    "We should use some function to understand the distance (or similarity) between two feature vectors (for ground truth calculation). Cosine similarity is perfect for that:"
   ]
  },
  {
   "cell_type": "code",
   "execution_count": 7,
   "metadata": {},
   "outputs": [],
   "source": [
    "@F.udf(T.DoubleType())\n",
    "def cos_sim(vec_a, vec_b):\n",
    "    if isinstance(vec_a, Vector) and isinstance(vec_b, Vector):\n",
    "        dot_product = float(vec_a.dot(vec_b))\n",
    "        norm_a = float(vec_a.norm(2))\n",
    "        norm_b = float(vec_b.norm(2))\n",
    "        return dot_product / (norm_a * norm_b) if norm_a and norm_b else 0.0\n",
    "    return 0.0"
   ]
  },
  {
   "cell_type": "markdown",
   "metadata": {},
   "source": [
    "Then, we need to have a function to calculate ground truth similarity and then obtaining ids of the closest elements:"
   ]
  },
  {
   "cell_type": "code",
   "execution_count": 8,
   "metadata": {},
   "outputs": [],
   "source": [
    "def add_gt_similar(df, id_col: str, features_col: str = 'features', gt_similar_col: str = 'gt_similar', searched_elements_count: int = SEARCHED_ELEMENTS_COUNT):\n",
    "    \"\"\"Add column with lists of ids of similar ground truth elements\n",
    "    \n",
    "    Args:\n",
    "        - df: pyspark DataFrame - a dataframe with `id_col` and `features_col` present, for which we should add a column with lists of similar items\n",
    "        - id_col: str - a name of column in `df` where we should take indexes to put into `gt_similar_col`\n",
    "        - features_col: str (default 'features') - a name of column in `df` where vector features are located\n",
    "        - gt_similar_col: str (default 'gt_similar') - a name for a new column that is created as a result\n",
    "        - searched_elements_count: int (default SEARCHED_ELEMENTS_COUNT) - maximum count of elements we want to search\n",
    "    \n",
    "    Returns:\n",
    "    pyspark DataFrame, a copy of `df` with filled `gt_similar_col` that contains ids of ground truth similar items\n",
    "    \"\"\"\n",
    "\n",
    "    # We can now make an `NxN` similarity table, containing cosine similarities between each pair of feature vectors\n",
    "    similarity_table = (\n",
    "        df.alias('a')\n",
    "        .crossJoin(df.alias('b'))\n",
    "        .withColumn(\n",
    "            'cs',\n",
    "            cos_sim(\n",
    "                F.col(f'a.{features_col}'),\n",
    "                F.col(f'b.{features_col}'),\n",
    "            )\n",
    "        )\n",
    "        .groupBy(f'a.{id_col}')\n",
    "        .pivot(f'b.{id_col}')\n",
    "        .sum('cs')\n",
    "        .orderBy(id_col)\n",
    "    )\n",
    "\n",
    "    # Now, we can obtain all the perspective similarity pairs (with similarity bigger than 0)\n",
    "    similarity_columns = [column for column in similarity_table.columns if column != id_col]\n",
    "\n",
    "    mapping_expr = []\n",
    "    for c in similarity_columns:\n",
    "        mapping_expr.extend([F.lit(c), F.col(c)])\n",
    "\n",
    "    paired_df = similarity_table.select(\n",
    "        F.col(id_col),\n",
    "        F.explode(F.create_map(*mapping_expr)).alias(\"similar_id\", \"similarity\")\n",
    "    ).filter(\n",
    "        (F.col(id_col) != F.col(\"similar_id\")) & (F.col(\"similarity\") > 0)\n",
    "    )\n",
    "\n",
    "    # And take top k similar items by the similarity value for each other item\n",
    "    window_spec = Window.partitionBy(id_col).orderBy(F.col(\"similarity\").desc())\n",
    "    paired_df = paired_df.withColumn(\"simrank\", F.row_number().over(window_spec)).filter(F.col(\"simrank\") <= searched_elements_count)\n",
    "\n",
    "    # Here we collect lists with similar ids and add them to the original dataframe \n",
    "    top_similarities_df = paired_df.groupBy(id_col).agg(F.collect_list(\"similar_id\").alias(gt_similar_col))\n",
    "    res_df = df.join(top_similarities_df, on=id_col, how='left').orderBy(id_col)\n",
    "\n",
    "    return res_df"
   ]
  },
  {
   "cell_type": "markdown",
   "metadata": {},
   "source": [
    "### Predicting with LSH"
   ]
  },
  {
   "cell_type": "code",
   "execution_count": 9,
   "metadata": {},
   "outputs": [],
   "source": [
    "def predict_similar_lsh(df, lsh_params, id_col: str, features_col: str = 'features', pred_similar_col: str = 'pred_similar', searched_elements_count: int = SEARCHED_ELEMENTS_COUNT):\n",
    "    \"\"\"Predict similar items with MinHashLSH and add them to the original dataframe into the `pred_similar_col` column\n",
    "    \n",
    "    Args:\n",
    "        - df: pyspark DataFrame - a dataframe with `id_col` and `features_col` present, for which we should add a column with lists of similar items\n",
    "        - id_col: str - a name of column in `df` where we should take indexes to put into `pred_similar_col`\n",
    "        - features_col: str (default 'features') - a name of column in `df` where vector features are located\n",
    "        - pred_similar_col: str (default 'pred_similar') - a name for a new column that is created as a result\n",
    "        - searched_elements_count: int (default SEARCHED_ELEMENTS_COUNT) - maximum count of elements we want to search\n",
    "    \n",
    "    Returns:\n",
    "    pyspark DataFrame, a copy of `df` with filled `pred_similar_col` column that contains ids of predicted similar items\n",
    "    \"\"\"\n",
    "    \n",
    "    num_hash_tables = lsh_params['numHashTables']\n",
    "    distance_threshold = lsh_params['distanceThreshold']\n",
    "\n",
    "    mh = MinHashLSH(inputCol=features_col, outputCol=\"hashes\", numHashTables=num_hash_tables)\n",
    "\n",
    "    model = mh.fit(df)\n",
    "\n",
    "    similar_items = model.approxSimilarityJoin(df, df, threshold=distance_threshold, distCol=\"similarity\")\n",
    "    similar_items = similar_items.filter(F.col(f\"datasetA.{id_col}\") != F.col(f\"datasetB.{id_col}\"))\n",
    "    similar_items = similar_items.orderBy(F.col(\"similarity\").desc())\n",
    "\n",
    "    window_spec = Window.partitionBy(f\"datasetA.{id_col}\").orderBy(F.col(\"similarity\").desc())\n",
    "    similar_items = similar_items.withColumn(\"simrank\", F.row_number().over(window_spec)).filter(F.col(\"simrank\") <= searched_elements_count)\n",
    "\n",
    "    found_items = similar_items.groupBy(f\"datasetA.{id_col}\").agg(F.collect_list(f\"datasetB.{id_col}\").alias(pred_similar_col))\n",
    "\n",
    "    res_df = df.join(found_items, on=id_col, how='left')\n",
    "\n",
    "    return res_df"
   ]
  },
  {
   "cell_type": "markdown",
   "metadata": {},
   "source": [
    "### Measuring quality\n",
    "\n",
    "Let's also define a function to calculate the quality of our prediction. We will use intersection over union (IOU) to evaluate quality, as it is intuitive and penalizes both false positives and false negatives equally:"
   ]
  },
  {
   "cell_type": "code",
   "execution_count": 10,
   "metadata": {},
   "outputs": [],
   "source": [
    "@F.udf(T.DoubleType())\n",
    "def iou_func(real_items, pred_items):\n",
    "    if real_items is None:\n",
    "        return 1.\n",
    "    elif pred_items is None:\n",
    "        return 0.\n",
    "    else:\n",
    "        real_items_set = set([int(i) for i in real_items])\n",
    "        pred_items_set = set([int(i) for i in pred_items])\n",
    "        intersection_len = len(real_items_set.intersection(pred_items_set))\n",
    "        union_len = len(real_items_set.union(pred_items_set))\n",
    "        # Division of integers here somehow breaks the logic when NULL is passed in\n",
    "        return float(intersection_len)/float(union_len)  "
   ]
  },
  {
   "cell_type": "markdown",
   "metadata": {},
   "source": [
    "Now we need a function that makes an evaluation of the current parameters set (using time and IOU) for the LSH prediction:"
   ]
  },
  {
   "cell_type": "code",
   "execution_count": null,
   "metadata": {},
   "outputs": [],
   "source": [
    "def test_lsh_params(df, params, id_col: str, features_col: str = 'features', gt_similar_col: str='gt_similar', pred_similar_col: str = 'pred_similar', searched_elements_count: int = SEARCHED_ELEMENTS_COUNT):\n",
    "    \"\"\"A function to measure performance of the LSH algorithm with given parameters\n",
    "    \n",
    "    Args:\n",
    "        - df: pyspark DataFrame - a dataframe with `id_col` and `features_col` present, for which we should add a column with lists of similar items\n",
    "        - id_col: str - a name of column in `df` where we should take indexes to put into `pred_similar_col`\n",
    "        - features_col: str (default 'features') - a name of column in `df` where vector features are located\n",
    "        - gt_similar_col: str (default 'gt_similar') - a name for a column that contains ground truth values of similarity\n",
    "        - pred_similar_col: str (default 'pred_similar') - a name for a new column that is created as a result\n",
    "        - searched_elements_count: int (default SEARCHED_ELEMENTS_COUNT) - maximum count of elements we want to search\n",
    "    \n",
    "    Returns:\n",
    "    dict, a dictionary with lst parameters and results of model with that parameters\n",
    "    \"\"\"\n",
    "    \n",
    "    start_time = time.time()\n",
    "    test_iou_df = predict_similar_lsh(df, params, \n",
    "                                      id_col=id_col, \n",
    "                                      features_col=features_col, \n",
    "                                      pred_similar_col=pred_similar_col,\n",
    "                                      searched_elements_count=searched_elements_count)\n",
    "\n",
    "    test_iou_df = test_iou_df.withColumn(\"iou\", iou_func(F.col(gt_similar_col), F.col(pred_similar_col)))\n",
    "\n",
    "    iou_value = test_iou_df.agg(F.avg(\"iou\")).collect()[0][0]\n",
    "\n",
    "    # Computation time should be calculated only after collect that makes Spark perform all the operations\n",
    "    computation_time = time.time() - start_time\n",
    "\n",
    "    return {\n",
    "        'params': params,\n",
    "        'iou': iou_value,\n",
    "        'computation_time': computation_time,\n",
    "    }"
   ]
  },
  {
   "cell_type": "markdown",
   "metadata": {},
   "source": [
    "### Performing grid search\n",
    "\n",
    "Here is a function to perform grid search:"
   ]
  },
  {
   "cell_type": "code",
   "execution_count": 12,
   "metadata": {},
   "outputs": [],
   "source": [
    "def grid_search_tuning(data, \n",
    "                       param_grid, \n",
    "                       id_col: str, \n",
    "                       features_col: str = 'features',\n",
    "                       gt_similar_col: str = 'gt_similar',\n",
    "                       pred_similar_col: str = 'pred_similar', \n",
    "                       searched_elements_count: int = SEARCHED_ELEMENTS_COUNT,\n",
    "                       top_parameter_sets: int = BEST_PARAMS_COUNT):\n",
    "    \"\"\"A function to calculate test MinHashLSH with different parameters and find `top_parameter_sets` best\n",
    "\n",
    "    Args:\n",
    "        - df: pyspark DataFrame - a dataframe with `id_col` and `features_col` present, for which we should add a column with lists of similar items\n",
    "        - param_grid: list of dicts - a list with paramer sets we want to evaluate on\n",
    "        - id_col: str - a name of column in `df` where we should take indexes to put into `pred_similar_col`\n",
    "        - features_col: str (default 'features') - a name of column in `df` where vector features are located\n",
    "        - gt_similar_col: str (default 'gt_similar') - a name for a column that contains ground truth values of similarity\n",
    "        - pred_similar_col: str (default 'pred_similar') - a name for a new column that is created as a result\n",
    "        - searched_elements_count: int (default SEARCHED_ELEMENTS_COUNT) - maximum count of elements we want to search\n",
    "        - top_parameter_sets: int (default BEST_PARAMS_COUNT) - count of best parameter sets we want to return. If <= 0; return all parameter sets\n",
    "    \n",
    "    Returns:\n",
    "    list of dicts, a dictionary with lst parameters and results of model with that parameters\n",
    "    \"\"\"\n",
    "    results = []\n",
    "    for params in tqdm(param_grid):\n",
    "        result = test_lsh_params(data, \n",
    "                                 params, \n",
    "                                 id_col=id_col, \n",
    "                                 features_col=features_col, \n",
    "                                 gt_similar_col=gt_similar_col,\n",
    "                                 pred_similar_col=pred_similar_col, \n",
    "                                 searched_elements_count=searched_elements_count)\n",
    "        results.append(result)\n",
    "\n",
    "    top_results = sorted(results, key=lambda x: x['iou'], reverse=True)\n",
    "    if top_parameter_sets > 0:\n",
    "        top_results = top_results[:top_parameter_sets]\n",
    "\n",
    "    return top_results\n"
   ]
  },
  {
   "cell_type": "markdown",
   "metadata": {},
   "source": [
    "### Visualizing results"
   ]
  },
  {
   "cell_type": "code",
   "execution_count": 13,
   "metadata": {},
   "outputs": [],
   "source": [
    "def visualize_gridsearch_res(gridsearch_res):\n",
    "    \"\"\"Plot two heatmaps with gridsearch results\"\"\"\n",
    "    gridsearch_res_df = pd.DataFrame(gridsearch_res)\n",
    "\n",
    "    gridsearch_res_df['numHashTables'] = gridsearch_res_df['params'].apply(lambda x: x.get('numHashTables'))\n",
    "    gridsearch_res_df['distanceThreshold'] = gridsearch_res_df['params'].apply(lambda x: x.get('distanceThreshold'))\n",
    "    gridsearch_res_df = gridsearch_res_df.drop(columns=['params'])\n",
    "\n",
    "    iou_pivot = gridsearch_res_df.pivot(index=\"numHashTables\", columns=\"distanceThreshold\", values=\"iou\")\n",
    "    time_pivot = gridsearch_res_df.pivot(index=\"numHashTables\", columns=\"distanceThreshold\", values=\"computation_time\")\n",
    "\n",
    "    fig, axs = plt.subplots(1, 2, figsize=(12, 6))\n",
    "\n",
    "    fig.suptitle(\"Results for different parameters\")\n",
    "\n",
    "    axs[0].set_title(\"IOU values for different parameter sets\")\n",
    "    sns.heatmap(iou_pivot, ax=axs[0], cmap='rocket_r')\n",
    "\n",
    "    axs[1].set_title(\"Computation time values for different parameter sets, seconds\")\n",
    "    sns.heatmap(time_pivot, ax=axs[1], cmap='rocket')\n",
    "\n",
    "    plt.show()"
   ]
  },
  {
   "cell_type": "markdown",
   "metadata": {},
   "source": [
    "## Part 1. Barcelona LSH experiment"
   ]
  },
  {
   "cell_type": "markdown",
   "metadata": {},
   "source": [
    "Download data if needed:"
   ]
  },
  {
   "cell_type": "code",
   "execution_count": 14,
   "metadata": {},
   "outputs": [],
   "source": [
    "# !wget -O listings.csv.gz https://data.insideairbnb.com/spain/catalonia/barcelona/2024-09-06/data/listings.csv.gz\n",
    "# !gunzip -f listings.csv.gz"
   ]
  },
  {
   "cell_type": "code",
   "execution_count": 15,
   "metadata": {},
   "outputs": [
    {
     "name": "stderr",
     "output_type": "stream",
     "text": [
      "                                                                                \r"
     ]
    },
    {
     "name": "stdout",
     "output_type": "stream",
     "text": [
      "990\n"
     ]
    },
    {
     "name": "stderr",
     "output_type": "stream",
     "text": [
      "                                                                                \r"
     ]
    },
    {
     "name": "stdout",
     "output_type": "stream",
     "text": [
      "+---+--------------------------------------------------+\n",
      "|id |name                                              |\n",
      "+---+--------------------------------------------------+\n",
      "|0  |Stylish Top Floor Apartment - Ramblas Plaza Real  |\n",
      "|1  |Private terrace in Old town                       |\n",
      "|2  |Modern Flat                                       |\n",
      "|3  |Cosy apartment near Las Ramblas                   |\n",
      "|4  |Spacious apartment by Las Ramblas                 |\n",
      "|5  |Paseo de Gracia - Diagonal, 120 m2                |\n",
      "|6  |COMFORTABLE AND VERY SPACIOUS LARGE               |\n",
      "|7  |Cozy apartment  perfect situation - metro & WIFI  |\n",
      "|8  |Double bed- Ramblas- Charming                     |\n",
      "|9  |Sweet Room (Sage. Família) for more than 31 days  |\n",
      "|10 |(P1) Cozy apart, Gracia LA PEDRERA                |\n",
      "|11 |Vintage Deco 3Br Apt with Balcony                 |\n",
      "|12 |AMAZING BOUTIQUE APARTMENT. AN OASIS IN BARCELONA |\n",
      "|13 |New apt. METRO BARCELONETA! Min 32dd, max 300dd   |\n",
      "|14 |♛Fabulous Penthouse w/terrace-Sagrada Familia view|\n",
      "|15 |Sagrada Familia charming                          |\n",
      "|16 |bbarcelonapartment: acogedor, tranquilo con balcón|\n",
      "|17 |Next to Barcelona Fair and Magic Fountain         |\n",
      "|18 |Bruc Urquinaona Quiet and Central                 |\n",
      "|19 |Ciudadela Born WALK EVERYWHERE!!                  |\n",
      "+---+--------------------------------------------------+\n",
      "only showing top 20 rows\n",
      "\n"
     ]
    }
   ],
   "source": [
    "listings_df = SPARK.read.csv(\n",
    "    \"listings.csv\",\n",
    "    header=True,  # First line is header\n",
    "    inferSchema=True,  # Automatically infer data types\n",
    "    multiLine=True,  # Handle multiline fields\n",
    "    escape=\"\\\"\",  # Handle quoted strings with escape character\n",
    "    quote=\"\\\"\",  # Set quote character for quoted strings\n",
    "    sep=\",\",  # Specify the delimiter\n",
    ")\n",
    "listings_df = listings_df.orderBy(F.rand()).limit(1000)\n",
    "listings_df = listings_df.select(\"id\", \"name\")\n",
    "listings_df = listings_df.dropna()\n",
    "listings_df = listings_df.dropDuplicates([\"name\"])\n",
    "listings_df = listings_df.orderBy(\"id\")\n",
    "listings_df = listings_df.withColumn(\"id\", F.monotonically_increasing_id())\n",
    "print(listings_df.count())\n",
    "listings_df.show(truncate=False)"
   ]
  },
  {
   "cell_type": "code",
   "execution_count": 16,
   "metadata": {},
   "outputs": [
    {
     "name": "stderr",
     "output_type": "stream",
     "text": [
      "24/11/07 20:27:59 WARN InstanceBuilder: Failed to load implementation from:dev.ludovic.netlib.blas.JNIBLAS\n",
      "[Stage 18:>                                                         (0 + 1) / 1]\r"
     ]
    },
    {
     "name": "stdout",
     "output_type": "stream",
     "text": [
      "+---+--------------------------------------------------+--------------------------------------------------+----------------------------------------------------------------+----------------------------------------------------+-------------------------------------------------------------------------------------------------------------------------------------------------------------------------------------------------------------------------------------------------------------------------------------------------------------------------------------------------------------------------------------------------------------------------------------------------------------------------------------------------------------------------------------------------------------------------------------------------------------------------------------------------------------------------------------------------------------------------------------------------------------------------------------------------------------------------------------------------------------------------------------------------------------------------------------------------------------------------------------------------------------------------------------------------------------------------------------------------------------------------------------------------------------------------------------------------------------------------------------------------------------------------------------------------------------------------------------------------------------------------------------------------------------------------------------------------------------------------------------------------------------------------------------------------------------------------------------------------------------------------------------------------------------------------------------------------------------------------------------------------------------------------------------------------------------------------------------------------------------------------------------------------------------------------------------------------------------------------------------------------------------------------------------------------------------------------------------------------------------------------------------------------------------------------------------------------------------------------------------------------------------------------------------------------------------------------------------------------------------------------------------------------------------------------------------------------------------------------------------------------------------------------------------------------------------------------------------------------------------------------------------------------------------------------------------------------------------------------------------------------------------------------------------------------------------------------------------------------------------------------------------------------------------------------+\n",
      "|id |name                                              |name_clean                                        |words                                                           |stemmedWords                                        |features                                                                                                                                                                                                                                                                                                                                                                                                                                                                                                                                                                                                                                                                                                                                                                                                                                                                                                                                                                                                                                                                                                                                                                                                                                                                                                                                                                                                                                                                                                                                                                                                                                                                                                                                                                                                                                                                                                                                                                                                                                                                                                                                                                                                                                                                                                                                                                                                                                                                                                                                                                                                                                                                                                                                                                                                                                                                                                                 |\n",
      "+---+--------------------------------------------------+--------------------------------------------------+----------------------------------------------------------------+----------------------------------------------------+-------------------------------------------------------------------------------------------------------------------------------------------------------------------------------------------------------------------------------------------------------------------------------------------------------------------------------------------------------------------------------------------------------------------------------------------------------------------------------------------------------------------------------------------------------------------------------------------------------------------------------------------------------------------------------------------------------------------------------------------------------------------------------------------------------------------------------------------------------------------------------------------------------------------------------------------------------------------------------------------------------------------------------------------------------------------------------------------------------------------------------------------------------------------------------------------------------------------------------------------------------------------------------------------------------------------------------------------------------------------------------------------------------------------------------------------------------------------------------------------------------------------------------------------------------------------------------------------------------------------------------------------------------------------------------------------------------------------------------------------------------------------------------------------------------------------------------------------------------------------------------------------------------------------------------------------------------------------------------------------------------------------------------------------------------------------------------------------------------------------------------------------------------------------------------------------------------------------------------------------------------------------------------------------------------------------------------------------------------------------------------------------------------------------------------------------------------------------------------------------------------------------------------------------------------------------------------------------------------------------------------------------------------------------------------------------------------------------------------------------------------------------------------------------------------------------------------------------------------------------------------------------------------------------------+\n",
      "|0  |Stylish Top Floor Apartment - Ramblas Plaza Real  |Stylish Top Floor Apartment   Ramblas Plaza Real  |[stylish, top, floor, apartment, , , ramblas, plaza, real]      |[stylish, top, floor, apart, rambla, plaza, real]   |[-0.0011480254179332405,0.0077385401735747495,-3.071349180702652E-4,-0.01244475388167692,0.009840252410088266,-0.010965378264830048,-0.008504367042665502,-0.019828063136498843,-0.0038432600688663244,0.006233142356255225,0.009155691971370417,-0.0058061059930228755,-0.01431467430666089,-4.75225462358659E-4,0.004238020183817882,0.0019448345327483755,-0.016170490907305584,-0.01083402501119833,-0.004043698510421173,-0.002957185884172629,0.005876547178818977,0.003663238786560084,0.0010597324913500675,-0.014144821425101586,0.004035994876176119,0.0029689915162245074,-0.00821024011695824,-0.006570286583155394,0.010889053511034164,-0.0060557517031806386,-5.484176799654961E-4,-0.004605332738719881,7.324910360953903E-4,0.007021062123385491,2.809454396940834E-4,0.0044397265384239805,0.013577925640025308,0.002907951936192278,-0.005096283225741769,-0.0037504212523344904,-0.002397947961331478,0.0015917619623775992,0.0054113537605319706,0.008080445096961089,-0.002184635161289147,-0.0033572777839643614,0.006939216358919761,-0.01357913708281038,0.0018971033075233987,0.0013215595099609345,-0.004512374037793571,0.0032550572733660893,0.007169932592660189,0.003388405927190823,0.0014619905019312032,6.345363716328782E-4,0.007855950771564884,0.007896428354017968,5.566631734836847E-4,8.384601948949108E-4,0.005339701626715915,-0.00141993527566748,0.0028397546541652574,0.0045447630899226555,0.005025184729934803,0.011505342067851285,-0.003956107040201978,0.014008845152732517,0.01065875172415482,0.005256313065599118,-0.006118797697126865,-0.013289133319631219,0.0015555318927259316,-0.0036542458526257955,3.243490937165916E-4,-0.01014626145375327,0.005369791233014049,-0.007466070586815476,0.0070837680084098655,0.004389375747580613,0.009036842085021946,0.014155608867960317,-0.011918639331789953,-0.005413512898875134,4.6237269530787926E-4,-0.013021391300883676,3.291899088903197E-4,0.011256777856033295,0.004337513378621744,-0.005458881446559514,0.004152575418369712,-0.0010679221450118348,0.0014270240208134055,0.006161224321528737,-0.014636614043930811,8.62025622544544E-4,0.006336604477837682,8.708888651329158E-4,0.0037374907617829323,0.008659124757936556,-0.004428359871131501,0.012573421400572571,-0.010889331082580611,0.003460804439133166,0.008953315654902585,0.0017646488517389764,-0.01655494498222002,0.0038642604070316467,0.006189229615431811,0.0029502218489402105,-2.1889419752239646E-4,-0.0027142743596674074,-0.0024026296118141283,-3.0945752015603436E-4,-0.00110378917556123,-0.003647791047114879,-0.005704811375055994,-0.011984115666044608,-0.0018037965325804959,0.012836701419603611,0.0059939308620024735,7.329272754889513E-4,0.016190267151354677,-0.009457109342162895,-0.0019388013211677649,0.004152625666132995,-0.012546259776822158,-0.006530662798987967]                                        |\n",
      "|1  |Private terrace in Old town                       |Private terrace in Old town                       |[private, terrace, in, old, town]                               |[privat, terrac, old, town]                         |[-0.0024280451762024313,0.011867875888128765,-0.0019911442359443754,-0.021068307221867144,0.020621875301003456,-0.019883990520611405,-0.015852652490139008,-0.032023463398218155,-0.006169481319375336,0.010103443753905594,0.01843650732189417,-0.0073425146692898124,-0.023895449936389923,-0.0011544849548954517,0.01252371136797592,0.004993166454369202,-0.02411664871033281,-0.014335929066874087,-0.0050295742839807644,0.0018892998441515374,0.009518304083030671,0.00471239467151463,0.002986484207212925,-0.026115700718946755,0.006000842055073008,0.0027718517085304484,-0.011342265759594738,-0.010867643868550658,0.02130415430292487,-0.016776893055066466,-7.899481279309839E-4,-0.008352991862921044,0.0027054494130425155,0.012457055156119168,2.676681469893083E-5,0.00466221256647259,0.025912510929629207,0.0012930486518598627,-0.0050260851421626285,-0.002694178474484943,-0.006299566724919714,8.762692523305304E-4,0.013314098701812327,0.01312465954106301,0.0015098447765922174,-0.006255603831959888,0.009938371425960213,-0.021214654203504324,0.005395209795096889,0.0036447671591304243,-0.006562280723301228,0.005948405043454841,0.010176672192756087,0.0054985383758321404,0.0030342533136717975,0.002766915480606258,0.018153298646211624,0.013820719439536333,-0.001189564325613901,0.0023395721073029563,0.009543601889163256,-0.0028710521874018013,0.004892007156740874,0.007190218835603446,0.003378137538675219,0.016668060430674814,-0.008689771115314215,0.024443447589874268,0.021019160049036145,0.00667718582553789,-0.01057966414373368,-0.020008932537166402,0.005300662043737248,-0.004891466232948005,0.001074081999831833,-0.01520305493613705,0.00788583411485888,-0.009405753677128814,0.007056229456793517,0.008132758361171,0.015426064433995634,0.020552769070491195,-0.023152926354669034,-0.009949612547643483,4.2852859041886404E-4,-0.019993454741779715,1.4380906941369176E-4,0.01555146201280877,0.0076052646327298135,-0.01155875832773745,0.0066066032741218805,-0.004606659444107208,0.006107385896029882,0.013070094515569508,-0.027093930868431926,0.002558287640567869,0.005785172324976884,0.004884355585090816,0.004004599468316883,0.018124859197996557,-0.004785829194588587,0.022165958740515634,-0.018076174426823854,1.2745006824843585E-4,0.015068750974023715,0.0031126474495977163,-0.032667167484760284,0.005287176347337663,0.008126199361868203,0.0027290244470350444,-0.004918004502542317,-0.004036697762785479,-0.004995373310521245,0.0019206243887310848,-8.875389030436054E-4,-0.006232427665963769,-0.007465537870302796,-0.021689928136765957,-0.001758244790835306,0.02186748234089464,0.010746250511147082,6.919463048689067E-4,0.02491203509271145,-0.015379987773485482,-7.250430207932368E-4,0.003768321286770515,-0.021306090406142175,-0.012117292411858216]                                                            |\n",
      "|2  |Modern Flat                                       |Modern Flat                                       |[modern, flat]                                                  |[modern, flat]                                      |[-0.002228168770670891,0.012220296077430248,6.510247476398945E-5,-0.021267189644277096,0.016920074354857206,-0.017287039663642645,-0.01623799977824092,-0.029245147481560707,-0.007513037184253335,0.010390074923634529,0.013642692472785711,-0.0049227692652493715,-0.024088975973427296,-0.00344638479873538,0.010292958468198776,0.003630387713201344,-0.02630601916462183,-0.013997575268149376,-0.005141707370057702,-0.003608171478845179,0.011394644854590297,0.007974993670359254,8.017783984541893E-4,-0.025967414490878582,0.001385602110531181,0.0038949919980950654,-0.013555667828768492,-0.009800620144233108,0.020687133073806763,-0.014579788316041231,3.049831138923764E-4,-0.009014130104333162,0.003571651875972748,0.00927435141056776,-0.0022858989686938003,0.004263603826984763,0.02339313132688403,-1.7777079483494163E-4,-0.006322332774288952,-0.006385270040482283,-0.00640318775549531,0.005616114940494299,0.015401617158204317,0.01777326874434948,-3.9158883737400174E-4,-0.001644193718675524,0.012284404831007123,-0.02155978698283434,0.007874507224187255,0.001541987294331193,-0.008608684409409761,0.005505257751792669,0.01332263182848692,0.006149422028101981,0.006668236805126071,0.0012366731534712017,0.01645200466737151,0.012382869143038988,-0.0010292614460922778,0.005728682968765497,0.005875404458492994,-0.0022182073444128036,0.004380744183436036,0.00823027384467423,0.0059925742680206895,0.01602347008883953,-0.006700889207422733,0.024387242272496223,0.021345859859138727,0.00810285029001534,-0.011436647968366742,-0.018229580484330654,0.007277017924934626,-0.002762101561529562,-1.588916638866067E-4,-0.015816469211131334,0.009450489655137062,-0.007352273445576429,0.008419775869697332,0.011714327149093151,0.014816790353506804,0.0213043843396008,-0.023088485933840275,-0.008332242723554373,0.002447710605338216,-0.020152577199041843,-6.839966372353956E-4,0.018826697021722794,0.006027870578691363,-0.008621871937066317,0.006183207267895341,-0.006298350170254707,0.0054731693817302585,0.010274042375385761,-0.027651448734104633,-0.0013720588613068685,0.009644319768995047,0.005162462359294295,0.005879594711586833,0.01411194377578795,-0.005975388456135988,0.021148143336176872,-0.01911622378975153,1.7507444135844707E-4,0.013214237755164504,0.004676150856539607,-0.029420187696814537,0.006512123538414016,0.00996787566691637,0.003148402232909575,-0.004584219539538026,-0.0025514442240819335,-0.0034547523828223348,-0.00328203197568655,5.037745577283204E-4,-0.007063921540975571,-0.00935638218652457,-0.023077416233718395,-0.0012876716209575534,0.021610227413475513,0.007351730717346072,6.881178778712638E-4,0.023921867832541466,-0.010558241046965122,-4.772258980665356E-4,0.004678509198129177,-0.02135379146784544,-0.01331933680921793]                                                                    |\n",
      "|3  |Cosy apartment near Las Ramblas                   |Cosy apartment near Las Ramblas                   |[cosy, apartment, near, las, ramblas]                           |[cosi, apart, near, la, rambla]                     |[-0.0016179389494936913,0.01088100136257708,5.862932186573744E-4,-0.018691628170199693,0.01703858617693186,-0.01763399261981249,-0.014018099568784238,-0.03177249990403652,-0.008232991071417927,0.007343641296029092,0.015046038012951613,-0.006979995651636273,-0.02194193624891341,-0.002597890633842326,0.0061418351251631975,0.0038504985161125663,-0.025625564437359572,-0.01557488813996315,-0.006211003800854088,-0.0014701372070703657,0.009598434891086072,0.006940629566088319,0.0015630466223228723,-0.024012660793960097,0.003660868853330612,0.005089847091585398,-0.012933700438588859,-0.009284669812768698,0.01997013743966818,-0.01051955686416477,-0.002287870727013797,-0.005341974849579856,0.0013905621715821328,0.008365524001419544,1.6607869183644653E-4,0.007019658666104079,0.019555263640359047,0.002660028962418437,-0.008257758896797895,-0.0034868841990828518,-0.0072709519648924475,0.0022164463123772295,0.01163896219804883,0.015124300215393306,-0.004492333589587361,-0.007692004041746259,0.008930932846851647,-0.020206002797931433,0.0035239023607573474,0.003791333583649248,-0.008552438346669078,0.006080655753612519,0.013211998995393515,0.003509703581221402,0.005973385041579605,1.3311969814822078E-4,0.013714703172445298,0.012963641132228077,-3.7134659942239523E-4,0.0015179364592768252,0.008580372296273708,-0.0031503138830885295,0.002412387570075225,0.005740883154794574,0.006293572764843703,0.016553630260750653,-0.003940682241227478,0.02465078998357058,0.018437987379729747,0.00956574003212154,-0.010981358774006368,-0.021027440670877695,0.0013959976145997645,-0.003133147687185556,0.0022083100222516808,-0.014301474113017321,0.011204838007688523,-0.01212708556558937,0.008576004183851182,0.009255400160327554,0.013481676299124957,0.022585064545273783,-0.020129231549799443,-0.00763027397915721,0.0037927808472886684,-0.020118105970323086,-3.9020631229504945E-4,0.018215325195342302,0.006664909143000841,-0.010293992504011841,0.007300093863159419,-0.002159055430092849,0.001757128571625799,0.010352306440472603,-0.025200050696730616,-3.8260421715676787E-4,0.010047486680559815,0.0033840126357972625,0.0064836204866878695,0.011875665199477227,-0.00747149707749486,0.020619299169629814,-0.017544861230999232,0.004294024966657162,0.014952849410474301,0.0016582299256697299,-0.025493637658655643,0.006645342521369457,0.009287707041949034,0.007118009449914098,-4.572888923576102E-4,-3.8751934189349416E-4,-0.003782429243437946,-1.9385681116546039E-4,-0.0034703096956945957,-0.005641545832622797,-0.008852876862511039,-0.020052623748779298,-0.002380620670737699,0.019093557912856343,0.006785549176856876,0.001697176555171609,0.024578427337110045,-0.012107486557215453,-0.0024470225907862186,0.006696846801787615,-0.022511469386518004,-0.011437866184860469]                                                 |\n",
      "|4  |Spacious apartment by Las Ramblas                 |Spacious apartment by Las Ramblas                 |[spacious, apartment, by, las, ramblas]                         |[spaciou, apart, la, rambla]                        |[-0.002548661308537703,0.01591356028802693,7.637205126229674E-4,-0.025860762922093272,0.022953468724153936,-0.023131216876208782,-0.019025875139050186,-0.03972528572194278,-0.009972395841032267,0.011243284214287996,0.020835007424466312,-0.009526334295514971,-0.030658388743177056,-0.0028942538256160333,0.008425094420090318,0.005281493533402681,-0.03506308631040156,-0.019546843133866787,-0.00838451401796192,-0.0013611513204523362,0.013366159619181417,0.01097316644154489,0.002637060511915479,-0.03117953985929489,0.005351306463126093,0.005229756352491677,-0.016976664657704532,-0.012646287184907123,0.02579506137408316,-0.013558377308072522,-0.0020733122946694493,-0.007203001936431974,4.7307080967584625E-4,0.011869720299728215,-3.0447183235082775E-4,0.006633365876041353,0.02786236139945686,0.0023171911598183215,-0.009149465709924698,-0.006689114554319531,-0.008513279259204865,0.0019763143645832315,0.016563519136980176,0.019216064596548676,-0.005604373465757817,-0.009086380945518613,0.013430824357783422,-0.02706433041021228,0.0033256396400247468,0.003270959437941201,-0.01233766763471067,0.006847505108453333,0.01755640027113259,0.004684755433117971,0.008040294051170349,0.0015590430557494983,0.01744078961201012,0.016149887902429327,-7.814767814124934E-4,0.002683637125301175,0.009803359163925052,-0.004062561580212787,0.0036282408436818514,0.0076082384621258825,0.007956333342008293,0.02231137693161145,-0.005453872559883166,0.03093134704977274,0.024108772864565253,0.012113204866182059,-0.012910439167171717,-0.027424718951806426,0.0031271253246814013,-0.004641376726794988,0.0021284992690198123,-0.01908216066658497,0.0144085343927145,-0.016513062873855233,0.01105530743370764,0.010729734669439495,0.01919162058038637,0.029222519835457206,-0.025803649565204978,-0.009963780059479177,0.004055258119478822,-0.02770878979936242,3.834629897028208E-4,0.024161732522770762,0.009196636732667685,-0.01360032893717289,0.008353359531611204,-0.002099706576700555,0.002566067036241293,0.01359126390889287,-0.033128919545561075,5.229907692410052E-4,0.013811311218887568,0.0038162151467986405,0.00824819935951382,0.01839001342887059,-0.010858748340979218,0.027219544863328338,-0.024446693481877446,0.005820936494274065,0.01831535086967051,0.0019656093209050596,-0.03373194159939885,0.0077282124548219144,0.011153095751069486,0.00802217610180378,-0.0033190287613251712,-0.0014502012054435909,-0.003790292626945302,-0.0011595603573368862,-0.0031103483197512105,-0.007946502999402583,-0.010841549024917185,-0.025465534068644047,-0.002265847615490202,0.026341499062255025,0.011437562934588641,8.699705067556351E-4,0.0329311634413898,-0.016235233517363667,-0.0031274614739231765,0.008451947709545493,-0.02956137526780367,-0.016850473475642502]                                                                        |\n",
      "|5  |Paseo de Gracia - Diagonal, 120 m2                |Paseo de Gracia   Diagonal      m                 |[paseo, de, gracia, , , diagonal, , , , , , m]                  |[paseo, de, gracia, diagon]                         |[0.0031331933569163084,0.002020375366555527,0.0025088768743444234,-0.005098011111840606,0.00376545253675431,-9.998821624321863E-4,-0.00411293916113209,-0.008506240847054869,-0.0028357294359011576,-7.197276936494745E-4,0.0023067749571055174,-0.0023246990058396477,-0.0061880090506747365,-0.0010955007164739072,-7.089721184456721E-4,0.0021331494790501893,-0.006850297853816301,-0.002206692297477275,-0.0023534744104836136,5.131955003889743E-5,0.0038057277270127088,4.224095027893782E-5,8.040394459385425E-4,-0.004146089660935104,-0.0013701803545700386,0.0016470196715090424,-0.004552118625724688,-0.001685059949522838,0.0027965363988187164,6.835575914010406E-4,-0.0018105986673617736,0.0024009792105061933,-0.0015950733795762062,-3.487705689622089E-4,-4.531695449259132E-4,0.002979332610266283,0.0030059404962230474,-0.0019516457468853332,-0.005266404346912168,5.322799552232027E-4,-0.004085379667230882,0.001949285313457949,0.006363311666063964,0.004836171050556004,-0.004458269162569195,-0.0034647977336135227,-3.5919135552830994E-4,-0.004598018917022273,9.850082569755614E-4,0.0020613611268345267,-0.0028972767031518742,7.356680071097799E-4,0.004163614445133135,-0.002150128479115665,0.0020461272360989824,8.084875735221431E-4,0.0014352077268995345,0.0024913178785936907,-0.001963545844773762,0.0019137845374643803,0.002690416236873716,-0.0014807518455199897,-0.0024535832199035212,0.0016521522193215787,-9.083790937438607E-4,0.003333711181767285,0.0020123845170019194,0.002507473691366613,0.005269898130791262,0.0033339770161546767,-0.0030944890750106424,-0.007258707017172128,-5.823414903716184E-4,4.7630356857553124E-4,-1.811941256164573E-4,-0.003382767317816615,0.0039999006112338975,-0.0035163759312126786,0.002465507626766339,0.002672888760571368,0.004473682813113555,0.008297302862047218,-0.0037239396770019084,-2.0115042570978403E-4,0.003963057504734024,-0.002725619124248624,0.0014450550661422312,0.005369844380766153,-0.0011559131526155397,-0.005608437524642795,5.222988256718963E-4,0.002060045371763408,-0.003800833786954172,0.004346471934695728,-0.006559975998243317,-3.5051919985562563E-4,0.003349832899402827,9.706928176456131E-4,5.170507647562772E-4,-6.91849272698164E-4,-0.002429489803034812,0.006400286161806434,-0.0030924499151296914,0.0033520576544106007,0.004588526557199657,0.0013545711917686276,-0.0072466130804969,0.0028306155290920287,0.0033535552138346247,5.93103475694079E-4,7.818540616426617E-4,0.0013790595112368464,-0.0021918900310993195,4.5060794946039096E-4,-0.003494756092550233,-0.0019530770787241636,-7.159363885875791E-4,-0.00352605152875185,-7.893479778431356E-4,0.004784035729244351,-0.002301141619682312,0.0028650415733864065,0.006939499406144023,-0.0028711707855109125,-0.001062517229001969,3.052190659218468E-4,-0.007060117146465927,-0.0036916827084496617]            |\n",
      "|6  |COMFORTABLE AND VERY SPACIOUS LARGE               |COMFORTABLE AND VERY SPACIOUS LARGE               |[comfortable, and, very, spacious, large]                       |[comfort, spaciou, larg]                            |[4.873016538719336E-4,0.004793175253629063,-0.0018545146643494566,-0.008679230619842807,0.010164318683867652,-0.008843721201022465,-0.008435070980340242,-0.014078114802638689,-0.001686884555965662,0.004087171594922741,0.0073837873836358385,-0.0033167550185074406,-0.011499834052907923,-2.7279572047215574E-5,0.003487637809788187,0.0034299495940407114,-0.011047037007908026,-0.005883155021971712,-8.539805809656779E-4,0.0023398043510193625,0.0041015683285271125,0.003092065589347233,6.449197341377536E-4,-0.012018216347011427,3.680109318035344E-4,7.06542710152765E-4,-0.004148650487574438,-0.003622485479960839,0.007920040477377672,-0.006783529107148448,0.0014117606333456933,-0.0026137206392983594,0.0011451406850634762,0.004471187120846783,-8.442039834335446E-4,0.001224442928408583,0.008298138932635386,-4.8333344360192615E-4,-0.0029776139999739826,-0.0025956708899078267,-0.002121039122963945,0.0026801914015474417,0.0068784029184219735,0.008332891350922484,-0.0022874520315478244,-0.0018805243695775666,0.0036343986866995692,-0.0073096207149016355,7.730673726958532E-4,-9.720199159346521E-4,-0.0020171526120975614,0.0011150822198639312,0.0062495543000598746,0.001217223199394842,0.002013784872057537,0.0013798684036980071,0.007985392274955908,0.004441014403710142,2.535746995514879E-4,4.4746285614868E-5,0.00434264141949825,1.2872216757386923E-4,0.0011153449740959331,0.0039918670275559025,0.001700276625342667,0.008152298881517101,-0.0046396305939803515,0.009536906766394774,0.010128691074593613,0.0045932357509930926,-0.005255940447871883,-0.007949242368340492,0.003734014229848981,-0.0010604487615637481,-0.0020068760398620116,-0.0052162140297393,0.005170042238508661,-0.005892973771551624,0.002924111089669168,0.003166484103227655,0.006764773977920413,0.008742919657379389,-0.010219562953958908,-0.0028575645992532372,4.933564535652597E-4,-0.009592203423380852,0.001403745285642799,0.0073535590975855785,0.0040822217318539815,-0.00523168522825775,0.002518289644892017,-7.571786409243941E-4,0.0017431211793640007,0.005595298794408639,-0.011245756410062313,-5.25096741815408E-5,0.00451138976495713,0.0016451853637893994,0.001581132955228289,0.007969896658323705,-0.0033266855559001365,0.00909248706496631,-0.006920470274053514,1.2261668841044107E-4,0.008215977810323238,0.002753885268854598,-0.013818021398037672,0.0026435320808862644,0.0019990754857038455,0.002013147265339891,-0.0011904993249724307,6.356252609596897E-4,-0.002500178738652418,6.397742448219408E-4,-0.002058641208956639,-0.0019454736223754783,-0.004232669404397408,-0.009406833249765137,-6.078876516160865E-4,0.007386348501313478,0.006252951066320141,8.522370674957831E-4,0.009338897575313846,-0.005782640286876509,1.0283776403715213E-4,0.0023693404703711467,-0.012159399533023436,-0.004339210378626982]                                 |\n",
      "|7  |Cozy apartment  perfect situation - metro & WIFI  |Cozy apartment  perfect situation   metro   WIFI  |[cozy, apartment, , perfect, situation, , , metro, , , wifi]    |[cozi, apart, perfect, situat, metro, wifi]         |[-0.0024870324026172357,0.010082835642000038,7.004825165495276E-4,-0.011297457405210782,0.01331085670972243,-0.010862341218550378,-0.008315744664287195,-0.01893793981677542,-0.0031662109249737114,0.0074445273882399,0.009911361363871643,-0.0035187136963941157,-0.012951514673962567,1.9597554152520993E-4,0.0050108640086061005,0.0013721297921923299,-0.01570667436074776,-0.00976345646389139,-0.0028169369422054538,-0.001499073778783592,0.006727362691890448,0.0065174827274555956,0.0018873740821921576,-0.015129978167048344,0.004054698588637014,0.002361392228825328,-0.0076141072252842905,-0.005911444022785872,0.013340315269791365,-0.0066302499326411635,-4.630518815247342E-4,-0.006248549888065705,-6.46666584846874E-4,0.009427292078423003,0.0022729954798705876,0.0026119997492060065,0.01352740322909085,-1.4091428117050478E-4,-0.0032923310839881497,-0.003571935638319701,-0.003889024320718211,-6.611704981575409E-4,0.006583950203397156,0.008661938763301198,-0.0013657991463939347,-0.002726009426017602,0.007100727632253741,-0.013381960859987885,0.0036904412942628064,0.001743671183551972,-0.0042952494210718815,0.004463082492293324,0.008600284811109304,0.003929624256367484,0.0025502931190809854,0.0018098208432396252,0.009901748494788382,0.009920209898458172,9.919520622740188E-5,0.0028550774780645343,0.0044079538589964305,-0.0012055569095537066,0.0037978493152574324,0.004724541640219589,0.0021898423437960446,0.0114320646195362,-0.003177258092667519,0.015607920940965414,0.01255681555570239,0.006638333734978611,-0.004116342344786972,-0.01527882933927079,0.003658807351409147,-0.0036119106031643846,7.337358886919294E-4,-0.008438771551785369,0.004867182093827674,-0.007549908817357694,0.005149112861545291,0.0039547814800850265,0.007401157286949456,0.011916304618353024,-0.012207597067269186,-0.0037110287230461836,0.0012415462988428771,-0.011639389966148883,-4.0568780241301283E-4,0.009885312882640088,0.0039974753550874684,-0.0062477024815355735,0.004249042986581722,-0.004017949550567815,0.004418963896265874,0.006173465350002516,-0.016361244003443666,0.0037496042010995248,0.005551804254840438,0.002246429326381379,0.0035705576107526817,0.009929073877477396,-0.004506716815133889,0.012733946408843622,-0.010487346434577677,0.002579315931749685,0.00862103192290912,4.4748001770737267E-4,-0.018497222180788715,0.0032836571141767004,0.006973579981907581,0.00220094450439016,-0.0027360350359231234,-0.0011544348478006818,-6.647542856323222E-4,-7.915999691855783E-4,8.329537474007035E-4,-0.004107385655515827,-0.005725532537326217,-0.01222988173443203,-8.276466639169181E-4,0.01368743567339455,0.007151133894997959,6.617956581370283E-4,0.015395533837969802,-0.006226796540431678,-0.0027216195837051296,0.004973525453048447,-0.014014261697108546,-0.00894068971198673]                                         |\n",
      "|8  |Double bed- Ramblas- Charming                     |Double bed  Ramblas  Charming                     |[double, bed, , ramblas, , charming]                            |[doubl, bed, rambla, charm]                         |[-6.979011159273796E-4,0.013850089395418763,0.0022230450995266438,-0.01842527138069272,0.018806493608281016,-0.01880003255791962,-0.014159438433125615,-0.030375616857782006,-0.0058103343326365575,0.011881390935741365,0.014734160213265568,-0.00484676644555293,-0.022037438116967678,-0.0010340233784518205,0.008438901626504958,0.0035828598774969578,-0.024099523201584816,-0.013479188666678965,-0.005073717096820474,-0.0010164741033804603,0.009213839541189373,0.006309249089099467,0.0019033177813980728,-0.024799628648906946,0.0055541124020237476,0.0019445732468739152,-0.010125417378731072,-0.008386635658098385,0.019260288594523445,-0.013476575375534594,6.949109956622124E-5,-0.006014658079948276,-9.633523441152647E-4,0.011184987029992044,-0.0018944608309539035,0.005734436679631472,0.02411731774918735,0.003683558141347021,-0.005760499450843781,-0.004102021906874143,-0.004061991872731596,0.0019697059760801494,0.013362100275116973,0.013034605421125889,-3.6139634903520346E-4,-0.0031915269210003316,0.008743935846723616,-0.02130117453634739,0.004625632947863778,0.0018183465581387281,-0.007306378858629614,0.004925859539071098,0.012987697497010231,0.002893179567763582,0.0035424247034825385,0.001981020686798729,0.012859197391662747,0.01140392932575196,9.611906425561756E-4,8.158840355463326E-4,0.008064626512350515,-0.00350837322184816,0.002049150894890772,0.005538618177524768,0.006894693011417985,0.015868748887442052,-0.00588168139802292,0.022582977078855038,0.019706192222656682,0.005874521404621191,-0.010372709672083147,-0.021379784331656992,0.0027950630174018443,-0.003723654750501737,0.0017146459922514623,-0.013305552653037012,0.008618207575636916,-0.011250835450482555,0.009163784037809819,0.012799832969903946,0.01682219933718443,0.02235952951014042,-0.019888770417310297,-0.007710836245678365,2.756676622084342E-5,-0.019939453806728125,-0.001648980687605217,0.01869110786356032,0.006715574505506083,-0.007607270032167435,0.0072334809810854495,-0.004860071134316968,0.006123990227933973,0.008535218134056777,-0.024491135496646166,0.0015322542167268693,0.00680980016477406,0.0035134420031681657,0.004641547697247006,0.015464057447388768,-0.005755106671131216,0.019730309257283807,-0.014355580089613795,0.0013133706524968147,0.013626321218907833,0.003173123754095286,-0.02980926726013422,0.0066894942719955,0.00618425608263351,0.0054799666977487504,-0.005168685569515219,-0.0021107076318003237,-0.005151224264409393,0.0014410566363949329,-0.0016461458435514942,-0.006272939674090594,-0.007867608466767706,-0.020330757251940668,-0.0019557968043955043,0.023032735101878643,0.010134795709745958,0.0011924905520572793,0.02396925794892013,-0.013029198860749602,-0.003556436626240611,0.005435181090433616,-0.023485804675146937,-0.012967508635483682]                                                       |\n",
      "|9  |Sweet Room (Sage. Família) for more than 31 days  |Sweet Room  Sage  Fam lia  for more than    days  |[sweet, room, , sage, , fam, lia, , for, more, than, , , , days]|[sweet, room, sage, fam, lia, day]                  |[-0.001913470933989932,0.013975415291497484,-0.0028900647237909043,-0.015833565965294838,0.01523927103941484,-0.017292798749015976,-0.01220363937318325,-0.021309648827203393,-5.196772835915908E-4,0.011454412577829013,0.012229131025378592,-0.006556018934740374,-0.016973460714022316,4.236093955114484E-4,0.009358387644169852,0.0029345291744296747,-0.019727202927848943,-0.012544408324174583,-0.0013361072827440996,-1.529591427242849E-4,0.007111071832089995,0.006138925886868188,0.0022193287732079625,-0.01764991518575698,0.00626641744505226,-4.558837827062234E-5,-0.007327700678918821,-0.007953532486377904,0.017799533476742603,-0.012123783846618608,-6.39938865788281E-4,-0.00962217163760215,0.0020457350025632572,0.006426268955692649,-0.001200779109543267,0.003928030685832103,0.01832108428546538,-8.780111820669845E-4,-0.00327418358453239,-0.006866306876569675,-0.0014438750028299787,-0.00154762254775657,0.0071035131986718625,0.008450493245618418,6.970998462444792E-4,-0.0026835683966055512,0.008996768134238664,-0.014074654725845903,0.004079727943462785,0.001955704540402318,-0.004469983561042075,0.0010094261136449252,0.00939525561989285,0.007398131798254326,0.002203700617731859,6.282066654724379E-4,0.012237380486719,0.012873646201721082,2.627454814501107E-4,9.331252270688613E-4,0.007198144274298102,0.002054200139051924,0.004748536724946462,0.006720176354671517,0.002977342092587302,0.013451473700115457,-0.004591363976942375,0.01820538695513581,0.013210471855321277,0.006043541177253549,-0.005640456666393826,-0.015631839400157332,0.0059298085592066245,-0.0029437410897420095,0.001887679716067699,-0.009587240832236905,0.004679184450651519,-0.007819070863964345,0.00823535996217591,0.006144346611108631,0.01216098519701821,0.01434333838309006,-0.01649943956484397,-0.007409287451082491,0.0011249677724360176,-0.013491869108596195,-8.967661330340585E-4,0.01152131789907192,0.007357207636232488,-0.005249150233188023,0.0042817825548506026,-0.005509827586744601,0.0072488614823669195,0.010001473545950526,-0.018711249916426215,0.0023678644793108106,0.003851564397336915,-8.65421049335661E-5,0.001208222626398007,0.013270424387883395,-0.00434255913811891,0.014427888721305255,-0.01301071864630406,8.088391817485292E-4,0.010566195089874478,0.0034414931821326413,-0.02295118974871002,0.002511578379198909,0.008031122289442767,0.002930261197131282,-0.005727766770481442,-0.004080927916220389,-0.005182316589828891,-2.723335904496101E-4,-0.0011361230281181633,-0.0033645215225988068,-0.008784306128897393,-0.015133889915887266,-0.0017399330875681092,0.017631425798754208,0.008536673277073229,9.409125195816159E-4,0.01932279217483786,-0.0060557330143637955,-1.8103226708869138E-4,0.002624594659816163,-0.016456228186143562,-0.008202746510505676]                                                                |\n",
      "|10 |(P1) Cozy apart, Gracia LA PEDRERA                | P   Cozy apart  Gracia LA PEDRERA                |[, p, , , cozy, apart, , gracia, la, pedrera]                   |[p, cozi, apart, gracia, la, pedrera]               |[-0.0011167870252393186,0.010832412711655099,-4.128777145524509E-4,-0.016168082094130416,0.014687750488519669,-0.014618846762459725,-0.012729154938521484,-0.023975187291701634,-0.005346249905414879,0.008053791049557427,0.012732102787898231,-0.00539493901305832,-0.01830228689747552,-0.002655768252831573,0.004286379291443154,0.0024561140259417393,-0.021594146247177072,-0.012581772015740473,-0.005273474031127989,-0.001163102865878803,0.00976917301886715,0.006064097843288133,7.096196883746112E-4,-0.01999190255689124,0.0037266784347593784,0.004557714896994487,-0.011385292911048357,-0.008249573642387986,0.01740074918294946,-0.008406091597862542,-0.0021291734689536193,-0.005338459314468006,-6.853319306780273E-4,0.007198641813981036,9.85894507418076E-4,0.003935662757915755,0.018248886490861572,0.001224325411991837,-0.006363347449223511,-0.004438065477491667,-0.007005136848116914,6.533337582368404E-4,0.011904279779021937,0.011466958928698052,-0.0026237915250627943,-0.005806959040152529,0.0076864618264759575,-0.016259999092047412,0.0030480359891953412,0.0027686299581546336,-0.006468726981741686,0.00483865401474759,0.010311849104861418,0.0018901196017395705,0.004158308239614901,0.001812353846617043,0.01171698774366329,0.011100384561965862,-7.78667318324248E-4,0.002954917154662932,0.005992849386529997,-0.002707682472343246,0.002284869997917364,0.006641897120668242,0.004958928097039461,0.013682468212209642,-0.0029766398802166805,0.017926172469742596,0.015198609849903733,0.009132170273611942,-0.008282406837679446,-0.01809333237664153,0.002101169739034958,-0.0026409575633200193,0.002316536362438152,-0.011531221044909518,0.008659488269283125,-0.00932594295591116,0.006677230451411257,0.005308511628148456,0.011825540646289785,0.017179026384837925,-0.015254435789150495,-0.006086096046298431,0.0036453066083292165,-0.016477741378669936,0.0014812603476457298,0.014856374938972294,0.005411646096035838,-0.008330905426798077,0.006272144111183782,-0.0013784553981774175,0.0016381031018681824,0.008925083607512835,-0.02126647737653305,0.001755344055709429,0.007629835929643983,0.0036648621947582187,0.005901339233484274,0.010914407670497894,-0.005789188765144596,0.016692832936920844,-0.013580596598330885,0.002810811214051985,0.008946786033144841,-0.0014105748947865018,-0.021262708013334,0.005301222360382477,0.007880628923885524,0.0040889936547804,-0.0029543353848566767,2.961644592384497E-6,-0.0034435534034855664,-0.0013196411552295708,-0.0010679106829532732,-0.0053626325582930194,-0.007715967813661942,-0.015504246034349004,-0.0028310675358322137,0.017582555262682337,0.006151284256096308,0.002050611442731072,0.021439429100913305,-0.009634905766385296,-0.002564834217385699,0.005119879822207925,-0.01671734670526348,-0.011288573460963864]                                                         |\n",
      "|11 |Vintage Deco 3Br Apt with Balcony                 |Vintage Deco  Br Apt with Balcony                 |[vintage, deco, , br, apt, with, balcony]                       |[vintag, deco, br, apt, balconi]                    |[-0.002002356009325013,0.015155464014969767,-0.002210535272024572,-0.021138900844380262,0.020812981831841174,-0.022035983379464597,-0.017952660331502557,-0.03643290689215064,-0.0076402403996326035,0.012136061256751419,0.016792663559317588,-0.008128998940810562,-0.02722099949605763,-0.001400462683523074,0.0077060655807144945,0.004948126315139235,-0.031203595083206893,-0.01766601491253823,-0.007377278222702444,-0.0010822257958352567,0.010562330356333405,0.006941198511049152,0.0016141869127750397,-0.028084749868139625,0.005716751897125505,0.0027246905257925394,-0.011421628209063783,-0.01360245286487043,0.02262728366185911,-0.015142717864364386,1.13507395144552E-4,-0.010019151447340847,6.358324666507543E-4,0.014014155557379128,-0.0012261163676157594,0.0037367537210229785,0.026599405286833647,0.001501503703184426,-0.005144808115437627,-0.0038495077518746258,-0.008016939883236774,0.004765240848064423,0.014751337748020888,0.016438875161111356,-6.411385140381754E-4,-0.006886409525759519,0.012394196935929358,-0.021544865285977724,0.003415658883750439,0.0055776667082682255,-0.009799870103597641,0.006648622872307897,0.010864462936297059,0.0035286174621433023,0.005246245814487339,0.004055945808067918,0.019000189076177777,0.015150382791762241,-0.0020580849726684392,0.005494252964854241,0.010485861031338573,-0.0029340450186282397,0.0033191340102348478,0.008131829160265626,0.0053298380807973444,0.019685332616791132,-0.006552605872275308,0.024953469703905287,0.022630266705527903,0.01155748704331927,-0.012505995965329931,-0.022358385426923633,0.0051239679683931175,-0.0013480294481269086,0.0027825208147987724,-0.018362605129368603,0.012371582153718919,-0.010112488921731711,0.009236030507599935,0.012691435357555748,0.01784757673740387,0.023429906088858844,-0.021860674815252425,-0.010599112580530347,0.0016058601438999178,-0.02105478181038052,4.606123548001051E-5,0.02128818426281214,0.008534118783427403,-0.011462648966153212,0.007416870421729982,-0.004538698773831129,0.006547161424532533,0.012899243575520815,-0.029893072484992445,0.0010481346864253283,0.008642027946189046,0.0024672316503711045,0.008358732610940934,0.016584479750599714,-0.008057509665377438,0.023489569174125792,-0.01935070832259953,0.002158722194144502,0.015535248117521406,0.004267848818562925,-0.03362752986140549,0.007680393697228283,0.009757606917992235,0.004896400240249932,-0.0055520513094961645,-0.002004418720025569,-0.003893422859255225,-8.845758624374867E-4,-0.0015015740063972771,-0.005535349890124053,-0.009337083937134593,-0.02378892577253282,-0.0034042456885799766,0.02631462776043918,0.006737512187100947,6.5159983932971954E-6,0.027022505691275,-0.01641219302546233,-9.427309036254884E-4,0.004438901494722813,-0.02531728066969663,-0.012407504292787053]                                                          |\n",
      "|12 |AMAZING BOUTIQUE APARTMENT. AN OASIS IN BARCELONA |AMAZING BOUTIQUE APARTMENT  AN OASIS IN BARCELONA |[amazing, boutique, apartment, , an, oasis, in, barcelona]      |[amaz, boutiqu, apart, oasi, barcelona]             |[-0.002007388576748781,0.01194724205415696,2.9950721655040984E-4,-0.01788484941935167,0.014545493479818107,-0.014124011324020103,-0.012129435315728188,-0.03009528913535178,-0.005258342262823135,0.009819090296514333,0.01474566673859954,-0.007206568037508987,-0.0206058893178124,-0.0026727404212579134,0.008745482726953925,0.0044663760287221525,-0.022554394695907833,-0.012892532022669913,-0.004938080487772823,-0.0035906633391277866,0.008155771438032389,0.007835833379067481,0.002936670940835029,-0.02158515038318001,0.0032655710878316314,0.0036381166195496918,-0.010955288039986045,-0.007863120513502509,0.0174926850682823,-0.011661903373897076,-0.0035060879308730364,-0.007284292113035918,-1.2946382630616427E-4,0.0107764124404639,-5.457654318888671E-4,0.0036531624849885703,0.021553918579593302,5.087543861009181E-4,-0.0074004439637064936,-0.001028149900957942,-0.008484159811632709,5.636906251311303E-4,0.012143526365980506,0.015282859501894563,-0.0019524221308529377,-0.006298774940660223,0.011830173246562482,-0.017320310033392163,0.0033851029933430255,0.004566409689141438,-0.006168503407388926,0.002879674968426116,0.009651374933309854,0.003081794804893434,0.00663079873775132,0.0016576542984694242,0.012715756933903323,0.014228369854390622,-4.460979253053665E-4,0.0035229563523898836,0.005695863964501769,-0.0015763909672386945,0.0015358826247393155,0.005948125780560077,0.005938528064871208,0.015373029513284564,-0.004546944983303547,0.020511962729506197,0.016624108608812093,0.007333281286992133,-0.0084220624063164,-0.017879365663975477,0.003888165965327062,-0.005098066432401538,0.0012920953508000822,-0.01512301922775805,0.007613653806038201,-0.012404921907000245,0.008807705109938979,0.006121631944552064,0.013167789252474905,0.019450268894433978,-0.013718128330947366,-0.006715418910607696,0.005902020493522286,-0.017217769217677415,7.566686253994703E-4,0.014242144087620546,0.006710105203092099,-0.008336672198493034,0.008265005238354207,-0.0025315563252661377,0.003653519367799163,0.0100128629244864,-0.022383916866965593,3.9495015516877174E-4,0.008578934607794509,0.003304966469295323,0.0039692193968221545,0.012855008128099144,-0.006389487278647721,0.021271491888910532,-0.015146804973483086,0.0049381252145394685,0.01173507554922253,6.352812226396054E-4,-0.024500015657395124,0.004640706419013441,0.00742705212906003,0.004776029277127236,-0.005349529720842839,0.0012022169306874276,-0.002704308368265629,-9.054076625034214E-4,-9.520804509520532E-4,-0.0067085026064887645,-0.006891643966082484,-0.019836314488202333,-0.00101781036646571,0.01911873465869576,0.004981707184379048,0.003475662088021636,0.022317209537141027,-0.012357159797102214,-0.0061695699114352465,0.003918116516433656,-0.020222522190306336,-0.011665531026665121]                                                            |\n",
      "|13 |New apt. METRO BARCELONETA! Min 32dd, max 300dd   |New apt  METRO BARCELONETA  Min   dd  max    dd   |[new, apt, , metro, barceloneta, , min, , , dd, , max, , , , dd]|[new, apt, metro, barceloneta, min, dd, max, dd]    |[-9.425646603631321E-4,0.006367481531924568,-8.367739646928385E-4,-0.008696800025063567,0.007432382364640944,-0.007328781750402413,-0.00788451053085737,-0.014255548332585022,-0.0036743626842508093,0.003784313396863581,0.006132884547696449,-0.0021121973477420397,-0.011126936034997925,-7.780700434523169E-4,0.003176112091750838,0.0021027381662861444,-0.010275430727688217,-0.006182659766636789,-0.0015994044370017946,-0.001484050357248634,0.003924965916667134,0.00425033648173212,0.0013835520076099783,-0.009531265328405425,4.395367232064018E-4,0.0014684424168081023,-0.005259249955997802,-0.0043838833953486755,0.007280666279257275,-0.005261117403279059,-0.001149530929978937,-0.003249018671340309,-5.131338548380882E-4,0.004446327293408103,-1.1915118375327438E-4,5.49219228560105E-4,0.009647819239035016,4.7922437806846574E-4,-0.0033788601722335443,-0.0016972673693089746,-0.004552154037810396,0.0014540055344696157,0.005153932026587427,0.007116040491382591,-0.0014280561299528927,-0.0031216370007314254,0.005554875868256204,-0.006882644754114153,9.628810221329331E-4,0.0017861040651041549,-0.0028409336518961936,8.707268025318626E-4,0.004398007687996142,4.428186693985481E-4,1.8848470244847704E-4,0.0011628841630226816,0.007526491826865822,0.004764430268551223,-8.397506171604618E-4,0.0028395284025464207,0.00295057275070576,-8.870910096447915E-4,0.0019852690002153395,0.0012268028449398116,0.0014883165276842192,0.00652184853424842,-9.425689786439762E-4,0.008458527940092608,0.007012372210738249,0.0027987464709440246,-0.004326177000621101,-0.008931431832024828,0.0029292567560332827,-0.0026259854494128376,-6.218443631951232E-4,-0.007558061828603968,0.0022163268440635875,-0.004371867122245021,0.0028670687242993154,0.005122874506923836,0.005929302496952005,0.007970326842041686,-0.005856968404259533,-0.0025395086922799237,0.001593523564224597,-0.00819953650716343,-3.55884141754359E-4,0.009086052086786367,0.0031091814853425603,-0.00437221838728874,0.0013155065753380768,-5.96822559600696E-4,0.0017248997173737735,0.005235056538367644,-0.01151275631855242,-8.90483963303268E-4,0.004053586824738886,0.0018708697316469625,0.0029329468234209344,0.00541001619421877,-0.003134435297397431,0.008990439971967135,-0.007097447742125951,-6.32403971394524E-4,0.006522936630062759,0.0014749229740118608,-0.011551887495443225,0.002061685903754551,0.003361863666214049,0.0020368749101180583,-0.0012248431085026823,-6.66179257677868E-5,1.840599434217438E-4,3.0561060702893883E-4,0.0017690833774395287,-0.0029276422974362504,-0.003039279705262743,-0.00873221988149453,-0.0015421223361045122,0.010569329395366367,0.004356103978352621,-7.307371488423087E-4,0.00979063868544472,-0.006142061945865862,-8.782244740359602E-4,0.002852179793990217,-0.007330119697144255,-0.005547096763621084]                                   |\n",
      "|14 |♛Fabulous Penthouse w/terrace-Sagrada Familia view| Fabulous Penthouse w terrace Sagrada Familia view|[, fabulous, penthouse, w, terrace, sagrada, familia, view]     |[fabul, penthous, w, terrac, sagrada, familia, view]|[3.911698503153664E-4,-0.00284053964008178,-0.004271106640641976,4.4667488795572093E-4,2.5154493882187774E-4,-0.0014930216795099632,0.0014115543869723166,0.003762337578726666,0.0028240386745892465,4.4899786423359595E-4,-1.3666017912328243E-4,0.0011615184651288602,0.002843904392128544,-0.0015134942784373248,0.003282088819625122,-0.0015011632349342108,7.353895375022797E-4,0.0026960199632282767,0.002385674720114496,-2.0852958134907695E-4,-3.031499051888074E-4,-0.0035043475218117237,-0.003429910847834045,0.0012781296557347688,-3.76467958890966E-4,-0.0013330880818622451,0.0036534010848429583,-1.5783150281224932E-4,-0.002272312612538891,7.467251271009445E-5,0.003850583173126714,2.3656777505363735E-4,9.376085197020853E-4,-0.001910154867800884,0.0010966917491584483,-2.2159302274563482E-4,-0.002985075215942093,-3.965914849166958E-4,0.001900629701724808,-2.9742748509826403E-4,0.005334631367337092,0.0017493079877957435,-0.0034514371239181075,-0.003690779874367373,0.0019659144288328074,0.0013544555362646601,-0.0026601092790120412,0.0016806013799006384,0.0030625384034855025,-9.218068236285554E-4,0.001875175312826676,-5.956878469857786E-4,-0.001784959146919261,0.0022305850205676897,-0.002697434218134731,4.234232307810868E-4,-0.0013639007561973163,-0.002367724531463214,-3.645607253669628E-4,-0.0012300755728834442,-8.579045284672507E-4,0.0033677903868790183,6.884109711141458E-4,-0.003450019667590303,-0.0020797349446054015,-9.299869541012282E-4,-0.002278196334373206,-0.0026110427071606474,-0.0022614265659025735,-0.001654145324469677,0.002400423355019094,0.001473809652712329,5.907548516656139E-4,0.0017326316114382018,0.0023105021765721695,0.002340563473158649,7.996100633006011E-4,0.0016274385728008512,-0.0036378151936722653,-0.002077622983571408,-7.386900418038879E-4,-0.006333068212760346,-0.002871544216759503,-0.0019424949756025203,-0.0022471061508570396,0.003232996112533978,2.419496886432171E-4,-6.651919601219041E-4,-0.00130621696423207,-0.0012940594543968992,-0.001864470649577145,-1.525314790861947E-4,-8.9780252892524E-4,0.0012571985342739414,1.6885367222130299E-4,5.8832614740822464E-5,-0.003225236424311463,-0.002712449208567185,0.0013123641588858195,5.983204880197133E-4,6.298700942092442E-4,-0.003355207628503974,0.0021672918893662946,-7.158432105955268E-4,8.283506446917141E-4,8.077202697417565E-4,0.0019356901092188697,-0.0024746238777879626,-0.0031851621461100876,-0.001162913623764845,0.0011556365227858934,-0.002694927538479013,0.001864065249849643,0.0011750148675803626,-1.556839602666774E-4,2.6545385065089377E-4,-1.1292622990107962E-5,9.38930083066225E-4,-3.2244945344116004E-4,-8.842384475948555E-4,0.0017770625916974884,-9.327820002259353E-4,-0.0031367408311260597,0.00196098219644877,0.003884721715751636,-0.0015417125167524707,0.002235905117621379,0.002323547827212938]   |\n",
      "|15 |Sagrada Familia charming                          |Sagrada Familia charming                          |[sagrada, familia, charming]                                    |[sagrada, familia, charm]                           |[0.0046101638581603765,-0.009397677145898342,-0.0040819288697093725,0.008540259053309757,-0.004101262078620493,0.006214388646185398,0.010620607373615105,0.02093317297597726,0.006934870965778828,-0.004174414401253064,-0.007832005542392531,0.0043331345077604055,0.014177590608596802,-8.953580011924107E-6,-5.701527697965503E-4,-0.0034662660909816623,0.01027861547966798,0.010422983827690283,0.007184519898146391,-0.001723268525286888,-0.0036706212752809124,-0.007206401166816552,-0.00648657310133179,0.01136994579186042,-0.0010217884555459023,-0.003970141212145487,0.012367037901033957,0.004134139511734247,-0.0142647367514049,0.004102662826577822,0.008352714978779355,0.004698992008343339,2.4432071950286627E-4,-0.007626432770242293,0.002295694740799566,-8.331419279177983E-4,-0.016157831686238446,0.001631900512923797,0.0070320964441634715,-5.732462741434574E-4,0.01011509463811914,3.8052909076213837E-4,-0.010121740497803936,-0.01229381375014782,0.0018587926557908454,0.004366845979044834,-0.010977876838296652,0.009280248855551083,0.003582010278478265,-0.005523862161984046,0.0077439748371640835,-0.0035059987761390703,-0.007333533683170875,-0.0028397053635368743,-0.008069339208304882,5.887253597999612E-4,-0.00949365032526354,-0.01010803614432613,0.0011484521673992276,-0.007350678904913366,-0.0046276685122090076,0.004122004611417651,-6.766205963989098E-5,-0.008612381507797787,-0.0034968073790272074,-0.011673766188323498,-1.9936036551371217E-4,-0.016677905494968094,-0.014868532889522612,-0.006919598071059832,0.00627255750199159,0.010368403512984514,-0.004079894434350232,0.002834552821392814,0.0030824801651760936,0.008496681538720924,-0.005047376112391551,0.006038119550794363,-0.009886370816578467,-0.00410100274408857,-0.00761908587689201,-0.016488657643397648,0.004217902198433876,0.004785245129217704,-0.0049639749389219405,0.012988161916534105,-3.5652557077507174E-4,-0.007552006902794043,-0.002696561471869548,0.005619475928445657,-0.0035618691084285574,0.0014960829478998978,-0.006706319050863385,-0.005607645881051818,0.013813730639715988,5.469151462117831E-4,-0.00917845902343591,-0.006669920869171619,-8.298680962373812E-4,-0.005469578007857004,0.005103447649162263,-0.016144973536332447,0.010624959599226713,0.0012497465165021517,-0.0038489202658335366,0.0013448412840565045,0.01382400592168172,-0.005567985276381174,-0.011941673311715324,-0.005421327737470468,0.004911420711626609,-3.567090801273783E-4,0.001529449208950003,-8.507375605404377E-5,-0.0018042534939013422,0.004907685564830899,0.0026400219066999853,0.011646569085617859,6.136665858017901E-4,-0.011647069205840428,-0.00289081537630409,-0.0029343404409398013,-0.019282076197365917,0.009710511347899834,0.006353149190545082,-0.004484410708149274,0.011123884158829847,0.007691729037712017]                                       |\n",
      "|16 |bbarcelonapartment: acogedor, tranquilo con balcón|bbarcelonapartment  acogedor  tranquilo con balc n|[bbarcelonapartment, , acogedor, , tranquilo, con, balc, n]     |[bbarcelonapart, acogedor, tranquilo, con, balc, n] |[-0.008153843072553475,-0.012585650469797352,8.675154822412878E-4,3.071579461296399E-5,-0.018023195060474485,0.0038378400276997127,-0.008437632389056185,-0.0053953186531240736,-0.004616601683665067,-0.007512235063283393,0.001837146128915871,0.004390727068918446,-0.0014081515449409683,-0.0023366762325167656,0.0058436376226988305,0.01056674268329516,0.004653887338160226,-0.0011994585771996449,-0.003838118793889104,-0.0037353963174003484,-4.6696248076235253E-4,0.006356281053740531,0.0018079670456548531,-0.003839728577683369,-0.0037976939929649234,0.003469346595617632,-0.0036710346854912737,0.008791356425111491,-0.007883350287253657,7.246271125040948E-4,-0.013376579561736435,0.0031006237453160184,-0.0074262053922211635,-0.0032460323903554427,-0.0011561952026871343,1.9028414196024338E-4,0.005466949328062279,-0.004748411544521028,-0.00730573816690594,0.008708464272785932,-0.009571002641071875,0.0031551543797831982,-0.004926514976735537,0.005431920944829471,-0.0028728745140445726,-0.010077193049558748,0.01247055729618296,0.00753972249610039,-0.006083640890816847,0.0023026993925062316,-0.00471204719118153,-0.006041894744460781,-5.776681064162403E-4,-0.014873917845155422,0.009367894643219188,-9.356043689573804E-4,-0.003165452612544565,-7.64460681239143E-4,-0.0025519686363016563,0.004767956697226812,-0.006517529768946891,-0.005347627777761469,-0.00504009807385349,-7.490676653105766E-4,0.01410642227953455,0.00270620099036023,-0.0012421932575913766,-0.0019425496963473656,0.005290665624973674,-0.010258150675023595,-0.002725929521451083,5.5516967161869E-4,0.003472969404053098,-0.009452985832467675,-0.0030476558798303204,-0.009007061235024594,-8.326688985107467E-4,-0.005441655123528713,0.0031985259750702726,-0.0029630715725943446,-0.0069376880225415025,0.010350263483511904,0.008609293048114825,-0.010794601087885287,0.0060082216902325545,-0.0019722703533867993,0.006797749864441963,5.000566501015176E-4,-0.0011720228164146342,-0.0032406256068497896,5.976886798938115E-4,0.008543228905182332,-0.0048621972964610904,0.003226250166335376,0.0027216417947784066,-0.0062622833356726915,0.009479649054507414,0.008232692411790291,-0.002687112990921984,-0.011893002073823784,-0.006351083458866924,0.011002262190838033,-0.0019783200356566035,0.0027537357455003075,9.415242626952628E-4,-0.0066281013035525875,0.0038231928095531957,-0.004760988667840138,0.0018527834715011218,0.006947753213656445,-0.004242179615175701,0.0081623753067106,0.004124006314668804,0.004394965595565736,0.004257504740962759,-0.0072840503707993776,0.013839646698518965,-4.809477541130036E-4,0.0023027624168510856,-0.005963840589780981,-0.00811250603874214,-0.00428388537451004,0.010444349919756252,-0.006790881966783975,-0.007914071436971426,0.004982868398656137,0.0037586700248842435,-0.007146996135512987]                      |\n",
      "|17 |Next to Barcelona Fair and Magic Fountain         |Next to Barcelona Fair and Magic Fountain         |[next, to, barcelona, fair, and, magic, fountain]               |[next, barcelona, fair, magic, fountain]            |[-0.0015969144878908992,0.0028565161126607565,0.002812728052958846,-0.006290938932215795,0.0047029801178723575,-0.0059192008571699265,-0.005998264654772357,-0.010158452903851867,-0.0029600419453345243,7.305986480787397E-4,0.005727778095752001,-0.001796713925432414,-0.0075300220531062225,-0.001619003005907871,0.0010997478384524584,0.0021625655703246594,-0.006558625135221519,-0.0058570778986904775,-0.0017069751862436534,-0.0013554373290389776,0.003138729510828853,0.003760834864806384,0.0023005078022833914,-0.008839653175527928,-0.0010171441244892776,5.216512596234679E-4,-0.004290056833997369,-0.002091161024873145,0.006647568952757865,-0.0034650643123313785,-0.004975017701508478,-5.772666074335576E-4,-0.002156366966664791,0.004517859045881778,-0.0010575247812084855,0.0024622322292998434,0.008003727346658707,0.0018743234453722835,-0.00378944945987314,0.003257772885262966,-0.0063358195126056675,4.706396954134107E-4,0.005155335669405759,0.008832625695504248,-0.0012337651802226902,-0.00164752381388098,0.006049177760723979,-0.006351660174550489,-2.043819520622492E-4,0.0022992971120402218,-0.003959646751172841,0.0010917964158579708,0.002884896192699671,-0.0016334060579538347,0.0036344562191516164,0.003037069260608405,0.005783638264983893,0.003784867626382038,-7.191666867583991E-4,0.0022315244656056165,3.0763658578507607E-4,-9.734587045386434E-4,-0.003007693716790527,0.002324566792231053,0.00269532697275281,0.006420488032745197,-0.0014918631408363582,0.007420096249552444,0.007750539880362339,0.0026502507156692446,-0.006301238085143268,-0.006190131878247485,0.0024269064189866188,-0.0020082586444914344,-3.2985813159029935E-4,-0.006690206890925765,0.0017560887616127731,-0.007332943240180612,0.0036825174000114204,0.002132859587436542,0.00581607430940494,0.00923894545994699,-0.004889836814254523,-9.949016850441695E-4,0.004116397022153251,-0.007281137457539444,3.7973962607793513E-4,0.005816587526351214,0.0024001854850212116,-0.004019621177576482,0.0013495067127223593,2.8495548758655787E-4,-2.8816179255954923E-4,0.005429049202939496,-0.009008666090085172,-0.002416779613122344,0.0056318691349588335,0.001903595862677321,0.0012074227444827557,0.0045285555999726055,-0.00274441153742373,0.009235805971547962,-0.004281729005742818,1.1970748892053963E-5,0.0020650389837101103,-3.8092758040875196E-4,-0.011265695188194515,0.0011519583873450757,0.0026621366618201137,0.0032929442008025945,-0.002018737548496574,0.003504537744447589,0.001394759223330766,0.001173405209556222,-7.151592406444252E-4,-0.0026841606188099834,-0.0012907556607387961,-0.008862195094116032,0.00111886864178814,0.006008012511301786,-5.861672572791577E-4,0.0024229169939644635,0.009279584605246782,-0.008385686809197069,-0.0032749409263487907,0.0011313488008454443,-0.00813866041135043,-0.005254795751534403]                |\n",
      "|18 |Bruc Urquinaona Quiet and Central                 |Bruc Urquinaona Quiet and Central                 |[bruc, urquinaona, quiet, and, central]                         |[bruc, urquinaona, quiet, central]                  |[-0.0010517588234506547,0.003802786231972277,-0.001466959685785696,-0.005856025793036679,0.0055502771865576506,-0.00494036715826951,-0.004804249655535386,-0.007436732004862279,-0.0015282902168110013,0.0019548665713955415,0.005285652005113661,4.576334613375366E-4,-0.006165137863717973,-0.0012547587975859642,0.0031248885934473947,1.170458272099495E-4,-0.005397784480010159,-0.00421107915462926,-0.0018426384194754064,5.622177486657165E-4,0.0014414445613510907,0.003919400449376553,0.002025697387580294,-0.0070590670220553875,0.0013814435806125402,0.0011176522239111364,-0.002796324319206178,-0.0011983706208411604,0.0040480486350134015,-0.004671244008932263,-0.0012572824343806133,-0.0022461125045083463,-0.0012394303921610117,0.002527341843233444,-0.0029234010144136846,3.352416242705658E-4,0.005902621072891634,-5.9718877309933305E-6,-0.0018922840881714365,1.5764226554892957E-4,-0.0030837165541015565,8.062217966653407E-4,0.004640772880520672,0.0032374225702369586,0.0020865321275778115,-0.002260385299450718,0.0026251394010614604,-0.003990260040154681,0.002012671757256612,0.0014623715687775984,-0.0020115221850574017,1.4367680705618113E-4,0.003145995520753786,-0.0020127069947193377,0.0013236261729616672,0.0017660807134234346,0.004534631851129234,0.0024718799686525017,6.345815781969577E-4,5.801248189527541E-4,0.0012395655212458223,-7.304899918381125E-4,0.0015271004231180996,0.0031511684610450175,0.0029494022601284087,0.004133500740863383,-0.0010159069206565619,0.0044492816959973425,0.004617535538272932,0.0012712762109003961,-0.003258916753111407,-0.004935731500154361,0.001505513850133866,-0.0014137728940113448,0.0015652960464649368,-0.0046571523635066114,0.0034600109793245792,-0.0038038792699808255,1.4845095574855804E-4,7.04709833371453E-4,0.003909654878953006,0.003934915002901107,-0.003340147581184283,-0.0036373969678606954,-1.5823353896848857E-4,-0.004270685123628937,-0.001560989476274699,0.005032349581597373,0.0011711757106240839,-0.0035317865731485654,-5.905737343709916E-4,-0.0011369999847374856,0.002782679161100532,0.0012384883302729577,-0.004202615047688596,-0.0010359836160205305,0.0029408899281406775,0.001214527350384742,0.002263793721795082,0.0027523902826942503,-0.001978208587388508,0.005890763470233651,-0.004853875534536201,0.001698967782431282,0.0021071689552627504,-0.0011607515916693956,-0.0081292514805682,0.0012550624524010345,0.0032794050057418644,0.0025686428271001205,-9.946364734787494E-4,0.0013723201700486243,-1.9303473527543247E-4,-0.0011184070899616927,0.0026053832261823118,-0.004795535933226347,-0.002688170410692692,-0.004151116736466065,1.7530214972794056E-4,0.005483910441398621,-6.48362678475678E-4,-4.543102841125801E-4,0.008527506710379384,-0.0020317138405516744,-4.2670307448133826E-4,0.002739470401138533,-0.005434625461930409,-0.0031436968420166522]|\n",
      "|19 |Ciudadela Born WALK EVERYWHERE!!                  |Ciudadela Born WALK EVERYWHERE                    |[ciudadela, born, walk, everywhere]                             |[ciudadela, born, walk, everywher]                  |[4.7597381126252003E-4,0.002926126340753399,-0.0010189851745963097,-0.0029313827981241047,0.002672388232895173,-0.004046122721774736,-0.004696004616562277,-0.0050891991559183225,-0.0010335259430576116,4.113823815714568E-4,0.001404907088726759,-8.58017989230575E-4,-0.0034347272739978507,8.229828454204835E-4,0.0014291775587480515,0.001267330691916868,-0.0055663294333498925,-0.003570141503587365,-0.001802295482775662,-0.002853423706255853,0.002280800632433966,0.00118471455789404,-7.307515479624271E-4,-0.0055555574799655005,-5.017026851419359E-4,0.0016610020538792014,-0.001042755102389492,-8.560683636460453E-4,0.0026797872142196866,-0.0031474331826757407,-8.287551172543317E-4,-3.204218519385904E-4,-5.798093625344336E-4,0.003304711739474442,-5.595518014160916E-4,6.279920344240963E-4,0.0052943382688681595,2.452626940794289E-4,-0.0012576510780490935,-8.315334707731381E-4,-8.92435316927731E-4,-1.1973013170063496E-4,0.0034222980029881,0.003620113857323304,7.440602639690042E-4,-7.38910268410109E-4,7.860866317059845E-4,-0.004107268861844204,0.0029948599985800683,0.001500254227721598,-6.542479386553168E-4,0.0021269834287522826,0.001477198788052192,0.0032498989312443882,-2.3619772400707006E-4,1.0792734974529594E-4,0.0022991421865299344,0.0038405888772103935,-7.35744193661958E-4,8.466642902931198E-4,3.7304521720216144E-4,2.3029037220112514E-4,0.001369789388263598,0.002391248897765763,3.3006639569066465E-5,0.002713635856707697,1.1820461077149957E-4,0.004289497708668932,0.005034338122641202,1.7721728363540024E-4,-0.0012905942712677643,-0.0033520316355861723,0.0016911924467422068,-0.0017213507599080913,-0.0012689717987086624,-0.0033316964108962566,0.002186059413361363,-0.002332807664060965,0.0017914925701916218,0.002632369287312031,0.0014423711400013417,0.005843456543516368,-0.0038497505738632753,-0.0013559882063418627,0.0027294056708342396,-0.003397897002287209,-3.2044347608461976E-4,0.00341672823560657,0.001730599469738081,-8.00536887254566E-4,6.228256243048236E-4,-0.0020707080111606047,8.449296583421528E-4,8.553187071811408E-4,-0.007947533333208412,0.0018830728076864034,-2.617717254906893E-4,0.0011068069434259087,3.229435533285141E-4,0.0011286943044979125,-2.289034891873598E-4,0.00398650486022234,-0.0042043548410219955,0.0015040987636893988,0.003676972264656797,0.0024030146887525916,-0.004186656966339797,0.0029646265757037327,0.003068744408665225,0.0011006634795194259,-7.287132903002203E-4,-0.0011660599921015091,-4.4332706602290273E-4,-4.221745330141857E-4,-3.8260777364484966E-4,-6.987870146986097E-4,-0.0015166245411819546,-0.004701163212303072,-0.0011619564902503043,0.0040572620200691745,1.485626635258086E-4,-8.509520412189886E-4,0.004870752265560441,-0.0023223822354339063,-0.0014058739761821926,9.230055438820273E-4,-0.0023687510620220564,-0.002375893003772944]           |\n",
      "+---+--------------------------------------------------+--------------------------------------------------+----------------------------------------------------------------+----------------------------------------------------+-------------------------------------------------------------------------------------------------------------------------------------------------------------------------------------------------------------------------------------------------------------------------------------------------------------------------------------------------------------------------------------------------------------------------------------------------------------------------------------------------------------------------------------------------------------------------------------------------------------------------------------------------------------------------------------------------------------------------------------------------------------------------------------------------------------------------------------------------------------------------------------------------------------------------------------------------------------------------------------------------------------------------------------------------------------------------------------------------------------------------------------------------------------------------------------------------------------------------------------------------------------------------------------------------------------------------------------------------------------------------------------------------------------------------------------------------------------------------------------------------------------------------------------------------------------------------------------------------------------------------------------------------------------------------------------------------------------------------------------------------------------------------------------------------------------------------------------------------------------------------------------------------------------------------------------------------------------------------------------------------------------------------------------------------------------------------------------------------------------------------------------------------------------------------------------------------------------------------------------------------------------------------------------------------------------------------------------------------------------------------------------------------------------------------------------------------------------------------------------------------------------------------------------------------------------------------------------------------------------------------------------------------------------------------------------------------------------------------------------------------------------------------------------------------------------------------------------------------------------------------------------------------------------------------+\n",
      "only showing top 20 rows\n",
      "\n"
     ]
    },
    {
     "name": "stderr",
     "output_type": "stream",
     "text": [
      "                                                                                \r"
     ]
    }
   ],
   "source": [
    "listings_df = add_features(listings_df, \"name\", \"features\", stemmer='nltk')\n",
    "listings_df.show(truncate=False)"
   ]
  },
  {
   "cell_type": "code",
   "execution_count": 17,
   "metadata": {},
   "outputs": [
    {
     "name": "stderr",
     "output_type": "stream",
     "text": [
      "24/11/07 20:29:39 WARN SparkStringUtils: Truncated the string representation of a plan since it was too large. This behavior can be adjusted by setting 'spark.sql.debug.maxToStringFields'.\n",
      "24/11/07 20:30:37 WARN DAGScheduler: Broadcasting large task binary with size 1188.6 KiB\n",
      "                                                                                \r"
     ]
    },
    {
     "name": "stdout",
     "output_type": "stream",
     "text": [
      "+---+--------------------+--------------------+--------------------+--------------------+--------------------+--------------------+\n",
      "| id|                name|          name_clean|               words|        stemmedWords|            features| gt_similar_listings|\n",
      "+---+--------------------+--------------------+--------------------+--------------------+--------------------+--------------------+\n",
      "|  0|Stylish Top Floor...|Stylish Top Floor...|[stylish, top, fl...|[stylish, top, fl...|[-0.0011480254179...|[220, 4, 51, 836,...|\n",
      "|  1|Private terrace i...|Private terrace i...|[private, terrace...|[privat, terrac, ...|[-0.0024280451762...|[878, 561, 857, 2...|\n",
      "|  2|         Modern Flat|         Modern Flat|      [modern, flat]|      [modern, flat]|[-0.0022281687706...|[838, 698, 531, 7...|\n",
      "|  3|Cosy apartment ne...|Cosy apartment ne...|[cosy, apartment,...|[cosi, apart, nea...|[-0.0016179389494...|[4, 192, 856, 682...|\n",
      "|  4|Spacious apartmen...|Spacious apartmen...|[spacious, apartm...|[spaciou, apart, ...|[-0.0025486613085...|[3, 192, 10, 682,...|\n",
      "|  5|Paseo de Gracia -...|Paseo de Gracia  ...|[paseo, de, graci...|[paseo, de, graci...|[0.00313319335691...|[104, 493, 151, 2...|\n",
      "|  6|COMFORTABLE AND V...|COMFORTABLE AND V...|[comfortable, and...|[comfort, spaciou...|[4.87301653871933...|[878, 642, 1, 27,...|\n",
      "|  7|Cozy apartment  p...|Cozy apartment  p...|[cozy, apartment,...|[cozi, apart, per...|[-0.0024870324026...|[334, 519, 649, 3...|\n",
      "|  8|Double bed- Rambl...|Double bed  Rambl...|[double, bed, , r...|[doubl, bed, ramb...|[-6.9790111592737...|[211, 561, 758, 6...|\n",
      "|  9|Sweet Room (Sage....|Sweet Room  Sage ...|[sweet, room, , s...|[sweet, room, sag...|[-0.0019134709339...|[593, 480, 727, 7...|\n",
      "| 10|(P1) Cozy apart, ...| P   Cozy apart  ...|[, p, , , cozy, a...|[p, cozi, apart, ...|[-0.0011167870252...|[4, 3, 961, 334, ...|\n",
      "| 11|Vintage Deco 3Br ...|Vintage Deco  Br ...|[vintage, deco, ,...|[vintag, deco, br...|[-0.0020023560093...|[27, 642, 726, 63...|\n",
      "| 12|AMAZING BOUTIQUE ...|AMAZING BOUTIQUE ...|[amazing, boutiqu...|[amaz, boutiqu, a...|[-0.0020073885767...|[859, 333, 550, 1...|\n",
      "| 13|New apt. METRO BA...|New apt  METRO BA...|[new, apt, , metr...|[new, apt, metro,...|[-9.4256466036313...|[920, 555, 537, 5...|\n",
      "| 14|♛Fabulous Penthou...| Fabulous Penthou...|[, fabulous, pent...|[fabul, penthous,...|[3.91169850315366...|[47, 725, 614, 61...|\n",
      "| 15|Sagrada Familia c...|Sagrada Familia c...|[sagrada, familia...|[sagrada, familia...|[0.00461016385816...|[247, 63, 368, 17...|\n",
      "| 16|bbarcelonapartmen...|bbarcelonapartmen...|[bbarcelonapartme...|[bbarcelonapart, ...|[-0.0081538430725...|[656, 634, 169, 2...|\n",
      "| 17|Next to Barcelona...|Next to Barcelona...|[next, to, barcel...|[next, barcelona,...|[-0.0015969144878...|[978, 527, 148, 1...|\n",
      "| 18|Bruc Urquinaona Q...|Bruc Urquinaona Q...|[bruc, urquinaona...|[bruc, urquinaona...|[-0.0010517588234...|[488, 506, 615, 3...|\n",
      "| 19|Ciudadela Born WA...|Ciudadela Born WA...|[ciudadela, born,...|[ciudadela, born,...|[4.75973811262520...|[622, 531, 519, 7...|\n",
      "+---+--------------------+--------------------+--------------------+--------------------+--------------------+--------------------+\n",
      "only showing top 20 rows\n",
      "\n"
     ]
    }
   ],
   "source": [
    "listings_df = add_gt_similar(listings_df, id_col='id', features_col='features', gt_similar_col='gt_similar_listings')\n",
    "listings_df.show(truncate=True)"
   ]
  },
  {
   "cell_type": "code",
   "execution_count": 18,
   "metadata": {},
   "outputs": [],
   "source": [
    "possibleHashTablesCount = [10, 20,] # 50, 100, 200]\n",
    "possibleDistanceThresholds = [0.3, 0.5,] # 0.7, 0.9, 0.95, 0.97, 0.99]\n",
    "\n",
    "param_grid = []\n",
    "for hashTablesCount in possibleHashTablesCount:\n",
    "    for distanceThreshold in possibleDistanceThresholds:\n",
    "        param_grid.append({'numHashTables': hashTablesCount, 'distanceThreshold': distanceThreshold})"
   ]
  },
  {
   "cell_type": "code",
   "execution_count": 19,
   "metadata": {},
   "outputs": [
    {
     "name": "stderr",
     "output_type": "stream",
     "text": [
      "  0%|          | 0/4 [00:00<?, ?it/s]"
     ]
    },
    {
     "name": "stderr",
     "output_type": "stream",
     "text": [
      "24/11/07 20:31:44 WARN DAGScheduler: Broadcasting large task binary with size 1188.6 KiB\n",
      "24/11/07 20:31:46 WARN DAGScheduler: Broadcasting large task binary with size 1327.4 KiB\n",
      "24/11/07 20:31:47 WARN DAGScheduler: Broadcasting large task binary with size 1520.1 KiB\n",
      "24/11/07 20:34:05 WARN DAGScheduler: Broadcasting large task binary with size 1360.0 KiB\n",
      "24/11/07 20:34:16 WARN DAGScheduler: Broadcasting large task binary with size 1359.6 KiB\n",
      "24/11/07 20:34:27 WARN DAGScheduler: Broadcasting large task binary with size 1335.3 KiB\n",
      "24/11/07 20:34:29 WARN DAGScheduler: Broadcasting large task binary with size 1342.0 KiB\n",
      "24/11/07 20:34:29 WARN DAGScheduler: Broadcasting large task binary with size 1340.3 KiB\n",
      "24/11/07 20:34:30 WARN DAGScheduler: Broadcasting large task binary with size 1372.1 KiB\n",
      "24/11/07 20:35:23 WARN DAGScheduler: Broadcasting large task binary with size 1188.6 KiB\n",
      "24/11/07 20:35:25 WARN DAGScheduler: Broadcasting large task binary with size 1327.4 KiB\n",
      "24/11/07 20:35:26 WARN DAGScheduler: Broadcasting large task binary with size 1520.1 KiB\n",
      "24/11/07 20:37:21 WARN DAGScheduler: Broadcasting large task binary with size 1360.0 KiB\n",
      "24/11/07 20:37:33 WARN DAGScheduler: Broadcasting large task binary with size 1359.6 KiB\n",
      "24/11/07 20:37:43 WARN DAGScheduler: Broadcasting large task binary with size 1335.3 KiB\n",
      "24/11/07 20:37:44 WARN DAGScheduler: Broadcasting large task binary with size 1342.0 KiB\n",
      "24/11/07 20:37:45 WARN DAGScheduler: Broadcasting large task binary with size 1340.3 KiB\n",
      "24/11/07 20:37:45 WARN DAGScheduler: Broadcasting large task binary with size 1372.6 KiB\n",
      "24/11/07 20:38:45 WARN DAGScheduler: Broadcasting large task binary with size 1188.6 KiB\n",
      "24/11/07 20:38:47 WARN DAGScheduler: Broadcasting large task binary with size 1327.4 KiB\n",
      "24/11/07 20:38:47 WARN DAGScheduler: Broadcasting large task binary with size 1520.1 KiB\n",
      "24/11/07 20:41:18 WARN DAGScheduler: Broadcasting large task binary with size 1360.1 KiB\n",
      "24/11/07 20:41:31 WARN DAGScheduler: Broadcasting large task binary with size 1359.6 KiB\n",
      "24/11/07 20:41:42 WARN DAGScheduler: Broadcasting large task binary with size 1335.3 KiB\n",
      "24/11/07 20:41:44 WARN DAGScheduler: Broadcasting large task binary with size 1342.0 KiB\n",
      "24/11/07 20:41:45 WARN DAGScheduler: Broadcasting large task binary with size 1340.3 KiB\n",
      "24/11/07 20:41:45 WARN DAGScheduler: Broadcasting large task binary with size 1372.1 KiB\n",
      "24/11/07 20:42:41 WARN DAGScheduler: Broadcasting large task binary with size 1188.6 KiB\n",
      "24/11/07 20:42:43 WARN DAGScheduler: Broadcasting large task binary with size 1327.4 KiB\n",
      "24/11/07 20:42:43 WARN DAGScheduler: Broadcasting large task binary with size 1520.1 KiB\n",
      "24/11/07 20:44:44 WARN DAGScheduler: Broadcasting large task binary with size 1360.1 KiB\n",
      "24/11/07 20:44:58 WARN DAGScheduler: Broadcasting large task binary with size 1359.6 KiB\n",
      "24/11/07 20:45:11 WARN DAGScheduler: Broadcasting large task binary with size 1335.3 KiB\n",
      "24/11/07 20:45:13 WARN DAGScheduler: Broadcasting large task binary with size 1342.0 KiB\n",
      "24/11/07 20:45:13 WARN DAGScheduler: Broadcasting large task binary with size 1340.3 KiB\n",
      "24/11/07 20:45:14 WARN DAGScheduler: Broadcasting large task binary with size 1372.6 KiB\n",
      "24/11/07 20:46:12 WARN DAGScheduler: Broadcasting large task binary with size 1188.6 KiB\n",
      "24/11/07 20:46:14 WARN DAGScheduler: Broadcasting large task binary with size 1327.5 KiB\n",
      "24/11/07 20:46:15 WARN DAGScheduler: Broadcasting large task binary with size 1520.3 KiB\n",
      "24/11/07 20:50:32 WARN DAGScheduler: Broadcasting large task binary with size 1360.2 KiB\n",
      "24/11/07 20:50:41 WARN DAGScheduler: Broadcasting large task binary with size 1359.8 KiB\n",
      "24/11/07 20:50:50 WARN DAGScheduler: Broadcasting large task binary with size 1335.4 KiB\n",
      "24/11/07 20:50:51 WARN DAGScheduler: Broadcasting large task binary with size 1342.2 KiB\n",
      "24/11/07 20:50:51 WARN DAGScheduler: Broadcasting large task binary with size 1340.5 KiB\n",
      "24/11/07 20:50:51 WARN DAGScheduler: Broadcasting large task binary with size 1372.2 KiB\n",
      "24/11/07 20:51:45 WARN DAGScheduler: Broadcasting large task binary with size 1188.6 KiB\n",
      "24/11/07 20:51:46 WARN DAGScheduler: Broadcasting large task binary with size 1327.5 KiB\n",
      "24/11/07 20:51:46 WARN DAGScheduler: Broadcasting large task binary with size 1520.3 KiB\n",
      "24/11/07 20:55:46 WARN DAGScheduler: Broadcasting large task binary with size 1360.2 KiB\n",
      "24/11/07 20:55:54 WARN DAGScheduler: Broadcasting large task binary with size 1359.8 KiB\n",
      "24/11/07 20:56:03 WARN DAGScheduler: Broadcasting large task binary with size 1335.4 KiB\n",
      "24/11/07 20:56:04 WARN DAGScheduler: Broadcasting large task binary with size 1342.2 KiB\n",
      "24/11/07 20:56:04 WARN DAGScheduler: Broadcasting large task binary with size 1340.5 KiB\n",
      "24/11/07 20:56:04 WARN DAGScheduler: Broadcasting large task binary with size 1372.8 KiB\n",
      "24/11/07 20:56:55 WARN DAGScheduler: Broadcasting large task binary with size 1188.6 KiB\n",
      "24/11/07 20:56:57 WARN DAGScheduler: Broadcasting large task binary with size 1327.5 KiB\n",
      "24/11/07 20:56:58 WARN DAGScheduler: Broadcasting large task binary with size 1520.3 KiB\n",
      "24/11/07 21:01:15 WARN DAGScheduler: Broadcasting large task binary with size 1360.2 KiB\n",
      "24/11/07 21:01:25 WARN DAGScheduler: Broadcasting large task binary with size 1359.8 KiB\n",
      "24/11/07 21:01:34 WARN DAGScheduler: Broadcasting large task binary with size 1335.4 KiB\n",
      "24/11/07 21:01:35 WARN DAGScheduler: Broadcasting large task binary with size 1342.2 KiB\n",
      "24/11/07 21:01:35 WARN DAGScheduler: Broadcasting large task binary with size 1340.5 KiB\n",
      "24/11/07 21:01:35 WARN DAGScheduler: Broadcasting large task binary with size 1372.2 KiB\n",
      "24/11/07 21:02:39 WARN DAGScheduler: Broadcasting large task binary with size 1188.6 KiB\n",
      "24/11/07 21:02:40 WARN DAGScheduler: Broadcasting large task binary with size 1327.5 KiB\n",
      "24/11/07 21:02:41 WARN DAGScheduler: Broadcasting large task binary with size 1520.3 KiB\n",
      "24/11/07 21:06:48 WARN DAGScheduler: Broadcasting large task binary with size 1360.2 KiB\n",
      "24/11/07 21:06:59 WARN DAGScheduler: Broadcasting large task binary with size 1359.8 KiB\n",
      "24/11/07 21:07:09 WARN DAGScheduler: Broadcasting large task binary with size 1335.4 KiB\n",
      "24/11/07 21:07:09 WARN DAGScheduler: Broadcasting large task binary with size 1342.2 KiB\n",
      "24/11/07 21:07:09 WARN DAGScheduler: Broadcasting large task binary with size 1340.5 KiB\n",
      "24/11/07 21:07:10 WARN DAGScheduler: Broadcasting large task binary with size 1372.8 KiB\n",
      "100%|██████████| 4/4 [36:30<00:00, 547.57s/it]\n"
     ]
    }
   ],
   "source": [
    "airbnb_parameters_evaled = grid_search_tuning(listings_df, \n",
    "                                       param_grid, \n",
    "                                       id_col=\"id\", \n",
    "                                       features_col = 'features', \n",
    "                                       gt_similar_col = 'gt_similar_listings',\n",
    "                                       pred_similar_col = 'pred_similar_listings', \n",
    "                                       top_parameter_sets = -1)"
   ]
  },
  {
   "cell_type": "code",
   "execution_count": 20,
   "metadata": {},
   "outputs": [
    {
     "data": {
      "image/png": "[encoded data removed]",
      "text/plain": [
       "<Figure size 1200x600 with 4 Axes>"
      ]
     },
     "metadata": {},
     "output_type": "display_data"
    }
   ],
   "source": [
    "visualize_gridsearch_res(airbnb_parameters_evaled)"
   ]
  },
  {
   "cell_type": "code",
   "execution_count": 21,
   "metadata": {},
   "outputs": [
    {
     "name": "stdout",
     "output_type": "stream",
     "text": [
      "The best parameter set is {'numHashTables': 10, 'distanceThreshold': 0.5}.\n",
      "It has IOU=0.003 and computation time of 1.152 seconds\n"
     ]
    }
   ],
   "source": [
    "airbnb_top_iou = max(airbnb_parameters_evaled, key=lambda x: x['iou'])['iou']\n",
    "airbnb_top_iou_params = filter(lambda x: x['iou'] == airbnb_top_iou, airbnb_parameters_evaled)\n",
    "airbnb_top_iou_and_smallest_time_params = min(airbnb_top_iou_params, key=lambda x: x['computation_time'])\n",
    "print(f\"\"\"The best parameter set is {airbnb_top_iou_and_smallest_time_params['params']}.\n",
    "It has IOU={airbnb_top_iou_and_smallest_time_params['iou']:.3f} and computation time of {airbnb_top_iou_and_smallest_time_params['computation_time']:.3f} seconds\"\"\")"
   ]
  },
  {
   "cell_type": "markdown",
   "metadata": {},
   "source": [
    "## Part 2. Wikipedia LSH experiment"
   ]
  },
  {
   "cell_type": "markdown",
   "metadata": {},
   "source": [
    "### Obtain data"
   ]
  },
  {
   "cell_type": "code",
   "execution_count": 23,
   "metadata": {},
   "outputs": [],
   "source": [
    "wiki_request_res = requests.get(\"https://wikimedia.org/api/rest_v1/metrics/pageviews/top/uk.wikipedia.org/all-access/2024/09/all-days\", headers={\n",
    "    \"Accept\": \"application/json\",\n",
    "    \"User-Agent\": \"Mozilla/5.0 (X11; Ubuntu; Linux x86_64; rv:129.0) Gecko/20100101 Firefox/129.0\",\n",
    "    \"Referer\": \"https://doc.wikimedia.org/\"\n",
    "})"
   ]
  },
  {
   "cell_type": "code",
   "execution_count": 24,
   "metadata": {},
   "outputs": [],
   "source": [
    "articles_data = wiki_request_res.json()['items'][0]['articles']"
   ]
  },
  {
   "cell_type": "markdown",
   "metadata": {},
   "source": [
    "### Transform data"
   ]
  },
  {
   "cell_type": "code",
   "execution_count": 25,
   "metadata": {},
   "outputs": [],
   "source": [
    "articles_df = SPARK.createDataFrame(articles_data)"
   ]
  },
  {
   "cell_type": "code",
   "execution_count": 26,
   "metadata": {},
   "outputs": [
    {
     "name": "stderr",
     "output_type": "stream",
     "text": [
      "                                                                                \r"
     ]
    },
    {
     "name": "stdout",
     "output_type": "stream",
     "text": [
      "1000\n",
      "+-----------------------------------------------+----+------+\n",
      "|article                                        |rank|views |\n",
      "+-----------------------------------------------+----+------+\n",
      "|Головна_сторінка                               |1   |469652|\n",
      "|Спеціальна:Пошук                               |2   |197066|\n",
      "|Волинська_трагедія                             |3   |82508 |\n",
      "|Klavdia_Petrivna                               |4   |79497 |\n",
      "|Україна                                        |5   |61993 |\n",
      "|YouTube                                        |6   |60683 |\n",
      "|Сибіга_Андрій_Іванович                         |7   |58442 |\n",
      "|Перша_світова_війна                            |8   |50199 |\n",
      "|Національна_суспільна_телерадіокомпанія_України|9   |42675 |\n",
      "|Масляков_Олександр_Васильович                  |10  |37677 |\n",
      "|Нечуй-Левицький_Іван_Семенович                 |11  |37089 |\n",
      "|Президентські_вибори_у_США_2024                |12  |35302 |\n",
      "|Лавров_Сергій_Вікторович                       |13  |34938 |\n",
      "|Білокур_Катерина_Василівна                     |14  |34210 |\n",
      "|Київ                                           |15  |33559 |\n",
      "|Як-130                                         |16  |32892 |\n",
      "|Військові_звання_України                       |17  |32771 |\n",
      "|Радіо_«Свобода»                                |18  |32617 |\n",
      "|Лайл_і_Ерік_Менендеси                          |19  |31860 |\n",
      "|Файл:Battle_of_Ostroleka_1831.PNG              |20  |31396 |\n",
      "+-----------------------------------------------+----+------+\n",
      "only showing top 20 rows\n",
      "\n"
     ]
    }
   ],
   "source": [
    "print(articles_df.count())\n",
    "articles_df.show(truncate=False)"
   ]
  },
  {
   "cell_type": "markdown",
   "metadata": {},
   "source": [
    "Let's add vectors of features to the dataframe:"
   ]
  },
  {
   "cell_type": "code",
   "execution_count": 27,
   "metadata": {},
   "outputs": [],
   "source": [
    "articles_df = add_features(articles_df, \"article\", \"features\")"
   ]
  },
  {
   "cell_type": "code",
   "execution_count": 28,
   "metadata": {},
   "outputs": [
    {
     "name": "stdout",
     "output_type": "stream",
     "text": [
      "+--------------------+----+------+--------------------+--------------------+--------------------+--------------------+\n",
      "|             article|rank| views|       article_clean|               words|        stemmedWords|            features|\n",
      "+--------------------+----+------+--------------------+--------------------+--------------------+--------------------+\n",
      "|    Головна_сторінка|   1|469652|    Головна сторінка| [головна, сторінка]|    [головн, сторін]|[-0.0013146777637...|\n",
      "|    Спеціальна:Пошук|   2|197066|    Спеціальна Пошук| [спеціальна, пошук]|  [спеціальн, пошук]|[7.81911279773339...|\n",
      "|  Волинська_трагедія|   3| 82508|  Волинська трагедія|[волинська, траге...| [волинськ, трагеді]|[-4.7485809773206...|\n",
      "|    Klavdia_Petrivna|   4| 79497|    Klavdia Petrivna| [klavdia, petrivna]| [klavdia, petrivna]|[-5.0478998309699...|\n",
      "|             Україна|   5| 61993|             Україна|           [україна]|            [україн]|[-0.0233945511281...|\n",
      "|             YouTube|   6| 60683|             YouTube|           [youtube]|           [youtube]|[9.53300768742337...|\n",
      "|Сибіга_Андрій_Іва...|   7| 58442|Сибіга Андрій Іва...|[сибіга, андрій, ...|[сибі, андрі, іва...|[2.11080478038638...|\n",
      "| Перша_світова_війна|   8| 50199| Перша світова війна|[перша, світова, ...|[перш, світов, війн]|[-8.0568211463590...|\n",
      "|Національна_суспі...|   9| 42675|Національна суспі...|[національна, сус...|[національн, сусп...|[-0.0057993631853...|\n",
      "|Масляков_Олександ...|  10| 37677|Масляков Олександ...|[масляков, олекса...|[масляков, олекса...|[0.00102212086009...|\n",
      "|Нечуй-Левицький_І...|  11| 37089|Нечуй Левицький І...|[нечуй, левицький...|[нечу, левицьк, і...|[-2.2076317691244...|\n",
      "|Президентські_виб...|  12| 35302|Президентські виб...|[президентські, в...|[президентськ, ви...|[-0.0013666149025...|\n",
      "|Лавров_Сергій_Вік...|  13| 34938|Лавров Сергій Вік...|[лавров, сергій, ...|[лавров, серг, ві...|[-7.6906888474089...|\n",
      "|Білокур_Катерина_...|  14| 34210|Білокур Катерина ...|[білокур, катерин...|[білокур, катерин...|[-6.0145386184255...|\n",
      "|                Київ|  15| 33559|                Київ|              [київ]|                [ки]|[0.00167921499814...|\n",
      "|              Як-130|  16| 32892|              Як 130|           [як, 130]|           [як, 130]|[-3.4790689824149...|\n",
      "|Військові_звання_...|  17| 32771|Військові звання ...|[військові, званн...|[військ, званн, у...|[-0.0076963258810...|\n",
      "|     Радіо_«Свобода»|  18| 32617|     Радіо  Свобода |  [радіо, , свобода]|       [радіо, своб]|[0.00125724019017...|\n",
      "|Лайл_і_Ерік_Менен...|  19| 31860|Лайл і Ерік Менен...|[лайл, і, ерік, м...|[лайл, , ерік, ме...|[-0.0017962288766...|\n",
      "|Файл:Battle_of_Os...|  20| 31396|Файл Battle of Os...|[файл, battle, of...|[файл, battle, of...|[-5.9870478435186...|\n",
      "+--------------------+----+------+--------------------+--------------------+--------------------+--------------------+\n",
      "only showing top 20 rows\n",
      "\n"
     ]
    }
   ],
   "source": [
    "articles_df.show()"
   ]
  },
  {
   "cell_type": "markdown",
   "metadata": {},
   "source": [
    "### Obtaining Ground Truth similarities"
   ]
  },
  {
   "cell_type": "code",
   "execution_count": 29,
   "metadata": {},
   "outputs": [
    {
     "name": "stderr",
     "output_type": "stream",
     "text": [
      "                                                                                \r"
     ]
    }
   ],
   "source": [
    "articles_df = add_gt_similar(articles_df, id_col='rank', features_col='features', gt_similar_col='gt_similar_articles')"
   ]
  },
  {
   "cell_type": "markdown",
   "metadata": {},
   "source": [
    "Let's see newly added ground truth similar articles:"
   ]
  },
  {
   "cell_type": "code",
   "execution_count": 30,
   "metadata": {},
   "outputs": [
    {
     "name": "stderr",
     "output_type": "stream",
     "text": [
      "24/11/07 12:06:48 WARN DAGScheduler: Broadcasting large task binary with size 1066.7 KiB\n"
     ]
    },
    {
     "name": "stdout",
     "output_type": "stream",
     "text": [
      "+----+--------------------+------+--------------------+--------------------+--------------------+--------------------+-------------------+\n",
      "|rank|             article| views|       article_clean|               words|        stemmedWords|            features|gt_similar_articles|\n",
      "+----+--------------------+------+--------------------+--------------------+--------------------+--------------------+-------------------+\n",
      "|   1|    Головна_сторінка|469652|    Головна сторінка| [головна, сторінка]|    [головн, сторін]|[-0.0013146777637...|               NULL|\n",
      "|   2|    Спеціальна:Пошук|197066|    Спеціальна Пошук| [спеціальна, пошук]|  [спеціальн, пошук]|[7.81911279773339...|               NULL|\n",
      "|   3|  Волинська_трагедія| 82508|  Волинська трагедія|[волинська, траге...| [волинськ, трагеді]|[-4.7485809773206...|               NULL|\n",
      "|   4|    Klavdia_Petrivna| 79497|    Klavdia Petrivna| [klavdia, petrivna]| [klavdia, petrivna]|[-5.0478998309699...|               NULL|\n",
      "|   5|             Україна| 61993|             Україна|           [україна]|            [україн]|[-0.0233945511281...|               NULL|\n",
      "|   6|             YouTube| 60683|             YouTube|           [youtube]|           [youtube]|[9.53300768742337...|               NULL|\n",
      "|   7|Сибіга_Андрій_Іва...| 58442|Сибіга Андрій Іва...|[сибіга, андрій, ...|[сибі, андрі, іва...|[2.11080478038638...|               NULL|\n",
      "|   8| Перша_світова_війна| 50199| Перша світова війна|[перша, світова, ...|[перш, світов, війн]|[-8.0568211463590...|               NULL|\n",
      "|   9|Національна_суспі...| 42675|Національна суспі...|[національна, сус...|[національн, сусп...|[-0.0057993631853...|               NULL|\n",
      "|  10|Масляков_Олександ...| 37677|Масляков Олександ...|[масляков, олекса...|[масляков, олекса...|[0.00102212086009...|               NULL|\n",
      "|  11|Нечуй-Левицький_І...| 37089|Нечуй Левицький І...|[нечуй, левицький...|[нечу, левицьк, і...|[-2.2076317691244...|               NULL|\n",
      "|  12|Президентські_виб...| 35302|Президентські виб...|[президентські, в...|[президентськ, ви...|[-0.0013666149025...|               NULL|\n",
      "|  13|Лавров_Сергій_Вік...| 34938|Лавров Сергій Вік...|[лавров, сергій, ...|[лавров, серг, ві...|[-7.6906888474089...|               NULL|\n",
      "|  14|Білокур_Катерина_...| 34210|Білокур Катерина ...|[білокур, катерин...|[білокур, катерин...|[-6.0145386184255...|               NULL|\n",
      "|  15|                Київ| 33559|                Київ|              [київ]|                [ки]|[0.00167921499814...|               NULL|\n",
      "|  16|              Як-130| 32892|              Як 130|           [як, 130]|           [як, 130]|[-3.4790689824149...|               NULL|\n",
      "|  17|Військові_звання_...| 32771|Військові звання ...|[військові, званн...|[військ, званн, у...|[-0.0076963258810...|               NULL|\n",
      "|  18|     Радіо_«Свобода»| 32617|     Радіо  Свобода |  [радіо, , свобода]|       [радіо, своб]|[0.00125724019017...|               NULL|\n",
      "|  19|Лайл_і_Ерік_Менен...| 31860|Лайл і Ерік Менен...|[лайл, і, ерік, м...|[лайл, , ерік, ме...|[-0.0017962288766...|               NULL|\n",
      "|  20|Файл:Battle_of_Os...| 31396|Файл Battle of Os...|[файл, battle, of...|[файл, battle, of...|[-5.9870478435186...|               NULL|\n",
      "+----+--------------------+------+--------------------+--------------------+--------------------+--------------------+-------------------+\n",
      "only showing top 20 rows\n",
      "\n"
     ]
    }
   ],
   "source": [
    "articles_df.show()"
   ]
  },
  {
   "cell_type": "markdown",
   "metadata": {},
   "source": [
    "## Prediction with Locality Sensitive Hashing\n",
    "\n",
    "Let's create  a parameters grid:"
   ]
  },
  {
   "cell_type": "code",
   "execution_count": 31,
   "metadata": {},
   "outputs": [],
   "source": [
    "# possibleHashTablesCount = [10, 20, 50, 100, 200]\n",
    "# possibleDistanceThresholds = [0.3, 0.5, 0.7, 0.9, 0.95, 0.97, 0.99]\n",
    "possibleHashTablesCount = [10, 50]\n",
    "possibleDistanceThresholds = [0.3, 0.9]\n",
    "\n",
    "param_grid = []\n",
    "for hashTablesCount in possibleHashTablesCount:\n",
    "    for distanceThreshold in possibleDistanceThresholds:\n",
    "        param_grid.append({'numHashTables': hashTablesCount, 'distanceThreshold': distanceThreshold})"
   ]
  },
  {
   "cell_type": "markdown",
   "metadata": {},
   "source": [
    "And perform the grid search. We want to obtain results for all the parameters to perform the visualization:"
   ]
  },
  {
   "cell_type": "code",
   "execution_count": 33,
   "metadata": {},
   "outputs": [
    {
     "name": "stderr",
     "output_type": "stream",
     "text": [
      "24/11/07 12:07:49 WARN DAGScheduler: Broadcasting large task binary with size 1066.7 KiB\n",
      "24/11/07 12:08:16 WARN DAGScheduler: Broadcasting large task binary with size 1066.7 KiB\n",
      "24/11/07 12:08:45 WARN DAGScheduler: Broadcasting large task binary with size 1066.7 KiB\n",
      "24/11/07 12:09:13 WARN DAGScheduler: Broadcasting large task binary with size 1066.7 KiB\n",
      "100%|██████████| 4/4 [01:50<00:00, 27.74s/it]\n"
     ]
    }
   ],
   "source": [
    "wiki_parameters_evaled = grid_search_tuning(articles_df, \n",
    "                                            param_grid, \n",
    "                                            id_col=\"rank\", \n",
    "                                            features_col = 'features', \n",
    "                                            gt_similar_col = 'gt_similar_articles',\n",
    "                                            pred_similar_col = 'pred_similar_articles', \n",
    "                                            top_parameter_sets = -1)"
   ]
  },
  {
   "cell_type": "code",
   "execution_count": 34,
   "metadata": {},
   "outputs": [
    {
     "data": {
      "image/png": "[encoded data removed]",
      "text/plain": [
       "<Figure size 1200x600 with 4 Axes>"
      ]
     },
     "metadata": {},
     "output_type": "display_data"
    }
   ],
   "source": [
    "visualize_gridsearch_res(wiki_parameters_evaled)"
   ]
  },
  {
   "cell_type": "code",
   "execution_count": 35,
   "metadata": {},
   "outputs": [
    {
     "name": "stdout",
     "output_type": "stream",
     "text": [
      "The best parameter set is {'numHashTables': 50, 'distanceThreshold': 0.9}.\n",
      "It has IOU=1.000 and computation time of 0.480 seconds\n"
     ]
    }
   ],
   "source": [
    "wiki_top_iou = max(wiki_parameters_evaled, key=lambda x: x['iou'])['iou']\n",
    "wiki_top_iou_params = filter(lambda x: x['iou'] == wiki_top_iou, wiki_parameters_evaled)\n",
    "wiki_top_iou_and_smallest_time_params = min(wiki_top_iou_params, key=lambda x: x['computation_time'])\n",
    "print(f\"\"\"The best parameter set is {wiki_top_iou_and_smallest_time_params['params']}.\n",
    "It has IOU={wiki_top_iou_and_smallest_time_params['iou']:.3f} and computation time of {wiki_top_iou_and_smallest_time_params['computation_time']:.3f} seconds\"\"\")"
   ]
  },
  {
   "cell_type": "markdown",
   "metadata": {},
   "source": [
    "## Part 3. Parameter substitution"
   ]
  },
  {
   "cell_type": "code",
   "execution_count": 36,
   "metadata": {},
   "outputs": [
    {
     "name": "stderr",
     "output_type": "stream",
     "text": [
      "24/11/07 12:09:45 WARN DAGScheduler: Broadcasting large task binary with size 1066.7 KiB\n"
     ]
    },
    {
     "data": {
      "text/plain": [
       "{'params': {'numHashTables': 50, 'distanceThreshold': 0.9},\n",
       " 'iou': 1.0,\n",
       " 'computation_time': 0.570465087890625}"
      ]
     },
     "execution_count": 36,
     "metadata": {},
     "output_type": "execute_result"
    }
   ],
   "source": [
    "airbnb_params_on_wiki_dataset_evaled = test_lsh_params(\n",
    "    df=articles_df, \n",
    "    params=airbnb_top_iou_and_smallest_time_params['params'], \n",
    "    id_col=\"rank\", \n",
    "    features_col = 'features', \n",
    "    gt_similar_col = 'gt_similar_articles',\n",
    "    pred_similar_col = 'pred_similar_articles')\n",
    "airbnb_params_on_wiki_dataset_evaled"
   ]
  },
  {
   "cell_type": "markdown",
   "metadata": {},
   "source": [
    "## Final"
   ]
  },
  {
   "cell_type": "code",
   "execution_count": 19,
   "metadata": {},
   "outputs": [],
   "source": [
    "SPARK.stop()"
   ]
  },
  {
   "cell_type": "code",
   "execution_count": null,
   "metadata": {},
   "outputs": [],
   "source": []
  }
 ],
 "metadata": {
  "kernelspec": {
   "display_name": "venv",
   "language": "python",
   "name": "python3"
  },
  "language_info": {
   "codemirror_mode": {
    "name": "ipython",
    "version": 3
   },
   "file_extension": ".py",
   "mimetype": "text/x-python",
   "name": "python",
   "nbconvert_exporter": "python",
   "pygments_lexer": "ipython3",
   "version": "3.12.3"
  }
 },
 "nbformat": 4,
 "nbformat_minor": 2
}
