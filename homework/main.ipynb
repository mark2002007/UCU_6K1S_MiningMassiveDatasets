{
 "cells": [
  {
   "cell_type": "markdown",
   "metadata": {},
   "source": [
    "# Homework on Mining Massive Databases (MMDS)\n",
    "\n",
    "**by Andrii Shevtsov and Markiian Mandzak**\n",
    "\n",
    "Task formulation:\n",
    "![Task formulation screenshot](./task.jpg)\n",
    "\n",
    "# Imports and constants"
   ]
  },
  {
   "cell_type": "code",
   "execution_count": 26,
   "metadata": {},
   "outputs": [],
   "source": [
    "import requests\n",
    "import time\n",
    "import pandas as pd\n",
    "import matplotlib.pyplot as plt\n",
    "import seaborn as sns\n",
    "import nltk\n",
    "import re\n",
    "\n",
    "from tqdm import tqdm\n",
    "from pyspark.sql import SparkSession, functions as F, types as T, Window\n",
    "from pyspark.ml.feature import HashingTF, IDF, Tokenizer, BucketedRandomProjectionLSH, Word2Vec\n",
    "from pyspark.ml.linalg import SparseVector, DenseVector, Vector\n",
    "from nltk.stem import PorterStemmer\n",
    "from nltk.corpus import stopwords\n",
    "from typing import Optional\n",
    "from scipy.spatial import distance\n",
    "\n",
    "from tree_stem import stem_word"
   ]
  },
  {
   "cell_type": "markdown",
   "metadata": {},
   "source": [
    "We set spark session here as it is a singletone for our application:"
   ]
  },
  {
   "cell_type": "code",
   "execution_count": 2,
   "metadata": {},
   "outputs": [
    {
     "name": "stderr",
     "output_type": "stream",
     "text": [
      "24/11/09 18:11:13 WARN Utils: Your hostname, ucuvm resolves to a loopback address: 127.0.1.1; using 10.0.2.15 instead (on interface enp0s3)\n",
      "24/11/09 18:11:13 WARN Utils: Set SPARK_LOCAL_IP if you need to bind to another address\n",
      "Setting default log level to \"WARN\".\n",
      "To adjust logging level use sc.setLogLevel(newLevel). For SparkR, use setLogLevel(newLevel).\n",
      "24/11/09 18:11:17 WARN NativeCodeLoader: Unable to load native-hadoop library for your platform... using builtin-java classes where applicable\n"
     ]
    }
   ],
   "source": [
    "SPARK = SparkSession.builder \\\n",
    "    .appName(\"MMDS_HW_LSH\") \\\n",
    "    .config(\"spark.executor.memory\", \"4g\") \\\n",
    "    .config(\"spark.driver.memory\", \"8g\") \\\n",
    "    .config(\"spark.driver.cores\", \"4\") \\\n",
    "    .config(\"spark.executor.cores\", \"2\") \\\n",
    "    .getOrCreate()\n",
    "\n",
    "SPARK.sparkContext.setLogLevel(\"ERROR\")\n",
    "\n",
    "with open(\"stopwords_ua.txt\") as f:\n",
    "    stop_words_uk = f.readlines()\n",
    "stop_words_uk = [word.replace('\\n', '') for word in stop_words_uk]\n",
    "try:\n",
    "    STOP_WORDS = set(stopwords.words('english')).union(set(stop_words_uk))\n",
    "except LookupError:\n",
    "    nltk.download('stopwords')\n",
    "    STOP_WORDS = set(stopwords.words('english')).union(set(stop_words_uk))"
   ]
  },
  {
   "cell_type": "markdown",
   "metadata": {},
   "source": [
    "Other constants, that can be useful:"
   ]
  },
  {
   "cell_type": "code",
   "execution_count": 3,
   "metadata": {},
   "outputs": [],
   "source": [
    "SEARCHED_ELEMENTS_COUNT = 5  # Count of elements that should occur in search with LSH\n",
    "BEST_PARAMS_COUNT = 3  # Count of best param sets to return during the grid search by default\n",
    "ENCODING_METHOD = 'word2vec' # Method of encoding used for the feature vector (word2vec or tfidf)\n",
    "VECTOR_SIZE = 64 # Size of the feature vector used"
   ]
  },
  {
   "cell_type": "markdown",
   "metadata": {},
   "source": [
    "## Part 0. Common functions\n",
    "\n",
    "Here, we list functions that are reutilized in both parts. This section is crucial in explaining our approach. Also it makes sure we use the same general approach for both tasks.\n",
    "\n",
    "### Features calculation"
   ]
  },
  {
   "cell_type": "code",
   "execution_count": 4,
   "metadata": {},
   "outputs": [],
   "source": [
    "@F.udf(T.ArrayType(T.StringType()))\n",
    "def stem_and_clean(tokens, stemmer: Optional[str] = 'uk'):\n",
    "    \"\"\"A small UDF function to clean tokenized words from empty an then stem them\"\"\"\n",
    "    cleaned_words = [token for token in tokens if token.strip() != \"\" and token not in STOP_WORDS]\n",
    "    if stemmer == 'uk':\n",
    "        return list(map(stem_word, cleaned_words))\n",
    "    elif stemmer == 'nltk':\n",
    "        stemmer = PorterStemmer()\n",
    "        return list(map(stemmer.stem, cleaned_words))\n",
    "    elif stemmer is None:\n",
    "        return cleaned_words\n",
    "    else:\n",
    "        raise ValueError(\"For nowm only 'uk', 'nltk' and None stemmers are possible\")\n"
   ]
  },
  {
   "cell_type": "code",
   "execution_count": 5,
   "metadata": {},
   "outputs": [],
   "source": [
    "@F.udf(T.BooleanType())\n",
    "def empty_words(words):\n",
    "    return len(words) == 0"
   ]
  },
  {
   "cell_type": "code",
   "execution_count": 6,
   "metadata": {},
   "outputs": [],
   "source": [
    "def add_features(df, input_text_col: str, output_features_col: str = 'features', stemmer: Optional[str] = 'uk', encoding_method: str = ENCODING_METHOD):\n",
    "    \"\"\"This function helps us to add vectors with features to the original dataframe with text\n",
    "    \n",
    "    Args:\n",
    "        - df: pyspark DataFrame - a dataframe with `input_text_col` present, for which we should add a column with vectors of features\n",
    "        - input_text_col: str - a name of column in `df` where we should take a text to obtain vector features\n",
    "        - output_features_col: str - a name of a column in `df` where we should put final vectors with features\n",
    "        - stemmer: Optional str - a name for a stemmer to be used during word stemming\n",
    "        - encoding_method: str - a name for a method that is used for tokens vector encoding\n",
    "\n",
    "    Returns:\n",
    "        pyspark DataFrame, with `output_features_col` column added and filled with feature vectors\n",
    "    \"\"\"\n",
    "\n",
    "    # We need to remove symbols to correctly tokenize the text\n",
    "    df = df.withColumn(f'{input_text_col}_clean', F.regexp_replace(input_text_col, r'[^a-zA-Z\\u0400-\\u04FF]', ' '))\n",
    "\n",
    "    tokenizer = Tokenizer(inputCol=f'{input_text_col}_clean', outputCol=\"words\")\n",
    "    df = tokenizer.transform(df)\n",
    "\n",
    "    df = df.withColumn(\"stemmedWords\", stem_and_clean(F.col(\"words\"), F.lit(stemmer)))\n",
    "\n",
    "    df = df.filter(~empty_words(F.col(\"stemmedWords\")))\n",
    "\n",
    "    if encoding_method == 'tfidf':\n",
    "        hashingTF = HashingTF(inputCol=\"stemmedWords\", outputCol=\"rawFeatures\", numFeatures=VECTOR_SIZE)\n",
    "        df = hashingTF.transform(df)\n",
    "        idf = IDF(inputCol=\"rawFeatures\", outputCol=output_features_col)\n",
    "        idfModel = idf.fit(df)\n",
    "        df = idfModel.transform(df)\n",
    "    \n",
    "    elif encoding_method == 'word2vec':\n",
    "        word2Vec = Word2Vec(inputCol=\"stemmedWords\", outputCol=output_features_col, vectorSize=VECTOR_SIZE, minCount=0)\n",
    "        model = word2Vec.fit(df)\n",
    "        df = model.transform(df)\n",
    "    \n",
    "    else:\n",
    "        raise ValueError(\"Invalid ENCODING_METHOD. Choose 'tfidf' or 'word2vec'.\")\n",
    "    \n",
    "    return df"
   ]
  },
  {
   "cell_type": "markdown",
   "metadata": {},
   "source": [
    "### Ground truth similarity calculation\n",
    "\n",
    "We should use some function to understand the distance (or similarity) between two feature vectors (for ground truth calculation). Cosine similarity is perfect for that:"
   ]
  },
  {
   "cell_type": "code",
   "execution_count": 27,
   "metadata": {},
   "outputs": [],
   "source": [
    "@F.udf(T.DoubleType())\n",
    "def cos_dist(vec_a, vec_b):\n",
    "    if isinstance(vec_a, Vector) and isinstance(vec_b, Vector):\n",
    "        dot_product = float(vec_a.dot(vec_b))\n",
    "        norm_a = float(vec_a.norm(2))\n",
    "        norm_b = float(vec_b.norm(2))\n",
    "        return 1 - dot_product / (norm_a * norm_b) if norm_a and norm_b else 0.0\n",
    "    return 2.0\n",
    "\n",
    "@F.udf(T.DoubleType())\n",
    "def euclidian_dist(vec_a, vec_b):\n",
    "    return float(distance.euclidean(vec_a, vec_b))\n"
   ]
  },
  {
   "cell_type": "markdown",
   "metadata": {},
   "source": [
    "Then, we need to have a function to calculate ground truth similarity and then obtaining ids of the closest elements:"
   ]
  },
  {
   "cell_type": "code",
   "execution_count": 28,
   "metadata": {},
   "outputs": [],
   "source": [
    "def add_gt_similar(df, id_col: str, \n",
    "                   features_col: str = 'features', \n",
    "                   gt_similar_col: str = 'gt_similar', \n",
    "                   searched_elements_count: int = SEARCHED_ELEMENTS_COUNT,\n",
    "                   distance: str = 'euclidian'):\n",
    "    \"\"\"Add column with lists of ids of similar ground truth elements\n",
    "    \n",
    "    Args:\n",
    "        - df: pyspark DataFrame - a dataframe with `id_col` and `features_col` present, for which we should add a column with lists of similar items\n",
    "        - id_col: str - a name of column in `df` where we should take indexes to put into `gt_similar_col`\n",
    "        - features_col: str (default 'features') - a name of column in `df` where vector features are located\n",
    "        - gt_similar_col: str (default 'gt_similar') - a name for a new column that is created as a result\n",
    "        - searched_elements_count: int (default SEARCHED_ELEMENTS_COUNT) - maximum count of elements we want to search\n",
    "        - distance: str (default 'euclidian') - what distance to use during computations\n",
    "    \n",
    "    Returns:\n",
    "    pyspark DataFrame, a copy of `df` with filled `gt_similar_col` that contains ids of ground truth similar items\n",
    "    \"\"\"\n",
    "\n",
    "    assert distance in ['euclidian', 'cosine'], \"Distance should be either euclidian or cosine\"\n",
    "    dist_func = euclidian_dist if distance == 'euclidian' else cos_dist\n",
    "\n",
    "    # We can now make an `NxN` similarity table, containing cosine similarities between each pair of feature vectors\n",
    "    similarity_table = (\n",
    "        df.alias('a')\n",
    "        .crossJoin(df.alias('b'))\n",
    "        .withColumn(\n",
    "            'distance',\n",
    "            dist_func(\n",
    "                F.col(f'a.{features_col}'),\n",
    "                F.col(f'b.{features_col}'),\n",
    "            )\n",
    "        )\n",
    "        .groupBy(f'a.{id_col}')\n",
    "        .pivot(f'b.{id_col}')\n",
    "        .sum('distance')\n",
    "        .orderBy(id_col)\n",
    "    )\n",
    "\n",
    "    # Now, we can obtain all the perspective similarity pairs (with similarity bigger than 0)\n",
    "    similarity_columns = [column for column in similarity_table.columns if column != id_col]\n",
    "\n",
    "    mapping_expr = []\n",
    "    for c in similarity_columns:\n",
    "        mapping_expr.extend([F.lit(c), F.col(c)])\n",
    "\n",
    "    paired_df = similarity_table.select(\n",
    "        F.col(id_col),\n",
    "        F.explode(F.create_map(*mapping_expr)).alias(\"similar_id\", \"distance\")\n",
    "    ).filter(\n",
    "        (F.col(id_col) != F.col(\"similar_id\")) & (F.col(\"distance\") > 0)\n",
    "    )\n",
    "\n",
    "    # And take top k similar items by the similarity value for each other item\n",
    "    window_spec = Window.partitionBy(id_col).orderBy(F.col(\"distance\").asc())\n",
    "    paired_df = paired_df.withColumn(\"simrank\", F.row_number().over(window_spec)).filter(F.col(\"simrank\") <= searched_elements_count)\n",
    "\n",
    "    # Here we collect lists with similar ids and add them to the original dataframe \n",
    "    top_similarities_df = paired_df.groupBy(id_col).agg(F.collect_list(\"similar_id\").alias(gt_similar_col))\n",
    "    res_df = df.join(top_similarities_df, on=id_col, how='left').orderBy(id_col)\n",
    "\n",
    "    return res_df"
   ]
  },
  {
   "cell_type": "markdown",
   "metadata": {},
   "source": [
    "### Predicting with LSH"
   ]
  },
  {
   "cell_type": "code",
   "execution_count": 10,
   "metadata": {},
   "outputs": [],
   "source": [
    "def predict_similar_lsh(df, lsh_params, id_col: str, features_col: str = 'features', pred_similar_col: str = 'pred_similar', searched_elements_count: int = SEARCHED_ELEMENTS_COUNT):\n",
    "    \"\"\"Predict similar items with MinHashLSH and add them to the original dataframe into the `pred_similar_col` column\n",
    "    \n",
    "    Args:\n",
    "        - df: pyspark DataFrame - a dataframe with `id_col` and `features_col` present, for which we should add a column with lists of similar items\n",
    "        - id_col: str - a name of column in `df` where we should take indexes to put into `pred_similar_col`\n",
    "        - features_col: str (default 'features') - a name of column in `df` where vector features are located\n",
    "        - pred_similar_col: str (default 'pred_similar') - a name for a new column that is created as a result\n",
    "        - searched_elements_count: int (default SEARCHED_ELEMENTS_COUNT) - maximum count of elements we want to search\n",
    "    \n",
    "    Returns:\n",
    "    pyspark DataFrame, a copy of `df` with filled `pred_similar_col` column that contains ids of predicted similar items\n",
    "    \"\"\"\n",
    "    \n",
    "    num_hash_tables = lsh_params['numHashTables']\n",
    "    distance_threshold = lsh_params['distanceThreshold']\n",
    "    bucket_length = lsh_params['bucketLength']\n",
    "\n",
    "    mh = BucketedRandomProjectionLSH(inputCol=features_col, outputCol=\"hashes\", numHashTables=num_hash_tables, bucketLength=bucket_length)\n",
    "\n",
    "    model = mh.fit(df)\n",
    "\n",
    "    similar_items = model.approxSimilarityJoin(df, df, threshold=distance_threshold, distCol=\"distance\")\n",
    "    similar_items = similar_items.filter(F.col(f\"datasetA.{id_col}\") != F.col(f\"datasetB.{id_col}\"))\n",
    "    similar_items = similar_items.orderBy(F.col(\"distance\").asc())\n",
    "\n",
    "    window_spec = Window.partitionBy(f\"datasetA.{id_col}\").orderBy(F.col(\"distance\").asc())\n",
    "    similar_items = similar_items.withColumn(\"simrank\", F.row_number().over(window_spec)).filter(F.col(\"simrank\") <= searched_elements_count)\n",
    "\n",
    "    found_items = similar_items.groupBy(f\"datasetA.{id_col}\").agg(F.collect_list(f\"datasetB.{id_col}\").alias(pred_similar_col))\n",
    "\n",
    "    res_df = df.join(found_items, on=id_col, how='left')\n",
    "\n",
    "    return res_df"
   ]
  },
  {
   "cell_type": "markdown",
   "metadata": {},
   "source": [
    "### Measuring quality\n",
    "\n",
    "Let's also define a function to calculate the quality of our prediction. We will use intersection over union (IOU) to evaluate quality, as it is intuitive and penalizes both false positives and false negatives equally:"
   ]
  },
  {
   "cell_type": "code",
   "execution_count": 11,
   "metadata": {},
   "outputs": [],
   "source": [
    "@F.udf(T.DoubleType())\n",
    "def iou_func(real_items, pred_items):\n",
    "    if real_items is None:\n",
    "        return 1.\n",
    "    elif pred_items is None:\n",
    "        return 0.\n",
    "    else:\n",
    "        real_items_set = set([int(i) for i in real_items])\n",
    "        pred_items_set = set([int(i) for i in pred_items])\n",
    "        intersection_len = len(real_items_set.intersection(pred_items_set))\n",
    "        union_len = len(real_items_set.union(pred_items_set))\n",
    "        # Division of integers here somehow breaks the logic when NULL is passed in\n",
    "        return float(intersection_len)/float(union_len)  "
   ]
  },
  {
   "cell_type": "markdown",
   "metadata": {},
   "source": [
    "Now we need a function that makes an evaluation of the current parameters set (using time and IOU) for the LSH prediction:"
   ]
  },
  {
   "cell_type": "code",
   "execution_count": 12,
   "metadata": {},
   "outputs": [],
   "source": [
    "def test_lsh_params(df, params, id_col: str, features_col: str = 'features', gt_similar_col: str='gt_similar', pred_similar_col: str = 'pred_similar', searched_elements_count: int = SEARCHED_ELEMENTS_COUNT):\n",
    "    \"\"\"A function to measure performance of the LSH algorithm with given parameters\n",
    "    \n",
    "    Args:\n",
    "        - df: pyspark DataFrame - a dataframe with `id_col` and `features_col` present, for which we should add a column with lists of similar items\n",
    "        - id_col: str - a name of column in `df` where we should take indexes to put into `pred_similar_col`\n",
    "        - features_col: str (default 'features') - a name of column in `df` where vector features are located\n",
    "        - gt_similar_col: str (default 'gt_similar') - a name for a column that contains ground truth values of similarity\n",
    "        - pred_similar_col: str (default 'pred_similar') - a name for a new column that is created as a result\n",
    "        - searched_elements_count: int (default SEARCHED_ELEMENTS_COUNT) - maximum count of elements we want to search\n",
    "    \n",
    "    Returns:\n",
    "    dict, a dictionary with lst parameters and results of model with that parameters\n",
    "    \"\"\"\n",
    "    \n",
    "    start_time = time.time()\n",
    "    test_iou_df = predict_similar_lsh(df, params, \n",
    "                                      id_col=id_col, \n",
    "                                      features_col=features_col, \n",
    "                                      pred_similar_col=pred_similar_col,\n",
    "                                      searched_elements_count=searched_elements_count)\n",
    "\n",
    "    test_iou_df = test_iou_df.withColumn(\"iou\", iou_func(F.col(gt_similar_col), F.col(pred_similar_col)))\n",
    "\n",
    "    iou_value = test_iou_df.agg(F.avg(\"iou\")).collect()[0][0]\n",
    "\n",
    "    # Computation time should be calculated only after collect that makes Spark perform all the operations\n",
    "    computation_time = time.time() - start_time\n",
    "\n",
    "    return {\n",
    "        'params': params,\n",
    "        'iou': iou_value,\n",
    "        'computation_time': computation_time,\n",
    "    }"
   ]
  },
  {
   "cell_type": "markdown",
   "metadata": {},
   "source": [
    "### Performing grid search\n",
    "\n",
    "Here is a function to perform grid search:"
   ]
  },
  {
   "cell_type": "code",
   "execution_count": 13,
   "metadata": {},
   "outputs": [],
   "source": [
    "def grid_search_tuning(data, \n",
    "                       param_grid, \n",
    "                       id_col: str, \n",
    "                       features_col: str = 'features',\n",
    "                       gt_similar_col: str = 'gt_similar',\n",
    "                       pred_similar_col: str = 'pred_similar', \n",
    "                       searched_elements_count: int = SEARCHED_ELEMENTS_COUNT,\n",
    "                       top_parameter_sets: int = BEST_PARAMS_COUNT,\n",
    "                       verbose: bool = False):\n",
    "    \"\"\"A function to calculate test MinHashLSH with different parameters and find `top_parameter_sets` best\n",
    "\n",
    "    Args:\n",
    "        - df: pyspark DataFrame - a dataframe with `id_col` and `features_col` present, for which we should add a column with lists of similar items\n",
    "        - param_grid: list of dicts - a list with paramer sets we want to evaluate on\n",
    "        - id_col: str - a name of column in `df` where we should take indexes to put into `pred_similar_col`\n",
    "        - features_col: str (default 'features') - a name of column in `df` where vector features are located\n",
    "        - gt_similar_col: str (default 'gt_similar') - a name for a column that contains ground truth values of similarity\n",
    "        - pred_similar_col: str (default 'pred_similar') - a name for a new column that is created as a result\n",
    "        - searched_elements_count: int (default SEARCHED_ELEMENTS_COUNT) - maximum count of elements we want to search\n",
    "        - top_parameter_sets: int (default BEST_PARAMS_COUNT) - count of best parameter sets we want to return. If <= 0; return all parameter sets\n",
    "        - verbose: bool (default False) - whether to print additional data\n",
    "    \n",
    "    Returns:\n",
    "    list of dicts, a dictionary with lst parameters and results of model with that parameters\n",
    "    \"\"\"\n",
    "    results = []\n",
    "    for params in tqdm(param_grid):\n",
    "        result = test_lsh_params(data, \n",
    "                                 params, \n",
    "                                 id_col=id_col, \n",
    "                                 features_col=features_col, \n",
    "                                 gt_similar_col=gt_similar_col,\n",
    "                                 pred_similar_col=pred_similar_col, \n",
    "                                 searched_elements_count=searched_elements_count)\n",
    "        if verbose:\n",
    "            print(result)\n",
    "        results.append(result)\n",
    "\n",
    "    top_results = sorted(results, key=lambda x: x['iou'], reverse=True)\n",
    "    if top_parameter_sets > 0:\n",
    "        top_results = top_results[:top_parameter_sets]\n",
    "\n",
    "    return top_results\n"
   ]
  },
  {
   "cell_type": "markdown",
   "metadata": {},
   "source": [
    "### Visualizing results"
   ]
  },
  {
   "cell_type": "code",
   "execution_count": 14,
   "metadata": {},
   "outputs": [],
   "source": [
    "def visualize_gridsearch_res(gridsearch_res):\n",
    "    \"\"\"Plot two heatmaps with gridsearch results\"\"\"\n",
    "    gridsearch_res_df = pd.DataFrame(gridsearch_res)\n",
    "\n",
    "    gridsearch_res_df['numHashTables'] = gridsearch_res_df['params'].apply(lambda x: x.get('numHashTables'))\n",
    "    gridsearch_res_df['distanceThreshold'] = gridsearch_res_df['params'].apply(lambda x: x.get('distanceThreshold'))\n",
    "    gridsearch_res_df = gridsearch_res_df.drop(columns=['params'])\n",
    "\n",
    "    iou_pivot = gridsearch_res_df.pivot(index=\"numHashTables\", columns=\"distanceThreshold\", values=\"iou\")\n",
    "    time_pivot = gridsearch_res_df.pivot(index=\"numHashTables\", columns=\"distanceThreshold\", values=\"computation_time\")\n",
    "\n",
    "    fig, axs = plt.subplots(1, 2, figsize=(12, 6))\n",
    "\n",
    "    fig.suptitle(\"Results for different parameters\")\n",
    "\n",
    "    axs[0].set_title(\"IOU values for different parameter sets\")\n",
    "    sns.heatmap(iou_pivot, ax=axs[0], cmap='rocket_r')\n",
    "\n",
    "    axs[1].set_title(\"Computation time values for different parameter sets, seconds\")\n",
    "    sns.heatmap(time_pivot, ax=axs[1], cmap='rocket')\n",
    "\n",
    "    plt.show()"
   ]
  },
  {
   "cell_type": "markdown",
   "metadata": {},
   "source": [
    "## Part 1. Barcelona LSH experiment"
   ]
  },
  {
   "cell_type": "markdown",
   "metadata": {},
   "source": [
    "Download data if needed:"
   ]
  },
  {
   "cell_type": "code",
   "execution_count": 15,
   "metadata": {},
   "outputs": [],
   "source": [
    "# !wget -O listings.csv.gz https://data.insideairbnb.com/spain/catalonia/barcelona/2024-09-06/data/listings.csv.gz\n",
    "# !gunzip -f listings.csv.gz"
   ]
  },
  {
   "cell_type": "code",
   "execution_count": 16,
   "metadata": {},
   "outputs": [
    {
     "name": "stderr",
     "output_type": "stream",
     "text": [
      "                                                                                \r"
     ]
    },
    {
     "name": "stdout",
     "output_type": "stream",
     "text": [
      "994\n"
     ]
    },
    {
     "name": "stderr",
     "output_type": "stream",
     "text": [
      "                                                                                \r"
     ]
    },
    {
     "name": "stdout",
     "output_type": "stream",
     "text": [
      "+---+--------------------------------------------------+\n",
      "|id |name                                              |\n",
      "+---+--------------------------------------------------+\n",
      "|0  |Exquisite studio in Barcelona Born                |\n",
      "|1  |✨Spacious Flat near Sagrada Familia/Shared terrace|\n",
      "|2  |Poble Nou Apartment a 3 minutos de la Playa       |\n",
      "|3  |Charming room  Diagonal wifi 100 Mb               |\n",
      "|4  |Classic Flat near Sagrada Familia / Shared terrace|\n",
      "|5  |Sweett | Luminous 3BR near Plaza Catalunya        |\n",
      "|6  |vig2 Right in El Born, old town, happy apartment! |\n",
      "|7  |Rocafort nice & bright 3 stops away Pza Cataluña  |\n",
      "|8  |Habitación cerca sagrada familia-2                |\n",
      "|9  |LOVELY DOUBLE ROOM IN BARCELONA CENTER 1          |\n",
      "|10 |Magnífico Atico con piscina/jardín cerca de playa |\n",
      "|11 |BONITA HABITACION CON BAÑO                        |\n",
      "|12 |Habitación grande y luminosa                      |\n",
      "|13 |Special apartment with terrace                    |\n",
      "|14 |Independent apartment in house with garden        |\n",
      "|15 |Beautiful private terrace in Studio near Sagrada  |\n",
      "|16 |Apartment 2 bedrooms near to Sagrada Familia      |\n",
      "|17 |Room and private bathroom center Bc               |\n",
      "|18 |Sagrada Familia Design with private terrace       |\n",
      "|19 |Céntrico y cómodo.                                |\n",
      "+---+--------------------------------------------------+\n",
      "only showing top 20 rows\n",
      "\n"
     ]
    }
   ],
   "source": [
    "listings_df = SPARK.read.csv(\n",
    "    \"listings.csv\",\n",
    "    header=True,  # First line is header\n",
    "    inferSchema=True,  # Automatically infer data types\n",
    "    multiLine=True,  # Handle multiline fields\n",
    "    escape=\"\\\"\",  # Handle quoted strings with escape character\n",
    "    quote=\"\\\"\",  # Set quote character for quoted strings\n",
    "    sep=\",\",  # Specify the delimiter\n",
    ")\n",
    "listings_df = listings_df.orderBy(F.rand()).limit(1000)\n",
    "listings_df = listings_df.select(\"id\", \"name\")\n",
    "listings_df = listings_df.dropna()\n",
    "listings_df = listings_df.dropDuplicates([\"name\"])\n",
    "listings_df = listings_df.orderBy(\"id\")\n",
    "listings_df = listings_df.withColumn(\"id\", F.monotonically_increasing_id())\n",
    "print(listings_df.count())\n",
    "listings_df.show(truncate=False)"
   ]
  },
  {
   "cell_type": "code",
   "execution_count": 17,
   "metadata": {},
   "outputs": [
    {
     "name": "stderr",
     "output_type": "stream",
     "text": [
      "[Stage 18:>                                                         (0 + 1) / 1]\r"
     ]
    },
    {
     "name": "stdout",
     "output_type": "stream",
     "text": [
      "+---+--------------------------------------------------+--------------------------------------------------+-------------------------------------------------------------+------------------------------------------------------------+--------------------------------------------------------------------------------------------------------------------------------------------------------------------------------------------------------------------------------------------------------------------------------------------------------------------------------------------------------------------------------------------------------------------------------------------------------------------------------------------------------------------------------------------------------------------------------------------------------------------------------------------------------------------------------------------------------------------------------------------------------------------------------------------------------------------------------------------------------------------------------------------------------------------------------------------------------------------------------------------------------------------------------------------------------------------------------------------------------------------------------------------------------------------------------------------------------------------------------------------------------------------------------------------------------------------------------------------------------------------------------------------------------------------------------------------------------+\n",
      "|id |name                                              |name_clean                                        |words                                                        |stemmedWords                                                |features                                                                                                                                                                                                                                                                                                                                                                                                                                                                                                                                                                                                                                                                                                                                                                                                                                                                                                                                                                                                                                                                                                                                                                                                                                                                                                                                                                                                                                                |\n",
      "+---+--------------------------------------------------+--------------------------------------------------+-------------------------------------------------------------+------------------------------------------------------------+--------------------------------------------------------------------------------------------------------------------------------------------------------------------------------------------------------------------------------------------------------------------------------------------------------------------------------------------------------------------------------------------------------------------------------------------------------------------------------------------------------------------------------------------------------------------------------------------------------------------------------------------------------------------------------------------------------------------------------------------------------------------------------------------------------------------------------------------------------------------------------------------------------------------------------------------------------------------------------------------------------------------------------------------------------------------------------------------------------------------------------------------------------------------------------------------------------------------------------------------------------------------------------------------------------------------------------------------------------------------------------------------------------------------------------------------------------+\n",
      "|0  |Exquisite studio in Barcelona Born                |Exquisite studio in Barcelona Born                |[exquisite, studio, in, barcelona, born]                     |[exquisit, studio, barcelona, born]                         |[0.0026220869958706317,0.0019398544973228127,-0.0024745636619627476,6.003343733027577E-4,-0.005276598792988807,7.992395258042961E-4,-0.004892650234978646,-0.002245468960609287,-6.550326361320913E-4,-0.004225853364914656,-0.012129175825975835,-0.004256382875610143,0.005192538606934249,6.146600935608149E-4,0.001560221977342735,-0.0069004964316263795,-0.0012877372209914029,0.002102073631249368,0.011424813303165138,-0.008650388801470399,-0.0018201705133833457,-0.0017515744548290968,2.932927309302613E-4,-0.003070384787861258,9.134374849963933E-4,-0.01640476135071367,-0.002370320988120511,-0.002745250618318096,-0.0026161401183344424,0.00943058670964092,-0.005280059180222452,0.003664150135591626,4.068031848873943E-4,-0.00493705716507975,0.003325144061818719,0.003751924989046529,0.010082958280690946,0.0026064279954880476,0.007467516814358532,0.0062140654772520065,-0.002748914179392159,-4.3766075395978987E-4,2.690794935915619E-4,9.204809393850155E-4,6.376125020324253E-4,-0.011394760105758905,-0.004201116564217955,0.004785745753906667,-0.0012476722040446475,-0.0029749569366686046,0.005349855055101216,0.007359184906817973,0.00855565452366136,0.008296099491417408,0.013678552932105958,-0.0020997228857595474,0.0011252625554334372,0.0026248731883242726,-0.001210870803333819,0.0028068096289644018,-0.004354774224339053,0.0012214257149025798,0.007800991763360798,-0.0022072934661991894]          |\n",
      "|1  |✨Spacious Flat near Sagrada Familia/Shared terrace| Spacious Flat near Sagrada Familia Shared terrace|[, spacious, flat, near, sagrada, familia, shared, terrace]  |[spaciou, flat, near, sagrada, familia, share, terrac]      |[0.009090621157416275,0.0016564968308167797,-0.009988122519903948,-0.005821562638240201,0.0030372745157884696,0.007061807072854467,0.00262122178849365,0.0019668667643730126,0.002878761933451252,-0.007588638566500906,-0.013571764076394693,-0.013426049412893397,0.0027436866824116024,-0.005584918760827609,-0.002302449396146195,-0.006228003268396215,-0.00354921754582652,0.0012718493651066507,0.011152654087969234,0.002148151846735605,0.0017056517369513,0.004877588877986584,-0.0067596458829939365,-0.011658248225493089,0.002092200846943472,-0.006081094832292624,-0.006161969554211412,0.008173646821108247,-0.0031397848755919506,0.01231114100664854,-0.0035809290462306565,0.009701660435114588,-0.003958940738812089,-0.01059237654720034,0.0021560285739334567,-0.005842427656586681,0.012814262083598545,-0.0011811999969982675,-0.002875944133847952,-4.1963677254638497E-4,-0.012246242674466754,0.008942874431210968,-0.006179459459547485,0.004683470885668482,-0.003003023115784994,-0.01174858520140073,-0.0028266252151557376,0.0011995216565472738,-0.002820305925394807,-0.002303727453441492,1.6142863647214002E-4,0.008229174983820744,0.005304774834907481,0.005199026316404343,0.00832873596144574,-0.006174597955707992,-0.004127638614071266,-0.004507170873694122,-0.007055824156850576,0.0023358114038793637,0.0049774304456410125,0.0048196975923409414,0.011172216718218156,6.66232721414417E-4]               |\n",
      "|2  |Poble Nou Apartment a 3 minutos de la Playa       |Poble Nou Apartment a   minutos de la Playa       |[poble, nou, apartment, a, , , minutos, de, la, playa]       |[pobl, nou, apart, minuto, de, la, playa]                   |[0.007131656586092763,0.012841523126033799,-0.003999588744980948,-0.004183836297930351,-0.018288022439394678,-0.0022268319236380713,-0.01777619685578559,-0.01321290519886783,-0.0016509059018322398,-0.011123429331096953,-0.03312078969403436,-0.02726050739043525,0.013603370353978659,0.005463463320795978,0.010151257405855825,-0.00513711862731725,-0.019186192325183322,7.721257861703634E-4,0.033723399142867753,-0.009275345165016395,0.0064184649215478975,-0.0018933939281851053,-0.002274392505309411,-0.005131259893200227,0.004171517943697316,-0.03724087702409763,-0.012442487325253231,0.002806826361588069,-0.010295211004891565,0.02624963902469192,-0.010961628647887014,6.383048520157379E-4,-0.0024458194550658974,-0.012060285080224276,0.018449188875300542,0.007007422873617283,0.03999359593061464,0.009453983877652457,0.01408043799788824,-0.007359793659166566,-0.006500301067717373,0.007353499298915267,0.004257371158538652,0.012375242941613707,-0.0059594014726047,-0.04526349888848406,-0.015993605068485652,0.015987537768004195,-0.005159331851505807,0.001568949149389352,0.006328886108739035,0.01820128069500372,0.016634347449455942,0.0188695274825607,0.04685234571141856,-0.007736444057497595,-0.0023229731689623024,-0.006323359707104308,-0.0044231880788824385,-0.0018625266924833079,0.0013140651364145534,0.0032615060585417916,0.018624028623370186,0.0044261727349034375]                           |\n",
      "|3  |Charming room  Diagonal wifi 100 Mb               |Charming room  Diagonal wifi     Mb               |[charming, room, , diagonal, wifi, , , , , mb]               |[charm, room, diagon, wifi, mb]                             |[0.01163148538544192,0.002850971347652376,-0.01171083496301435,-0.007473935256712139,-0.0015711720916442573,0.002746606688015163,-0.001446471572853625,-0.010513688798528166,-2.0290096290409566E-5,-1.2691428128164262E-4,-0.018221459258347752,-0.020866306079551578,0.010961530639906415,-7.3604533681646E-4,0.008019348350353539,-3.627477213740349E-4,-0.009405290265567601,-0.0031343184760771695,0.01408203449100256,-0.007154853083193302,0.0017081295256502927,-0.001106712711043656,-0.011628406587988138,-0.0036193932639434936,0.006086524529382587,-0.013648511655628682,-0.008273173309862615,-0.002211289945989847,-0.006299489336379339,0.017258477304130795,-0.0051273499382659795,0.002217902534175664,-0.011597232706844807,-0.0036437921691685918,-0.0033446531742811203,0.004258090222720057,0.013785613980144263,0.0015546148650173565,-0.005125559063162655,-0.012931610178202392,-8.446482010185719E-4,0.009612985514104368,-0.0027734842151403427,0.0072058958932757385,-0.009232360939495267,-0.010105567518621683,-0.005673259403556586,0.009747439034981653,-0.0010424964595586062,-0.009911756229121238,-0.0015923334984108807,0.004494574945420027,0.005958141502924264,0.0025758150033652785,0.019126100318680984,-0.004155664192512632,-0.004820098914206029,-0.0032730779377743604,-0.012165244948118926,-0.0016274657798931004,0.001459649509524752,-0.0023577914573252204,0.011477000871673228,0.0062387373996898535]|\n",
      "|4  |Classic Flat near Sagrada Familia / Shared terrace|Classic Flat near Sagrada Familia   Shared terrace|[classic, flat, near, sagrada, familia, , , shared, terrace] |[classic, flat, near, sagrada, familia, share, terrac]      |[0.006753089571637766,-0.0011837613502783434,-0.005929595674388111,-0.003495259775913187,0.0017326574639550277,0.006327644223347306,0.003494182601571083,0.002252371183463505,0.0030473701689126232,-0.006301613898748265,-0.008158880951149123,-0.00669514321322952,6.599649121718747E-4,-0.004788138238447053,-0.0037127937622634427,-0.0035119668547330157,-8.641448969553624E-4,0.004313921780391995,0.005080904778359191,0.001069446443580091,-1.7299619503319263E-4,0.00298386812210083,-0.005228833561497075,-0.008196733692394835,8.905597465595097E-4,-0.00294015410431062,-0.002722519582935742,0.005924287235497363,-0.00122927879315934,0.006307693115169448,-0.0018056026393813746,0.008746656090287226,-0.0014347115731132881,-0.008315018527874989,0.0021689638794798933,-0.006585829741587596,0.0066285452672413415,-0.0019365960698840873,-0.003322712544884,-2.3997220809438398E-4,-0.008189351447591824,0.005029684015815811,-0.006830916590323405,0.0016077893919178416,-0.0029170474070789555,-0.006853249206739877,-0.0022499238673065387,-0.0011866425962320396,0.001178502371268613,-0.0033380529078255805,-0.002014876709186605,0.005320754093450627,7.663120715213673E-4,0.001163936752293791,0.001695317548832723,-0.004970041876991412,-0.004201551101037434,-0.004939429478586784,-0.005685208997290049,0.0021494258461253984,0.004626688031878854,0.0033918180353274302,0.008115935538496289,0.001191310052360807]        |\n",
      "|5  |Sweett | Luminous 3BR near Plaza Catalunya        |Sweett   Luminous  BR near Plaza Catalunya        |[sweett, , , luminous, , br, near, plaza, catalunya]         |[sweett, lumin, br, near, plaza, catalunya]                 |[0.007617533517380555,0.003666087674597899,-0.0038891469594091177,-0.0025918500032275915,-0.00261324345531951,3.690717955275128E-4,0.0017079396347980946,-0.00498881601379253,0.0021822578467739122,-0.004408385080751032,-0.008897130688031513,-0.005439785968822737,0.0062925930833444,-0.0031136085744947195,5.438852046305934E-4,-0.004410110258807738,-0.0047643636450326685,-1.7112897088130314E-5,0.012062926563279081,0.005002888307596246,-1.3299169950187206E-5,-3.258829237893224E-4,-0.0021518030941175916,-0.005216203513555229,9.719715841735402E-4,-0.009633195508892337,-0.006737216802624364,6.817063937584559E-4,-0.0014243138721212745,0.012366454000584781,-0.005474728066474199,0.006372366022939483,-0.002171575906686485,-5.276384763419628E-4,4.38511255197227E-4,0.002698296603436271,0.0033413054576764503,-0.001137815765105188,0.0017848917608110544,0.0027616515289992094,-0.007406369239712754,-0.001402806316036731,-0.0035121616286536055,0.003644621222823237,-0.0014184069198866685,-0.0068294856464490294,-0.0027352192749579745,0.0035058486585815745,0.003728704560974923,-0.0024712071899557486,-6.977962718034784E-4,0.0034493468022750067,0.008757428508639956,0.003349293644229571,0.008870666536192099,-0.005311375194044861,-0.0033677472189689675,-0.006335627210016051,-0.001812694021888698,0.0019053625486170251,0.002626317300988982,5.560998106375337E-4,0.010514581818521643,0.0027780713862739503]   |\n",
      "|6  |vig2 Right in El Born, old town, happy apartment! |vig  Right in El Born  old town  happy apartment  |[vig, , right, in, el, born, , old, town, , happy, apartment]|[vig, right, el, born, old, town, happi, apart]             |[0.001696456180070527,0.006953281959795277,-0.0032959345990093425,-5.035315837176313E-4,-0.004231406448525377,7.37555579689797E-4,-0.011229162490053568,-0.007315560651477426,0.0022487656387966126,-0.003317286285891896,-0.016538006952032447,-0.01295863300038036,0.0076903419467271306,4.7155332867987454E-4,0.008013290447706822,-0.002449806866934523,-0.009809288894757628,-0.0019418030278757215,0.014998936050687917,-0.005284844432026148,0.002710833039600402,-0.003481604071566835,0.001722177297779126,-0.005619794785161503,0.0030367976396519225,-0.017275666163186543,-0.006363181286360486,-0.0014524715661536902,-0.0017441272793803364,0.014790810688282363,-0.004947201523464173,0.0025708478897286113,-0.004931079769448843,-0.00772017179406248,0.0072990557964658365,-9.924973346642219E-5,0.019243931194068864,0.0035604256263468415,0.007386036108073313,-0.00434890559699852,-0.0018042545561911538,0.002006989496294409,0.0019132637680741027,0.005492539858096279,-0.0020102534617763013,-0.016517925017978996,-0.008887590709491633,0.012186496227513999,-0.005575077742832946,0.0031606974480382632,0.0010623342750477605,0.013974062050692737,0.00778375355002936,0.010170189416385256,0.01887055103725288,-0.005438377451355336,-7.108690333552659E-4,-0.002175938163418323,-0.0026303399790776893,7.923893281258643E-5,2.9672900564037263E-4,0.0025794890243560076,0.008894712693290785,0.003247911430662498]          |\n",
      "|7  |Rocafort nice & bright 3 stops away Pza Cataluña  |Rocafort nice   bright   stops away Pza Catalu a  |[rocafort, nice, , , bright, , , stops, away, pza, catalu, a]|[rocafort, nice, bright, stop, away, pza, catalu]           |[0.0026944183794382426,7.044356648943254E-4,-0.00389894558715501,2.4227192625403404E-5,-5.124952378017561E-4,-3.5537348594516516E-4,-9.568027204035648E-4,5.816755084586994E-4,-9.073609419699226E-4,-0.00289028014854661,-0.0065199724465076405,-0.004903079617568956,0.0023655034601688385,0.0017644049949012697,0.001806343614589423,-9.901105492774928E-4,-0.0031265360303223133,0.0011816274574292557,0.008693766879982181,5.452896751064275E-4,0.001991862660880932,-0.003460835465895278,5.985506078494446E-4,-0.002523090669585924,0.0023048139410093427,-0.004473220016474703,-0.0021492893075836556,3.375182984330292E-4,-0.0036359262552910616,0.006637362938948042,-0.0014518025813491215,-2.5626222902376734E-4,0.0018473179703245737,-0.0013095177710056305,5.85191450746996E-4,-0.0016487055358343889,0.0041193075261877045,0.003650734733257975,1.7213518731296062E-4,-8.871637733786234E-4,-0.0024775423693686855,0.0010450829618743487,-0.0037250969991354005,0.0049368443765810555,-0.002232139730559928,-0.002991234118651066,-0.0051990542061893,0.0019109602934414785,-0.0024353479800213657,-9.835385883759174E-4,9.340043512306043E-4,0.004554194448116634,0.006241453335470786,0.004207540785760752,0.007271443643341107,-9.278276785542922E-4,1.2129518602575574E-4,4.835442939241017E-4,-0.005090714249360774,7.925774303397962E-4,-7.550285330840519E-4,-0.0013669447050363357,0.0037053461783216335,0.0025516661615776165] |\n",
      "|8  |Habitación cerca sagrada familia-2                |Habitaci n cerca sagrada familia                  |[habitaci, n, cerca, sagrada, familia]                       |[habitaci, n, cerca, sagrada, familia]                      |[-0.038644928578287364,-0.011491731181740761,0.10803800127469004,0.06697716601192952,-0.05298324963077903,-0.04410911016166211,-0.03162538667675108,-0.043895447475370025,-0.006524332007393241,-0.05502260302891955,-0.01849058847874403,0.09158292217180133,0.018522903649136425,0.059120270819403235,-0.04174667759798467,-0.005662915296852589,0.049050568137317896,0.10832339506596328,0.013831685576587916,-0.06622880096547305,0.022901466954499485,-0.0468073470517993,-0.00865426897071302,0.1082039037719369,-0.021369443414732816,-0.09920444302260877,0.040099280420690775,-0.04549449370242656,-0.02401988231576979,-0.025154476426541807,-0.0468685565982014,0.016598092764616015,0.10342744416557254,0.02609191951341927,0.10072508808225394,0.016577426227740943,0.019280368834733965,-0.007941053900867702,0.04470021957531572,0.02545358780771494,0.051927479170262816,-0.05466762599535287,-0.013229121011681855,-0.043510377407073975,-0.015325602050870657,-0.057234757230617106,-0.0252543761394918,-0.015258229151368142,0.08009017948061228,0.005152475007344038,0.032761297491379085,-0.017794101033359766,-0.025664548855274916,0.0035610958002507687,0.026004306972026825,0.026184076070785524,0.05787136796861887,-0.017227963265031575,0.04140603188425303,0.029505345877259972,-0.004001671541482211,-0.04215575057314709,0.018927103001624347,0.01982970862009097]                                                       |\n",
      "|9  |LOVELY DOUBLE ROOM IN BARCELONA CENTER 1          |LOVELY DOUBLE ROOM IN BARCELONA CENTER            |[lovely, double, room, in, barcelona, center]                |[love, doubl, room, barcelona, center]                      |[0.01587567487731576,0.009336812002584339,-0.023703391337767245,-0.0059004692593589425,-0.004260917566716671,0.003247651690617204,-0.014384695189073683,-0.013636132469400764,-0.0033683598041534426,-0.008025011117570103,-0.04846171662211418,-0.04213546290993691,0.02021952448412776,-0.002844210609328002,0.011959986761212349,-0.016379771754145622,-0.01848743883892894,-0.0033404460176825524,0.05153866112232208,-0.012933900835923851,0.0068659572396427395,-0.0056417005136609084,-0.014234210830181837,-0.018946913816034795,0.004187947046011687,-0.04339576382189989,-0.018903582077473405,-0.004746640333905816,-0.014505821955390276,0.04797943346202374,-0.017585238441824913,0.016058467887341978,-0.012475091964006424,-0.011518826987594367,0.006367459858302027,0.00871340287849307,0.042268439382314685,0.01269467119127512,0.003265769314020872,-0.005526930466294289,-0.01047737766057253,0.014496776461601258,-0.009791226126253605,0.018561639264225962,-0.006838160078041256,-0.04409191198647022,-0.01745610311627388,0.02052715113386512,-0.003808449488133192,-0.014192801993340255,0.00943163123447448,0.02330820206552744,0.021673232689499857,0.024814140982925892,0.050618779659271244,-0.005558275571092963,-0.0037234748713672163,-0.010134505201131107,-0.019089768361300233,0.0022162206820212304,0.0012785671831807123,-0.0044315700419247156,0.03355074934661389,0.011119616124778986]                          |\n",
      "|10 |Magnífico Atico con piscina/jardín cerca de playa |Magn fico Atico con piscina jard n cerca de playa |[magn, fico, atico, con, piscina, jard, n, cerca, de, playa] |[magn, fico, atico, con, piscina, jard, n, cerca, de, playa]|[-0.00920979445509147,0.008244002709398046,0.040396970836445695,0.025449834734899923,-0.03659723765449598,-0.01607033296022564,-0.02870192910777405,-0.027722228405764326,-0.004278951050946489,-0.030950619518989697,-0.03501408245356288,0.016921364632435144,0.01703627749811858,0.02903949102619663,-0.0066355396527796985,-0.005773717968259007,0.0053564715213724415,0.04289048947393895,0.030367551022209227,-0.0382022365112789,0.011733066331362353,-0.016286299531930126,-0.007410560781136156,0.036965419980697335,-0.006051303814820131,-0.06834132968797349,0.004367113020271063,-0.020813640276901427,-0.016519989725202324,0.010310515051241965,-0.026757825468666854,0.0054975172621198,0.03581347572617233,0.003541454439982772,0.05298316368716769,0.017047719447873533,0.040120382135501134,0.004900280994479545,0.027467394864652307,0.003799546230584383,0.016363217751495542,-0.017556439724285156,-0.0019470043538603933,-0.004552507057087496,-0.013027097075246276,-0.05686660963110626,-0.023572048055939376,0.009710644977167249,0.026427660486660898,2.462531963828951E-4,0.019653412722982468,0.00703511333122151,0.004235641215927899,0.016877402970567345,0.045185383094940336,0.007540553424041719,0.020137343357055217,-0.008093913114862517,0.010783461038954556,0.013844571568188259,-0.007298388204071671,-0.014308538543991745,0.022106998949311674,0.00796675605379278]                                           |\n",
      "|11 |BONITA HABITACION CON BAÑO                        |BONITA HABITACION CON BA O                        |[bonita, habitacion, con, ba, o]                             |[bonita, habitacion, con, ba]                               |[-0.018874059431254864,0.002812103251926601,0.05229077814146876,0.03515168745070696,-0.032886103726923466,-0.0231124316342175,-0.02146067755529657,-0.025363204535096884,4.4272805098444223E-4,-0.029240969102829695,-0.018505989108234644,0.03757513622986153,0.015995091176591814,0.030112825275864452,-0.013145519507816061,3.280830569565296E-4,0.01666277542244643,0.05138407164486125,0.015842994675040245,-0.03378748148679733,0.012945159920491278,-0.02427406737115234,-0.0060321970377117395,0.05564843234606087,-0.009740216773934662,-0.05578593676909804,0.015389288309961557,-0.01988857871037908,-0.013434464577585459,-4.7897297190502286E-4,-0.024667254649102688,0.0011503268906380981,0.05100246798247099,0.01081999106099829,0.04784335003932938,0.012531906286312733,0.01979822339490056,-0.005865030529093929,0.025245805736631155,0.007155993123888038,0.026258273515850306,-0.02927649673074484,-0.0016791384550742805,-0.01305554702412337,-0.008091205672826618,-0.038654524367302656,-0.015536985825747252,3.2436830224469304E-4,0.04032411379739642,0.005861921003088355,0.021837916516233236,-0.0014900877140462399,-0.004855727980611846,0.010193769005127251,0.023752291686832905,0.00984544662060216,0.031543131452053785,-0.008549650781787932,0.01896789629245177,0.01167598960455507,-0.007845147396437824,-0.019765493168961257,0.021693338989280164,0.012285030912607908]                                          |\n",
      "|12 |Habitación grande y luminosa                      |Habitaci n grande y luminosa                      |[habitaci, n, grande, y, luminosa]                           |[habitaci, n, grand, luminosa]                              |[-0.047476192587055266,-0.004842304449994117,0.1297866920940578,0.08127438131486997,-0.07043890794739127,-0.05872679769527167,-0.050392097764415666,-0.060490469448268414,-0.011675350135192275,-0.06567081343382597,-0.028009721194393933,0.10087390837725252,0.029451926093315706,0.07810492138378322,-0.0409284096385818,-0.008117695455439389,0.04849037650274113,0.12461587064899504,0.0294892864767462,-0.09098838758654892,0.028832034033257514,-0.05811916571110487,-0.004986867483239621,0.13146737241186202,-0.027555678971111774,-0.13270304119214416,0.04620014980901033,-0.06176294956821948,-0.028983290889300406,-0.016695708269253373,-0.06284971162676811,0.009746115247253329,0.12202180712483823,0.037299005896784365,0.12358334450982511,0.032922699669143185,0.03550097736297175,-0.004977630072971806,0.06613794015720487,0.02963672802434303,0.06712859333492815,-0.06757150785415433,-0.011090790969319642,-0.047444069758057594,-0.020026281126774848,-0.08221759833395481,-0.0345116175012663,-0.005728163640014827,0.09561259089969099,0.01024638234230224,0.046081505017355084,-0.015741333249025047,-0.024064063443802297,0.012882059760158882,0.048977789701893926,0.034811732708476484,0.0733205153956078,-0.019826532487059012,0.05688523571006954,0.03947099833749235,-0.009398076857905835,-0.05632919701747596,0.027882280643098056,0.022065764758735895]                                                            |\n",
      "|13 |Special apartment with terrace                    |Special apartment with terrace                    |[special, apartment, with, terrace]                          |[special, apart, terrac]                                    |[0.005189992409820357,0.011506527507056791,-0.023136786185204983,-0.012291711289435625,-0.0012074198263386884,0.00515638260791699,-0.00800754673158129,-0.0015779024300475915,0.0027430757569770017,0.0093027016458412,-0.01226328018431862,-0.03582296924044688,0.0071681044064462185,-0.011889515250610808,0.012209733948111534,-0.0026946901343762875,-0.025988833357890446,-0.017898184014484286,0.01733455449963609,0.013800933336218197,0.001124623348005116,0.004771349175522724,2.00974871404469E-4,-0.02564398423419334,0.011493479367345572,-0.003139778583620985,-0.010166252730414271,0.007223676540888846,-0.00367337535135448,0.02653982862830162,0.0011250980508824189,-9.64213201465706E-4,-0.019548987038433552,-0.01344839483499527,-0.005967124830931425,-9.581269696354866E-4,0.02544549728433291,0.0024687228724360466,0.0015769474363575378,-0.01124607337017854,-0.009234917738164464,0.016979901197676856,0.005251833703368902,0.010566596252222855,-0.0035639055422507226,-0.014694881159812212,-0.001909833459649235,0.017838609249641497,-0.021522292556862034,7.003919066240389E-4,-0.00782815886971851,0.014887297603612144,0.009784091729670763,0.007290004674966136,0.02084510587155819,-0.011467250374456246,-0.01374312777382632,-4.322200547903776E-4,-0.009014839733329911,-0.010581634667081136,0.004743727738969028,0.013866802522291739,0.015238027088344097,8.583670520844559E-4]                                |\n",
      "|14 |Independent apartment in house with garden        |Independent apartment in house with garden        |[independent, apartment, in, house, with, garden]            |[independ, apart, hous, garden]                             |[0.0018363221461186185,0.00912713899742812,-0.016859036521054804,-0.005303314654156566,-0.003619546230765991,0.0018640783964656293,-0.0061055225669406354,-0.0065314905950799584,0.0036682794452644885,0.007654596527572721,-0.007679243281017989,-0.015200530731817707,0.005949200538452715,-0.004848547192523256,0.013667659368366003,-0.0030655099835712463,-0.013983882905449718,-0.013209824392106384,0.004782116680871695,0.0015408813778776675,0.0010924550879281014,0.001237167394720018,-9.514146368019283E-4,-0.00905276444973424,0.004288095486117527,0.002145284553989768,-0.012178688077256083,0.004735801747301593,-0.0040818427805788815,0.0130956897046417,-5.377712368499488E-4,-0.0010006607917603105,-0.01124675216851756,-0.007440089451847598,-0.00401383638381958,-0.0012784111895598471,0.012683674693107605,0.002522949769627303,-1.3995628978591412E-4,-0.006911808479344472,-0.002434538342640735,0.012249737919773906,0.0037445204507093877,0.005979271649266593,8.61495966091752E-4,-0.008449766697594896,0.001004260207992047,0.013271524803712964,-0.011598320270422846,0.003622806631028652,-0.006989894696744159,0.006039957515895367,0.0029794934671372175,0.007332364475587383,0.009695895132608712,-0.00544654976692982,-0.005723003909224644,-0.001297183451242745,-0.005656012595864013,-0.007611954279127531,-9.342391276732087E-4,0.00588997860904783,0.005939739930909127,0.0027685034146998078]                |\n",
      "|15 |Beautiful private terrace in Studio near Sagrada  |Beautiful private terrace in Studio near Sagrada  |[beautiful, private, terrace, in, studio, near, sagrada]     |[beauti, privat, terrac, studio, near, sagrada]             |[0.010652745064968864,-0.0017482772624740997,-0.013732547018056113,-0.01336215257955094,0.0062933568842709064,0.00940786162391305,0.005380600516218692,0.009247567194203535,8.66653979755938E-4,-0.001401283419302975,-0.014377722167409956,-0.01824317775511493,-0.0012626932972731688,-0.012285704724490643,0.001785258219266931,-0.0014141363596233227,-0.005162565677892417,-0.006740763628234466,0.00975627067964524,0.004403268646759291,-0.0055691888749909895,0.009907086806682248,-0.008410282200202346,-0.022841131159414847,0.0032381169536771872,0.004242175685552259,-0.012155612872447819,0.007249234845706572,-8.254741163303454E-4,0.0120973913387085,9.309396846219897E-4,0.008843995863571763,-0.012134512071497738,-0.013306882416751856,-0.006671992159681395,-0.005938292131759226,0.006578997320805986,0.0033760484075173736,-0.008210282520546267,-0.0019510003427664437,-0.014553078295042116,0.010882023896556348,-0.006643864869450529,0.00739707260314996,-0.001408219516937,-0.004397329408675432,2.7873892880355317E-4,0.00431800854858011,-0.009390981363443036,-0.005683495003419617,0.0014690072663749256,0.007952048210427165,0.005882963208326449,0.005067959583053986,0.010283494445805747,-0.0043019019067287445,-0.010372358451907832,-0.0025411060584398606,-0.01107427702906231,-0.0017386065252746143,9.323466025913755E-4,0.006899265756752962,0.0061560353691068785,-0.0014900125194496163]                   |\n",
      "|16 |Apartment 2 bedrooms near to Sagrada Familia      |Apartment   bedrooms near to Sagrada Familia      |[apartment, , , bedrooms, near, to, sagrada, familia]        |[apart, bedroom, near, sagrada, familia]                    |[0.010402605682611466,-0.0026405305601656438,-0.0157839918974787,-0.007753124181181193,1.1141793802380562E-4,0.01007938664406538,9.01688076555729E-4,-0.0027655627578496936,0.005017930339090527,-0.004569966287817806,-0.01940359976142645,-0.0170629664324224,0.005422138934955001,-0.007261211983859539,-0.001102512702345848,-0.005409047566354275,-0.005317860329523683,-9.510149247944355E-4,0.012561198882758619,0.0040027187438681725,-5.839461693540216E-4,0.0012486927676945926,-0.010048609785735609,-0.016959746181964875,0.0035696797072887424,-0.008600946329534054,-0.008517824858427048,0.007803750596940518,-0.006370384339243174,0.01701779440045357,-0.0010931899771094323,0.01138070421293378,-0.009759525721892716,-0.013318718224763871,-0.0020338251255452634,-0.007770401448942721,0.015031179506331684,-9.314976632595062E-4,-0.003801547084003687,-0.00435502976179123,-0.010301778651773931,0.009175618388690054,-0.004851699434220791,0.0035377399995923046,-0.005330348946154118,-0.012895298772491515,-0.0047018323093652725,0.0033230341970920565,-0.0050023642368614675,-0.005153841804713011,-0.004406432900577783,0.011827952601015568,0.005013201199471951,0.005716709420084953,0.01565652657300234,-0.008575482200831175,-0.008129691053181887,-0.007026862632483245,-0.0131824498064816,6.54163770377636E-5,0.006018805550411344,0.004153685679193587,0.011949298065155746,0.004806678649038077]                   |\n",
      "|17 |Room and private bathroom center Bc               |Room and private bathroom center Bc               |[room, and, private, bathroom, center, bc]                   |[room, privat, bathroom, center, bc]                        |[0.015534219797700644,0.00538090099580586,-0.02525267244782299,-0.0077171183191239836,0.006497673806734383,0.0032678244169801474,-0.002294845459982753,-0.008569099707528949,-0.00259896389907226,6.210473133251072E-4,-0.03322749771177769,-0.04161296901293099,0.01719570280984044,-0.007881486869882793,0.00810103937983513,-0.00402187742292881,-0.014685624360572547,-0.008082943130284547,0.03701654630713165,-0.004177362134214491,-0.0014769109431654215,-9.446780197322369E-4,-0.013895957497879863,-0.01850336757488549,0.006562748830765486,-0.02529541674302891,-0.019252269854769112,-0.003812072239816189,-0.01209166175685823,0.03634679154492915,-0.008634562138468027,0.010051791463047266,-0.02371912356466055,-0.0076745982281863695,-0.007316016778349877,0.0034717359230853617,0.02209378515253775,0.008249819092452527,-0.007224182598292828,-0.011665222793817522,-0.003170379903167486,0.017611669842153788,-0.005539704521652311,0.016535505279898645,-0.009095796197652817,-0.024717990402132274,-0.00859657940454781,0.01815479202196002,-0.0037106612173374745,-0.014404198236297816,0.0042355352547019725,0.01896900795400143,0.013541964907199146,0.014096998795866967,0.034232363756746056,-0.0025970339309424164,-0.008901758592401166,-0.007433894090354443,-0.01777320713736117,-0.002339809504337609,0.0013434057356789709,-0.0012179111596196891,0.022704339493066075,0.008791722054593266]                         |\n",
      "|18 |Sagrada Familia Design with private terrace       |Sagrada Familia Design with private terrace       |[sagrada, familia, design, with, private, terrace]           |[sagrada, familia, design, privat, terrac]                  |[0.005065331980586053,-0.0021174224559217694,-0.007577378023415804,-0.001590484520420432,0.00429522106423974,0.004168416652828455,0.004056885838508606,0.0024537943769246343,0.0018563131336122752,-0.007401507429312915,-0.011909511126577855,-0.010161439608782531,-2.2533349692821503E-5,-0.006139691546559334,-0.003054457623511553,-0.0037374403793364766,-0.0012343691661953927,0.0047063412494026124,0.011864612437784673,0.0018218143144622446,1.9897500751540065E-4,0.0038646804867312314,-0.006978232087567449,-0.009590852865949274,0.003277694992721081,-0.008466368447989226,-0.0054278701543807985,0.006357543473131955,-0.005293804686516523,0.009562412928789855,-0.007746261171996594,0.013477963767945767,-0.0011658044066280126,-0.009485355205833913,0.0031898923218250277,-0.007549335435032845,0.0076994702219963075,3.5263528116047385E-5,-0.00548775033093989,2.951744943857193E-4,-0.007560358848422766,0.006549422978423536,-0.009002898540347816,-7.095891167409719E-4,-0.0016979002393782139,-0.01138224753085524,-0.0027814196422696114,9.534392273053528E-4,0.0017992995097301902,-0.004383575799874961,0.003219440835528076,0.0075886260718107225,0.002574038412421942,0.00341287711635232,0.010011292528361082,-0.004401497868821025,-0.002180196880362928,-0.006167696416378022,-0.006773812649771571,2.585570327937603E-4,0.006680237990804017,0.004986731277313083,0.010854904912412167,0.0018021551310084761]       |\n",
      "|19 |Céntrico y cómodo.                                |C ntrico y c modo                                 |[c, ntrico, y, c, modo]                                      |[c, ntrico, c, modo]                                        |[-0.00681001809425652,0.009193162899464369,0.024021913792239502,0.010093532066093758,-0.02217212866526097,-0.010786246857605875,-0.02395849139429629,-0.015246651077177376,-0.004583061709126923,-0.019759272574447095,-0.026557497185422108,0.0034618567442521453,0.009802908840356395,0.017824908543843776,-0.003639638307504356,-0.007729823992121965,3.144497750326991E-4,0.022991589532466605,0.03521946503315121,-0.028194329934194684,0.015568712668027729,-0.007331458677072078,0.0028872346156276762,0.019648238754598424,-0.0014806011458858848,-0.0506107640103437,-0.0014405727852135897,-0.014676319406135008,-0.012788544467184693,0.01878330105682835,-0.023841175949200988,0.005420447792857885,0.016326006763847545,0.001268768115551211,0.035303319222293794,0.00659314839867875,0.031156611628830433,0.009878365555778146,0.022523896230268292,0.0035194893134757876,0.008533789892680943,-0.006319809588603675,-0.0012141235056333244,-0.001879060066130478,-0.010861259623197839,-0.04078313591890037,-0.01809820963535458,0.009124168893322349,0.01743733638431877,0.004928336682496592,0.011593320377869532,0.007003771490417421,0.006509095313958824,0.008026689640246332,0.03855417144950479,6.816245149821043E-5,0.015614879870554432,-0.010682952939532697,0.006878097105072811,0.014040228561498225,-0.008692603441886604,-0.007345228776102886,0.019474973145406693,0.010639855812769383]                                  |\n",
      "+---+--------------------------------------------------+--------------------------------------------------+-------------------------------------------------------------+------------------------------------------------------------+--------------------------------------------------------------------------------------------------------------------------------------------------------------------------------------------------------------------------------------------------------------------------------------------------------------------------------------------------------------------------------------------------------------------------------------------------------------------------------------------------------------------------------------------------------------------------------------------------------------------------------------------------------------------------------------------------------------------------------------------------------------------------------------------------------------------------------------------------------------------------------------------------------------------------------------------------------------------------------------------------------------------------------------------------------------------------------------------------------------------------------------------------------------------------------------------------------------------------------------------------------------------------------------------------------------------------------------------------------------------------------------------------------------------------------------------------------+\n",
      "only showing top 20 rows\n",
      "\n"
     ]
    },
    {
     "name": "stderr",
     "output_type": "stream",
     "text": [
      "                                                                                \r"
     ]
    }
   ],
   "source": [
    "listings_df = add_features(listings_df, \"name\", \"features\", stemmer='nltk')\n",
    "listings_df.show(truncate=False)"
   ]
  },
  {
   "cell_type": "code",
   "execution_count": null,
   "metadata": {},
   "outputs": [
    {
     "name": "stderr",
     "output_type": "stream",
     "text": [
      "                                                                                \r"
     ]
    }
   ],
   "source": [
    "listings_df = add_gt_similar(listings_df, id_col='id', features_col='features', gt_similar_col='gt_similar_listings')\n",
    "listings_df.show(truncate=True)"
   ]
  },
  {
   "cell_type": "code",
   "execution_count": null,
   "metadata": {},
   "outputs": [],
   "source": [
    "possibleHashTablesCount = [1,]\n",
    "possibleDistanceThresholds = [0.9, ]\n",
    "possibleBucketLenghts = [3, ]\n",
    "\n",
    "param_grid = []\n",
    "for hashTablesCount in possibleHashTablesCount:\n",
    "    for distanceThreshold in possibleDistanceThresholds:\n",
    "        for bucketLength in possibleBucketLenghts:\n",
    "            param_grid.append({'numHashTables': hashTablesCount, 'distanceThreshold': distanceThreshold, 'bucketLength': bucketLength})"
   ]
  },
  {
   "cell_type": "code",
   "execution_count": null,
   "metadata": {},
   "outputs": [
    {
     "name": "stderr",
     "output_type": "stream",
     "text": [
      "Exception in thread \"serve-DataFrame\" java.net.SocketTimeoutException: Accept timed out\n",
      "\tat java.base/java.net.PlainSocketImpl.socketAccept(Native Method)\n",
      "\tat java.base/java.net.AbstractPlainSocketImpl.accept(AbstractPlainSocketImpl.java:474)\n",
      "\tat java.base/java.net.ServerSocket.implAccept(ServerSocket.java:565)\n",
      "\tat java.base/java.net.ServerSocket.accept(ServerSocket.java:533)\n",
      "\tat org.apache.spark.security.SocketAuthServer$$anon$1.run(SocketAuthServer.scala:65)\n",
      "100%|██████████| 9/9 [13:46<00:00, 91.84s/it]                                   \n"
     ]
    }
   ],
   "source": [
    "airbnb_parameters_evaled = grid_search_tuning(listings_df, \n",
    "                                              param_grid, \n",
    "                                              id_col=\"id\", \n",
    "                                              features_col = 'features', \n",
    "                                              gt_similar_col = 'gt_similar_listings',\n",
    "                                              pred_similar_col = 'pred_similar_listings', \n",
    "                                              top_parameter_sets = -1,\n",
    "                                              verbose=True)"
   ]
  },
  {
   "cell_type": "code",
   "execution_count": null,
   "metadata": {},
   "outputs": [
    {
     "data": {
      "image/png": "[encoded data removed]",
      "text/plain": [
       "<Figure size 1200x600 with 4 Axes>"
      ]
     },
     "metadata": {},
     "output_type": "display_data"
    }
   ],
   "source": [
    "visualize_gridsearch_res(airbnb_parameters_evaled)"
   ]
  },
  {
   "cell_type": "code",
   "execution_count": 42,
   "metadata": {},
   "outputs": [
    {
     "name": "stdout",
     "output_type": "stream",
     "text": [
      "The best parameter set is {'numHashTables': 10, 'distanceThreshold': 1.5}.\n",
      "It has IOU=0.199 and computation time of 116.412 seconds\n"
     ]
    }
   ],
   "source": [
    "airbnb_top_iou = max(airbnb_parameters_evaled, key=lambda x: x['iou'])['iou']\n",
    "airbnb_top_iou_params = filter(lambda x: x['iou'] == airbnb_top_iou, airbnb_parameters_evaled)\n",
    "airbnb_top_iou_and_smallest_time_params = min(airbnb_top_iou_params, key=lambda x: x['computation_time'])\n",
    "print(f\"\"\"The best parameter set is {airbnb_top_iou_and_smallest_time_params['params']}.\n",
    "It has IOU={airbnb_top_iou_and_smallest_time_params['iou']:.3f} and computation time of {airbnb_top_iou_and_smallest_time_params['computation_time']:.3f} seconds\"\"\")"
   ]
  },
  {
   "cell_type": "markdown",
   "metadata": {},
   "source": [
    "## Part 2. Wikipedia LSH experiment"
   ]
  },
  {
   "cell_type": "markdown",
   "metadata": {},
   "source": [
    "### Obtain data"
   ]
  },
  {
   "cell_type": "code",
   "execution_count": 43,
   "metadata": {},
   "outputs": [],
   "source": [
    "wiki_request_res = requests.get(\"https://wikimedia.org/api/rest_v1/metrics/pageviews/top/uk.wikipedia.org/all-access/2024/09/all-days\", headers={\n",
    "    \"Accept\": \"application/json\",\n",
    "    \"User-Agent\": \"Mozilla/5.0 (X11; Ubuntu; Linux x86_64; rv:129.0) Gecko/20100101 Firefox/129.0\",\n",
    "    \"Referer\": \"https://doc.wikimedia.org/\"\n",
    "})"
   ]
  },
  {
   "cell_type": "code",
   "execution_count": 44,
   "metadata": {},
   "outputs": [],
   "source": [
    "articles_data = wiki_request_res.json()['items'][0]['articles']"
   ]
  },
  {
   "cell_type": "markdown",
   "metadata": {},
   "source": [
    "### Transform data"
   ]
  },
  {
   "cell_type": "code",
   "execution_count": 45,
   "metadata": {},
   "outputs": [],
   "source": [
    "articles_df = SPARK.createDataFrame(articles_data)"
   ]
  },
  {
   "cell_type": "code",
   "execution_count": 46,
   "metadata": {},
   "outputs": [
    {
     "name": "stderr",
     "output_type": "stream",
     "text": [
      "                                                                                \r"
     ]
    },
    {
     "name": "stdout",
     "output_type": "stream",
     "text": [
      "1000\n",
      "+-----------------------------------------------+----+------+\n",
      "|article                                        |rank|views |\n",
      "+-----------------------------------------------+----+------+\n",
      "|Головна_сторінка                               |1   |469652|\n",
      "|Спеціальна:Пошук                               |2   |197066|\n",
      "|Волинська_трагедія                             |3   |82508 |\n",
      "|Klavdia_Petrivna                               |4   |79497 |\n",
      "|Україна                                        |5   |61993 |\n",
      "|YouTube                                        |6   |60683 |\n",
      "|Сибіга_Андрій_Іванович                         |7   |58442 |\n",
      "|Перша_світова_війна                            |8   |50199 |\n",
      "|Національна_суспільна_телерадіокомпанія_України|9   |42675 |\n",
      "|Масляков_Олександр_Васильович                  |10  |37677 |\n",
      "|Нечуй-Левицький_Іван_Семенович                 |11  |37089 |\n",
      "|Президентські_вибори_у_США_2024                |12  |35302 |\n",
      "|Лавров_Сергій_Вікторович                       |13  |34938 |\n",
      "|Білокур_Катерина_Василівна                     |14  |34210 |\n",
      "|Київ                                           |15  |33559 |\n",
      "|Як-130                                         |16  |32892 |\n",
      "|Військові_звання_України                       |17  |32771 |\n",
      "|Радіо_«Свобода»                                |18  |32617 |\n",
      "|Лайл_і_Ерік_Менендеси                          |19  |31860 |\n",
      "|Файл:Battle_of_Ostroleka_1831.PNG              |20  |31396 |\n",
      "+-----------------------------------------------+----+------+\n",
      "only showing top 20 rows\n",
      "\n"
     ]
    }
   ],
   "source": [
    "print(articles_df.count())\n",
    "articles_df.show(truncate=False)"
   ]
  },
  {
   "cell_type": "markdown",
   "metadata": {},
   "source": [
    "Let's add vectors of features to the dataframe:"
   ]
  },
  {
   "cell_type": "code",
   "execution_count": 47,
   "metadata": {},
   "outputs": [
    {
     "name": "stderr",
     "output_type": "stream",
     "text": [
      "                                                                                \r"
     ]
    }
   ],
   "source": [
    "articles_df = add_features(articles_df, \"article\", \"features\")"
   ]
  },
  {
   "cell_type": "code",
   "execution_count": 48,
   "metadata": {},
   "outputs": [
    {
     "name": "stdout",
     "output_type": "stream",
     "text": [
      "+--------------------+----+------+--------------------+--------------------+--------------------+--------------------+\n",
      "|             article|rank| views|       article_clean|               words|        stemmedWords|            features|\n",
      "+--------------------+----+------+--------------------+--------------------+--------------------+--------------------+\n",
      "|    Головна_сторінка|   1|469652|    Головна сторінка| [головна, сторінка]|    [головн, сторін]|[0.00152542127761...|\n",
      "|    Спеціальна:Пошук|   2|197066|    Спеціальна Пошук| [спеціальна, пошук]|  [спеціальн, пошук]|[-0.0022772398078...|\n",
      "|  Волинська_трагедія|   3| 82508|  Волинська трагедія|[волинська, траге...| [волинськ, трагеді]|[2.72335601039230...|\n",
      "|    Klavdia_Petrivna|   4| 79497|    Klavdia Petrivna| [klavdia, petrivna]| [klavdia, petrivna]|[0.00389861292205...|\n",
      "|             Україна|   5| 61993|             Україна|           [україна]|            [україн]|[-0.1701949238777...|\n",
      "|             YouTube|   6| 60683|             YouTube|           [youtube]|           [youtube]|[2.26475298404693...|\n",
      "|Сибіга_Андрій_Іва...|   7| 58442|Сибіга Андрій Іва...|[сибіга, андрій, ...|[сибі, андрі, іва...|[-0.0029219231801...|\n",
      "| Перша_світова_війна|   8| 50199| Перша світова війна|[перша, світова, ...|[перш, світов, війн]|[-0.0040521080760...|\n",
      "|Національна_суспі...|   9| 42675|Національна суспі...|[національна, сус...|[національн, сусп...|[-0.0473162189009...|\n",
      "|Масляков_Олександ...|  10| 37677|Масляков Олександ...|[масляков, олекса...|[масляков, олекса...|[7.2839700927337E...|\n",
      "|Нечуй-Левицький_І...|  11| 37089|Нечуй Левицький І...|[нечуй, левицький...|[нечу, левицьк, і...|[0.00160957119078...|\n",
      "|Президентські_виб...|  12| 35302|Президентські виб...|[президентські, в...|[президентськ, ви...|[0.00110776977574...|\n",
      "|Лавров_Сергій_Вік...|  13| 34938|Лавров Сергій Вік...|[лавров, сергій, ...|[лавров, серг, ві...|[-0.0039630362395...|\n",
      "|Білокур_Катерина_...|  14| 34210|Білокур Катерина ...|[білокур, катерин...|[білокур, катерин...|[-0.0011559664271...|\n",
      "|                Київ|  15| 33559|                Київ|              [київ]|                [ки]|[-0.0028944099321...|\n",
      "|Військові_звання_...|  17| 32771|Військові звання ...|[військові, званн...|[військ, званн, у...|[-0.0609110152969...|\n",
      "|     Радіо_«Свобода»|  18| 32617|     Радіо  Свобода |  [радіо, , свобода]|       [радіо, своб]|[2.26010335609316...|\n",
      "|Лайл_і_Ерік_Менен...|  19| 31860|Лайл і Ерік Менен...|[лайл, і, ерік, м...|[лайл, ерік, мене...|[-6.8483990617096...|\n",
      "|Файл:Battle_of_Os...|  20| 31396|Файл Battle of Os...|[файл, battle, of...|[файл, battle, os...|[0.00219526284490...|\n",
      "|Полтавський_війсь...|  21| 30933|Полтавський війсь...|[полтавський, вій...|[полтавськ, війсь...|[-0.0068009732291...|\n",
      "+--------------------+----+------+--------------------+--------------------+--------------------+--------------------+\n",
      "only showing top 20 rows\n",
      "\n"
     ]
    }
   ],
   "source": [
    "articles_df.show()"
   ]
  },
  {
   "cell_type": "markdown",
   "metadata": {},
   "source": [
    "### Obtaining Ground Truth similarities"
   ]
  },
  {
   "cell_type": "code",
   "execution_count": 49,
   "metadata": {},
   "outputs": [
    {
     "name": "stderr",
     "output_type": "stream",
     "text": [
      "                                                                                \r"
     ]
    }
   ],
   "source": [
    "articles_df = add_gt_similar(articles_df, id_col='rank', features_col='features', gt_similar_col='gt_similar_articles')"
   ]
  },
  {
   "cell_type": "markdown",
   "metadata": {},
   "source": [
    "Let's see newly added ground truth similar articles:"
   ]
  },
  {
   "cell_type": "code",
   "execution_count": 50,
   "metadata": {},
   "outputs": [
    {
     "name": "stderr",
     "output_type": "stream",
     "text": [
      "[Stage 1565:==============>                                         (2 + 6) / 8]\r"
     ]
    },
    {
     "name": "stdout",
     "output_type": "stream",
     "text": [
      "+----+--------------------+------+--------------------+--------------------+--------------------+--------------------+--------------------+\n",
      "|rank|             article| views|       article_clean|               words|        stemmedWords|            features| gt_similar_articles|\n",
      "+----+--------------------+------+--------------------+--------------------+--------------------+--------------------+--------------------+\n",
      "|   1|    Головна_сторінка|469652|    Головна сторінка| [головна, сторінка]|    [головн, сторін]|[0.00152542127761...|[638, 846, 819, 7...|\n",
      "|   2|    Спеціальна:Пошук|197066|    Спеціальна Пошук| [спеціальна, пошук]|  [спеціальн, пошук]|[-0.0022772398078...|[601, 406, 574, 5...|\n",
      "|   3|  Волинська_трагедія| 82508|  Волинська трагедія|[волинська, траге...| [волинськ, трагеді]|[2.72335601039230...|[238, 732, 747, 8...|\n",
      "|   4|    Klavdia_Petrivna| 79497|    Klavdia Petrivna| [klavdia, petrivna]| [klavdia, petrivna]|[0.00389861292205...|[672, 841, 525, 6...|\n",
      "|   5|             Україна| 61993|             Україна|           [україна]|            [україн]|[-0.1701949238777...|[844, 640, 819, 6...|\n",
      "|   6|             YouTube| 60683|             YouTube|           [youtube]|           [youtube]|[2.26475298404693...|[525, 966, 530, 2...|\n",
      "|   7|Сибіга_Андрій_Іва...| 58442|Сибіга Андрій Іва...|[сибіга, андрій, ...|[сибі, андрі, іва...|[-0.0029219231801...|[980, 547, 964, 9...|\n",
      "|   8| Перша_світова_війна| 50199| Перша світова війна|[перша, світова, ...|[перш, світов, війн]|[-0.0040521080760...|[185, 432, 469, 1...|\n",
      "|   9|Національна_суспі...| 42675|Національна суспі...|[національна, сус...|[національн, сусп...|[-0.0473162189009...|[844, 640, 819, 6...|\n",
      "|  10|Масляков_Олександ...| 37677|Масляков Олександ...|[масляков, олекса...|[масляков, олекса...|[7.2839700927337E...|[734, 470, 964, 2...|\n",
      "|  11|Нечуй-Левицький_І...| 37089|Нечуй Левицький І...|[нечуй, левицький...|[нечу, левицьк, і...|[0.00160957119078...|[65, 541, 750, 20...|\n",
      "|  12|Президентські_виб...| 35302|Президентські виб...|[президентські, в...|[президентськ, ви...|[0.00110776977574...|[844, 640, 390, 6...|\n",
      "|  13|Лавров_Сергій_Вік...| 34938|Лавров Сергій Вік...|[лавров, сергій, ...|[лавров, серг, ві...|[-0.0039630362395...|[640, 844, 819, 6...|\n",
      "|  14|Білокур_Катерина_...| 34210|Білокур Катерина ...|[білокур, катерин...|[білокур, катерин...|[-0.0011559664271...|[882, 307, 974, 1...|\n",
      "|  15|                Київ| 33559|                Київ|              [київ]|                [ки]|[-0.0028944099321...|[647, 312, 323, 5...|\n",
      "|  17|Військові_звання_...| 32771|Військові звання ...|[військові, званн...|[військ, званн, у...|[-0.0609110152969...|[844, 640, 819, 6...|\n",
      "|  18|     Радіо_«Свобода»| 32617|     Радіо  Свобода |  [радіо, , свобода]|       [радіо, своб]|[2.26010335609316...|[957, 438, 420, 5...|\n",
      "|  19|Лайл_і_Ерік_Менен...| 31860|Лайл і Ерік Менен...|[лайл, і, ерік, м...|[лайл, ерік, мене...|[-6.8483990617096...|[684, 980, 893, 9...|\n",
      "|  20|Файл:Battle_of_Os...| 31396|Файл Battle of Os...|[файл, battle, of...|[файл, battle, os...|[0.00219526284490...|[503, 462, 815, 8...|\n",
      "|  21|Полтавський_війсь...| 30933|Полтавський війсь...|[полтавський, вій...|[полтавськ, війсь...|[-0.0068009732291...|[844, 640, 819, 6...|\n",
      "+----+--------------------+------+--------------------+--------------------+--------------------+--------------------+--------------------+\n",
      "only showing top 20 rows\n",
      "\n"
     ]
    },
    {
     "name": "stderr",
     "output_type": "stream",
     "text": [
      "                                                                                \r"
     ]
    }
   ],
   "source": [
    "articles_df.show()"
   ]
  },
  {
   "cell_type": "markdown",
   "metadata": {},
   "source": [
    "## Prediction with Locality Sensitive Hashing\n",
    "\n",
    "Let's create  a parameters grid:"
   ]
  },
  {
   "cell_type": "code",
   "execution_count": 51,
   "metadata": {},
   "outputs": [],
   "source": [
    "possibleHashTablesCount = [1, 3, 5, 10]\n",
    "possibleDistanceThresholds = [0.9, 0.5, 1.5]\n",
    "\n",
    "param_grid = []\n",
    "for hashTablesCount in possibleHashTablesCount:\n",
    "    for distanceThreshold in possibleDistanceThresholds:\n",
    "        param_grid.append({'numHashTables': hashTablesCount, 'distanceThreshold': distanceThreshold})"
   ]
  },
  {
   "cell_type": "markdown",
   "metadata": {},
   "source": [
    "And perform the grid search. We want to obtain results for all the parameters to perform the visualization:"
   ]
  },
  {
   "cell_type": "code",
   "execution_count": 52,
   "metadata": {},
   "outputs": [
    {
     "name": "stderr",
     "output_type": "stream",
     "text": [
      "ERROR:root:KeyboardInterrupt while sending command.][Stage 2002:> (0 + 0) / 8]4]\n",
      "Traceback (most recent call last):\n",
      "  File \"/home/andrii/MMDS/venv/lib/python3.12/site-packages/py4j/java_gateway.py\", line 1038, in send_command\n",
      "    response = connection.send_command(command)\n",
      "               ^^^^^^^^^^^^^^^^^^^^^^^^^^^^^^^^\n",
      "  File \"/home/andrii/MMDS/venv/lib/python3.12/site-packages/py4j/clientserver.py\", line 511, in send_command\n",
      "    answer = smart_decode(self.stream.readline()[:-1])\n",
      "                          ^^^^^^^^^^^^^^^^^^^^^^\n",
      "  File \"/usr/lib/python3.12/socket.py\", line 707, in readinto\n",
      "    return self._sock.recv_into(b)\n",
      "           ^^^^^^^^^^^^^^^^^^^^^^^\n",
      "KeyboardInterrupt\n",
      " 58%|█████▊    | 7/12 [07:45<05:32, 66.43s/it]\n"
     ]
    },
    {
     "ename": "KeyboardInterrupt",
     "evalue": "",
     "output_type": "error",
     "traceback": [
      "\u001b[0;31m---------------------------------------------------------------------------\u001b[0m",
      "\u001b[0;31mKeyboardInterrupt\u001b[0m                         Traceback (most recent call last)",
      "Cell \u001b[0;32mIn[52], line 1\u001b[0m\n\u001b[0;32m----> 1\u001b[0m wiki_parameters_evaled \u001b[38;5;241m=\u001b[39m \u001b[43mgrid_search_tuning\u001b[49m\u001b[43m(\u001b[49m\u001b[43marticles_df\u001b[49m\u001b[43m,\u001b[49m\u001b[43m \u001b[49m\n\u001b[1;32m      2\u001b[0m \u001b[43m                                            \u001b[49m\u001b[43mparam_grid\u001b[49m\u001b[43m,\u001b[49m\u001b[43m \u001b[49m\n\u001b[1;32m      3\u001b[0m \u001b[43m                                            \u001b[49m\u001b[43mid_col\u001b[49m\u001b[38;5;241;43m=\u001b[39;49m\u001b[38;5;124;43m\"\u001b[39;49m\u001b[38;5;124;43mrank\u001b[39;49m\u001b[38;5;124;43m\"\u001b[39;49m\u001b[43m,\u001b[49m\n\u001b[1;32m      4\u001b[0m \u001b[43m                                            \u001b[49m\u001b[43mfeatures_col\u001b[49m\u001b[43m \u001b[49m\u001b[38;5;241;43m=\u001b[39;49m\u001b[43m \u001b[49m\u001b[38;5;124;43m'\u001b[39;49m\u001b[38;5;124;43mfeatures\u001b[39;49m\u001b[38;5;124;43m'\u001b[39;49m\u001b[43m,\u001b[49m\u001b[43m \u001b[49m\n\u001b[1;32m      5\u001b[0m \u001b[43m                                            \u001b[49m\u001b[43mgt_similar_col\u001b[49m\u001b[43m \u001b[49m\u001b[38;5;241;43m=\u001b[39;49m\u001b[43m \u001b[49m\u001b[38;5;124;43m'\u001b[39;49m\u001b[38;5;124;43mgt_similar_articles\u001b[39;49m\u001b[38;5;124;43m'\u001b[39;49m\u001b[43m,\u001b[49m\n\u001b[1;32m      6\u001b[0m \u001b[43m                                            \u001b[49m\u001b[43mpred_similar_col\u001b[49m\u001b[43m \u001b[49m\u001b[38;5;241;43m=\u001b[39;49m\u001b[43m \u001b[49m\u001b[38;5;124;43m'\u001b[39;49m\u001b[38;5;124;43mpred_similar_articles\u001b[39;49m\u001b[38;5;124;43m'\u001b[39;49m\u001b[43m,\u001b[49m\u001b[43m \u001b[49m\n\u001b[1;32m      7\u001b[0m \u001b[43m                                            \u001b[49m\u001b[43mtop_parameter_sets\u001b[49m\u001b[43m \u001b[49m\u001b[38;5;241;43m=\u001b[39;49m\u001b[43m \u001b[49m\u001b[38;5;241;43m-\u001b[39;49m\u001b[38;5;241;43m1\u001b[39;49m\u001b[43m)\u001b[49m\n",
      "Cell \u001b[0;32mIn[12], line 26\u001b[0m, in \u001b[0;36mgrid_search_tuning\u001b[0;34m(data, param_grid, id_col, features_col, gt_similar_col, pred_similar_col, searched_elements_count, top_parameter_sets)\u001b[0m\n\u001b[1;32m     24\u001b[0m results \u001b[38;5;241m=\u001b[39m []\n\u001b[1;32m     25\u001b[0m \u001b[38;5;28;01mfor\u001b[39;00m params \u001b[38;5;129;01min\u001b[39;00m tqdm(param_grid):\n\u001b[0;32m---> 26\u001b[0m     result \u001b[38;5;241m=\u001b[39m \u001b[43mtest_lsh_params\u001b[49m\u001b[43m(\u001b[49m\u001b[43mdata\u001b[49m\u001b[43m,\u001b[49m\u001b[43m \u001b[49m\n\u001b[1;32m     27\u001b[0m \u001b[43m                             \u001b[49m\u001b[43mparams\u001b[49m\u001b[43m,\u001b[49m\u001b[43m \u001b[49m\n\u001b[1;32m     28\u001b[0m \u001b[43m                             \u001b[49m\u001b[43mid_col\u001b[49m\u001b[38;5;241;43m=\u001b[39;49m\u001b[43mid_col\u001b[49m\u001b[43m,\u001b[49m\u001b[43m \u001b[49m\n\u001b[1;32m     29\u001b[0m \u001b[43m                             \u001b[49m\u001b[43mfeatures_col\u001b[49m\u001b[38;5;241;43m=\u001b[39;49m\u001b[43mfeatures_col\u001b[49m\u001b[43m,\u001b[49m\u001b[43m \u001b[49m\n\u001b[1;32m     30\u001b[0m \u001b[43m                             \u001b[49m\u001b[43mgt_similar_col\u001b[49m\u001b[38;5;241;43m=\u001b[39;49m\u001b[43mgt_similar_col\u001b[49m\u001b[43m,\u001b[49m\n\u001b[1;32m     31\u001b[0m \u001b[43m                             \u001b[49m\u001b[43mpred_similar_col\u001b[49m\u001b[38;5;241;43m=\u001b[39;49m\u001b[43mpred_similar_col\u001b[49m\u001b[43m,\u001b[49m\u001b[43m \u001b[49m\n\u001b[1;32m     32\u001b[0m \u001b[43m                             \u001b[49m\u001b[43msearched_elements_count\u001b[49m\u001b[38;5;241;43m=\u001b[39;49m\u001b[43msearched_elements_count\u001b[49m\u001b[43m)\u001b[49m\n\u001b[1;32m     33\u001b[0m     results\u001b[38;5;241m.\u001b[39mappend(result)\n\u001b[1;32m     35\u001b[0m top_results \u001b[38;5;241m=\u001b[39m \u001b[38;5;28msorted\u001b[39m(results, key\u001b[38;5;241m=\u001b[39m\u001b[38;5;28;01mlambda\u001b[39;00m x: x[\u001b[38;5;124m'\u001b[39m\u001b[38;5;124miou\u001b[39m\u001b[38;5;124m'\u001b[39m], reverse\u001b[38;5;241m=\u001b[39m\u001b[38;5;28;01mTrue\u001b[39;00m)\n",
      "Cell \u001b[0;32mIn[11], line 25\u001b[0m, in \u001b[0;36mtest_lsh_params\u001b[0;34m(df, params, id_col, features_col, gt_similar_col, pred_similar_col, searched_elements_count)\u001b[0m\n\u001b[1;32m     17\u001b[0m test_iou_df \u001b[38;5;241m=\u001b[39m predict_similar_lsh(df, params, \n\u001b[1;32m     18\u001b[0m                                   id_col\u001b[38;5;241m=\u001b[39mid_col, \n\u001b[1;32m     19\u001b[0m                                   features_col\u001b[38;5;241m=\u001b[39mfeatures_col, \n\u001b[1;32m     20\u001b[0m                                   pred_similar_col\u001b[38;5;241m=\u001b[39mpred_similar_col,\n\u001b[1;32m     21\u001b[0m                                   searched_elements_count\u001b[38;5;241m=\u001b[39msearched_elements_count)\n\u001b[1;32m     23\u001b[0m test_iou_df \u001b[38;5;241m=\u001b[39m test_iou_df\u001b[38;5;241m.\u001b[39mwithColumn(\u001b[38;5;124m\"\u001b[39m\u001b[38;5;124miou\u001b[39m\u001b[38;5;124m\"\u001b[39m, iou_func(F\u001b[38;5;241m.\u001b[39mcol(gt_similar_col), F\u001b[38;5;241m.\u001b[39mcol(pred_similar_col)))\n\u001b[0;32m---> 25\u001b[0m iou_value \u001b[38;5;241m=\u001b[39m \u001b[43mtest_iou_df\u001b[49m\u001b[38;5;241;43m.\u001b[39;49m\u001b[43magg\u001b[49m\u001b[43m(\u001b[49m\u001b[43mF\u001b[49m\u001b[38;5;241;43m.\u001b[39;49m\u001b[43mavg\u001b[49m\u001b[43m(\u001b[49m\u001b[38;5;124;43m\"\u001b[39;49m\u001b[38;5;124;43miou\u001b[39;49m\u001b[38;5;124;43m\"\u001b[39;49m\u001b[43m)\u001b[49m\u001b[43m)\u001b[49m\u001b[38;5;241;43m.\u001b[39;49m\u001b[43mcollect\u001b[49m\u001b[43m(\u001b[49m\u001b[43m)\u001b[49m[\u001b[38;5;241m0\u001b[39m][\u001b[38;5;241m0\u001b[39m]\n\u001b[1;32m     27\u001b[0m \u001b[38;5;66;03m# Computation time should be calculated only after collect that makes Spark perform all the operations\u001b[39;00m\n\u001b[1;32m     28\u001b[0m computation_time \u001b[38;5;241m=\u001b[39m time\u001b[38;5;241m.\u001b[39mtime() \u001b[38;5;241m-\u001b[39m start_time\n",
      "File \u001b[0;32m~/MMDS/venv/lib/python3.12/site-packages/pyspark/sql/dataframe.py:1263\u001b[0m, in \u001b[0;36mDataFrame.collect\u001b[0;34m(self)\u001b[0m\n\u001b[1;32m   1243\u001b[0m \u001b[38;5;250m\u001b[39m\u001b[38;5;124;03m\"\"\"Returns all the records as a list of :class:`Row`.\u001b[39;00m\n\u001b[1;32m   1244\u001b[0m \n\u001b[1;32m   1245\u001b[0m \u001b[38;5;124;03m.. versionadded:: 1.3.0\u001b[39;00m\n\u001b[0;32m   (...)\u001b[0m\n\u001b[1;32m   1260\u001b[0m \u001b[38;5;124;03m[Row(age=14, name='Tom'), Row(age=23, name='Alice'), Row(age=16, name='Bob')]\u001b[39;00m\n\u001b[1;32m   1261\u001b[0m \u001b[38;5;124;03m\"\"\"\u001b[39;00m\n\u001b[1;32m   1262\u001b[0m \u001b[38;5;28;01mwith\u001b[39;00m SCCallSiteSync(\u001b[38;5;28mself\u001b[39m\u001b[38;5;241m.\u001b[39m_sc):\n\u001b[0;32m-> 1263\u001b[0m     sock_info \u001b[38;5;241m=\u001b[39m \u001b[38;5;28;43mself\u001b[39;49m\u001b[38;5;241;43m.\u001b[39;49m\u001b[43m_jdf\u001b[49m\u001b[38;5;241;43m.\u001b[39;49m\u001b[43mcollectToPython\u001b[49m\u001b[43m(\u001b[49m\u001b[43m)\u001b[49m\n\u001b[1;32m   1264\u001b[0m \u001b[38;5;28;01mreturn\u001b[39;00m \u001b[38;5;28mlist\u001b[39m(_load_from_socket(sock_info, BatchedSerializer(CPickleSerializer())))\n",
      "File \u001b[0;32m~/MMDS/venv/lib/python3.12/site-packages/py4j/java_gateway.py:1321\u001b[0m, in \u001b[0;36mJavaMember.__call__\u001b[0;34m(self, *args)\u001b[0m\n\u001b[1;32m   1314\u001b[0m args_command, temp_args \u001b[38;5;241m=\u001b[39m \u001b[38;5;28mself\u001b[39m\u001b[38;5;241m.\u001b[39m_build_args(\u001b[38;5;241m*\u001b[39margs)\n\u001b[1;32m   1316\u001b[0m command \u001b[38;5;241m=\u001b[39m proto\u001b[38;5;241m.\u001b[39mCALL_COMMAND_NAME \u001b[38;5;241m+\u001b[39m\\\n\u001b[1;32m   1317\u001b[0m     \u001b[38;5;28mself\u001b[39m\u001b[38;5;241m.\u001b[39mcommand_header \u001b[38;5;241m+\u001b[39m\\\n\u001b[1;32m   1318\u001b[0m     args_command \u001b[38;5;241m+\u001b[39m\\\n\u001b[1;32m   1319\u001b[0m     proto\u001b[38;5;241m.\u001b[39mEND_COMMAND_PART\n\u001b[0;32m-> 1321\u001b[0m answer \u001b[38;5;241m=\u001b[39m \u001b[38;5;28;43mself\u001b[39;49m\u001b[38;5;241;43m.\u001b[39;49m\u001b[43mgateway_client\u001b[49m\u001b[38;5;241;43m.\u001b[39;49m\u001b[43msend_command\u001b[49m\u001b[43m(\u001b[49m\u001b[43mcommand\u001b[49m\u001b[43m)\u001b[49m\n\u001b[1;32m   1322\u001b[0m return_value \u001b[38;5;241m=\u001b[39m get_return_value(\n\u001b[1;32m   1323\u001b[0m     answer, \u001b[38;5;28mself\u001b[39m\u001b[38;5;241m.\u001b[39mgateway_client, \u001b[38;5;28mself\u001b[39m\u001b[38;5;241m.\u001b[39mtarget_id, \u001b[38;5;28mself\u001b[39m\u001b[38;5;241m.\u001b[39mname)\n\u001b[1;32m   1325\u001b[0m \u001b[38;5;28;01mfor\u001b[39;00m temp_arg \u001b[38;5;129;01min\u001b[39;00m temp_args:\n",
      "File \u001b[0;32m~/MMDS/venv/lib/python3.12/site-packages/py4j/java_gateway.py:1038\u001b[0m, in \u001b[0;36mGatewayClient.send_command\u001b[0;34m(self, command, retry, binary)\u001b[0m\n\u001b[1;32m   1036\u001b[0m connection \u001b[38;5;241m=\u001b[39m \u001b[38;5;28mself\u001b[39m\u001b[38;5;241m.\u001b[39m_get_connection()\n\u001b[1;32m   1037\u001b[0m \u001b[38;5;28;01mtry\u001b[39;00m:\n\u001b[0;32m-> 1038\u001b[0m     response \u001b[38;5;241m=\u001b[39m \u001b[43mconnection\u001b[49m\u001b[38;5;241;43m.\u001b[39;49m\u001b[43msend_command\u001b[49m\u001b[43m(\u001b[49m\u001b[43mcommand\u001b[49m\u001b[43m)\u001b[49m\n\u001b[1;32m   1039\u001b[0m     \u001b[38;5;28;01mif\u001b[39;00m binary:\n\u001b[1;32m   1040\u001b[0m         \u001b[38;5;28;01mreturn\u001b[39;00m response, \u001b[38;5;28mself\u001b[39m\u001b[38;5;241m.\u001b[39m_create_connection_guard(connection)\n",
      "File \u001b[0;32m~/MMDS/venv/lib/python3.12/site-packages/py4j/clientserver.py:511\u001b[0m, in \u001b[0;36mClientServerConnection.send_command\u001b[0;34m(self, command)\u001b[0m\n\u001b[1;32m    509\u001b[0m \u001b[38;5;28;01mtry\u001b[39;00m:\n\u001b[1;32m    510\u001b[0m     \u001b[38;5;28;01mwhile\u001b[39;00m \u001b[38;5;28;01mTrue\u001b[39;00m:\n\u001b[0;32m--> 511\u001b[0m         answer \u001b[38;5;241m=\u001b[39m smart_decode(\u001b[38;5;28;43mself\u001b[39;49m\u001b[38;5;241;43m.\u001b[39;49m\u001b[43mstream\u001b[49m\u001b[38;5;241;43m.\u001b[39;49m\u001b[43mreadline\u001b[49m\u001b[43m(\u001b[49m\u001b[43m)\u001b[49m[:\u001b[38;5;241m-\u001b[39m\u001b[38;5;241m1\u001b[39m])\n\u001b[1;32m    512\u001b[0m         logger\u001b[38;5;241m.\u001b[39mdebug(\u001b[38;5;124m\"\u001b[39m\u001b[38;5;124mAnswer received: \u001b[39m\u001b[38;5;132;01m{0}\u001b[39;00m\u001b[38;5;124m\"\u001b[39m\u001b[38;5;241m.\u001b[39mformat(answer))\n\u001b[1;32m    513\u001b[0m         \u001b[38;5;66;03m# Happens when a the other end is dead. There might be an empty\u001b[39;00m\n\u001b[1;32m    514\u001b[0m         \u001b[38;5;66;03m# answer before the socket raises an error.\u001b[39;00m\n",
      "File \u001b[0;32m/usr/lib/python3.12/socket.py:707\u001b[0m, in \u001b[0;36mSocketIO.readinto\u001b[0;34m(self, b)\u001b[0m\n\u001b[1;32m    705\u001b[0m \u001b[38;5;28;01mwhile\u001b[39;00m \u001b[38;5;28;01mTrue\u001b[39;00m:\n\u001b[1;32m    706\u001b[0m     \u001b[38;5;28;01mtry\u001b[39;00m:\n\u001b[0;32m--> 707\u001b[0m         \u001b[38;5;28;01mreturn\u001b[39;00m \u001b[38;5;28;43mself\u001b[39;49m\u001b[38;5;241;43m.\u001b[39;49m\u001b[43m_sock\u001b[49m\u001b[38;5;241;43m.\u001b[39;49m\u001b[43mrecv_into\u001b[49m\u001b[43m(\u001b[49m\u001b[43mb\u001b[49m\u001b[43m)\u001b[49m\n\u001b[1;32m    708\u001b[0m     \u001b[38;5;28;01mexcept\u001b[39;00m timeout:\n\u001b[1;32m    709\u001b[0m         \u001b[38;5;28mself\u001b[39m\u001b[38;5;241m.\u001b[39m_timeout_occurred \u001b[38;5;241m=\u001b[39m \u001b[38;5;28;01mTrue\u001b[39;00m\n",
      "\u001b[0;31mKeyboardInterrupt\u001b[0m: "
     ]
    }
   ],
   "source": [
    "wiki_parameters_evaled = grid_search_tuning(articles_df, \n",
    "                                            param_grid, \n",
    "                                            id_col=\"rank\",\n",
    "                                            features_col = 'features', \n",
    "                                            gt_similar_col = 'gt_similar_articles',\n",
    "                                            pred_similar_col = 'pred_similar_articles', \n",
    "                                            top_parameter_sets = -1)"
   ]
  },
  {
   "cell_type": "code",
   "execution_count": null,
   "metadata": {},
   "outputs": [
    {
     "data": {
      "image/png": "[encoded data removed]",
      "text/plain": [
       "<Figure size 1200x600 with 4 Axes>"
      ]
     },
     "metadata": {},
     "output_type": "display_data"
    }
   ],
   "source": [
    "visualize_gridsearch_res(wiki_parameters_evaled)"
   ]
  },
  {
   "cell_type": "code",
   "execution_count": null,
   "metadata": {},
   "outputs": [
    {
     "name": "stdout",
     "output_type": "stream",
     "text": [
      "The best parameter set is {'numHashTables': 50, 'distanceThreshold': 0.8}.\n",
      "It has IOU=0.005 and computation time of 718.617 seconds\n"
     ]
    }
   ],
   "source": [
    "wiki_top_iou = max(wiki_parameters_evaled, key=lambda x: x['iou'])['iou']\n",
    "wiki_top_iou_params = filter(lambda x: x['iou'] == wiki_top_iou, wiki_parameters_evaled)\n",
    "wiki_top_iou_and_smallest_time_params = min(wiki_top_iou_params, key=lambda x: x['computation_time'])\n",
    "print(f\"\"\"The best parameter set is {wiki_top_iou_and_smallest_time_params['params']}.\n",
    "It has IOU={wiki_top_iou_and_smallest_time_params['iou']:.3f} and computation time of {wiki_top_iou_and_smallest_time_params['computation_time']:.3f} seconds\"\"\")"
   ]
  },
  {
   "cell_type": "markdown",
   "metadata": {},
   "source": [
    "## Part 3. Parameter substitution"
   ]
  },
  {
   "cell_type": "code",
   "execution_count": null,
   "metadata": {},
   "outputs": [
    {
     "name": "stderr",
     "output_type": "stream",
     "text": [
      "                                                                                \r"
     ]
    },
    {
     "data": {
      "text/plain": [
       "{'params': {'numHashTables': 50, 'distanceThreshold': 0.97},\n",
       " 'iou': 0.004845616407482532,\n",
       " 'computation_time': 900.2843160629272}"
      ]
     },
     "execution_count": 47,
     "metadata": {},
     "output_type": "execute_result"
    }
   ],
   "source": [
    "airbnb_params_on_wiki_dataset_evaled = test_lsh_params(\n",
    "    df=articles_df, \n",
    "    params=airbnb_top_iou_and_smallest_time_params['params'], \n",
    "    id_col=\"rank\", \n",
    "    features_col = 'features', \n",
    "    gt_similar_col = 'gt_similar_articles',\n",
    "    pred_similar_col = 'pred_similar_articles')\n",
    "airbnb_params_on_wiki_dataset_evaled"
   ]
  },
  {
   "cell_type": "markdown",
   "metadata": {},
   "source": [
    "## Final"
   ]
  },
  {
   "cell_type": "code",
   "execution_count": null,
   "metadata": {},
   "outputs": [],
   "source": [
    "SPARK.stop()"
   ]
  },
  {
   "cell_type": "code",
   "execution_count": null,
   "metadata": {},
   "outputs": [],
   "source": []
  }
 ],
 "metadata": {
  "kernelspec": {
   "display_name": "venv",
   "language": "python",
   "name": "python3"
  },
  "language_info": {
   "codemirror_mode": {
    "name": "ipython",
    "version": 3
   },
   "file_extension": ".py",
   "mimetype": "text/x-python",
   "name": "python",
   "nbconvert_exporter": "python",
   "pygments_lexer": "ipython3",
   "version": "3.12.3"
  }
 },
 "nbformat": 4,
 "nbformat_minor": 2
}
