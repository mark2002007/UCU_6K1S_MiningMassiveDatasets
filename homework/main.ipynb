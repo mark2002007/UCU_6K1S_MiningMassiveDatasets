{
 "cells": [
  {
   "cell_type": "markdown",
   "metadata": {},
   "source": [
    "# Homework on Mining Massive Databases (MMDS)\n",
    "\n",
    "**by Andrii Shevtsov and Markiian Mandzak**\n",
    "\n",
    "Task formulation:\n",
    "![Task formulation screenshot](./task.jpg)\n",
    "\n",
    "## System specifications\n",
    "\n",
    "All the experiments in this notebook run are run on a Windows OS VirtualBox virtual machine with:\n",
    "- Ubuntu 20.04 OS;\n",
    "- 8 (logical) cores of Ryzen 7 laptop version CPU dedicated;\n",
    "- 24 GB of RAM dedicated;\n",
    "- 20 GB of local hard drive dedicated.\n",
    "\n",
    "## Imports and constants"
   ]
  },
  {
   "cell_type": "code",
   "execution_count": 1,
   "metadata": {},
   "outputs": [],
   "source": [
    "import requests\n",
    "import time\n",
    "import pandas as pd\n",
    "import matplotlib.pyplot as plt\n",
    "import seaborn as sns\n",
    "import nltk\n",
    "import re\n",
    "\n",
    "from tqdm import tqdm\n",
    "from pyspark.sql import SparkSession, functions as F, types as T, Window\n",
    "from pyspark.ml.feature import HashingTF, IDF, Tokenizer, BucketedRandomProjectionLSH, Word2Vec\n",
    "from pyspark.ml.linalg import Vector\n",
    "from nltk.stem import PorterStemmer\n",
    "from nltk.corpus import stopwords\n",
    "from typing import Optional\n",
    "from scipy.spatial import distance\n",
    "\n",
    "from tree_stem import stem_word"
   ]
  },
  {
   "cell_type": "markdown",
   "metadata": {},
   "source": [
    "We set spark session here as it is a singletone for our application:"
   ]
  },
  {
   "cell_type": "code",
   "execution_count": null,
   "metadata": {},
   "outputs": [
    {
     "name": "stderr",
     "output_type": "stream",
     "text": [
      "24/11/10 18:47:31 WARN Utils: Your hostname, ucuvm resolves to a loopback address: 127.0.1.1; using 10.0.2.15 instead (on interface enp0s3)\n",
      "24/11/10 18:47:31 WARN Utils: Set SPARK_LOCAL_IP if you need to bind to another address\n",
      "Setting default log level to \"WARN\".\n",
      "To adjust logging level use sc.setLogLevel(newLevel). For SparkR, use setLogLevel(newLevel).\n",
      "24/11/10 18:47:32 WARN NativeCodeLoader: Unable to load native-hadoop library for your platform... using builtin-java classes where applicable\n"
     ]
    }
   ],
   "source": [
    "SPARK = SparkSession.builder \\\n",
    "    .appName(\"MMDS_HW_LSH\") \\\n",
    "    .config(\"spark.executor.memory\", \"4g\") \\\n",
    "    .config(\"spark.driver.memory\", \"8g\") \\\n",
    "    .config(\"spark.driver.cores\", \"4\") \\\n",
    "    .config(\"spark.executor.cores\", \"2\") \\\n",
    "    .config('spark.sql.pivotMaxValues', u'30000') \\\n",
    "    .getOrCreate()\n",
    "\n",
    "SPARK.sparkContext.setLogLevel(\"ERROR\")"
   ]
  },
  {
   "cell_type": "markdown",
   "metadata": {},
   "source": [
    "We will also download stopwords. Ukrainian stopwords are downloaded from [Ukrainian Stopwords GitHub repository by skupriienko](https://github.com/skupriienko/Ukrainian-Stopwords). We will mix them with english stopwords from the NLTK library:"
   ]
  },
  {
   "cell_type": "code",
   "execution_count": null,
   "metadata": {},
   "outputs": [],
   "source": [
    "with open(\"stopwords_ua.txt\") as f:\n",
    "    stop_words_uk = f.readlines()\n",
    "stop_words_uk = [word.replace('\\n', '') for word in stop_words_uk]\n",
    "try:\n",
    "    STOP_WORDS = set(stopwords.words('english')).union(set(stop_words_uk))\n",
    "except LookupError:\n",
    "    nltk.download('stopwords')\n",
    "    STOP_WORDS = set(stopwords.words('english')).union(set(stop_words_uk))"
   ]
  },
  {
   "cell_type": "markdown",
   "metadata": {},
   "source": [
    "Other constants, that can be useful and are more like general settings:"
   ]
  },
  {
   "cell_type": "code",
   "execution_count": 3,
   "metadata": {},
   "outputs": [],
   "source": [
    "SEARCHED_ELEMENTS_COUNT = 5  # Count of elements that should occur in search with LSH\n",
    "BEST_PARAMS_COUNT = 3  # Count of best param sets to return during the grid search by default\n",
    "ENCODING_METHOD = 'word2vec' # Method of encoding used for the feature vector (word2vec or tfidf)\n",
    "VECTOR_SIZE = 64 # Size of the feature vector used"
   ]
  },
  {
   "cell_type": "markdown",
   "metadata": {},
   "source": [
    "## Part 0. Common functions\n",
    "\n",
    "Here, we list functions that are reutilized in both parts. This section is crucial in explaining our approach. Also it makes sure we use the same general approach for both tasks.\n",
    "\n",
    "### Features calculation"
   ]
  },
  {
   "cell_type": "code",
   "execution_count": 4,
   "metadata": {},
   "outputs": [],
   "source": [
    "@F.udf(T.ArrayType(T.StringType()))\n",
    "def stem_and_clean(tokens, stemmer: Optional[str] = 'uk'):\n",
    "    \"\"\"A small UDF function to clean tokenized words from empty an then stem them\"\"\"\n",
    "    cleaned_words = [token for token in tokens if token.strip() != \"\" and token not in STOP_WORDS]\n",
    "    if stemmer == 'uk':\n",
    "        return list(map(stem_word, cleaned_words))\n",
    "    elif stemmer == 'nltk':\n",
    "        stemmer = PorterStemmer()\n",
    "        return list(map(stemmer.stem, cleaned_words))\n",
    "    elif stemmer is None:\n",
    "        return cleaned_words\n",
    "    else:\n",
    "        raise ValueError(\"For nowm only 'uk', 'nltk' and None stemmers are possible\")\n"
   ]
  },
  {
   "cell_type": "code",
   "execution_count": 5,
   "metadata": {},
   "outputs": [],
   "source": [
    "@F.udf(T.BooleanType())\n",
    "def empty_words(words):\n",
    "    return len(words) == 0"
   ]
  },
  {
   "cell_type": "code",
   "execution_count": 6,
   "metadata": {},
   "outputs": [],
   "source": [
    "def add_features(df, input_text_col: str, output_features_col: str = 'features', stemmer: Optional[str] = 'uk', encoding_method: str = ENCODING_METHOD):\n",
    "    \"\"\"This function helps us to add vectors with features to the original dataframe with text\n",
    "    \n",
    "    Args:\n",
    "        - df: pyspark DataFrame - a dataframe with `input_text_col` present, for which we should add a column with vectors of features\n",
    "        - input_text_col: str - a name of column in `df` where we should take a text to obtain vector features\n",
    "        - output_features_col: str - a name of a column in `df` where we should put final vectors with features\n",
    "        - stemmer: Optional str - a name for a stemmer to be used during word stemming\n",
    "        - encoding_method: str - a name for a method that is used for tokens vector encoding\n",
    "\n",
    "    Returns:\n",
    "        pyspark DataFrame, with `output_features_col` column added and filled with feature vectors\n",
    "    \"\"\"\n",
    "\n",
    "    # We need to remove symbols to correctly tokenize the text\n",
    "    df = df.withColumn(f'{input_text_col}_clean', F.regexp_replace(input_text_col, r'[^a-zA-Z\\u0400-\\u04FF]', ' '))\n",
    "\n",
    "    tokenizer = Tokenizer(inputCol=f'{input_text_col}_clean', outputCol=\"words\")\n",
    "    df = tokenizer.transform(df)\n",
    "\n",
    "    df = df.withColumn(\"stemmedWords\", stem_and_clean(F.col(\"words\"), F.lit(stemmer)))\n",
    "\n",
    "    df = df.filter(~empty_words(F.col(\"stemmedWords\")))\n",
    "\n",
    "    if encoding_method == 'tfidf':\n",
    "        hashingTF = HashingTF(inputCol=\"stemmedWords\", outputCol=\"rawFeatures\", numFeatures=VECTOR_SIZE)\n",
    "        df = hashingTF.transform(df)\n",
    "        idf = IDF(inputCol=\"rawFeatures\", outputCol=output_features_col)\n",
    "        idfModel = idf.fit(df)\n",
    "        df = idfModel.transform(df)\n",
    "    \n",
    "    elif encoding_method == 'word2vec':\n",
    "        word2Vec = Word2Vec(inputCol=\"stemmedWords\", outputCol=output_features_col, vectorSize=VECTOR_SIZE, minCount=0)\n",
    "        model = word2Vec.fit(df)\n",
    "        df = model.transform(df)\n",
    "    \n",
    "    else:\n",
    "        raise ValueError(\"Invalid ENCODING_METHOD. Choose 'tfidf' or 'word2vec'.\")\n",
    "    \n",
    "    return df"
   ]
  },
  {
   "cell_type": "markdown",
   "metadata": {},
   "source": [
    "### Ground truth similarity calculation\n",
    "\n",
    "We should use some function to understand the distance (or similarity) between two feature vectors (for ground truth calculation). Cosine similarity is perfect for that:"
   ]
  },
  {
   "cell_type": "code",
   "execution_count": 7,
   "metadata": {},
   "outputs": [],
   "source": [
    "@F.udf(T.DoubleType())\n",
    "def cos_dist(vec_a, vec_b):\n",
    "    if isinstance(vec_a, Vector) and isinstance(vec_b, Vector):\n",
    "        dot_product = float(vec_a.dot(vec_b))\n",
    "        norm_a = float(vec_a.norm(2))\n",
    "        norm_b = float(vec_b.norm(2))\n",
    "        return 1 - dot_product / (norm_a * norm_b) if norm_a and norm_b else 0.0\n",
    "    return 2.0\n",
    "\n",
    "@F.udf(T.DoubleType())\n",
    "def euclidian_dist(vec_a, vec_b):\n",
    "    return float(distance.euclidean(vec_a, vec_b))\n"
   ]
  },
  {
   "cell_type": "markdown",
   "metadata": {},
   "source": [
    "Then, we need to have a function to calculate ground truth similarity and then obtaining ids of the closest elements:"
   ]
  },
  {
   "cell_type": "code",
   "execution_count": 8,
   "metadata": {},
   "outputs": [],
   "source": [
    "def add_gt_similar(df, id_col: str, \n",
    "                   features_col: str = 'features', \n",
    "                   gt_similar_col: str = 'gt_similar', \n",
    "                   searched_elements_count: int = SEARCHED_ELEMENTS_COUNT,\n",
    "                   distance: str = 'euclidian'):\n",
    "    \"\"\"Add column with lists of ids of similar ground truth elements\n",
    "    \n",
    "    Args:\n",
    "        - df: pyspark DataFrame - a dataframe with `id_col` and `features_col` present, for which we should add a column with lists of similar items\n",
    "        - id_col: str - a name of column in `df` where we should take indexes to put into `gt_similar_col`\n",
    "        - features_col: str (default 'features') - a name of column in `df` where vector features are located\n",
    "        - gt_similar_col: str (default 'gt_similar') - a name for a new column that is created as a result\n",
    "        - searched_elements_count: int (default SEARCHED_ELEMENTS_COUNT) - maximum count of elements we want to search\n",
    "        - distance: str (default 'euclidian') - what distance to use during computations\n",
    "    \n",
    "    Returns:\n",
    "    pyspark DataFrame, a copy of `df` with filled `gt_similar_col` that contains ids of ground truth similar items\n",
    "    \"\"\"\n",
    "\n",
    "    assert distance in ['euclidian', 'cosine'], \"Distance should be either euclidian or cosine\"\n",
    "    dist_func = euclidian_dist if distance == 'euclidian' else cos_dist\n",
    "\n",
    "    # We can now make an `NxN` similarity table, containing cosine similarities between each pair of feature vectors\n",
    "    similarity_table = (\n",
    "        df.alias('a')\n",
    "        .crossJoin(df.alias('b'))\n",
    "        .withColumn(\n",
    "            'distance',\n",
    "            dist_func(\n",
    "                F.col(f'a.{features_col}'),\n",
    "                F.col(f'b.{features_col}'),\n",
    "            )\n",
    "        )\n",
    "        .groupBy(f'a.{id_col}')\n",
    "        .pivot(f'b.{id_col}')\n",
    "        .sum('distance')\n",
    "        .orderBy(id_col)\n",
    "    )\n",
    "\n",
    "    # Now, we can obtain all the perspective similarity pairs (with similarity bigger than 0)\n",
    "    similarity_columns = [column for column in similarity_table.columns if column != id_col]\n",
    "\n",
    "    mapping_expr = []\n",
    "    for c in similarity_columns:\n",
    "        mapping_expr.extend([F.lit(c), F.col(c)])\n",
    "\n",
    "    paired_df = similarity_table.select(\n",
    "        F.col(id_col),\n",
    "        F.explode(F.create_map(*mapping_expr)).alias(\"similar_id\", \"distance\")\n",
    "    ).filter(\n",
    "        (F.col(id_col) != F.col(\"similar_id\")) & (F.col(\"distance\") > 0)\n",
    "    )\n",
    "\n",
    "    # And take top k similar items by the similarity value for each other item\n",
    "    window_spec = Window.partitionBy(id_col).orderBy(F.col(\"distance\").asc())\n",
    "    paired_df = paired_df.withColumn(\"simrank\", F.row_number().over(window_spec)).filter(F.col(\"simrank\") <= searched_elements_count)\n",
    "\n",
    "    # Here we collect lists with similar ids and add them to the original dataframe \n",
    "    top_similarities_df = paired_df.groupBy(id_col).agg(F.collect_list(\"similar_id\").alias(gt_similar_col))\n",
    "    res_df = df.join(top_similarities_df, on=id_col, how='left').orderBy(id_col)\n",
    "\n",
    "    return res_df"
   ]
  },
  {
   "cell_type": "markdown",
   "metadata": {},
   "source": [
    "### Predicting with LSH"
   ]
  },
  {
   "cell_type": "code",
   "execution_count": 9,
   "metadata": {},
   "outputs": [],
   "source": [
    "def predict_similar_lsh(df, lsh_params, id_col: str, features_col: str = 'features', pred_similar_col: str = 'pred_similar', searched_elements_count: int = SEARCHED_ELEMENTS_COUNT):\n",
    "    \"\"\"Predict similar items with MinHashLSH and add them to the original dataframe into the `pred_similar_col` column\n",
    "    \n",
    "    Args:\n",
    "        - df: pyspark DataFrame - a dataframe with `id_col` and `features_col` present, for which we should add a column with lists of similar items\n",
    "        - id_col: str - a name of column in `df` where we should take indexes to put into `pred_similar_col`\n",
    "        - features_col: str (default 'features') - a name of column in `df` where vector features are located\n",
    "        - pred_similar_col: str (default 'pred_similar') - a name for a new column that is created as a result\n",
    "        - searched_elements_count: int (default SEARCHED_ELEMENTS_COUNT) - maximum count of elements we want to search\n",
    "    \n",
    "    Returns:\n",
    "    pyspark DataFrame, a copy of `df` with filled `pred_similar_col` column that contains ids of predicted similar items\n",
    "    \"\"\"\n",
    "    \n",
    "    num_hash_tables = lsh_params['numHashTables']\n",
    "    distance_threshold = lsh_params['distanceThreshold']\n",
    "    bucket_length = lsh_params['bucketLength']\n",
    "\n",
    "    mh = BucketedRandomProjectionLSH(inputCol=features_col, outputCol=\"hashes\", numHashTables=num_hash_tables, bucketLength=bucket_length)\n",
    "\n",
    "    model = mh.fit(df)\n",
    "\n",
    "    similar_items = model.approxSimilarityJoin(df, df, threshold=distance_threshold, distCol=\"distance\")\n",
    "    similar_items = similar_items.filter(F.col(f\"datasetA.{id_col}\") != F.col(f\"datasetB.{id_col}\"))\n",
    "    similar_items = similar_items.orderBy(F.col(\"distance\").asc())\n",
    "\n",
    "    window_spec = Window.partitionBy(f\"datasetA.{id_col}\").orderBy(F.col(\"distance\").asc())\n",
    "    similar_items = similar_items.withColumn(\"simrank\", F.row_number().over(window_spec)).filter(F.col(\"simrank\") <= searched_elements_count)\n",
    "\n",
    "    found_items = similar_items.groupBy(f\"datasetA.{id_col}\").agg(F.collect_list(f\"datasetB.{id_col}\").alias(pred_similar_col))\n",
    "\n",
    "    res_df = df.join(found_items, on=id_col, how='left')\n",
    "\n",
    "    return res_df"
   ]
  },
  {
   "cell_type": "markdown",
   "metadata": {},
   "source": [
    "### Measuring quality\n",
    "\n",
    "Let's also define a function to calculate the quality of our prediction. We will use intersection over union (IOU) to evaluate quality, as it is intuitive and penalizes both false positives and false negatives equally:"
   ]
  },
  {
   "cell_type": "code",
   "execution_count": 10,
   "metadata": {},
   "outputs": [],
   "source": [
    "@F.udf(T.DoubleType())\n",
    "def iou_func(real_items, pred_items):\n",
    "    if real_items is None:\n",
    "        return 1.\n",
    "    elif pred_items is None:\n",
    "        return 0.\n",
    "    else:\n",
    "        real_items_set = set([int(i) for i in real_items])\n",
    "        pred_items_set = set([int(i) for i in pred_items])\n",
    "        intersection_len = len(real_items_set.intersection(pred_items_set))\n",
    "        union_len = len(real_items_set.union(pred_items_set))\n",
    "        # Division of integers here somehow breaks the logic when NULL is passed in\n",
    "        return float(intersection_len)/float(union_len)  "
   ]
  },
  {
   "cell_type": "markdown",
   "metadata": {},
   "source": [
    "Now we need a function that makes an evaluation of the current parameters set (using time and IOU) for the LSH prediction:"
   ]
  },
  {
   "cell_type": "code",
   "execution_count": 11,
   "metadata": {},
   "outputs": [],
   "source": [
    "def test_lsh_params(df, params, id_col: str, features_col: str = 'features', gt_similar_col: str='gt_similar', pred_similar_col: str = 'pred_similar', searched_elements_count: int = SEARCHED_ELEMENTS_COUNT):\n",
    "    \"\"\"A function to measure performance of the LSH algorithm with given parameters\n",
    "    \n",
    "    Args:\n",
    "        - df: pyspark DataFrame - a dataframe with `id_col` and `features_col` present, for which we should add a column with lists of similar items\n",
    "        - id_col: str - a name of column in `df` where we should take indexes to put into `pred_similar_col`\n",
    "        - features_col: str (default 'features') - a name of column in `df` where vector features are located\n",
    "        - gt_similar_col: str (default 'gt_similar') - a name for a column that contains ground truth values of similarity\n",
    "        - pred_similar_col: str (default 'pred_similar') - a name for a new column that is created as a result\n",
    "        - searched_elements_count: int (default SEARCHED_ELEMENTS_COUNT) - maximum count of elements we want to search\n",
    "    \n",
    "    Returns:\n",
    "    dict, a dictionary with lst parameters and results of model with that parameters\n",
    "    \"\"\"\n",
    "    \n",
    "    start_time = time.time()\n",
    "    test_iou_df = predict_similar_lsh(df, params, \n",
    "                                      id_col=id_col, \n",
    "                                      features_col=features_col, \n",
    "                                      pred_similar_col=pred_similar_col,\n",
    "                                      searched_elements_count=searched_elements_count)\n",
    "\n",
    "    test_iou_df = test_iou_df.withColumn(\"iou\", iou_func(F.col(gt_similar_col), F.col(pred_similar_col)))\n",
    "\n",
    "    iou_value = test_iou_df.agg(F.avg(\"iou\")).collect()[0][0]\n",
    "\n",
    "    # Computation time should be calculated only after collect that makes Spark perform all the operations\n",
    "    computation_time = time.time() - start_time\n",
    "\n",
    "    return {\n",
    "        'params': params,\n",
    "        'iou': iou_value,\n",
    "        'computation_time': computation_time,\n",
    "    }"
   ]
  },
  {
   "cell_type": "markdown",
   "metadata": {},
   "source": [
    "### Performing grid search\n",
    "\n",
    "Here is a function to perform grid search:"
   ]
  },
  {
   "cell_type": "code",
   "execution_count": 12,
   "metadata": {},
   "outputs": [],
   "source": [
    "def grid_search_tuning(data, \n",
    "                       param_grid, \n",
    "                       id_col: str, \n",
    "                       features_col: str = 'features',\n",
    "                       gt_similar_col: str = 'gt_similar',\n",
    "                       pred_similar_col: str = 'pred_similar', \n",
    "                       searched_elements_count: int = SEARCHED_ELEMENTS_COUNT,\n",
    "                       top_parameter_sets: int = BEST_PARAMS_COUNT,\n",
    "                       verbose: bool = False):\n",
    "    \"\"\"A function to calculate test MinHashLSH with different parameters and find `top_parameter_sets` best\n",
    "\n",
    "    Args:\n",
    "        - df: pyspark DataFrame - a dataframe with `id_col` and `features_col` present, for which we should add a column with lists of similar items\n",
    "        - param_grid: list of dicts - a list with paramer sets we want to evaluate on\n",
    "        - id_col: str - a name of column in `df` where we should take indexes to put into `pred_similar_col`\n",
    "        - features_col: str (default 'features') - a name of column in `df` where vector features are located\n",
    "        - gt_similar_col: str (default 'gt_similar') - a name for a column that contains ground truth values of similarity\n",
    "        - pred_similar_col: str (default 'pred_similar') - a name for a new column that is created as a result\n",
    "        - searched_elements_count: int (default SEARCHED_ELEMENTS_COUNT) - maximum count of elements we want to search\n",
    "        - top_parameter_sets: int (default BEST_PARAMS_COUNT) - count of best parameter sets we want to return. If <= 0; return all parameter sets\n",
    "        - verbose: bool (default False) - whether to print additional data\n",
    "    \n",
    "    Returns:\n",
    "    list of dicts, a dictionary with lst parameters and results of model with that parameters\n",
    "    \"\"\"\n",
    "    results = []\n",
    "    for params in tqdm(param_grid):\n",
    "        result = test_lsh_params(data, \n",
    "                                 params, \n",
    "                                 id_col=id_col, \n",
    "                                 features_col=features_col, \n",
    "                                 gt_similar_col=gt_similar_col,\n",
    "                                 pred_similar_col=pred_similar_col, \n",
    "                                 searched_elements_count=searched_elements_count)\n",
    "        if verbose:\n",
    "            print(result)\n",
    "        results.append(result)\n",
    "\n",
    "    top_results = sorted(results, key=lambda x: x['iou'], reverse=True)\n",
    "    if top_parameter_sets > 0:\n",
    "        top_results = top_results[:top_parameter_sets]\n",
    "\n",
    "    return top_results\n"
   ]
  },
  {
   "cell_type": "markdown",
   "metadata": {},
   "source": [
    "### Visualizing results"
   ]
  },
  {
   "cell_type": "code",
   "execution_count": 13,
   "metadata": {},
   "outputs": [],
   "source": [
    "def visualize_gridsearch_res(gridsearch_res):\n",
    "    \"\"\"Plot two heatmaps with gridsearch results\"\"\"\n",
    "    gridsearch_res_df = pd.DataFrame(gridsearch_res)\n",
    "\n",
    "    gridsearch_res_df['numHashTables'] = gridsearch_res_df['params'].apply(lambda x: x.get('numHashTables'))\n",
    "    gridsearch_res_df['distanceThreshold'] = gridsearch_res_df['params'].apply(lambda x: x.get('distanceThreshold'))\n",
    "    gridsearch_res_df['bucketLength'] = gridsearch_res_df['params'].apply(lambda x: x.get('bucketLength'))\n",
    "    gridsearch_res_df = gridsearch_res_df.drop(columns=['params'])\n",
    "\n",
    "    bucketLengthsCount = len(gridsearch_res_df['bucketLength'].unique())\n",
    "\n",
    "    fig, axs = plt.subplots(bucketLengthsCount, 2, figsize=(12, 6*bucketLengthsCount), squeeze=False)\n",
    "\n",
    "    fig.suptitle(\"Results for different parameters\")\n",
    "\n",
    "    for i, bucket_length in enumerate(gridsearch_res_df['bucketLength'].unique()):\n",
    "        gridsearch_res_df_bucket = gridsearch_res_df.loc[gridsearch_res_df['bucketLength'] == bucket_length].copy()\n",
    "        iou_pivot = gridsearch_res_df_bucket.pivot(index=\"numHashTables\", columns=\"distanceThreshold\", values=\"iou\")\n",
    "        time_pivot = gridsearch_res_df_bucket.pivot(index=\"numHashTables\", columns=\"distanceThreshold\", values=\"computation_time\")\n",
    "\n",
    "        axs[i][0].set_title(f\"IOU values for bucketLength={bucket_length}\")\n",
    "        sns.heatmap(iou_pivot, ax=axs[i][0], cmap='rocket_r')\n",
    "\n",
    "        axs[i][1].set_title(f\"Computation time in seconds for bucketLength={bucket_length}\")\n",
    "        sns.heatmap(time_pivot, ax=axs[i][1], cmap='rocket')\n",
    "\n",
    "    plt.tight_layout()\n",
    "    plt.show()"
   ]
  },
  {
   "cell_type": "markdown",
   "metadata": {},
   "source": [
    "## Part 1. Barcelona LSH experiment\n",
    "\n",
    "### Data general preparation\n",
    "\n",
    "Download data if needed:"
   ]
  },
  {
   "cell_type": "code",
   "execution_count": 14,
   "metadata": {},
   "outputs": [],
   "source": [
    "# !wget -O listings.csv.gz https://data.insideairbnb.com/spain/catalonia/barcelona/2024-09-06/data/listings.csv.gz\n",
    "# !gunzip -f listings.csv.gz"
   ]
  },
  {
   "cell_type": "markdown",
   "metadata": {},
   "source": [
    "Read data (via special function, because we are going to reuse it):"
   ]
  },
  {
   "cell_type": "code",
   "execution_count": 16,
   "metadata": {},
   "outputs": [],
   "source": [
    "def load_airbnb_listings(filepath: str, values_count: int = 1000):\n",
    "    listings_df = SPARK.read.csv(\n",
    "        filepath,\n",
    "        header=True,\n",
    "        inferSchema=True,\n",
    "        multiLine=True,\n",
    "        escape=\"\\\"\",\n",
    "        quote=\"\\\"\",\n",
    "        sep=\",\",\n",
    "    )\n",
    "    if values_count > 0:\n",
    "        listings_df = listings_df.limit(values_count)\n",
    "    listings_df = listings_df.select(\"id\", \"name\")\n",
    "    listings_df = listings_df.dropna()\n",
    "    listings_df = listings_df.dropDuplicates([\"name\"])\n",
    "    listings_df = listings_df.orderBy(\"id\")\n",
    "    listings_df = listings_df.withColumn(\"id\", F.monotonically_increasing_id())\n",
    "    return listings_df"
   ]
  },
  {
   "cell_type": "markdown",
   "metadata": {},
   "source": [
    "### Tuning\n",
    "\n",
    "Here we work with a 1k-sized dataset."
   ]
  },
  {
   "cell_type": "code",
   "execution_count": 16,
   "metadata": {},
   "outputs": [
    {
     "name": "stderr",
     "output_type": "stream",
     "text": [
      "                                                                                \r"
     ]
    },
    {
     "name": "stdout",
     "output_type": "stream",
     "text": [
      "998\n",
      "+---+-------------------------------------------------+\n",
      "|id |name                                             |\n",
      "+---+-------------------------------------------------+\n",
      "|0  |Huge flat for 8 people close to Sagrada Familia  |\n",
      "|1  |Forum CCIB DeLuxe, Spacious, Large Balcony, relax|\n",
      "|2  |Sagrada Familia area - Còrsega 1                 |\n",
      "|3  |Stylish Top Floor Apartment - Ramblas Plaza Real |\n",
      "|4  |VIDRE HOME PLAZA REAL on LAS RAMBLAS             |\n",
      "|5  |Exquisite studio in Barcelona Born               |\n",
      "|6  |In front of the beach                            |\n",
      "|7  |Soho Colonial Eclectic Apartment                 |\n",
      "|8  |Modern Apartment - Sagrada Familia               |\n",
      "|9  |Sagrada Familia area - Còrsega 2                 |\n",
      "|10 |Stylish & cozy 3BR near Sagrada Familia          |\n",
      "|11 |Spacious 2 bedroom flat special offer 40% OFF    |\n",
      "|12 |Charming apartment with fantastic views!         |\n",
      "|13 |Best deals for penthouse near Sagrada Familia!   |\n",
      "|14 |Long term entire months more than 32 nitghts     |\n",
      "|15 |Lugaris Beach Business Apartment                 |\n",
      "|16 |Long  Term Colorist apartment minimon 32 nights  |\n",
      "|17 |LONG TERM FANTASTIC APARTMENT MINIMUM 32 NIGHTS  |\n",
      "|18 |Sagrada Familia area for 12 people               |\n",
      "|19 |Sagrada Familia Clot Patio - Wifi/Private/Clean  |\n",
      "+---+-------------------------------------------------+\n",
      "only showing top 20 rows\n",
      "\n"
     ]
    }
   ],
   "source": [
    "listings_df = load_airbnb_listings(\"listings.csv\")\n",
    "print(listings_df.count())\n",
    "listings_df.show(truncate=False)"
   ]
  },
  {
   "cell_type": "code",
   "execution_count": 17,
   "metadata": {},
   "outputs": [
    {
     "name": "stderr",
     "output_type": "stream",
     "text": [
      "[Stage 30:>                                                         (0 + 1) / 1]\r"
     ]
    },
    {
     "name": "stdout",
     "output_type": "stream",
     "text": [
      "+---+-------------------------------------------------+-------------------------------------------------+------------------------------------------------------------+----------------------------------------------------+------------------------------------------------------------------------------------------------------------------------------------------------------------------------------------------------------------------------------------------------------------------------------------------------------------------------------------------------------------------------------------------------------------------------------------------------------------------------------------------------------------------------------------------------------------------------------------------------------------------------------------------------------------------------------------------------------------------------------------------------------------------------------------------------------------------------------------------------------------------------------------------------------------------------------------------------------------------------------------------------------------------------------------------------------------------------------------------------------------------------------------------------------------------------------------------------------------------------------------------------------------------------------------------------------------------------------------------------------------------------------------------------------------------------------------------------------------+\n",
      "|id |name                                             |name_clean                                       |words                                                       |stemmedWords                                        |features                                                                                                                                                                                                                                                                                                                                                                                                                                                                                                                                                                                                                                                                                                                                                                                                                                                                                                                                                                                                                                                                                                                                                                                                                                                                                                                                                                                                                                                    |\n",
      "+---+-------------------------------------------------+-------------------------------------------------+------------------------------------------------------------+----------------------------------------------------+------------------------------------------------------------------------------------------------------------------------------------------------------------------------------------------------------------------------------------------------------------------------------------------------------------------------------------------------------------------------------------------------------------------------------------------------------------------------------------------------------------------------------------------------------------------------------------------------------------------------------------------------------------------------------------------------------------------------------------------------------------------------------------------------------------------------------------------------------------------------------------------------------------------------------------------------------------------------------------------------------------------------------------------------------------------------------------------------------------------------------------------------------------------------------------------------------------------------------------------------------------------------------------------------------------------------------------------------------------------------------------------------------------------------------------------------------------+\n",
      "|0  |Huge flat for 8 people close to Sagrada Familia  |Huge flat for   people close to Sagrada Familia  |[huge, flat, for, , , people, close, to, sagrada, familia]  |[huge, flat, peopl, close, sagrada, familia]        |[0.0038531968699923405,-0.0210424888258179,-0.025494020102390397,0.009689071991791327,0.007393377018161118,-0.01065073159406893,0.008105233602691442,0.02754037524573505,0.001622515766939614,3.5674225849409896E-4,-0.0039495387657855945,-0.011073164001572877,-0.026174168878545363,-0.01762969233095646,-0.0010892366990447044,-0.014338781477514809,0.0028742323629558086,0.022708222774478294,0.0010709343672109146,0.004390988731756806,-0.03034581678609053,0.0024921739580652984,-0.01948362619926532,-0.00935878660917903,-0.002233774789298574,0.030543360160663724,0.001039947693546613,-0.0061829475065072375,0.021823407577661175,0.020390386343933642,0.018424817962416757,-0.028040187316946685,-0.008519445468361178,0.0046912965675195055,0.00245484496311595,0.007326910660291711,0.014010893976471076,-0.016439271275885403,0.03549978171940893,0.019325083160462476,0.009374721053366859,0.020040365518070757,0.0023742077076652395,-0.006690072258303795,-0.002060733619146049,-0.0023286893071296313,-0.012042437602455417,0.016918303231553484,0.003971067334835728,0.015184226499210732,0.009311201865784824,-4.657591925933957E-4,-0.031053929744909205,-0.0013256220457454522,0.013660718764488895,-0.0065323301969328895,0.007621398738895853,-0.0064457515642667804,0.025938911945559084,-0.012852262162292996,-4.623269972701867E-4,-0.003815418342128396,0.0024483969318680465,-0.01349510207849865]                         |\n",
      "|1  |Forum CCIB DeLuxe, Spacious, Large Balcony, relax|Forum CCIB DeLuxe  Spacious  Large Balcony  relax|[forum, ccib, deluxe, , spacious, , large, balcony, , relax]|[forum, ccib, delux, spaciou, larg, balconi, relax] |[9.077974744806332E-4,-0.001530798534596605,0.007258525783462183,5.482560123449989E-4,0.005626564845442772,0.0016402285546064377,-0.0025281221522683544,-2.8217162928610506E-4,-7.736325288923191E-4,-0.005042607380476381,-0.004055499963994537,4.380472403551851E-4,-0.00362131096023534,-0.001179493631103209,-2.8324932541831264E-4,0.0025418959059087293,-0.0012199834288497055,5.727301551295178E-4,-0.002105146579976593,-1.4333677245303988E-4,-0.002044026556956981,0.0017029824625102003,0.0013594524352811277,-0.0031767338846943206,0.003047524286167962,7.215736633432762E-4,4.7935051095139764E-4,0.003001411403861961,0.003886049912710275,-0.001887265534605831,4.287514935380646E-4,0.002860854230155902,0.0014401579558450195,-0.004841511487029493,0.001259706581809691,-3.4390092228672335E-4,-7.567633375791566E-4,0.002690480972108032,-6.799404093596552E-4,-0.00305736535561404,-0.0035596430700804505,0.0010513864732014813,-0.003547311032889411,0.0014781421881967355,-0.007712056095312748,0.0017688128334287154,0.002450703318962561,-0.002976672480664482,-0.00191965073879276,8.335663338324853E-4,6.328301637300422E-4,-0.0026608298004638137,-0.001030082581564784,0.007390152629730956,-4.084422336226063E-4,-0.0022956450037392123,-0.0029017674688865164,2.4363417677315217E-4,-0.001249990426003933,0.006949001998041889,-0.004793376869721604,0.0014406712892066154,3.322145036820854E-4,-0.0015928369081978286]      |\n",
      "|2  |Sagrada Familia area - Còrsega 1                 |Sagrada Familia area   C rsega                   |[sagrada, familia, area, , , c, rsega]                      |[sagrada, familia, area, c, rsega]                  |[0.00506330142961815,-0.020779176545329393,-0.03948593492386863,0.01614803089760244,-0.002366032637655735,-0.018938803393393756,0.013656539167277515,0.03214677879586816,0.001360998023301363,0.005302707478404046,-0.005773145146667958,-0.01927104324568063,-0.024207084253430367,-0.02171688455855474,-0.0021430269349366426,-0.018447898840531708,0.0043340555857867,0.029971144860610366,-0.0032039786921814087,0.006038883002474904,-0.03968836630228907,8.768945932388306E-4,-0.025885739107616247,-0.011163848993601278,-0.005077180732041598,0.0381160244345665,0.0031937362618918996,-0.01723836176097393,0.021982959844172003,0.022377921943552793,0.01858410993590951,-0.029176755249500277,-0.009961642912821846,0.009508979786187411,-7.619164418429137E-4,0.009764796402305365,0.01625638027326204,-0.01641407487913966,0.04652201640419662,0.019635029742494228,0.021607508207671346,0.02474374379962683,0.001580983540043235,-0.008131163381040097,-0.0022257508244365454,-0.002760033681988716,-0.011748106125742197,0.024367812438867986,0.005372548080049455,0.020674734795466068,0.01712731431471184,0.003945488575845957,-0.03069740221835673,-0.018723231961485,0.014834706019610167,-0.011413812963292004,0.01928736239206046,-0.010177595354616643,0.02566348370164633,-0.02467355625703931,0.00763553031720221,-0.004506315884646029,0.004719964507967234,-0.014939616830088199]                                                  |\n",
      "|3  |Stylish Top Floor Apartment - Ramblas Plaza Real |Stylish Top Floor Apartment   Ramblas Plaza Real |[stylish, top, floor, apartment, , , ramblas, plaza, real]  |[stylish, top, floor, apart, rambla, plaza, real]   |[0.0021469390672531775,0.0015333567945552723,0.007999988938016551,-0.0027960768119165936,0.01860465611597257,0.0024379247832777245,-0.0010441306180187634,1.083077596766608E-4,-0.0020323818316683173,-0.005123086423347039,-0.001661315547867811,0.007448695982540292,-0.0026283894133354935,-0.004561905466419245,-1.1799802970407263E-4,2.9182734683022967E-4,5.413183243945241E-4,-0.007193370381303663,0.005239032790996134,-3.1602444193725076E-5,-0.004593040020803788,-0.0011312111060500943,-0.002990287129900285,-0.0018597120194629366,0.005282134748995304,-8.001616889876978E-4,0.0013248202823368566,0.008138232124370655,0.006544523440035326,-0.0011071039563310997,-0.0026017025478982498,3.3673880222652637E-4,-0.003248913587802755,-0.005202501080930233,0.006677227735053748,-0.004696468922442624,0.0011570967866906098,-9.382147774366395E-4,-0.00389724168261247,3.0121034277336935E-5,-0.00861654942855239,0.0012075648909168582,5.663284183745937E-4,-0.0022178632207214832,-0.0033460429653392305,0.005012662948242256,-7.395273007984672E-4,-0.00795435078907758,-0.0024128702435908572,-9.231250733137131E-4,-0.00424443995663231,-0.0036380856430956294,-0.00440552010799625,0.010415745599727544,0.004959820171019861,0.0022064278018660843,-0.007673137289072786,0.006716254400089383,-9.637280766453062E-4,0.00994248167054528,-0.006789658900483378,-0.0016286818260726119,-0.0022075083439371413,-0.0021041527257433957] |\n",
      "|4  |VIDRE HOME PLAZA REAL on LAS RAMBLAS             |VIDRE HOME PLAZA REAL on LAS RAMBLAS             |[vidre, home, plaza, real, on, las, ramblas]                |[vidr, home, plaza, real, la, rambla]               |[0.0011770263008656912,0.002957419366187726,0.006795988418161869,-0.007073144738872846,0.002849802452449997,0.002951175411605315,-0.0027808393157708147,-0.009016560021943102,-0.006016018334776163,-8.689960620055596E-4,-1.6778690041974187E-4,0.0038806788506917655,0.005477680048594872,0.0015936275206816692,-4.756015356785307E-4,-3.386038588359952E-4,0.0015640245595326026,-0.01004586483274276,1.1115861222303161E-4,-0.0015769464759311327,0.007473583003350844,-0.00226718212555473,0.001741353228377799,-3.3867192784479505E-4,0.0043578304078740375,-0.005094561337803801,0.001044618353868524,0.0026546538962672153,-3.4831875624756015E-4,-0.006889639073051512,-0.004409130837302655,0.001538490216868619,0.00292906237882562,-0.0033481394057162106,0.003109373530605808,-0.001105790065291027,-0.005310571830098827,0.0030143039281635233,-0.010245861097549398,-0.00280290050432086,-0.005816601436890778,-0.0053025710706909495,-0.0013294247764861211,0.0027219620339261987,-0.0032883434711645045,2.3216705691690245E-4,0.003129574800065408,-0.005032894647835443,-0.0013518735844021041,-0.0031172488136993097,-0.003974305427012344,-0.006595379614736885,-2.689832472242415E-4,0.0056452731757114325,-4.8772371762121714E-4,0.001089959191934516,-0.004417646424068758,0.007876396023978788,-0.002569341023142139,0.008143715572562844,-0.0031305326362295696,-3.509767702780664E-5,5.275384852817903E-4,0.0034697585506364703]  |\n",
      "|5  |Exquisite studio in Barcelona Born               |Exquisite studio in Barcelona Born               |[exquisite, studio, in, barcelona, born]                    |[exquisit, studio, barcelona, born]                 |[0.0015814377256901935,0.004140068136621267,0.02828747854800895,-0.00359308447514195,0.016185496700927615,0.006358770187944174,-0.011764315539039671,-0.009555122655001469,-0.002200331859057769,-0.011115062312455848,-2.2087013348937035E-4,0.014089210308156908,-7.132709724828601E-4,0.0029946344438940287,0.005973114042717498,0.006828445475548506,-0.006232345273019746,-0.015706806487287395,-0.0010422333725728095,-0.01120026782155037,0.005586219136603177,-0.00610246422002092,0.011746588301321026,0.0034734686196316034,0.010068849223898724,-0.012441389262676239,0.0044004994560964406,0.012938577856402844,0.004014263860881329,-0.011870154819916934,-0.008621942950412631,0.013335815630853176,0.004798787587787956,-0.013421030074823648,0.00541000795783475,-0.005405095143942162,-0.005147019750438631,0.004592918558046222,-0.01418773638579296,-0.007090696948580444,-0.014229397755116224,-0.007557629578514025,0.0029014436731813475,0.002811176294926554,-0.0065401484607718885,0.0016199555830098689,0.0030615845462307334,-0.015972313689417206,-0.006075429555494338,-0.007799443876137957,-0.010941711138002574,-0.006372681527864188,0.007398257963359356,0.024419010791461915,-0.006365516455844045,0.0028769157943315804,-0.014594244537875056,0.006615120641072281,-0.00838867953279987,0.0167692874383647,-0.011609351873630658,0.001584098907187581,-0.0027215209556743503,0.004088645859155804]                       |\n",
      "|6  |In front of the beach                            |In front of the beach                            |[in, front, of, the, beach]                                 |[front, beach]                                      |[0.0026222392916679382,3.3910703496076167E-4,0.008443638449534774,4.6637351624667645E-4,0.014694539364427328,0.001919895177707076,-0.0021416230592876673,-0.0020049122686032206,-0.003171355521772057,-0.007712990744039416,0.004432102548889816,0.009715107036754489,-0.002089567220536992,2.9533670749515295E-4,-0.006481978110969067,0.0030235032900236547,8.061276748776436E-4,-0.0027052291115978733,0.0034315300872549415,6.497143767774105E-4,0.0016574090986978263,-0.0031535723246634007,-0.0015173973515629768,-0.0021298595966072753,0.002507002674974501,-0.007469006348401308,0.004329796181991696,0.004898929502815008,0.005749113159254193,-0.0026151443016715348,-0.0012136567384004593,0.00651083467528224,-0.0011206934141227975,-0.007953800493851304,0.00621723965741694,-0.008294795174151659,0.0038326566573232412,0.0038838333275634795,-0.008942767570260912,-0.0038937595672905445,-0.006906468071974814,-0.00576940446626395,-0.007821520557627082,2.2221356630325317E-6,-0.0047731344238854945,0.005619376664981246,0.0017683675978332758,-0.006609870120882988,-0.006283685099333525,-0.00855919485911727,-0.0012903956812806427,-5.602031596936285E-4,-0.0046795273665338755,0.010749390232376754,-5.559314449783415E-4,-0.005362175405025482,3.419996937736869E-4,0.0016597877838648856,-0.006057223072275519,0.013073045760393143,-0.01140507310628891,0.009133301209658384,3.126462106592953E-4,8.83831933606416E-4]        |\n",
      "|7  |Soho Colonial Eclectic Apartment                 |Soho Colonial Eclectic Apartment                 |[soho, colonial, eclectic, apartment]                       |[soho, coloni, eclect, apart]                       |[0.0022135791805339977,5.95177902141586E-4,9.252928721252829E-4,0.00538602436427027,0.017153774038888514,0.0013856089499313384,0.003345527278725058,0.007965697557665408,-0.0030652004352305084,-0.005043653887696564,-0.002448948536766693,0.0030447699828073382,-0.010481489822268486,-0.012450438109226525,5.168045900063589E-4,-0.0034779227571561933,0.0016319076530635357,-0.003669354133307934,0.002147714258171618,8.462469559162855E-4,-0.010127532412298024,-0.003291788525530137,-0.007077194459270686,-0.006558165528986137,0.005692223028745502,0.004797522560693324,0.004172567918431014,0.007003494189120829,0.016812174930237234,0.008904460017220117,0.004421037272550166,-0.003043346165213734,-0.007895333576016128,-0.0014527732855640352,0.005473030498251319,0.001967673364561051,0.005915592249948531,-0.009634160262066871,0.0038594164070673287,0.0013866639055777341,-3.5797531018033624E-4,0.008054712481680326,0.0014619690209656255,-0.004384675208711997,-0.0028695844230242074,0.0014816789189353585,-0.006858352397102863,-0.0021140428725630045,0.0019502083014231175,0.0015799174434505403,-0.003404943330679089,-7.116503838915378E-4,-0.007849259593058378,0.010937680257484317,0.006154554546810687,-8.551737701054662E-4,-8.311744313687086E-4,0.009106294484809041,0.0017313303615082987,0.005208011600188911,-0.007481743858079426,-0.0017695314018055797,-0.0039528453489765525,-0.0058237960038241]               |\n",
      "|8  |Modern Apartment - Sagrada Familia               |Modern Apartment   Sagrada Familia               |[modern, apartment, , , sagrada, familia]                   |[modern, apart, sagrada, familia]                   |[0.01168496673926711,-0.030939943972043693,-0.045233044773340225,0.019632989424280822,0.016773791052401066,-0.02099516859743744,0.01527473097667098,0.04918245831504464,0.0036859871761407703,0.002410652698017657,-0.0066978351678699255,-0.019555857870727777,-0.038914019329240546,-0.03188608537311666,-0.0049666574341244996,-0.028509229014161974,0.00843776180408895,0.03677500318735838,0.0027546004857867956,0.009758069703821093,-0.058279023971408606,0.003973467915784568,-0.03981803738861345,-0.01678701670607552,-0.0018027741461992264,0.04874184029176831,0.0033979275613091886,-0.012784979538992047,0.042836482636630535,0.03737850615289062,0.029754165501799434,-0.04464458237634972,-0.021963788312859833,0.008870841411408037,0.004054066172102466,0.01106657981290482,0.02685197041137144,-0.03089005488436669,0.062266681576147676,0.03164551733061671,0.02412054524756968,0.03729265049696551,0.0050487578846514225,-0.007916886854218319,-0.0037868537474423647,9.573054267093539E-4,-0.024762380868196487,0.024125798139721155,0.0071719520492479205,0.027604740811511874,0.014759454876184464,0.005385407363064587,-0.050833440851420164,-0.005369603168219328,0.024564294988522306,-0.010565473232418299,0.016612888546660542,-0.008982440471299924,0.03919243294512853,-0.024115538457408547,0.005429800687124953,-0.006504102144390345,0.0014886599965393543,-0.02590076476917602]                                          |\n",
      "|9  |Sagrada Familia area - Còrsega 2                 |Sagrada Familia area   C rsega                   |[sagrada, familia, area, , , c, rsega]                      |[sagrada, familia, area, c, rsega]                  |[0.00506330142961815,-0.020779176545329393,-0.03948593492386863,0.01614803089760244,-0.002366032637655735,-0.018938803393393756,0.013656539167277515,0.03214677879586816,0.001360998023301363,0.005302707478404046,-0.005773145146667958,-0.01927104324568063,-0.024207084253430367,-0.02171688455855474,-0.0021430269349366426,-0.018447898840531708,0.0043340555857867,0.029971144860610366,-0.0032039786921814087,0.006038883002474904,-0.03968836630228907,8.768945932388306E-4,-0.025885739107616247,-0.011163848993601278,-0.005077180732041598,0.0381160244345665,0.0031937362618918996,-0.01723836176097393,0.021982959844172003,0.022377921943552793,0.01858410993590951,-0.029176755249500277,-0.009961642912821846,0.009508979786187411,-7.619164418429137E-4,0.009764796402305365,0.01625638027326204,-0.01641407487913966,0.04652201640419662,0.019635029742494228,0.021607508207671346,0.02474374379962683,0.001580983540043235,-0.008131163381040097,-0.0022257508244365454,-0.002760033681988716,-0.011748106125742197,0.024367812438867986,0.005372548080049455,0.020674734795466068,0.01712731431471184,0.003945488575845957,-0.03069740221835673,-0.018723231961485,0.014834706019610167,-0.011413812963292004,0.01928736239206046,-0.010177595354616643,0.02566348370164633,-0.02467355625703931,0.00763553031720221,-0.004506315884646029,0.004719964507967234,-0.014939616830088199]                                                  |\n",
      "|10 |Stylish & cozy 3BR near Sagrada Familia          |Stylish   cozy  BR near Sagrada Familia          |[stylish, , , cozy, , br, near, sagrada, familia]           |[stylish, cozi, br, near, sagrada, familia]         |[0.00420318446898212,-0.019347050440652915,-0.02252503934626778,0.009515848282414177,0.011972270905971527,-0.012823703019724537,0.0060144352610222995,0.03017156150114412,0.0013313312471533814,-0.0038403201033361256,-0.0030549799169724183,-0.012459247256629169,-0.030495181679725647,-0.021469048864673823,-0.0031026269231612482,-0.01616079156519845,0.005269616861672451,0.029260387217315532,-3.3738394267857075E-4,8.09566971535484E-4,-0.037603843957185745,0.001593000551414055,-0.023714524305736024,-0.010591760122527678,-0.001164695907694598,0.034956678592910365,0.0032019931046913066,-0.008515938262765605,0.02876639327344795,0.01796700246632099,0.01597374299308285,-0.025804272231956322,-0.013697118110333879,0.0020642266220723586,0.008666181471198797,0.010490681199977795,0.015082204598002136,-0.018767627887427807,0.038202775875106454,0.020363324520682603,0.009807158300342659,0.020966429729014635,0.0019981882845362025,-0.008171080495230854,-0.003724913374753669,0.0013371169722328582,-0.010658579063601792,0.017447043831149735,0.001750016943939651,0.01485972919423754,0.01236126758158207,0.002828004459540049,-0.030339193413965404,-0.002240015814701716,0.012135182313310603,-0.010142846217301363,0.008472845171733448,-0.005006092949770391,0.027677137753926218,-0.013091850870599348,0.003137193464984496,-0.003362465533427894,0.0023495760979130864,-0.014067690780696768]                             |\n",
      "|11 |Spacious 2 bedroom flat special offer 40% OFF    |Spacious   bedroom flat special offer     OFF    |[spacious, , , bedroom, flat, special, offer, , , , , off]  |[spaciou, bedroom, flat, special, offer]            |[0.003648705827072263,-0.0017542521469295026,0.015021005971357228,0.0015046779531985523,0.015430634014774115,0.00372677908744663,-0.005759174097329379,4.7706119075883183E-4,-0.0015529455849900842,-0.008615942066535353,-0.003841344849206507,0.010287596378475428,-0.010700186295434833,-0.011171762272715569,-0.0028913067653775215,0.0030228284653276206,0.00115594114176929,-0.001108416193164885,-0.002111218881327659,-0.004391159722581506,-0.006613917439244688,-0.001285529206506908,2.9878756031394006E-4,-0.0019150183768942954,0.004495276231318713,-2.7666594833135604E-4,-4.6452591195702555E-4,0.006634403532370926,0.015411274216603488,7.654572604224087E-4,0.0020175987854599954,0.00142297288402915,-2.511876984499395E-4,-0.011616166669409723,0.005666772555559874,-0.0030529521405696872,0.004166989028453827,-0.002778627374209464,4.3967133387923246E-5,-0.0014212507754564287,-0.010146561404690148,8.834603941068053E-4,-0.004552031867206097,0.002603776636533439,-0.0032126743346452716,0.0026458665262907746,-0.003229768923483789,-0.010208713170140982,-0.005887960083782673,-0.002570993034169078,-0.00527062718756497,-0.006078488705679775,-0.008684194879606366,0.022169616632163526,2.5194899499183523E-4,-5.454997473862023E-4,-0.009886209247633816,0.004625002958346158,0.006619739951565862,0.014770232047885657,-0.010891066899057479,0.002455017250031233,0.0016457024263218047,-0.0016214721836149693]         |\n",
      "|12 |Charming apartment with fantastic views!         |Charming apartment with fantastic views          |[charming, apartment, with, fantastic, views]               |[charm, apart, fantast, view]                       |[0.005820733378641307,-0.00454190862365067,0.0022277675452642143,0.0018370492616668344,0.02097954403143376,7.551717280875891E-4,0.003551724017597735,0.0065856436849571764,-1.6610736201982945E-4,-0.0021030155185144395,-0.002308947587152943,2.637179277371615E-4,-0.010014842497184873,-0.009140662121353671,0.0028361347503960133,-0.002750840794760734,-5.776066682301462E-4,-0.004701097612269223,0.003143607173115015,2.4813310301396996E-4,-0.012980426254216582,0.0029536460642702878,-0.005711271660402417,-0.002960883895866573,0.004567639261949807,0.004649875918403268,0.0051205435884185135,0.0099889682023786,0.019033298012800515,0.005731703597120941,0.004434084665263072,-0.005546986809349619,-0.0015601366176269948,-0.005051293468568474,0.0023097796947695315,-0.0032704322366043925,0.005812564675579779,-0.007255539996549487,0.006320059415884316,0.0022206379217095673,-0.0032935685012489557,0.007234708813484758,8.01603018771857E-4,0.0018363584822509438,-0.005053781671449542,0.0038448628620244563,-0.006608470401261002,-0.008515502151567489,0.0023121991544030607,0.004497059999266639,-0.00733192206826061,-0.0031020550668472424,-0.013442897135973908,0.013718843139940873,0.010288604913512245,-0.0015831710115890019,-0.007603149686474353,0.004105102751054801,0.001646377146244049,0.005752371856942773,-0.009697835601400584,0.002358134719543159,-0.004500924085732549,-0.005886410363018513]                 |\n",
      "|13 |Best deals for penthouse near Sagrada Familia!   |Best deals for penthouse near Sagrada Familia    |[best, deals, for, penthouse, near, sagrada, familia]       |[best, deal, penthous, near, sagrada, familia]      |[0.0022354245496292906,-0.022622566126907863,-0.03139875805936754,0.009727355786405193,0.00755926629062742,-0.016371034551411867,0.012659592709193626,0.03180255987293397,-6.587606233855088E-4,0.0010548476905872424,-0.004254843443050049,-0.016728689506029088,-0.024105540408830468,-0.022786670053998627,-0.0040013911202549934,-0.01829334449333449,0.0071679690542320405,0.026589986809995025,9.086572099477053E-4,0.0037568425371622043,-0.037686913080203034,0.0020754891835773983,-0.022401979699983105,-0.006660458748228848,-0.002726102209029098,0.035702158037262656,0.0027360492773974934,-0.011176676301450545,0.026882813428528607,0.021608988929074258,0.017812049171576895,-0.027830477709358092,-0.011945267304933319,0.007614275139834111,0.0034052469418384135,0.00792093644849956,0.015500777866691351,-0.019462281129866216,0.0394775685466205,0.021744123524210103,0.014539164180556933,0.021518735574015103,0.0014526132144965231,-0.0068376992373183985,0.0013842256739735603,-0.004355402430519462,-0.013850450476941962,0.02036832895828411,0.00660920205215613,0.01905305062731107,0.010797126073157415,0.0033084791308889785,-0.030793239711783826,-0.008049698158477742,0.010375270464768011,-0.005992567205491165,0.011922686515996853,-0.008672713351794906,0.026961157331243157,-0.018947241750235357,0.006832848671668519,-0.002745348060367784,0.002424856647849083,-0.011305235209874809]                             |\n",
      "|14 |Long term entire months more than 32 nitghts     |Long term entire months more than    nitghts     |[long, term, entire, months, more, than, , , , nitghts]     |[long, term, entir, month, nitght]                  |[-5.243912339210511E-4,-0.0018450732459314167,0.0018297372545930557,-2.1914718672633174E-6,-0.0015528308809734882,1.8396761734038592E-4,9.244425687938929E-4,-0.0021405485225841404,-0.002038015238940716,-3.0836882069706915E-5,0.001428796211257577,-0.0021824653260409835,0.001801099698059261,-0.004166330024600029,-0.0037462124833837155,0.003095393441617489,8.124164305627346E-4,-0.004389541549608112,0.0027555302891414616,-0.002120981691405177,-0.001132959476672113,0.003357504028826952,0.004382169293239713,0.001162442471832037,0.0035655000712722543,-0.004493078449741006,-0.0021390661597251895,-0.0011178629705682398,9.653247077949346E-4,-8.81477096118033E-4,0.002429144154302776,0.004194287676364184,-0.0012085719092283398,0.0020974564482457935,0.0013566153531428427,0.004521500307600945,0.001090017333626747,0.0020772163989022374,0.002769288094714284,-9.958900336641818E-4,0.003067976311285747,0.0011161689646542073,-0.0016287675360217692,0.0014608073048293592,0.001876564882695675,7.689083693549038E-4,-0.0026758933207020165,-1.016208902001381E-4,-0.0018548581516370179,-0.0026299313351046297,-0.0031643214577343317,0.0013307597022503615,9.948505903594196E-4,3.367179248016328E-4,0.0014143266249448062,-0.0029722074454184622,-8.135892450809479E-4,0.0021907661110162737,-0.001596158219035715,3.2918369397521023E-4,0.0011778022162616253,0.001920362561941147,-0.00101728466397617,-0.0021694022230803966]|\n",
      "|15 |Lugaris Beach Business Apartment                 |Lugaris Beach Business Apartment                 |[lugaris, beach, business, apartment]                       |[lugari, beach, busi, apart]                        |[0.0038304681656882167,-0.005458560510305688,0.007088924874551594,0.0036822794936597347,0.025670249277027324,-2.66507820924744E-4,-9.299878147430718E-4,0.004856340412516147,-0.002527492441004142,-0.005162698740605265,-0.0046810993808321655,0.009682673320639879,-0.007211069983895868,-0.006079641840187833,-0.0017337407916784286,-0.004227691766573116,0.001569440180901438,-0.005174223966605496,0.003858133393805474,6.988039240241051E-5,-0.00931839959230274,-0.0035363425267860293,-0.009011341957375407,-0.003699127060826868,0.0022296876995824277,-0.001114096026867628,0.0059520736103877425,0.011809906864073128,0.017862988948763814,0.006483182791271247,-0.004236993961967528,-0.0036579754669219255,-0.005458082719997037,-0.006426538573578,0.005728670919779688,-0.005386247532442212,0.0069306480581872165,-0.009767458177520894,6.802966527175158E-4,-3.953635459765792E-4,-0.005643278826028109,0.005234180483967066,0.002155340334866196,4.725629114545882E-4,-0.0036797723441850394,0.00652334705227986,-0.007135659107007086,-0.0085316066397354,-0.0018350862665101886,0.001006582286208868,-0.003940695693017915,-0.0011647638748399913,-0.013780897599644959,0.020158823928795755,0.008227333179092966,-0.0010021545458585024,-0.005984256800729781,0.0062755649705650285,0.0031604169635102153,0.005968591547571123,-0.012595111882546917,0.0019283554138382897,-0.0029372368881013244,-0.005873956833966076]              |\n",
      "|16 |Long  Term Colorist apartment minimon 32 nights  |Long  Term Colorist apartment minimon    nights  |[long, , term, colorist, apartment, minimon, , , , nights]  |[long, term, colorist, apart, minimon, night]       |[0.0046558474738655296,-5.277710442896932E-4,0.0023319430959721403,-6.000685389153659E-4,0.012624595653808985,5.099244687395791E-4,7.724631189679105E-4,-5.438010072490821E-4,4.7130469465628266E-4,-0.001028525449025134,0.0020826946323116617,0.0028183589068551855,-0.006772601356108983,-0.003614388988353312,0.0017731116192104914,6.574074504896998E-4,0.0038676877544882395,-0.003191361087374389,0.0025568453517432013,0.0019566975267177136,-0.004285355069441721,5.83642356408139E-4,-0.003806738338122765,7.245404412969947E-4,0.005699104901092747,0.0012427105878790219,0.0025364453128228583,0.0033835226980348425,0.008811147543989742,0.0011021119620030124,0.0033184964947092035,-0.0025274928872628757,-0.0013385483956274886,-0.0013438677803302803,0.004206763711408712,-0.0017599917579597482,0.0032840944671382504,-0.00350723834708333,0.007961750981242705,0.001959170214831829,-0.0012320279201958328,0.0052915880029710625,1.6068480908870697E-4,0.002143390796845779,2.0667019998654723E-4,0.0021909653830031552,-0.006990688464914759,7.411346305161715E-4,0.0013050835307997961,0.003012060551554896,-0.005146728183414476,1.70618062838912E-4,-0.008553939016564982,0.009350722180291388,0.00285536745407929,-5.013649691439543E-4,-0.0057807243429124355,0.002880918657562385,0.002122762702735296,0.0034786831553598554,-0.0055110391331254505,9.555653426408146E-4,-0.0056963340418102835,-0.005355816334486008]           |\n",
      "|17 |LONG TERM FANTASTIC APARTMENT MINIMUM 32 NIGHTS  |LONG TERM FANTASTIC APARTMENT MINIMUM    NIGHTS  |[long, term, fantastic, apartment, minimum, , , , nights]   |[long, term, fantast, apart, minimum, night]        |[0.0076631650639077025,-0.004674266955892866,0.004264533112291247,0.001236657864258935,0.008904800934639448,0.002713246833688269,0.0018649739601338902,0.0018696885866423447,6.567945432228346E-4,0.0011348489206284285,0.0023440280347131193,0.002337442400554816,-0.005310492551264663,-0.002793483203276992,4.210757518497606E-4,-0.0010280658801396687,0.0016181067330762744,-0.003704920217084388,0.004406530953322847,0.001764370324963238,-0.003485636096835757,0.003368263443311055,-0.002779770118650049,6.032619082058469E-4,0.004866937291808426,9.198160065958897E-4,8.666620900233586E-4,0.005097451183246449,0.0093875939589149,0.0027530119599153595,0.004209551416958371,-0.0031621231367656337,-9.016826127966244E-4,-0.0032156531621391573,0.002919860276354787,-0.003322878280111278,0.001149150872758279,-0.0029964932085325318,0.0056525845429860055,0.0017132476750703063,-7.576061664925267E-4,0.004143761548524101,-0.0013260045476878681,0.001410342277570938,0.0013507064819956818,0.002123184783461814,-0.005776018088605875,-0.0029202112248943495,0.004881152669743945,0.0014687029712755852,-0.004741190151738313,9.778843474729606E-4,-0.009498326378282702,0.011055538188278053,0.006291321808627496,-9.925483755068853E-4,-0.00731088799269249,0.003685868568330382,0.00122712649560223,0.0054419659718405455,-0.004526090963433186,0.002940424756767849,-0.0025766795539918044,-0.005916615676445265]                     |\n",
      "|18 |Sagrada Familia area for 12 people               |Sagrada Familia area for    people               |[sagrada, familia, area, for, , , , people]                 |[sagrada, familia, area, peopl]                     |[0.008384004424442537,-0.02626171676092781,-0.04838653498154599,0.017160109127871692,-9.221382206305861E-4,-0.020456085039768368,0.016193685616599396,0.03940236754715443,8.783897465036716E-4,0.005343326542060822,-0.005388781952206045,-0.02206578361801803,-0.03169214178342372,-0.024671926395967603,-0.0018408895120956004,-0.02365905954502523,0.006979682249948382,0.03772066708188504,2.6249868096783757E-4,0.009715131600387394,-0.0461083457339555,0.0036700734053738415,-0.029996494617080316,-0.013737857087107841,-0.009848469053395092,0.04882959392853081,0.0028621679230127484,-0.022468388080596924,0.02671655040467158,0.029090592928696424,0.027321682748151943,-0.039147736271843314,-0.012426122790202498,0.014037256303709,7.868416141718626E-4,0.014301246963441372,0.018782373517751694,-0.02133919979678467,0.05415958643425256,0.027498806128278375,0.02381574991159141,0.02941430627834052,0.0030846670852042735,-0.007653937054783455,-0.0013912376598455012,-0.004278373555280268,-0.01635810057632625,0.03062676580157131,0.003838837321382016,0.026520786013861652,0.019165524339769036,0.005392846302129328,-0.04037579131545499,-0.020875718910247087,0.015263013890944421,-0.010980887484038249,0.023020774708129466,-0.013035633572144434,0.03282818803563714,-0.027180114877410233,0.010382575215771794,-0.0062405840726569295,0.006585907656699419,-0.01629932929063216]                                              |\n",
      "|19 |Sagrada Familia Clot Patio - Wifi/Private/Clean  |Sagrada Familia Clot Patio   Wifi Private Clean  |[sagrada, familia, clot, patio, , , wifi, private, clean]   |[sagrada, familia, clot, patio, wifi, privat, clean]|[0.00499621284377229,-0.018138259383184568,-0.020376898780731217,0.009315031347796321,0.009653889931671853,-0.007584287419116922,0.00827890687755176,0.02574295871558466,0.0028145317919552326,-5.7024494578529676E-5,-0.0025735361414263025,-0.011593263330204145,-0.018044842772984078,-0.019377688444884758,0.0020443134209407227,-0.012774717702995986,0.0029783804036144696,0.022308033957545246,-0.002822486775195492,0.0015526817296631634,-0.031375809788836966,0.0011716646175565463,-0.02184231449583811,-0.007563651805477483,-0.0028743249630289415,0.028524252145351574,0.0025845099090864615,-0.0048628368281892365,0.026023216445797255,0.017640331044926173,0.01638157043739089,-0.024760051597175852,-0.011941824673808046,0.002385173537602116,4.14052080096943E-4,0.005739643504577023,0.010241345568959202,-0.017670868064409918,0.031037529531334127,0.016180517409728572,0.007362553483939596,0.017592788345479806,0.003453344339504838,-0.005163668688120586,-0.0044940007917050806,-0.0016433985105582644,-0.011844733097989644,0.009893377843712057,0.0011541964319933737,0.013121723613169576,0.010331938159652054,0.0015325451303007346,-0.024352976220792955,-0.003539074195681938,0.011729572267670716,-0.009907829575240612,0.006800003674080861,-0.003149822040411111,0.019570297495062863,-0.00901114588071193,0.0021145442899848732,0.0012859275364982229,0.001612493789122839,-0.012023913391333605]                      |\n",
      "+---+-------------------------------------------------+-------------------------------------------------+------------------------------------------------------------+----------------------------------------------------+------------------------------------------------------------------------------------------------------------------------------------------------------------------------------------------------------------------------------------------------------------------------------------------------------------------------------------------------------------------------------------------------------------------------------------------------------------------------------------------------------------------------------------------------------------------------------------------------------------------------------------------------------------------------------------------------------------------------------------------------------------------------------------------------------------------------------------------------------------------------------------------------------------------------------------------------------------------------------------------------------------------------------------------------------------------------------------------------------------------------------------------------------------------------------------------------------------------------------------------------------------------------------------------------------------------------------------------------------------------------------------------------------------------------------------------------------------+\n",
      "only showing top 20 rows\n",
      "\n"
     ]
    },
    {
     "name": "stderr",
     "output_type": "stream",
     "text": [
      "                                                                                \r"
     ]
    }
   ],
   "source": [
    "listings_df = add_features(listings_df, \"name\", \"features\", stemmer='nltk')\n",
    "listings_df.show(truncate=False)"
   ]
  },
  {
   "cell_type": "code",
   "execution_count": 18,
   "metadata": {},
   "outputs": [
    {
     "name": "stderr",
     "output_type": "stream",
     "text": [
      "                                                                                \r"
     ]
    },
    {
     "name": "stdout",
     "output_type": "stream",
     "text": [
      "+---+--------------------+--------------------+--------------------+--------------------+--------------------+--------------------+\n",
      "| id|                name|          name_clean|               words|        stemmedWords|            features| gt_similar_listings|\n",
      "+---+--------------------+--------------------+--------------------+--------------------+--------------------+--------------------+\n",
      "|  0|Huge flat for 8 p...|Huge flat for   p...|[huge, flat, for,...|[huge, flat, peop...|[0.00385319686999...|[160, 646, 777, 6...|\n",
      "|  1|Forum CCIB DeLuxe...|Forum CCIB DeLuxe...|[forum, ccib, del...|[forum, ccib, del...|[9.07797474480633...|[988, 860, 42, 33...|\n",
      "|  2|Sagrada Familia a...|Sagrada Familia a...|[sagrada, familia...|[sagrada, familia...|[0.00506330142961...|[754, 86, 850, 39...|\n",
      "|  3|Stylish Top Floor...|Stylish Top Floor...|[stylish, top, fl...|[stylish, top, fl...|[0.00214693906725...|[94, 653, 59, 636...|\n",
      "|  4|VIDRE HOME PLAZA ...|VIDRE HOME PLAZA ...|[vidre, home, pla...|[vidr, home, plaz...|[0.00117702630086...|[319, 288, 356, 8...|\n",
      "|  5|Exquisite studio ...|Exquisite studio ...|[exquisite, studi...|[exquisit, studio...|[0.00158143772569...|[888, 689, 159, 2...|\n",
      "|  6|In front of the b...|In front of the b...|[in, front, of, t...|      [front, beach]|[0.00262223929166...|[583, 841, 450, 8...|\n",
      "|  7|Soho Colonial Ecl...|Soho Colonial Ecl...|[soho, colonial, ...|[soho, coloni, ec...|[0.00221357918053...|[875, 925, 12, 58...|\n",
      "|  8|Modern Apartment ...|Modern Apartment ...|[modern, apartmen...|[modern, apart, s...|[0.01168496673926...|[166, 677, 568, 1...|\n",
      "|  9|Sagrada Familia a...|Sagrada Familia a...|[sagrada, familia...|[sagrada, familia...|[0.00506330142961...|[754, 86, 850, 39...|\n",
      "| 10|Stylish & cozy 3B...|Stylish   cozy  B...|[stylish, , , coz...|[stylish, cozi, b...|[0.00420318446898...|[131, 176, 279, 4...|\n",
      "| 11|Spacious 2 bedroo...|Spacious   bedroo...|[spacious, , , be...|[spaciou, bedroom...|[0.00364870582707...|[137, 976, 90, 11...|\n",
      "| 12|Charming apartmen...|Charming apartmen...|[charming, apartm...|[charm, apart, fa...|[0.00582073337864...|[766, 236, 586, 3...|\n",
      "| 13|Best deals for pe...|Best deals for pe...|[best, deals, for...|[best, deal, pent...|[0.00223542454962...|[155, 799, 777, 3...|\n",
      "| 14|Long term entire ...|Long term entire ...|[long, term, enti...|[long, term, enti...|[-5.2439123392105...|[706, 783, 309, 1...|\n",
      "| 15|Lugaris Beach Bus...|Lugaris Beach Bus...|[lugaris, beach, ...|[lugari, beach, b...|[0.00383046816568...|[277, 452, 244, 5...|\n",
      "| 16|Long  Term Colori...|Long  Term Colori...|[long, , term, co...|[long, term, colo...|[0.00465584747386...|[182, 17, 113, 11...|\n",
      "| 17|LONG TERM FANTAST...|LONG TERM FANTAST...|[long, term, fant...|[long, term, fant...|[0.00766316506390...|[182, 16, 193, 11...|\n",
      "| 18|Sagrada Familia a...|Sagrada Familia a...|[sagrada, familia...|[sagrada, familia...|[0.00838400442444...|[84, 726, 445, 64...|\n",
      "| 19|Sagrada Familia C...|Sagrada Familia C...|[sagrada, familia...|[sagrada, familia...|[0.00499621284377...|[39, 40, 661, 33,...|\n",
      "+---+--------------------+--------------------+--------------------+--------------------+--------------------+--------------------+\n",
      "only showing top 20 rows\n",
      "\n"
     ]
    }
   ],
   "source": [
    "listings_df = add_gt_similar(listings_df, id_col='id', features_col='features', gt_similar_col='gt_similar_listings')\n",
    "listings_df.show(truncate=True)"
   ]
  },
  {
   "cell_type": "code",
   "execution_count": 19,
   "metadata": {},
   "outputs": [],
   "source": [
    "possibleHashTablesCount = [1, 3, 5]\n",
    "possibleDistanceThresholds = [0.3, 0.5, 0.9]\n",
    "possibleBucketLenghts = [0.5, 1, 3]\n",
    "\n",
    "param_grid = []\n",
    "for hashTablesCount in possibleHashTablesCount:\n",
    "    for distanceThreshold in possibleDistanceThresholds:\n",
    "        for bucketLength in possibleBucketLenghts:\n",
    "            param_grid.append({'numHashTables': hashTablesCount, 'distanceThreshold': distanceThreshold, 'bucketLength': bucketLength})"
   ]
  },
  {
   "cell_type": "code",
   "execution_count": 20,
   "metadata": {},
   "outputs": [
    {
     "name": "stderr",
     "output_type": "stream",
     "text": [
      "  4%|▎         | 1/27 [01:47<46:26, 107.19s/it]                                 "
     ]
    },
    {
     "name": "stdout",
     "output_type": "stream",
     "text": [
      "{'params': {'numHashTables': 1, 'distanceThreshold': 0.3, 'bucketLength': 0.5}, 'iou': 0.8250747526799616, 'computation_time': 107.19013023376465}\n"
     ]
    },
    {
     "name": "stderr",
     "output_type": "stream",
     "text": [
      "  7%|▋         | 2/27 [03:03<37:10, 89.21s/it]                                  "
     ]
    },
    {
     "name": "stdout",
     "output_type": "stream",
     "text": [
      "{'params': {'numHashTables': 1, 'distanceThreshold': 0.3, 'bucketLength': 1}, 'iou': 0.8250747526799616, 'computation_time': 76.60729265213013}\n"
     ]
    },
    {
     "name": "stderr",
     "output_type": "stream",
     "text": [
      " 11%|█         | 3/27 [04:19<33:13, 83.06s/it]                                  "
     ]
    },
    {
     "name": "stdout",
     "output_type": "stream",
     "text": [
      "{'params': {'numHashTables': 1, 'distanceThreshold': 0.3, 'bucketLength': 3}, 'iou': 0.8250747526799616, 'computation_time': 75.74555110931396}\n"
     ]
    },
    {
     "name": "stderr",
     "output_type": "stream",
     "text": [
      " 15%|█▍        | 4/27 [05:39<31:18, 81.67s/it]                                  "
     ]
    },
    {
     "name": "stdout",
     "output_type": "stream",
     "text": [
      "{'params': {'numHashTables': 1, 'distanceThreshold': 0.5, 'bucketLength': 0.5}, 'iou': 0.8250747526799616, 'computation_time': 79.53543782234192}\n"
     ]
    },
    {
     "name": "stderr",
     "output_type": "stream",
     "text": [
      " 19%|█▊        | 5/27 [07:05<30:33, 83.35s/it]                                  "
     ]
    },
    {
     "name": "stdout",
     "output_type": "stream",
     "text": [
      "{'params': {'numHashTables': 1, 'distanceThreshold': 0.5, 'bucketLength': 1}, 'iou': 0.8250747526799616, 'computation_time': 86.32423448562622}\n"
     ]
    },
    {
     "name": "stderr",
     "output_type": "stream",
     "text": [
      " 22%|██▏       | 6/27 [08:05<26:25, 75.50s/it]                                  "
     ]
    },
    {
     "name": "stdout",
     "output_type": "stream",
     "text": [
      "{'params': {'numHashTables': 1, 'distanceThreshold': 0.5, 'bucketLength': 3}, 'iou': 0.8250747526799616, 'computation_time': 60.24422240257263}\n"
     ]
    },
    {
     "name": "stderr",
     "output_type": "stream",
     "text": [
      " 26%|██▌       | 7/27 [09:18<24:49, 74.46s/it]                                  "
     ]
    },
    {
     "name": "stdout",
     "output_type": "stream",
     "text": [
      "{'params': {'numHashTables': 1, 'distanceThreshold': 0.9, 'bucketLength': 0.5}, 'iou': 0.8250747526799616, 'computation_time': 72.32331228256226}\n"
     ]
    },
    {
     "name": "stderr",
     "output_type": "stream",
     "text": [
      " 30%|██▉       | 8/27 [10:20<22:24, 70.76s/it]                                  "
     ]
    },
    {
     "name": "stdout",
     "output_type": "stream",
     "text": [
      "{'params': {'numHashTables': 1, 'distanceThreshold': 0.9, 'bucketLength': 1}, 'iou': 0.8250747526799616, 'computation_time': 62.81199073791504}\n"
     ]
    },
    {
     "name": "stderr",
     "output_type": "stream",
     "text": [
      " 33%|███▎      | 9/27 [11:19<20:04, 66.93s/it]                                  "
     ]
    },
    {
     "name": "stdout",
     "output_type": "stream",
     "text": [
      "{'params': {'numHashTables': 1, 'distanceThreshold': 0.9, 'bucketLength': 3}, 'iou': 0.8250747526799616, 'computation_time': 58.49589014053345}\n"
     ]
    },
    {
     "name": "stderr",
     "output_type": "stream",
     "text": [
      " 37%|███▋      | 10/27 [12:28<19:09, 67.60s/it]                                 "
     ]
    },
    {
     "name": "stdout",
     "output_type": "stream",
     "text": [
      "{'params': {'numHashTables': 3, 'distanceThreshold': 0.3, 'bucketLength': 0.5}, 'iou': 0.9426670801921293, 'computation_time': 69.09479260444641}\n"
     ]
    },
    {
     "name": "stderr",
     "output_type": "stream",
     "text": [
      " 41%|████      | 11/27 [13:43<18:36, 69.76s/it]                                 "
     ]
    },
    {
     "name": "stdout",
     "output_type": "stream",
     "text": [
      "{'params': {'numHashTables': 3, 'distanceThreshold': 0.3, 'bucketLength': 1}, 'iou': 0.9426670801921293, 'computation_time': 74.64629411697388}\n"
     ]
    },
    {
     "name": "stderr",
     "output_type": "stream",
     "text": [
      " 44%|████▍     | 12/27 [14:53<17:28, 69.93s/it]                                 "
     ]
    },
    {
     "name": "stdout",
     "output_type": "stream",
     "text": [
      "{'params': {'numHashTables': 3, 'distanceThreshold': 0.3, 'bucketLength': 3}, 'iou': 0.9426670801921293, 'computation_time': 70.32629728317261}\n"
     ]
    },
    {
     "name": "stderr",
     "output_type": "stream",
     "text": [
      " 48%|████▊     | 13/27 [16:04<16:25, 70.42s/it]                                 "
     ]
    },
    {
     "name": "stdout",
     "output_type": "stream",
     "text": [
      "{'params': {'numHashTables': 3, 'distanceThreshold': 0.5, 'bucketLength': 0.5}, 'iou': 0.9426670801921293, 'computation_time': 71.5538375377655}\n"
     ]
    },
    {
     "name": "stderr",
     "output_type": "stream",
     "text": [
      " 52%|█████▏    | 14/27 [17:17<15:22, 70.98s/it]                                 "
     ]
    },
    {
     "name": "stdout",
     "output_type": "stream",
     "text": [
      "{'params': {'numHashTables': 3, 'distanceThreshold': 0.5, 'bucketLength': 1}, 'iou': 0.9426670801921293, 'computation_time': 72.26036381721497}\n"
     ]
    },
    {
     "name": "stderr",
     "output_type": "stream",
     "text": [
      " 56%|█████▌    | 15/27 [18:25<14:02, 70.17s/it]                                 "
     ]
    },
    {
     "name": "stdout",
     "output_type": "stream",
     "text": [
      "{'params': {'numHashTables': 3, 'distanceThreshold': 0.5, 'bucketLength': 3}, 'iou': 0.9426670801921293, 'computation_time': 68.29922103881836}\n"
     ]
    },
    {
     "name": "stderr",
     "output_type": "stream",
     "text": [
      " 59%|█████▉    | 16/27 [19:35<12:49, 69.96s/it]                                 "
     ]
    },
    {
     "name": "stdout",
     "output_type": "stream",
     "text": [
      "{'params': {'numHashTables': 3, 'distanceThreshold': 0.9, 'bucketLength': 0.5}, 'iou': 0.9426670801921293, 'computation_time': 69.45592308044434}\n"
     ]
    },
    {
     "name": "stderr",
     "output_type": "stream",
     "text": [
      " 63%|██████▎   | 17/27 [20:41<11:28, 68.83s/it]                                 "
     ]
    },
    {
     "name": "stdout",
     "output_type": "stream",
     "text": [
      "{'params': {'numHashTables': 3, 'distanceThreshold': 0.9, 'bucketLength': 1}, 'iou': 0.9426670801921293, 'computation_time': 66.19772481918335}\n"
     ]
    },
    {
     "name": "stderr",
     "output_type": "stream",
     "text": [
      " 67%|██████▋   | 18/27 [21:44<10:04, 67.17s/it]                                 "
     ]
    },
    {
     "name": "stdout",
     "output_type": "stream",
     "text": [
      "{'params': {'numHashTables': 3, 'distanceThreshold': 0.9, 'bucketLength': 3}, 'iou': 0.9426670801921293, 'computation_time': 63.31663537025452}\n"
     ]
    },
    {
     "name": "stderr",
     "output_type": "stream",
     "text": [
      " 70%|███████   | 19/27 [22:58<09:13, 69.14s/it]                                 "
     ]
    },
    {
     "name": "stdout",
     "output_type": "stream",
     "text": [
      "{'params': {'numHashTables': 5, 'distanceThreshold': 0.3, 'bucketLength': 0.5}, 'iou': 0.9453033050227428, 'computation_time': 73.7042486667633}\n"
     ]
    },
    {
     "name": "stderr",
     "output_type": "stream",
     "text": [
      " 74%|███████▍  | 20/27 [24:12<08:14, 70.62s/it]                                 "
     ]
    },
    {
     "name": "stdout",
     "output_type": "stream",
     "text": [
      "{'params': {'numHashTables': 5, 'distanceThreshold': 0.3, 'bucketLength': 1}, 'iou': 0.9453033050227428, 'computation_time': 74.07240223884583}\n"
     ]
    },
    {
     "name": "stderr",
     "output_type": "stream",
     "text": [
      " 78%|███████▊  | 21/27 [25:22<07:02, 70.38s/it]                                 "
     ]
    },
    {
     "name": "stdout",
     "output_type": "stream",
     "text": [
      "{'params': {'numHashTables': 5, 'distanceThreshold': 0.3, 'bucketLength': 3}, 'iou': 0.9453033050227428, 'computation_time': 69.83239769935608}\n"
     ]
    },
    {
     "name": "stderr",
     "output_type": "stream",
     "text": [
      " 81%|████████▏ | 22/27 [26:37<05:59, 71.85s/it]                                 "
     ]
    },
    {
     "name": "stdout",
     "output_type": "stream",
     "text": [
      "{'params': {'numHashTables': 5, 'distanceThreshold': 0.5, 'bucketLength': 0.5}, 'iou': 0.9453033050227428, 'computation_time': 75.27315258979797}\n"
     ]
    },
    {
     "name": "stderr",
     "output_type": "stream",
     "text": [
      " 85%|████████▌ | 23/27 [27:51<04:49, 72.50s/it]                                 "
     ]
    },
    {
     "name": "stdout",
     "output_type": "stream",
     "text": [
      "{'params': {'numHashTables': 5, 'distanceThreshold': 0.5, 'bucketLength': 1}, 'iou': 0.9453033050227428, 'computation_time': 74.00194048881531}\n"
     ]
    },
    {
     "name": "stderr",
     "output_type": "stream",
     "text": [
      " 89%|████████▉ | 24/27 [29:11<03:44, 74.83s/it]                                 "
     ]
    },
    {
     "name": "stdout",
     "output_type": "stream",
     "text": [
      "{'params': {'numHashTables': 5, 'distanceThreshold': 0.5, 'bucketLength': 3}, 'iou': 0.9453033050227428, 'computation_time': 80.25347948074341}\n"
     ]
    },
    {
     "name": "stderr",
     "output_type": "stream",
     "text": [
      " 93%|█████████▎| 25/27 [30:23<02:28, 74.06s/it]                                 "
     ]
    },
    {
     "name": "stdout",
     "output_type": "stream",
     "text": [
      "{'params': {'numHashTables': 5, 'distanceThreshold': 0.9, 'bucketLength': 0.5}, 'iou': 0.9453033050227428, 'computation_time': 72.26301670074463}\n"
     ]
    },
    {
     "name": "stderr",
     "output_type": "stream",
     "text": [
      " 96%|█████████▋| 26/27 [31:35<01:13, 73.29s/it]                                 "
     ]
    },
    {
     "name": "stdout",
     "output_type": "stream",
     "text": [
      "{'params': {'numHashTables': 5, 'distanceThreshold': 0.9, 'bucketLength': 1}, 'iou': 0.9453033050227428, 'computation_time': 71.48428726196289}\n"
     ]
    },
    {
     "name": "stderr",
     "output_type": "stream",
     "text": [
      "100%|██████████| 27/27 [32:48<00:00, 72.92s/it]                                 "
     ]
    },
    {
     "name": "stdout",
     "output_type": "stream",
     "text": [
      "{'params': {'numHashTables': 5, 'distanceThreshold': 0.9, 'bucketLength': 3}, 'iou': 0.9453033050227428, 'computation_time': 73.42688322067261}\n"
     ]
    },
    {
     "name": "stderr",
     "output_type": "stream",
     "text": [
      "\n"
     ]
    }
   ],
   "source": [
    "airbnb_parameters_evaled = grid_search_tuning(listings_df, \n",
    "                                              param_grid, \n",
    "                                              id_col=\"id\", \n",
    "                                              features_col = 'features', \n",
    "                                              gt_similar_col = 'gt_similar_listings',\n",
    "                                              pred_similar_col = 'pred_similar_listings', \n",
    "                                              top_parameter_sets = -1,\n",
    "                                              verbose=True)"
   ]
  },
  {
   "cell_type": "code",
   "execution_count": 33,
   "metadata": {},
   "outputs": [],
   "source": [
    "gridsearch_res_df = pd.DataFrame(airbnb_parameters_evaled)\n",
    "\n",
    "gridsearch_res_df['numHashTables'] = gridsearch_res_df['params'].apply(lambda x: x.get('numHashTables'))\n",
    "gridsearch_res_df['distanceThreshold'] = gridsearch_res_df['params'].apply(lambda x: x.get('distanceThreshold'))\n",
    "gridsearch_res_df['bucketLength'] = gridsearch_res_df['params'].apply(lambda x: x.get('bucketLength'))\n",
    "# gridsearch_res_df = gridsearch_res_df.drop(columns=['params'])"
   ]
  },
  {
   "cell_type": "code",
   "execution_count": 38,
   "metadata": {},
   "outputs": [
    {
     "data": {
      "image/png": "[encoded data removed]",
      "text/plain": [
       "<Figure size 1200x1800 with 12 Axes>"
      ]
     },
     "metadata": {},
     "output_type": "display_data"
    }
   ],
   "source": [
    "visualize_gridsearch_res(airbnb_parameters_evaled)"
   ]
  },
  {
   "cell_type": "markdown",
   "metadata": {},
   "source": [
    "From the plots, we can make statements about parameters influence on IOU and computation time:\n",
    "- `numHashTables`, hash tables count in LSH, is the only parameter that influences IOU, at least with those values of that parameters. More hash tables result in better accuracy (IOU), but it increases computation time in general.\n",
    "- `distanceThreshold`, a threshold for aproximate NN join to cut by. In this range, it doesn't influence IOU but its increase leads to a bit faster computation. I would rather say that less threshold should lead to faster computations and decrease IOU, but maybe the filtering used by me afterwards to obtain K closest is almost equialent and mitigates this parameter.\n",
    "- `bucketLength`, a length of the hash bucket. Its increase should increase IOU by lowering FNs, but we didn't encountered this case with this parameter range. Also, we can speculate that bigger bucket length results in faster calculations (range of calculation time is smaller 5 seconds each `bucketLength` increase)."
   ]
  },
  {
   "cell_type": "code",
   "execution_count": 39,
   "metadata": {},
   "outputs": [
    {
     "name": "stdout",
     "output_type": "stream",
     "text": [
      "The best parameter set is {'numHashTables': 5, 'distanceThreshold': 0.3, 'bucketLength': 3}.\n",
      "It has IOU=0.945 and computation time of 69.832 seconds\n"
     ]
    }
   ],
   "source": [
    "airbnb_top_iou = max(airbnb_parameters_evaled, key=lambda x: x['iou'])['iou']\n",
    "airbnb_top_iou_params = filter(lambda x: x['iou'] == airbnb_top_iou, airbnb_parameters_evaled)\n",
    "airbnb_top_iou_and_smallest_time_params = min(airbnb_top_iou_params, key=lambda x: x['computation_time'])\n",
    "print(f\"\"\"The best parameter set is {airbnb_top_iou_and_smallest_time_params['params']}.\n",
    "It has IOU={airbnb_top_iou_and_smallest_time_params['iou']:.3f} and computation time of {airbnb_top_iou_and_smallest_time_params['computation_time']:.3f} seconds\"\"\")"
   ]
  },
  {
   "cell_type": "markdown",
   "metadata": {},
   "source": [
    "### Full dataset results\n",
    "\n",
    "Let's now calculate results for the (emulation of) full dataset. We can't run all 20k dataset on this machine, so we will try to process 5k and see if those parameters result in less accurate model for a bigger dataset. It should be a case, because there will be much more possible similar apartments in the dataset now."
   ]
  },
  {
   "cell_type": "code",
   "execution_count": 17,
   "metadata": {},
   "outputs": [
    {
     "name": "stderr",
     "output_type": "stream",
     "text": [
      "[Stage 24:>                                                         (0 + 1) / 1]\r"
     ]
    },
    {
     "name": "stdout",
     "output_type": "stream",
     "text": [
      "+---+--------------------+--------------------+--------------------+--------------------+--------------------+\n",
      "| id|                name|          name_clean|               words|        stemmedWords|            features|\n",
      "+---+--------------------+--------------------+--------------------+--------------------+--------------------+\n",
      "|  0|Huge flat for 8 p...|Huge flat for   p...|[huge, flat, for,...|[huge, flat, peop...|[-0.0311255447256...|\n",
      "|  1|Forum CCIB DeLuxe...|Forum CCIB DeLuxe...|[forum, ccib, del...|[forum, ccib, del...|[0.00418941765591...|\n",
      "|  2|Sagrada Familia a...|Sagrada Familia a...|[sagrada, familia...|[sagrada, familia...|[-0.0493932020850...|\n",
      "|  3|Stylish Top Floor...|Stylish Top Floor...|[stylish, top, fl...|[stylish, top, fl...|[0.03702403950904...|\n",
      "|  4|VIDRE HOME PLAZA ...|VIDRE HOME PLAZA ...|[vidre, home, pla...|[vidr, home, plaz...|[0.01855226924332...|\n",
      "|  5|Exquisite studio ...|Exquisite studio ...|[exquisite, studi...|[exquisit, studio...|[0.01899541844613...|\n",
      "|  6|In front of the b...|In front of the b...|[in, front, of, t...|      [front, beach]|[0.01351493666879...|\n",
      "|  7|Soho Colonial Ecl...|Soho Colonial Ecl...|[soho, colonial, ...|[soho, coloni, ec...|[0.03840847846004...|\n",
      "|  8|Modern Apartment ...|Modern Apartment ...|[modern, apartmen...|[modern, apart, s...|[-0.0430936561897...|\n",
      "|  9|Sagrada Familia a...|Sagrada Familia a...|[sagrada, familia...|[sagrada, familia...|[-0.0493932020850...|\n",
      "| 10|Stylish & cozy 3B...|Stylish   cozy  B...|[stylish, , , coz...|[stylish, cozi, b...|[-0.0527574871666...|\n",
      "| 11|Spacious 2 bedroo...|Spacious   bedroo...|[spacious, , , be...|[spaciou, bedroom...|[0.02305884365923...|\n",
      "| 12|Charming apartmen...|Charming apartmen...|[charming, apartm...|[charm, apart, fa...|[0.04349214078683...|\n",
      "| 13|Best deals for pe...|Best deals for pe...|[best, deals, for...|[best, deal, pent...|[-0.0396263054572...|\n",
      "| 14|Long term entire ...|Long term entire ...|[long, term, enti...|[long, term, enti...|[0.00331141548231...|\n",
      "| 15|Lugaris Beach Bus...|Lugaris Beach Bus...|[lugaris, beach, ...|[lugari, beach, b...|[0.05268851437722...|\n",
      "| 16|Long  Term Colori...|Long  Term Colori...|[long, , term, co...|[long, term, colo...|[0.02741842459848...|\n",
      "| 17|LONG TERM FANTAST...|LONG TERM FANTAST...|[long, term, fant...|[long, term, fant...|[0.02526156998161...|\n",
      "| 18|Sagrada Familia a...|Sagrada Familia a...|[sagrada, familia...|[sagrada, familia...|[-0.0795884134713...|\n",
      "| 19|Sagrada Familia C...|Sagrada Familia C...|[sagrada, familia...|[sagrada, familia...|[-0.0248979447143...|\n",
      "+---+--------------------+--------------------+--------------------+--------------------+--------------------+\n",
      "only showing top 20 rows\n",
      "\n"
     ]
    },
    {
     "name": "stderr",
     "output_type": "stream",
     "text": [
      "                                                                                \r"
     ]
    }
   ],
   "source": [
    "listings_full_df = load_airbnb_listings(\"listings.csv\", values_count=5_000)\n",
    "listings_full_df = add_features(listings_full_df, \"name\", \"features\", stemmer='nltk')\n",
    "listings_full_df.show()"
   ]
  },
  {
   "cell_type": "markdown",
   "metadata": {},
   "source": [
    "As ground truth calculation involves pivot table computation, it has a time and space complexity of $N^2$, and therefore for 5k is ~25 times longer than for 1k sample. For the 10k, it took more than hour ($2^2$ longer than for 5k), and for the full dataset should be 4 times more longer. It is the main motivation we need LSH for big data, that usually has much more samples than 20k."
   ]
  },
  {
   "cell_type": "code",
   "execution_count": 18,
   "metadata": {},
   "outputs": [
    {
     "name": "stderr",
     "output_type": "stream",
     "text": [
      "                                                                                \r"
     ]
    },
    {
     "name": "stdout",
     "output_type": "stream",
     "text": [
      "+---+--------------------+--------------------+--------------------+--------------------+--------------------+--------------------+\n",
      "| id|                name|          name_clean|               words|        stemmedWords|            features| gt_similar_listings|\n",
      "+---+--------------------+--------------------+--------------------+--------------------+--------------------+--------------------+\n",
      "|  0|Huge flat for 8 p...|Huge flat for   p...|[huge, flat, for,...|[huge, flat, peop...|[-0.0311255447256...|[998, 2044, 176, ...|\n",
      "|  1|Forum CCIB DeLuxe...|Forum CCIB DeLuxe...|[forum, ccib, del...|[forum, ccib, del...|[0.00418941765591...|[2838, 3380, 2003...|\n",
      "|  2|Sagrada Familia a...|Sagrada Familia a...|[sagrada, familia...|[sagrada, familia...|[-0.0493932020850...|[4660, 4785, 4673...|\n",
      "|  3|Stylish Top Floor...|Stylish Top Floor...|[stylish, top, fl...|[stylish, top, fl...|[0.03702403950904...|[3348, 3534, 325,...|\n",
      "|  4|VIDRE HOME PLAZA ...|VIDRE HOME PLAZA ...|[vidre, home, pla...|[vidr, home, plaz...|[0.01855226924332...|[1242, 4750, 3146...|\n",
      "|  5|Exquisite studio ...|Exquisite studio ...|[exquisite, studi...|[exquisit, studio...|[0.01899541844613...|[1497, 2399, 2191...|\n",
      "|  6|In front of the b...|In front of the b...|[in, front, of, t...|      [front, beach]|[0.01351493666879...|[4318, 2699, 2728...|\n",
      "|  7|Soho Colonial Ecl...|Soho Colonial Ecl...|[soho, colonial, ...|[soho, coloni, ec...|[0.03840847846004...|[982, 1020, 3266,...|\n",
      "|  8|Modern Apartment ...|Modern Apartment ...|[modern, apartmen...|[modern, apart, s...|[-0.0430936561897...|[568, 763, 1759, ...|\n",
      "|  9|Sagrada Familia a...|Sagrada Familia a...|[sagrada, familia...|[sagrada, familia...|[-0.0493932020850...|[4660, 4785, 4673...|\n",
      "| 10|Stylish & cozy 3B...|Stylish   cozy  B...|[stylish, , , coz...|[stylish, cozi, b...|[-0.0527574871666...|[3125, 67, 3627, ...|\n",
      "| 11|Spacious 2 bedroo...|Spacious   bedroo...|[spacious, , , be...|[spaciou, bedroom...|[0.02305884365923...|[1085, 1125, 4905...|\n",
      "| 12|Charming apartmen...|Charming apartmen...|[charming, apartm...|[charm, apart, fa...|[0.04349214078683...|[4162, 902, 1643,...|\n",
      "| 13|Best deals for pe...|Best deals for pe...|[best, deals, for...|[best, deal, pent...|[-0.0396263054572...|[2119, 2127, 998,...|\n",
      "| 14|Long term entire ...|Long term entire ...|[long, term, enti...|[long, term, enti...|[0.00331141548231...|[2252, 1309, 1896...|\n",
      "| 15|Lugaris Beach Bus...|Lugaris Beach Bus...|[lugaris, beach, ...|[lugari, beach, b...|[0.05268851437722...|[2005, 996, 1619,...|\n",
      "| 16|Long  Term Colori...|Long  Term Colori...|[long, , term, co...|[long, term, colo...|[0.02741842459848...|[182, 17, 487, 30...|\n",
      "| 17|LONG TERM FANTAST...|LONG TERM FANTAST...|[long, term, fant...|[long, term, fant...|[0.02526156998161...|[182, 16, 487, 23...|\n",
      "| 18|Sagrada Familia a...|Sagrada Familia a...|[sagrada, familia...|[sagrada, familia...|[-0.0795884134713...|[4517, 726, 1177,...|\n",
      "| 19|Sagrada Familia C...|Sagrada Familia C...|[sagrada, familia...|[sagrada, familia...|[-0.0248979447143...|[39, 40, 176, 481...|\n",
      "+---+--------------------+--------------------+--------------------+--------------------+--------------------+--------------------+\n",
      "only showing top 20 rows\n",
      "\n",
      "Ground truth calculation took 984.698 seconds\n"
     ]
    }
   ],
   "source": [
    "start_time = time.time()\n",
    "listings_full_df = add_gt_similar(listings_full_df, id_col='id', features_col='features', gt_similar_col='gt_similar_listings')\n",
    "listings_full_df.show()\n",
    "print(f\"Ground truth calculation took {time.time() - start_time:.3f} seconds\")"
   ]
  },
  {
   "cell_type": "code",
   "execution_count": 19,
   "metadata": {},
   "outputs": [
    {
     "name": "stderr",
     "output_type": "stream",
     "text": [
      "                                                                                \r"
     ]
    },
    {
     "name": "stdout",
     "output_type": "stream",
     "text": [
      "LSH prediction calculation took 1113.339 seconds\n",
      "LSH prediction calculation resulted in 0.931 mean IOU value\n"
     ]
    }
   ],
   "source": [
    "airbnb_best_full_result = test_lsh_params(listings_full_df, \n",
    "                                        airbnb_top_iou_and_smallest_time_params['params'], \n",
    "                                        id_col='id', \n",
    "                                        features_col='features', \n",
    "                                        gt_similar_col='gt_similar_listings',\n",
    "                                        pred_similar_col='pred_similar_listings')\n",
    "print(f\"LSH prediction calculation took {airbnb_best_full_result['computation_time']:.3f} seconds\")\n",
    "print(f\"LSH prediction calculation resulted in {airbnb_best_full_result['iou']:.3f} mean IOU value\")"
   ]
  },
  {
   "cell_type": "markdown",
   "metadata": {},
   "source": [
    "Here we see, that LSH computation is again longer, by 13% than GT computation. However, bigger hash tables count and even bigger dimensionality of the dataset are almost obliged to defeat this pattern. IOU for 5k is ~1% lower than for the 1K, meaning grid search tuning worked well on 1k dataset and the results of those in terms of quality are relevant for bigger dataset sizes."
   ]
  },
  {
   "cell_type": "markdown",
   "metadata": {},
   "source": [
    "## Part 2. Wikipedia LSH experiment"
   ]
  },
  {
   "cell_type": "markdown",
   "metadata": {},
   "source": [
    "### Obtain data"
   ]
  },
  {
   "cell_type": "code",
   "execution_count": 40,
   "metadata": {},
   "outputs": [],
   "source": [
    "wiki_request_res = requests.get(\"https://wikimedia.org/api/rest_v1/metrics/pageviews/top/uk.wikipedia.org/all-access/2024/09/all-days\", headers={\n",
    "    \"Accept\": \"application/json\",\n",
    "    \"User-Agent\": \"Mozilla/5.0 (X11; Ubuntu; Linux x86_64; rv:129.0) Gecko/20100101 Firefox/129.0\",\n",
    "    \"Referer\": \"https://doc.wikimedia.org/\"\n",
    "})"
   ]
  },
  {
   "cell_type": "code",
   "execution_count": 41,
   "metadata": {},
   "outputs": [],
   "source": [
    "articles_data = wiki_request_res.json()['items'][0]['articles']"
   ]
  },
  {
   "cell_type": "markdown",
   "metadata": {},
   "source": [
    "### Transform data"
   ]
  },
  {
   "cell_type": "code",
   "execution_count": 42,
   "metadata": {},
   "outputs": [],
   "source": [
    "articles_df = SPARK.createDataFrame(articles_data)"
   ]
  },
  {
   "cell_type": "code",
   "execution_count": 43,
   "metadata": {},
   "outputs": [
    {
     "name": "stderr",
     "output_type": "stream",
     "text": [
      "[Stage 2210:>                                                       (0 + 8) / 8]\r"
     ]
    },
    {
     "name": "stdout",
     "output_type": "stream",
     "text": [
      "1000\n",
      "+-----------------------------------------------+----+------+\n",
      "|article                                        |rank|views |\n",
      "+-----------------------------------------------+----+------+\n",
      "|Головна_сторінка                               |1   |469652|\n",
      "|Спеціальна:Пошук                               |2   |197066|\n",
      "|Волинська_трагедія                             |3   |82508 |\n",
      "|Klavdia_Petrivna                               |4   |79497 |\n",
      "|Україна                                        |5   |61993 |\n",
      "|YouTube                                        |6   |60683 |\n",
      "|Сибіга_Андрій_Іванович                         |7   |58442 |\n",
      "|Перша_світова_війна                            |8   |50199 |\n",
      "|Національна_суспільна_телерадіокомпанія_України|9   |42675 |\n",
      "|Масляков_Олександр_Васильович                  |10  |37677 |\n",
      "|Нечуй-Левицький_Іван_Семенович                 |11  |37089 |\n",
      "|Президентські_вибори_у_США_2024                |12  |35302 |\n",
      "|Лавров_Сергій_Вікторович                       |13  |34938 |\n",
      "|Білокур_Катерина_Василівна                     |14  |34210 |\n",
      "|Київ                                           |15  |33559 |\n",
      "|Як-130                                         |16  |32892 |\n",
      "|Військові_звання_України                       |17  |32771 |\n",
      "|Радіо_«Свобода»                                |18  |32617 |\n",
      "|Лайл_і_Ерік_Менендеси                          |19  |31860 |\n",
      "|Файл:Battle_of_Ostroleka_1831.PNG              |20  |31396 |\n",
      "+-----------------------------------------------+----+------+\n",
      "only showing top 20 rows\n",
      "\n"
     ]
    },
    {
     "name": "stderr",
     "output_type": "stream",
     "text": [
      "                                                                                \r"
     ]
    }
   ],
   "source": [
    "print(articles_df.count())\n",
    "articles_df.show(truncate=False)"
   ]
  },
  {
   "cell_type": "markdown",
   "metadata": {},
   "source": [
    "Let's add vectors of features to the dataframe:"
   ]
  },
  {
   "cell_type": "code",
   "execution_count": 44,
   "metadata": {},
   "outputs": [
    {
     "name": "stderr",
     "output_type": "stream",
     "text": [
      "                                                                                \r"
     ]
    }
   ],
   "source": [
    "articles_df = add_features(articles_df, \"article\", \"features\")"
   ]
  },
  {
   "cell_type": "code",
   "execution_count": 45,
   "metadata": {},
   "outputs": [
    {
     "name": "stdout",
     "output_type": "stream",
     "text": [
      "+--------------------+----+------+--------------------+--------------------+--------------------+--------------------+\n",
      "|             article|rank| views|       article_clean|               words|        stemmedWords|            features|\n",
      "+--------------------+----+------+--------------------+--------------------+--------------------+--------------------+\n",
      "|    Головна_сторінка|   1|469652|    Головна сторінка| [головна, сторінка]|    [головн, сторін]|[0.00709146587178...|\n",
      "|    Спеціальна:Пошук|   2|197066|    Спеціальна Пошук| [спеціальна, пошук]|  [спеціальн, пошук]|[-0.0061867532785...|\n",
      "|  Волинська_трагедія|   3| 82508|  Волинська трагедія|[волинська, траге...| [волинськ, трагеді]|[-0.0022386910277...|\n",
      "|    Klavdia_Petrivna|   4| 79497|    Klavdia Petrivna| [klavdia, petrivna]| [klavdia, petrivna]|[-0.0015689667779...|\n",
      "|             Україна|   5| 61993|             Україна|           [україна]|            [україн]|[0.17835070192813...|\n",
      "|             YouTube|   6| 60683|             YouTube|           [youtube]|           [youtube]|[-6.1035342514514...|\n",
      "|Сибіга_Андрій_Іва...|   7| 58442|Сибіга Андрій Іва...|[сибіга, андрій, ...|[сибі, андрі, іва...|[0.00268941977992...|\n",
      "| Перша_світова_війна|   8| 50199| Перша світова війна|[перша, світова, ...|[перш, світов, війн]|[0.00199581806858...|\n",
      "|Національна_суспі...|   9| 42675|Національна суспі...|[національна, сус...|[національн, сусп...|[0.04892780171940...|\n",
      "|Масляков_Олександ...|  10| 37677|Масляков Олександ...|[масляков, олекса...|[масляков, олекса...|[-0.0038332836702...|\n",
      "|Нечуй-Левицький_І...|  11| 37089|Нечуй Левицький І...|[нечуй, левицький...|[нечу, левицьк, і...|[-1.5048542991280...|\n",
      "|Президентські_виб...|  12| 35302|Президентські виб...|[президентські, в...|[президентськ, ви...|[-6.6480219053725...|\n",
      "|Лавров_Сергій_Вік...|  13| 34938|Лавров Сергій Вік...|[лавров, сергій, ...|[лавров, серг, ві...|[0.00313456069367...|\n",
      "|Білокур_Катерина_...|  14| 34210|Білокур Катерина ...|[білокур, катерин...|[білокур, катерин...|[-0.0011995071545...|\n",
      "|                Київ|  15| 33559|                Київ|              [київ]|                [ки]|[-0.0039663328789...|\n",
      "|Військові_звання_...|  17| 32771|Військові звання ...|[військові, званн...|[військ, званн, у...|[0.05827982289095...|\n",
      "|     Радіо_«Свобода»|  18| 32617|     Радіо  Свобода |  [радіо, , свобода]|       [радіо, своб]|[3.41299921274185...|\n",
      "|Лайл_і_Ерік_Менен...|  19| 31860|Лайл і Ерік Менен...|[лайл, і, ерік, м...|[лайл, ерік, мене...|[-0.0052922207396...|\n",
      "|Файл:Battle_of_Os...|  20| 31396|Файл Battle of Os...|[файл, battle, of...|[файл, battle, os...|[0.00352942588142...|\n",
      "|Полтавський_війсь...|  21| 30933|Полтавський війсь...|[полтавський, вій...|[полтавськ, війсь...|[0.00440842593088...|\n",
      "+--------------------+----+------+--------------------+--------------------+--------------------+--------------------+\n",
      "only showing top 20 rows\n",
      "\n"
     ]
    }
   ],
   "source": [
    "articles_df.show()"
   ]
  },
  {
   "cell_type": "markdown",
   "metadata": {},
   "source": [
    "### Obtaining Ground Truth similarities"
   ]
  },
  {
   "cell_type": "code",
   "execution_count": 46,
   "metadata": {},
   "outputs": [
    {
     "name": "stderr",
     "output_type": "stream",
     "text": [
      "                                                                                \r"
     ]
    }
   ],
   "source": [
    "articles_df = add_gt_similar(articles_df, id_col='rank', features_col='features', gt_similar_col='gt_similar_articles')"
   ]
  },
  {
   "cell_type": "markdown",
   "metadata": {},
   "source": [
    "Let's see newly added ground truth similar articles:"
   ]
  },
  {
   "cell_type": "code",
   "execution_count": 47,
   "metadata": {},
   "outputs": [
    {
     "name": "stderr",
     "output_type": "stream",
     "text": [
      "                                                                                \r"
     ]
    },
    {
     "name": "stdout",
     "output_type": "stream",
     "text": [
      "+----+--------------------+------+--------------------+--------------------+--------------------+--------------------+--------------------+\n",
      "|rank|             article| views|       article_clean|               words|        stemmedWords|            features| gt_similar_articles|\n",
      "+----+--------------------+------+--------------------+--------------------+--------------------+--------------------+--------------------+\n",
      "|   1|    Головна_сторінка|469652|    Головна сторінка| [головна, сторінка]|    [головн, сторін]|[0.00709146587178...|[715, 240, 78, 32...|\n",
      "|   2|    Спеціальна:Пошук|197066|    Спеціальна Пошук| [спеціальна, пошук]|  [спеціальн, пошук]|[-0.0061867532785...|[77, 406, 138, 38...|\n",
      "|   3|  Волинська_трагедія| 82508|  Волинська трагедія|[волинська, траге...| [волинськ, трагеді]|[-0.0022386910277...|[138, 732, 88, 80...|\n",
      "|   4|    Klavdia_Petrivna| 79497|    Klavdia Petrivna| [klavdia, petrivna]| [klavdia, petrivna]|[-0.0015689667779...|[432, 138, 469, 2...|\n",
      "|   5|             Україна| 61993|             Україна|           [україна]|            [україн]|[0.17835070192813...|[104, 381, 412, 4...|\n",
      "|   6|             YouTube| 60683|             YouTube|           [youtube]|           [youtube]|[-6.1035342514514...|[23, 141, 408, 34...|\n",
      "|   7|Сибіга_Андрій_Іва...| 58442|Сибіга Андрій Іва...|[сибіга, андрій, ...|[сибі, андрі, іва...|[0.00268941977992...|[118, 31, 387, 27...|\n",
      "|   8| Перша_світова_війна| 50199| Перша світова війна|[перша, світова, ...|[перш, світов, війн]|[0.00199581806858...|[432, 185, 469, 1...|\n",
      "|   9|Національна_суспі...| 42675|Національна суспі...|[національна, сус...|[національн, сусп...|[0.04892780171940...|[115, 476, 865, 1...|\n",
      "|  10|Масляков_Олександ...| 37677|Масляков Олександ...|[масляков, олекса...|[масляков, олекса...|[-0.0038332836702...|[670, 195, 67, 40...|\n",
      "|  11|Нечуй-Левицький_І...| 37089|Нечуй Левицький І...|[нечуй, левицький...|[нечу, левицьк, і...|[-1.5048542991280...|[153, 52, 337, 38...|\n",
      "|  12|Президентські_виб...| 35302|Президентські виб...|[президентські, в...|[президентськ, ви...|[-6.6480219053725...|[139, 138, 326, 1...|\n",
      "|  13|Лавров_Сергій_Вік...| 34938|Лавров Сергій Вік...|[лавров, сергій, ...|[лавров, серг, ві...|[0.00313456069367...|[701, 724, 626, 5...|\n",
      "|  14|Білокур_Катерина_...| 34210|Білокур Катерина ...|[білокур, катерин...|[білокур, катерин...|[-0.0011995071545...|[52, 138, 435, 33...|\n",
      "|  15|                Київ| 33559|                Київ|              [київ]|                [ки]|[-0.0039663328789...|[312, 647, 642, 5...|\n",
      "|  17|Військові_звання_...| 32771|Військові звання ...|[військові, званн...|[військ, званн, у...|[0.05827982289095...|[611, 426, 284, 3...|\n",
      "|  18|     Радіо_«Свобода»| 32617|     Радіо  Свобода |  [радіо, , свобода]|       [радіо, своб]|[3.41299921274185...|[195, 462, 884, 3...|\n",
      "|  19|Лайл_і_Ерік_Менен...| 31860|Лайл і Ерік Менен...|[лайл, і, ерік, м...|[лайл, ерік, мене...|[-0.0052922207396...|[684, 503, 81, 42...|\n",
      "|  20|Файл:Battle_of_Os...| 31396|Файл Battle of Os...|[файл, battle, of...|[файл, battle, os...|[0.00352942588142...|[503, 420, 52, 26...|\n",
      "|  21|Полтавський_війсь...| 30933|Полтавський війсь...|[полтавський, вій...|[полтавськ, війсь...|[0.00440842593088...|[719, 794, 461, 8...|\n",
      "+----+--------------------+------+--------------------+--------------------+--------------------+--------------------+--------------------+\n",
      "only showing top 20 rows\n",
      "\n"
     ]
    }
   ],
   "source": [
    "articles_df.show()"
   ]
  },
  {
   "cell_type": "markdown",
   "metadata": {},
   "source": [
    "## Prediction with Locality Sensitive Hashing\n",
    "\n",
    "Let's create  a parameters grid:"
   ]
  },
  {
   "cell_type": "code",
   "execution_count": 48,
   "metadata": {},
   "outputs": [],
   "source": [
    "possibleHashTablesCount = [1, 3, 5]\n",
    "possibleDistanceThresholds = [0.3, 0.5, 0.9]\n",
    "possibleBucketLenghts = [0.5, 1, 3]\n",
    "\n",
    "param_grid = []\n",
    "for hashTablesCount in possibleHashTablesCount:\n",
    "    for distanceThreshold in possibleDistanceThresholds:\n",
    "        for bucketLength in possibleBucketLenghts:\n",
    "            param_grid.append({'numHashTables': hashTablesCount, 'distanceThreshold': distanceThreshold, 'bucketLength': bucketLength})"
   ]
  },
  {
   "cell_type": "markdown",
   "metadata": {},
   "source": [
    "And perform the grid search. We want to obtain results for all the parameters to perform the visualization:"
   ]
  },
  {
   "cell_type": "code",
   "execution_count": 49,
   "metadata": {},
   "outputs": [
    {
     "name": "stderr",
     "output_type": "stream",
     "text": [
      "  4%|▎         | 1/27 [00:58<25:16, 58.34s/it]                                  "
     ]
    },
    {
     "name": "stdout",
     "output_type": "stream",
     "text": [
      "{'params': {'numHashTables': 1, 'distanceThreshold': 0.3, 'bucketLength': 0.5}, 'iou': 0.42564957017289784, 'computation_time': 58.33662176132202}\n"
     ]
    },
    {
     "name": "stderr",
     "output_type": "stream",
     "text": [
      "  7%|▋         | 2/27 [01:43<21:11, 50.86s/it]                                  "
     ]
    },
    {
     "name": "stdout",
     "output_type": "stream",
     "text": [
      "{'params': {'numHashTables': 1, 'distanceThreshold': 0.3, 'bucketLength': 1}, 'iou': 0.42564957017289784, 'computation_time': 45.623950242996216}\n"
     ]
    },
    {
     "name": "stderr",
     "output_type": "stream",
     "text": [
      " 11%|█         | 3/27 [02:32<19:59, 49.97s/it]                                  "
     ]
    },
    {
     "name": "stdout",
     "output_type": "stream",
     "text": [
      "{'params': {'numHashTables': 1, 'distanceThreshold': 0.3, 'bucketLength': 3}, 'iou': 0.42564957017289784, 'computation_time': 48.90299081802368}\n"
     ]
    },
    {
     "name": "stderr",
     "output_type": "stream",
     "text": [
      " 15%|█▍        | 4/27 [03:19<18:39, 48.66s/it]                                  "
     ]
    },
    {
     "name": "stdout",
     "output_type": "stream",
     "text": [
      "{'params': {'numHashTables': 1, 'distanceThreshold': 0.5, 'bucketLength': 0.5}, 'iou': 0.42564957017289784, 'computation_time': 46.64592361450195}\n"
     ]
    },
    {
     "name": "stderr",
     "output_type": "stream",
     "text": [
      " 19%|█▊        | 5/27 [04:05<17:32, 47.84s/it]                                  "
     ]
    },
    {
     "name": "stdout",
     "output_type": "stream",
     "text": [
      "{'params': {'numHashTables': 1, 'distanceThreshold': 0.5, 'bucketLength': 1}, 'iou': 0.42564957017289784, 'computation_time': 46.399765729904175}\n"
     ]
    },
    {
     "name": "stderr",
     "output_type": "stream",
     "text": [
      " 22%|██▏       | 6/27 [04:52<16:38, 47.53s/it]                                  "
     ]
    },
    {
     "name": "stdout",
     "output_type": "stream",
     "text": [
      "{'params': {'numHashTables': 1, 'distanceThreshold': 0.5, 'bucketLength': 3}, 'iou': 0.42564957017289784, 'computation_time': 46.90801024436951}\n"
     ]
    },
    {
     "name": "stderr",
     "output_type": "stream",
     "text": [
      " 26%|██▌       | 7/27 [05:41<15:56, 47.82s/it]                                  "
     ]
    },
    {
     "name": "stdout",
     "output_type": "stream",
     "text": [
      "{'params': {'numHashTables': 1, 'distanceThreshold': 0.9, 'bucketLength': 0.5}, 'iou': 0.42564957017289784, 'computation_time': 48.42364001274109}\n"
     ]
    },
    {
     "name": "stderr",
     "output_type": "stream",
     "text": [
      " 30%|██▉       | 8/27 [06:28<15:07, 47.78s/it]                                  "
     ]
    },
    {
     "name": "stdout",
     "output_type": "stream",
     "text": [
      "{'params': {'numHashTables': 1, 'distanceThreshold': 0.9, 'bucketLength': 1}, 'iou': 0.42564957017289784, 'computation_time': 47.68003845214844}\n"
     ]
    },
    {
     "name": "stderr",
     "output_type": "stream",
     "text": [
      " 33%|███▎      | 9/27 [07:20<14:39, 48.85s/it]                                  "
     ]
    },
    {
     "name": "stdout",
     "output_type": "stream",
     "text": [
      "{'params': {'numHashTables': 1, 'distanceThreshold': 0.9, 'bucketLength': 3}, 'iou': 0.42564957017289784, 'computation_time': 51.20379590988159}\n"
     ]
    },
    {
     "name": "stderr",
     "output_type": "stream",
     "text": [
      " 37%|███▋      | 10/27 [08:16<14:27, 51.05s/it]                                 "
     ]
    },
    {
     "name": "stdout",
     "output_type": "stream",
     "text": [
      "{'params': {'numHashTables': 3, 'distanceThreshold': 0.3, 'bucketLength': 0.5}, 'iou': 0.7039867671206399, 'computation_time': 55.977208852767944}\n"
     ]
    },
    {
     "name": "stderr",
     "output_type": "stream",
     "text": [
      " 41%|████      | 11/27 [09:15<14:17, 53.56s/it]                                 "
     ]
    },
    {
     "name": "stdout",
     "output_type": "stream",
     "text": [
      "{'params': {'numHashTables': 3, 'distanceThreshold': 0.3, 'bucketLength': 1}, 'iou': 0.7039867671206399, 'computation_time': 59.265209436416626}\n"
     ]
    },
    {
     "name": "stderr",
     "output_type": "stream",
     "text": [
      " 44%|████▍     | 12/27 [10:18<14:05, 56.34s/it]                                 "
     ]
    },
    {
     "name": "stdout",
     "output_type": "stream",
     "text": [
      "{'params': {'numHashTables': 3, 'distanceThreshold': 0.3, 'bucketLength': 3}, 'iou': 0.7039867671206399, 'computation_time': 62.69868016242981}\n"
     ]
    },
    {
     "name": "stderr",
     "output_type": "stream",
     "text": [
      " 48%|████▊     | 13/27 [11:17<13:22, 57.31s/it]                                 "
     ]
    },
    {
     "name": "stdout",
     "output_type": "stream",
     "text": [
      "{'params': {'numHashTables': 3, 'distanceThreshold': 0.5, 'bucketLength': 0.5}, 'iou': 0.7039867671206399, 'computation_time': 59.54115152359009}\n"
     ]
    },
    {
     "name": "stderr",
     "output_type": "stream",
     "text": [
      " 52%|█████▏    | 14/27 [12:19<12:41, 58.61s/it]                                 "
     ]
    },
    {
     "name": "stdout",
     "output_type": "stream",
     "text": [
      "{'params': {'numHashTables': 3, 'distanceThreshold': 0.5, 'bucketLength': 1}, 'iou': 0.7039867671206399, 'computation_time': 61.588157415390015}\n"
     ]
    },
    {
     "name": "stderr",
     "output_type": "stream",
     "text": [
      " 56%|█████▌    | 15/27 [13:19<11:48, 59.04s/it]                                 "
     ]
    },
    {
     "name": "stdout",
     "output_type": "stream",
     "text": [
      "{'params': {'numHashTables': 3, 'distanceThreshold': 0.5, 'bucketLength': 3}, 'iou': 0.7039867671206399, 'computation_time': 60.04689335823059}\n"
     ]
    },
    {
     "name": "stderr",
     "output_type": "stream",
     "text": [
      " 59%|█████▉    | 16/27 [14:21<11:00, 60.05s/it]                                 "
     ]
    },
    {
     "name": "stdout",
     "output_type": "stream",
     "text": [
      "{'params': {'numHashTables': 3, 'distanceThreshold': 0.9, 'bucketLength': 0.5}, 'iou': 0.7039867671206399, 'computation_time': 62.38075232505798}\n"
     ]
    },
    {
     "name": "stderr",
     "output_type": "stream",
     "text": [
      " 63%|██████▎   | 17/27 [15:25<10:10, 61.05s/it]                                 "
     ]
    },
    {
     "name": "stdout",
     "output_type": "stream",
     "text": [
      "{'params': {'numHashTables': 3, 'distanceThreshold': 0.9, 'bucketLength': 1}, 'iou': 0.7039867671206399, 'computation_time': 63.3846218585968}\n"
     ]
    },
    {
     "name": "stderr",
     "output_type": "stream",
     "text": [
      " 67%|██████▋   | 18/27 [16:27<09:12, 61.34s/it]                                 "
     ]
    },
    {
     "name": "stdout",
     "output_type": "stream",
     "text": [
      "{'params': {'numHashTables': 3, 'distanceThreshold': 0.9, 'bucketLength': 3}, 'iou': 0.7039867671206399, 'computation_time': 62.01775240898132}\n"
     ]
    },
    {
     "name": "stderr",
     "output_type": "stream",
     "text": [
      " 70%|███████   | 19/27 [17:32<08:20, 62.54s/it]                                 "
     ]
    },
    {
     "name": "stdout",
     "output_type": "stream",
     "text": [
      "{'params': {'numHashTables': 5, 'distanceThreshold': 0.3, 'bucketLength': 0.5}, 'iou': 0.7374633761550574, 'computation_time': 65.334965467453}\n"
     ]
    },
    {
     "name": "stderr",
     "output_type": "stream",
     "text": [
      " 74%|███████▍  | 20/27 [18:32<07:12, 61.75s/it]                                 "
     ]
    },
    {
     "name": "stdout",
     "output_type": "stream",
     "text": [
      "{'params': {'numHashTables': 5, 'distanceThreshold': 0.3, 'bucketLength': 1}, 'iou': 0.7374633761550574, 'computation_time': 59.91901445388794}\n"
     ]
    },
    {
     "name": "stderr",
     "output_type": "stream",
     "text": [
      " 78%|███████▊  | 21/27 [19:36<06:15, 62.54s/it]                                 "
     ]
    },
    {
     "name": "stdout",
     "output_type": "stream",
     "text": [
      "{'params': {'numHashTables': 5, 'distanceThreshold': 0.3, 'bucketLength': 3}, 'iou': 0.7374633761550574, 'computation_time': 64.35049390792847}\n"
     ]
    },
    {
     "name": "stderr",
     "output_type": "stream",
     "text": [
      " 81%|████████▏ | 22/27 [21:09<05:58, 71.65s/it]                                 "
     ]
    },
    {
     "name": "stdout",
     "output_type": "stream",
     "text": [
      "{'params': {'numHashTables': 5, 'distanceThreshold': 0.5, 'bucketLength': 0.5}, 'iou': 0.7374633761550574, 'computation_time': 92.88927435874939}\n"
     ]
    },
    {
     "name": "stderr",
     "output_type": "stream",
     "text": [
      " 85%|████████▌ | 23/27 [22:43<05:13, 78.44s/it]                                 "
     ]
    },
    {
     "name": "stdout",
     "output_type": "stream",
     "text": [
      "{'params': {'numHashTables': 5, 'distanceThreshold': 0.5, 'bucketLength': 1}, 'iou': 0.7374633761550574, 'computation_time': 94.26707530021667}\n"
     ]
    },
    {
     "name": "stderr",
     "output_type": "stream",
     "text": [
      " 89%|████████▉ | 24/27 [23:48<03:42, 74.29s/it]                                 "
     ]
    },
    {
     "name": "stdout",
     "output_type": "stream",
     "text": [
      "{'params': {'numHashTables': 5, 'distanceThreshold': 0.5, 'bucketLength': 3}, 'iou': 0.7374633761550574, 'computation_time': 64.60778665542603}\n"
     ]
    },
    {
     "name": "stderr",
     "output_type": "stream",
     "text": [
      " 93%|█████████▎| 25/27 [24:48<02:20, 70.01s/it]                                 "
     ]
    },
    {
     "name": "stdout",
     "output_type": "stream",
     "text": [
      "{'params': {'numHashTables': 5, 'distanceThreshold': 0.9, 'bucketLength': 0.5}, 'iou': 0.7374633761550574, 'computation_time': 60.03626370429993}\n"
     ]
    },
    {
     "name": "stderr",
     "output_type": "stream",
     "text": [
      " 96%|█████████▋| 26/27 [25:49<01:07, 67.24s/it]                                 "
     ]
    },
    {
     "name": "stdout",
     "output_type": "stream",
     "text": [
      "{'params': {'numHashTables': 5, 'distanceThreshold': 0.9, 'bucketLength': 1}, 'iou': 0.7374633761550574, 'computation_time': 60.75818061828613}\n"
     ]
    },
    {
     "name": "stderr",
     "output_type": "stream",
     "text": [
      "100%|██████████| 27/27 [26:50<00:00, 59.66s/it]                                 "
     ]
    },
    {
     "name": "stdout",
     "output_type": "stream",
     "text": [
      "{'params': {'numHashTables': 5, 'distanceThreshold': 0.9, 'bucketLength': 3}, 'iou': 0.7374633761550574, 'computation_time': 61.5348904132843}\n"
     ]
    },
    {
     "name": "stderr",
     "output_type": "stream",
     "text": [
      "\n"
     ]
    }
   ],
   "source": [
    "wiki_parameters_evaled = grid_search_tuning(articles_df, \n",
    "                                            param_grid, \n",
    "                                            id_col=\"rank\",\n",
    "                                            features_col = 'features', \n",
    "                                            gt_similar_col = 'gt_similar_articles',\n",
    "                                            pred_similar_col = 'pred_similar_articles', \n",
    "                                            top_parameter_sets = -1,\n",
    "                                            verbose=True)"
   ]
  },
  {
   "cell_type": "code",
   "execution_count": 50,
   "metadata": {},
   "outputs": [
    {
     "data": {
      "image/png": "[encoded data removed]",
      "text/plain": [
       "<Figure size 1200x1800 with 12 Axes>"
      ]
     },
     "metadata": {},
     "output_type": "display_data"
    }
   ],
   "source": [
    "visualize_gridsearch_res(wiki_parameters_evaled)"
   ]
  },
  {
   "cell_type": "code",
   "execution_count": 51,
   "metadata": {},
   "outputs": [
    {
     "name": "stdout",
     "output_type": "stream",
     "text": [
      "The best parameter set is {'numHashTables': 5, 'distanceThreshold': 0.3, 'bucketLength': 1}.\n",
      "It has IOU=0.737 and computation time of 59.919 seconds\n"
     ]
    }
   ],
   "source": [
    "wiki_top_iou = max(wiki_parameters_evaled, key=lambda x: x['iou'])['iou']\n",
    "wiki_top_iou_params = filter(lambda x: x['iou'] == wiki_top_iou, wiki_parameters_evaled)\n",
    "wiki_top_iou_and_smallest_time_params = min(wiki_top_iou_params, key=lambda x: x['computation_time'])\n",
    "print(f\"\"\"The best parameter set is {wiki_top_iou_and_smallest_time_params['params']}.\n",
    "It has IOU={wiki_top_iou_and_smallest_time_params['iou']:.3f} and computation time of {wiki_top_iou_and_smallest_time_params['computation_time']:.3f} seconds\"\"\")"
   ]
  },
  {
   "cell_type": "markdown",
   "metadata": {},
   "source": [
    "Results for Ukrainian Wikipedia top-1000 articles is close to one obtained in Barcelona AirBnB LSH experiment. Once again, only hash tables count is influencing the accuracy, bigger bucket length results in faster computation and distance threshold influences almost nothing.\n",
    "\n",
    "Still, here there is lower general quality of LSH solution, maybe due to less accurate stemming or bigger count of distinct words in article names compared to Barcelona flats and apartments."
   ]
  },
  {
   "cell_type": "markdown",
   "metadata": {},
   "source": [
    "## Part 3. Parameter substitution\n",
    "\n",
    "Let's now run LSH experiment with the best AirBnB parameters on Wikipedia dataset:"
   ]
  },
  {
   "cell_type": "code",
   "execution_count": 52,
   "metadata": {},
   "outputs": [
    {
     "name": "stderr",
     "output_type": "stream",
     "text": [
      "                                                                                \r"
     ]
    },
    {
     "data": {
      "text/plain": [
       "{'params': {'numHashTables': 5, 'distanceThreshold': 0.3, 'bucketLength': 3},\n",
       " 'iou': 0.7374633761550574,\n",
       " 'computation_time': 56.067453145980835}"
      ]
     },
     "execution_count": 52,
     "metadata": {},
     "output_type": "execute_result"
    }
   ],
   "source": [
    "airbnb_params_on_wiki_dataset_evaled = test_lsh_params(\n",
    "    df=articles_df, \n",
    "    params=airbnb_top_iou_and_smallest_time_params['params'], \n",
    "    id_col=\"rank\", \n",
    "    features_col = 'features', \n",
    "    gt_similar_col = 'gt_similar_articles',\n",
    "    pred_similar_col = 'pred_similar_articles')\n",
    "airbnb_params_on_wiki_dataset_evaled"
   ]
  },
  {
   "cell_type": "markdown",
   "metadata": {},
   "source": [
    "We see that the best hash tables count is equal for both datasets, leading to the same performance of those two parameter sets. The only difference here is computation time, that is even lower in this run, but it looks like a random decrease.\n",
    "\n",
    "In our case, the best params are not very language (or dataset)-dependent, but the metrics on these datasets are."
   ]
  },
  {
   "cell_type": "markdown",
   "metadata": {},
   "source": [
    "## Final\n",
    "\n",
    "We won't forget to stop spark... At least we will try :)"
   ]
  },
  {
   "cell_type": "code",
   "execution_count": 20,
   "metadata": {},
   "outputs": [],
   "source": [
    "SPARK.stop()"
   ]
  },
  {
   "cell_type": "code",
   "execution_count": null,
   "metadata": {},
   "outputs": [],
   "source": []
  }
 ],
 "metadata": {
  "kernelspec": {
   "display_name": "venv",
   "language": "python",
   "name": "python3"
  },
  "language_info": {
   "codemirror_mode": {
    "name": "ipython",
    "version": 3
   },
   "file_extension": ".py",
   "mimetype": "text/x-python",
   "name": "python",
   "nbconvert_exporter": "python",
   "pygments_lexer": "ipython3",
   "version": "3.12.3"
  }
 },
 "nbformat": 4,
 "nbformat_minor": 2
}
