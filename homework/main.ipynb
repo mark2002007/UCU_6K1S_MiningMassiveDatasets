{
 "cells": [
  {
   "cell_type": "markdown",
   "metadata": {},
   "source": [
    "# Homework on Mining Massive Databases (MMDS)\n",
    "\n",
    "**by Andrii Shevtsov and Markiian Mandzak**\n",
    "\n",
    "Task formulation:\n",
    "![Task formulation screenshot](./task.jpg)\n",
    "\n",
    "# Imports and constants"
   ]
  },
  {
   "cell_type": "code",
   "execution_count": 32,
   "metadata": {},
   "outputs": [],
   "source": [
    "import requests\n",
    "import time\n",
    "import pandas as pd\n",
    "import matplotlib.pyplot as plt\n",
    "import seaborn as sns\n",
    "import nltk\n",
    "import re\n",
    "\n",
    "from tqdm import tqdm\n",
    "from pyspark.sql import SparkSession, functions as F, types as T, Window\n",
    "from pyspark.ml.feature import HashingTF, IDF, Tokenizer, MinHashLSH, Word2Vec\n",
    "from pyspark.ml.linalg import SparseVector, DenseVector, Vector\n",
    "from nltk.stem import PorterStemmer\n",
    "from nltk.corpus import stopwords\n",
    "from typing import Optional\n",
    "\n",
    "from tree_stem import stem_word"
   ]
  },
  {
   "cell_type": "markdown",
   "metadata": {},
   "source": [
    "We set spark session here as it is a singletone for our application:"
   ]
  },
  {
   "cell_type": "code",
   "execution_count": 2,
   "metadata": {},
   "outputs": [
    {
     "name": "stderr",
     "output_type": "stream",
     "text": [
      "24/11/09 11:20:04 WARN Utils: Your hostname, ucuvm resolves to a loopback address: 127.0.1.1; using 10.0.2.15 instead (on interface enp0s3)\n",
      "24/11/09 11:20:04 WARN Utils: Set SPARK_LOCAL_IP if you need to bind to another address\n",
      "Setting default log level to \"WARN\".\n",
      "To adjust logging level use sc.setLogLevel(newLevel). For SparkR, use setLogLevel(newLevel).\n",
      "24/11/09 11:20:05 WARN NativeCodeLoader: Unable to load native-hadoop library for your platform... using builtin-java classes where applicable\n"
     ]
    }
   ],
   "source": [
    "SPARK = SparkSession.builder \\\n",
    "    .appName(\"MMDS_HW_LSH\") \\\n",
    "    .config(\"spark.executor.memory\", \"4g\") \\\n",
    "    .config(\"spark.driver.memory\", \"8g\") \\\n",
    "    .config(\"spark.driver.cores\", \"4\") \\\n",
    "    .config(\"spark.executor.cores\", \"2\") \\\n",
    "    .getOrCreate()\n",
    "\n",
    "SPARK.sparkContext.setLogLevel(\"ERROR\")\n",
    "\n",
    "with open(\"stopwords_ua.txt\") as f:\n",
    "    stop_words_uk = f.readlines()\n",
    "stop_words_uk = [word.replace('\\n', '') for word in stop_words_uk]\n",
    "try:\n",
    "    STOP_WORDS = set(stopwords.words('english')).union(set(stop_words_uk))\n",
    "except LookupError:\n",
    "    nltk.download('stopwords')\n",
    "    STOP_WORDS = set(stopwords.words('english')).union(set(stop_words_uk))"
   ]
  },
  {
   "cell_type": "markdown",
   "metadata": {},
   "source": [
    "Other constants, that can be useful:"
   ]
  },
  {
   "cell_type": "code",
   "execution_count": 3,
   "metadata": {},
   "outputs": [],
   "source": [
    "SEARCHED_ELEMENTS_COUNT = 5  # Count of elements that should occur in search with LSH\n",
    "BEST_PARAMS_COUNT = 3  # Count of best param sets to return during the grid search by default\n",
    "ENCODING_METHOD = 'word2vec' # Method of encoding used for the feature vector (word2vec or tfidf)\n",
    "VECTOR_SIZE = 64 # Size of the feature vector used"
   ]
  },
  {
   "cell_type": "markdown",
   "metadata": {},
   "source": [
    "## Part 0. Common functions\n",
    "\n",
    "Here, we list functions that are reutilized in both parts. This section is crucial in explaining our approach. Also it makes sure we use the same general approach for both tasks.\n",
    "\n",
    "### Features calculation"
   ]
  },
  {
   "cell_type": "code",
   "execution_count": 4,
   "metadata": {},
   "outputs": [],
   "source": [
    "@F.udf(T.ArrayType(T.StringType()))\n",
    "def stem_and_clean(tokens, stemmer: Optional[str] = 'uk'):\n",
    "    \"\"\"A small UDF function to clean tokenized words from empty an then stem them\"\"\"\n",
    "    cleaned_words = [token for token in tokens if token.strip() != \"\" and token not in STOP_WORDS]\n",
    "    if stemmer == 'uk':\n",
    "        return list(map(stem_word, cleaned_words))\n",
    "    elif stemmer == 'nltk':\n",
    "        stemmer = PorterStemmer()\n",
    "        return list(map(stemmer.stem, cleaned_words))\n",
    "    elif stemmer is None:\n",
    "        return cleaned_words\n",
    "    else:\n",
    "        raise ValueError(\"For nowm only 'uk', 'nltk' and None stemmers are possible\")\n"
   ]
  },
  {
   "cell_type": "code",
   "execution_count": 5,
   "metadata": {},
   "outputs": [],
   "source": [
    "@F.udf(T.BooleanType())\n",
    "def empty_words(words):\n",
    "    return len(words) == 0"
   ]
  },
  {
   "cell_type": "code",
   "execution_count": 38,
   "metadata": {},
   "outputs": [],
   "source": [
    "def add_features(df, input_text_col: str, output_features_col: str = 'features', stemmer: Optional[str] = 'uk', encoding_method: str = ENCODING_METHOD):\n",
    "    \"\"\"This function helps us to add vectors with features to the original dataframe with text\n",
    "    \n",
    "    Args:\n",
    "        - df: pyspark DataFrame - a dataframe with `input_text_col` present, for which we should add a column with vectors of features\n",
    "        - input_text_col: str - a name of column in `df` where we should take a text to obtain vector features\n",
    "        - output_features_col: str - a name of a column in `df` where we should put final vectors with features\n",
    "        - stemmer: Optional str - a name for a stemmer to be used during word stemming\n",
    "        - encoding_method: str - a name for a method that is used for tokens vector encoding\n",
    "\n",
    "    Returns:\n",
    "        pyspark DataFrame, with `output_features_col` column added and filled with feature vectors\n",
    "    \"\"\"\n",
    "\n",
    "    # We need to remove symbols to correctly tokenize the text\n",
    "    df = df.withColumn(f'{input_text_col}_clean', F.regexp_replace(input_text_col, r'[^a-zA-Z\\u0400-\\u04FF]', ' '))\n",
    "\n",
    "    tokenizer = Tokenizer(inputCol=f'{input_text_col}_clean', outputCol=\"words\")\n",
    "    df = tokenizer.transform(df)\n",
    "\n",
    "    df = df.withColumn(\"stemmedWords\", stem_and_clean(F.col(\"words\"), F.lit(stemmer)))\n",
    "\n",
    "    df = df.filter(~empty_words(F.col(\"stemmedWords\")))\n",
    "\n",
    "    if encoding_method == 'tfidf':\n",
    "        hashingTF = HashingTF(inputCol=\"stemmedWords\", outputCol=\"rawFeatures\", numFeatures=VECTOR_SIZE)\n",
    "        df = hashingTF.transform(df)\n",
    "        idf = IDF(inputCol=\"rawFeatures\", outputCol=output_features_col)\n",
    "        idfModel = idf.fit(df)\n",
    "        df = idfModel.transform(df)\n",
    "    \n",
    "    elif encoding_method == 'word2vec':\n",
    "        word2Vec = Word2Vec(inputCol=\"stemmedWords\", outputCol=output_features_col, vectorSize=VECTOR_SIZE, minCount=0)\n",
    "        model = word2Vec.fit(df)\n",
    "        df = model.transform(df)\n",
    "    \n",
    "    else:\n",
    "        raise ValueError(\"Invalid ENCODING_METHOD. Choose 'tfidf' or 'word2vec'.\")\n",
    "    \n",
    "    return df"
   ]
  },
  {
   "cell_type": "markdown",
   "metadata": {},
   "source": [
    "### Ground truth similarity calculation\n",
    "\n",
    "We should use some function to understand the distance (or similarity) between two feature vectors (for ground truth calculation). Cosine similarity is perfect for that:"
   ]
  },
  {
   "cell_type": "code",
   "execution_count": 7,
   "metadata": {},
   "outputs": [],
   "source": [
    "@F.udf(T.DoubleType())\n",
    "def cos_sim(vec_a, vec_b):\n",
    "    if isinstance(vec_a, Vector) and isinstance(vec_b, Vector):\n",
    "        dot_product = float(vec_a.dot(vec_b))\n",
    "        norm_a = float(vec_a.norm(2))\n",
    "        norm_b = float(vec_b.norm(2))\n",
    "        return dot_product / (norm_a * norm_b) if norm_a and norm_b else 0.0\n",
    "    return 0.0"
   ]
  },
  {
   "cell_type": "markdown",
   "metadata": {},
   "source": [
    "Then, we need to have a function to calculate ground truth similarity and then obtaining ids of the closest elements:"
   ]
  },
  {
   "cell_type": "code",
   "execution_count": 8,
   "metadata": {},
   "outputs": [],
   "source": [
    "def add_gt_similar(df, id_col: str, features_col: str = 'features', gt_similar_col: str = 'gt_similar', searched_elements_count: int = SEARCHED_ELEMENTS_COUNT):\n",
    "    \"\"\"Add column with lists of ids of similar ground truth elements\n",
    "    \n",
    "    Args:\n",
    "        - df: pyspark DataFrame - a dataframe with `id_col` and `features_col` present, for which we should add a column with lists of similar items\n",
    "        - id_col: str - a name of column in `df` where we should take indexes to put into `gt_similar_col`\n",
    "        - features_col: str (default 'features') - a name of column in `df` where vector features are located\n",
    "        - gt_similar_col: str (default 'gt_similar') - a name for a new column that is created as a result\n",
    "        - searched_elements_count: int (default SEARCHED_ELEMENTS_COUNT) - maximum count of elements we want to search\n",
    "    \n",
    "    Returns:\n",
    "    pyspark DataFrame, a copy of `df` with filled `gt_similar_col` that contains ids of ground truth similar items\n",
    "    \"\"\"\n",
    "\n",
    "    # We can now make an `NxN` similarity table, containing cosine similarities between each pair of feature vectors\n",
    "    similarity_table = (\n",
    "        df.alias('a')\n",
    "        .crossJoin(df.alias('b'))\n",
    "        .withColumn(\n",
    "            'cs',\n",
    "            cos_sim(\n",
    "                F.col(f'a.{features_col}'),\n",
    "                F.col(f'b.{features_col}'),\n",
    "            )\n",
    "        )\n",
    "        .groupBy(f'a.{id_col}')\n",
    "        .pivot(f'b.{id_col}')\n",
    "        .sum('cs')\n",
    "        .orderBy(id_col)\n",
    "    )\n",
    "\n",
    "    # Now, we can obtain all the perspective similarity pairs (with similarity bigger than 0)\n",
    "    similarity_columns = [column for column in similarity_table.columns if column != id_col]\n",
    "\n",
    "    mapping_expr = []\n",
    "    for c in similarity_columns:\n",
    "        mapping_expr.extend([F.lit(c), F.col(c)])\n",
    "\n",
    "    paired_df = similarity_table.select(\n",
    "        F.col(id_col),\n",
    "        F.explode(F.create_map(*mapping_expr)).alias(\"similar_id\", \"similarity\")\n",
    "    ).filter(\n",
    "        (F.col(id_col) != F.col(\"similar_id\")) & (F.col(\"similarity\") > 0)\n",
    "    )\n",
    "\n",
    "    # And take top k similar items by the similarity value for each other item\n",
    "    window_spec = Window.partitionBy(id_col).orderBy(F.col(\"similarity\").desc())\n",
    "    paired_df = paired_df.withColumn(\"simrank\", F.row_number().over(window_spec)).filter(F.col(\"simrank\") <= searched_elements_count)\n",
    "\n",
    "    # Here we collect lists with similar ids and add them to the original dataframe \n",
    "    top_similarities_df = paired_df.groupBy(id_col).agg(F.collect_list(\"similar_id\").alias(gt_similar_col))\n",
    "    res_df = df.join(top_similarities_df, on=id_col, how='left').orderBy(id_col)\n",
    "\n",
    "    return res_df"
   ]
  },
  {
   "cell_type": "markdown",
   "metadata": {},
   "source": [
    "### Predicting with LSH"
   ]
  },
  {
   "cell_type": "code",
   "execution_count": 9,
   "metadata": {},
   "outputs": [],
   "source": [
    "def predict_similar_lsh(df, lsh_params, id_col: str, features_col: str = 'features', pred_similar_col: str = 'pred_similar', searched_elements_count: int = SEARCHED_ELEMENTS_COUNT):\n",
    "    \"\"\"Predict similar items with MinHashLSH and add them to the original dataframe into the `pred_similar_col` column\n",
    "    \n",
    "    Args:\n",
    "        - df: pyspark DataFrame - a dataframe with `id_col` and `features_col` present, for which we should add a column with lists of similar items\n",
    "        - id_col: str - a name of column in `df` where we should take indexes to put into `pred_similar_col`\n",
    "        - features_col: str (default 'features') - a name of column in `df` where vector features are located\n",
    "        - pred_similar_col: str (default 'pred_similar') - a name for a new column that is created as a result\n",
    "        - searched_elements_count: int (default SEARCHED_ELEMENTS_COUNT) - maximum count of elements we want to search\n",
    "    \n",
    "    Returns:\n",
    "    pyspark DataFrame, a copy of `df` with filled `pred_similar_col` column that contains ids of predicted similar items\n",
    "    \"\"\"\n",
    "    \n",
    "    num_hash_tables = lsh_params['numHashTables']\n",
    "    distance_threshold = lsh_params['distanceThreshold']\n",
    "\n",
    "    mh = MinHashLSH(inputCol=features_col, outputCol=\"hashes\", numHashTables=num_hash_tables)\n",
    "\n",
    "    model = mh.fit(df)\n",
    "\n",
    "    similar_items = model.approxSimilarityJoin(df, df, threshold=distance_threshold, distCol=\"similarity\")\n",
    "    similar_items = similar_items.filter(F.col(f\"datasetA.{id_col}\") != F.col(f\"datasetB.{id_col}\"))\n",
    "    similar_items = similar_items.orderBy(F.col(\"similarity\").desc())\n",
    "\n",
    "    window_spec = Window.partitionBy(f\"datasetA.{id_col}\").orderBy(F.col(\"similarity\").desc())\n",
    "    similar_items = similar_items.withColumn(\"simrank\", F.row_number().over(window_spec)).filter(F.col(\"simrank\") <= searched_elements_count)\n",
    "\n",
    "    found_items = similar_items.groupBy(f\"datasetA.{id_col}\").agg(F.collect_list(f\"datasetB.{id_col}\").alias(pred_similar_col))\n",
    "\n",
    "    res_df = df.join(found_items, on=id_col, how='left')\n",
    "\n",
    "    return res_df"
   ]
  },
  {
   "cell_type": "markdown",
   "metadata": {},
   "source": [
    "### Measuring quality\n",
    "\n",
    "Let's also define a function to calculate the quality of our prediction. We will use intersection over union (IOU) to evaluate quality, as it is intuitive and penalizes both false positives and false negatives equally:"
   ]
  },
  {
   "cell_type": "code",
   "execution_count": 10,
   "metadata": {},
   "outputs": [],
   "source": [
    "@F.udf(T.DoubleType())\n",
    "def iou_func(real_items, pred_items):\n",
    "    if real_items is None:\n",
    "        return 1.\n",
    "    elif pred_items is None:\n",
    "        return 0.\n",
    "    else:\n",
    "        real_items_set = set([int(i) for i in real_items])\n",
    "        pred_items_set = set([int(i) for i in pred_items])\n",
    "        intersection_len = len(real_items_set.intersection(pred_items_set))\n",
    "        union_len = len(real_items_set.union(pred_items_set))\n",
    "        # Division of integers here somehow breaks the logic when NULL is passed in\n",
    "        return float(intersection_len)/float(union_len)  "
   ]
  },
  {
   "cell_type": "markdown",
   "metadata": {},
   "source": [
    "Now we need a function that makes an evaluation of the current parameters set (using time and IOU) for the LSH prediction:"
   ]
  },
  {
   "cell_type": "code",
   "execution_count": 11,
   "metadata": {},
   "outputs": [],
   "source": [
    "def test_lsh_params(df, params, id_col: str, features_col: str = 'features', gt_similar_col: str='gt_similar', pred_similar_col: str = 'pred_similar', searched_elements_count: int = SEARCHED_ELEMENTS_COUNT):\n",
    "    \"\"\"A function to measure performance of the LSH algorithm with given parameters\n",
    "    \n",
    "    Args:\n",
    "        - df: pyspark DataFrame - a dataframe with `id_col` and `features_col` present, for which we should add a column with lists of similar items\n",
    "        - id_col: str - a name of column in `df` where we should take indexes to put into `pred_similar_col`\n",
    "        - features_col: str (default 'features') - a name of column in `df` where vector features are located\n",
    "        - gt_similar_col: str (default 'gt_similar') - a name for a column that contains ground truth values of similarity\n",
    "        - pred_similar_col: str (default 'pred_similar') - a name for a new column that is created as a result\n",
    "        - searched_elements_count: int (default SEARCHED_ELEMENTS_COUNT) - maximum count of elements we want to search\n",
    "    \n",
    "    Returns:\n",
    "    dict, a dictionary with lst parameters and results of model with that parameters\n",
    "    \"\"\"\n",
    "    \n",
    "    start_time = time.time()\n",
    "    test_iou_df = predict_similar_lsh(df, params, \n",
    "                                      id_col=id_col, \n",
    "                                      features_col=features_col, \n",
    "                                      pred_similar_col=pred_similar_col,\n",
    "                                      searched_elements_count=searched_elements_count)\n",
    "\n",
    "    test_iou_df = test_iou_df.withColumn(\"iou\", iou_func(F.col(gt_similar_col), F.col(pred_similar_col)))\n",
    "\n",
    "    iou_value = test_iou_df.agg(F.avg(\"iou\")).collect()[0][0]\n",
    "\n",
    "    # Computation time should be calculated only after collect that makes Spark perform all the operations\n",
    "    computation_time = time.time() - start_time\n",
    "\n",
    "    return {\n",
    "        'params': params,\n",
    "        'iou': iou_value,\n",
    "        'computation_time': computation_time,\n",
    "    }"
   ]
  },
  {
   "cell_type": "markdown",
   "metadata": {},
   "source": [
    "### Performing grid search\n",
    "\n",
    "Here is a function to perform grid search:"
   ]
  },
  {
   "cell_type": "code",
   "execution_count": 12,
   "metadata": {},
   "outputs": [],
   "source": [
    "def grid_search_tuning(data, \n",
    "                       param_grid, \n",
    "                       id_col: str, \n",
    "                       features_col: str = 'features',\n",
    "                       gt_similar_col: str = 'gt_similar',\n",
    "                       pred_similar_col: str = 'pred_similar', \n",
    "                       searched_elements_count: int = SEARCHED_ELEMENTS_COUNT,\n",
    "                       top_parameter_sets: int = BEST_PARAMS_COUNT):\n",
    "    \"\"\"A function to calculate test MinHashLSH with different parameters and find `top_parameter_sets` best\n",
    "\n",
    "    Args:\n",
    "        - df: pyspark DataFrame - a dataframe with `id_col` and `features_col` present, for which we should add a column with lists of similar items\n",
    "        - param_grid: list of dicts - a list with paramer sets we want to evaluate on\n",
    "        - id_col: str - a name of column in `df` where we should take indexes to put into `pred_similar_col`\n",
    "        - features_col: str (default 'features') - a name of column in `df` where vector features are located\n",
    "        - gt_similar_col: str (default 'gt_similar') - a name for a column that contains ground truth values of similarity\n",
    "        - pred_similar_col: str (default 'pred_similar') - a name for a new column that is created as a result\n",
    "        - searched_elements_count: int (default SEARCHED_ELEMENTS_COUNT) - maximum count of elements we want to search\n",
    "        - top_parameter_sets: int (default BEST_PARAMS_COUNT) - count of best parameter sets we want to return. If <= 0; return all parameter sets\n",
    "    \n",
    "    Returns:\n",
    "    list of dicts, a dictionary with lst parameters and results of model with that parameters\n",
    "    \"\"\"\n",
    "    results = []\n",
    "    for params in tqdm(param_grid):\n",
    "        result = test_lsh_params(data, \n",
    "                                 params, \n",
    "                                 id_col=id_col, \n",
    "                                 features_col=features_col, \n",
    "                                 gt_similar_col=gt_similar_col,\n",
    "                                 pred_similar_col=pred_similar_col, \n",
    "                                 searched_elements_count=searched_elements_count)\n",
    "        results.append(result)\n",
    "\n",
    "    top_results = sorted(results, key=lambda x: x['iou'], reverse=True)\n",
    "    if top_parameter_sets > 0:\n",
    "        top_results = top_results[:top_parameter_sets]\n",
    "\n",
    "    return top_results\n"
   ]
  },
  {
   "cell_type": "markdown",
   "metadata": {},
   "source": [
    "### Visualizing results"
   ]
  },
  {
   "cell_type": "code",
   "execution_count": 13,
   "metadata": {},
   "outputs": [],
   "source": [
    "def visualize_gridsearch_res(gridsearch_res):\n",
    "    \"\"\"Plot two heatmaps with gridsearch results\"\"\"\n",
    "    gridsearch_res_df = pd.DataFrame(gridsearch_res)\n",
    "\n",
    "    gridsearch_res_df['numHashTables'] = gridsearch_res_df['params'].apply(lambda x: x.get('numHashTables'))\n",
    "    gridsearch_res_df['distanceThreshold'] = gridsearch_res_df['params'].apply(lambda x: x.get('distanceThreshold'))\n",
    "    gridsearch_res_df = gridsearch_res_df.drop(columns=['params'])\n",
    "\n",
    "    iou_pivot = gridsearch_res_df.pivot(index=\"numHashTables\", columns=\"distanceThreshold\", values=\"iou\")\n",
    "    time_pivot = gridsearch_res_df.pivot(index=\"numHashTables\", columns=\"distanceThreshold\", values=\"computation_time\")\n",
    "\n",
    "    fig, axs = plt.subplots(1, 2, figsize=(12, 6))\n",
    "\n",
    "    fig.suptitle(\"Results for different parameters\")\n",
    "\n",
    "    axs[0].set_title(\"IOU values for different parameter sets\")\n",
    "    sns.heatmap(iou_pivot, ax=axs[0], cmap='rocket_r')\n",
    "\n",
    "    axs[1].set_title(\"Computation time values for different parameter sets, seconds\")\n",
    "    sns.heatmap(time_pivot, ax=axs[1], cmap='rocket')\n",
    "\n",
    "    plt.show()"
   ]
  },
  {
   "cell_type": "markdown",
   "metadata": {},
   "source": [
    "## Part 1. Barcelona LSH experiment"
   ]
  },
  {
   "cell_type": "markdown",
   "metadata": {},
   "source": [
    "Download data if needed:"
   ]
  },
  {
   "cell_type": "code",
   "execution_count": 14,
   "metadata": {},
   "outputs": [],
   "source": [
    "# !wget -O listings.csv.gz https://data.insideairbnb.com/spain/catalonia/barcelona/2024-09-06/data/listings.csv.gz\n",
    "# !gunzip -f listings.csv.gz"
   ]
  },
  {
   "cell_type": "code",
   "execution_count": 15,
   "metadata": {},
   "outputs": [
    {
     "name": "stderr",
     "output_type": "stream",
     "text": [
      "                                                                                \r"
     ]
    },
    {
     "name": "stdout",
     "output_type": "stream",
     "text": [
      "992\n"
     ]
    },
    {
     "name": "stderr",
     "output_type": "stream",
     "text": [
      "                                                                                \r"
     ]
    },
    {
     "name": "stdout",
     "output_type": "stream",
     "text": [
      "+---+--------------------------------------------------+\n",
      "|id |name                                              |\n",
      "+---+--------------------------------------------------+\n",
      "|0  |Stylish Top Floor Apartment - Ramblas Plaza Real  |\n",
      "|1  |Modernist aparment in the heart of the city       |\n",
      "|2  |double Room -UPC, ESADE, Barça, Real Club Tennis  |\n",
      "|3  |Magic Fountain B&B WI-FI DOBLE ROOM               |\n",
      "|4  |ob41 Great 2 bedr flat close to Las Ramblas center|\n",
      "|5  |DOUBLE ROOM with WIFI                             |\n",
      "|6  |Plaza Sagrada Familia apartment                   |\n",
      "|7  |CHARMING HOUSE IN BARCELONA NEAR BEACH            |\n",
      "|8  |Suite con mucho encanto!                          |\n",
      "|9  |APARTAMENT IN BARCELONA CENTRE                    |\n",
      "|10 |BONITA HABITACION CON BAÑO                        |\n",
      "|11 |Habitación grande y luminosa                      |\n",
      "|12 |Apartment near to Sagrada Familia private terrace |\n",
      "|13 |(P1) Cozy apart, Gracia LA PEDRERA                |\n",
      "|14 |Cozy studio in Barcelona center                   |\n",
      "|15 |Splendid Attic with TERRACE                       |\n",
      "|16 |Beautiful apartment in Barcelona beach            |\n",
      "|17 |TRULY CENTRE NEXT  PLAZA CATALUÑA                 |\n",
      "|18 |Beach Vila Olimpica, near downtown                |\n",
      "|19 |Charming and Central                              |\n",
      "+---+--------------------------------------------------+\n",
      "only showing top 20 rows\n",
      "\n"
     ]
    }
   ],
   "source": [
    "listings_df = SPARK.read.csv(\n",
    "    \"listings.csv\",\n",
    "    header=True,  # First line is header\n",
    "    inferSchema=True,  # Automatically infer data types\n",
    "    multiLine=True,  # Handle multiline fields\n",
    "    escape=\"\\\"\",  # Handle quoted strings with escape character\n",
    "    quote=\"\\\"\",  # Set quote character for quoted strings\n",
    "    sep=\",\",  # Specify the delimiter\n",
    ")\n",
    "listings_df = listings_df.orderBy(F.rand()).limit(1000)\n",
    "listings_df = listings_df.select(\"id\", \"name\")\n",
    "listings_df = listings_df.dropna()\n",
    "listings_df = listings_df.dropDuplicates([\"name\"])\n",
    "listings_df = listings_df.orderBy(\"id\")\n",
    "listings_df = listings_df.withColumn(\"id\", F.monotonically_increasing_id())\n",
    "print(listings_df.count())\n",
    "listings_df.show(truncate=False)"
   ]
  },
  {
   "cell_type": "code",
   "execution_count": 16,
   "metadata": {},
   "outputs": [
    {
     "name": "stderr",
     "output_type": "stream",
     "text": [
      "[Stage 18:>                                                         (0 + 1) / 1]\r"
     ]
    },
    {
     "name": "stdout",
     "output_type": "stream",
     "text": [
      "+---+--------------------------------------------------+--------------------------------------------------+----------------------------------------------------------------+--------------------------------------------------+-----------------------------------------------------------------------------------------------------------------------------------------------------------------------------------------------------------------------------------------------------------------------------------------------------------------------------------------------------------------------------------------------------------------------------------------------------------------------------------------------------------------------------------------------------------------------------------------------------------------------------------------------------------------------------------------------------------------------------------------------------------------------------------------------------------------------------------------------------------------------------------------------------------------------------------------------------------------------------------------------------------------------------------------------------------------------------------------------------------------------------------------------------------------------------------------------------------------------------------------------------------------------------------------------------------------------------------------------------------------------------------------------------------------------------------------------+\n",
      "|id |name                                              |name_clean                                        |words                                                           |stemmedWords                                      |features                                                                                                                                                                                                                                                                                                                                                                                                                                                                                                                                                                                                                                                                                                                                                                                                                                                                                                                                                                                                                                                                                                                                                                                                                                                                                                                                                                                                                                       |\n",
      "+---+--------------------------------------------------+--------------------------------------------------+----------------------------------------------------------------+--------------------------------------------------+-----------------------------------------------------------------------------------------------------------------------------------------------------------------------------------------------------------------------------------------------------------------------------------------------------------------------------------------------------------------------------------------------------------------------------------------------------------------------------------------------------------------------------------------------------------------------------------------------------------------------------------------------------------------------------------------------------------------------------------------------------------------------------------------------------------------------------------------------------------------------------------------------------------------------------------------------------------------------------------------------------------------------------------------------------------------------------------------------------------------------------------------------------------------------------------------------------------------------------------------------------------------------------------------------------------------------------------------------------------------------------------------------------------------------------------------------+\n",
      "|0  |Stylish Top Floor Apartment - Ramblas Plaza Real  |Stylish Top Floor Apartment   Ramblas Plaza Real  |[stylish, top, floor, apartment, , , ramblas, plaza, real]      |[stylish, top, floor, apart, rambla, plaza, real] |[-0.015746566267418008,0.006862625363282859,0.006818534074617283,-0.0038986620742694606,-0.0030582382875893794,0.004890027589031628,-0.004871594586542675,0.006645798882735626,0.00885670239638005,-0.008075088595173188,0.0024381212424486876,-0.0029650049982592463,-0.004861199729410665,-0.008945721376221627,-0.010496855445256057,0.005916782837760235,-0.003458567928256733,-0.0010976937732526235,-0.0011598393653652497,-7.229866459965706E-4,1.508893578180245E-4,-1.5460721416664974E-4,-0.0031608382040368655,0.0018249253875442912,0.0017826758557930589,-0.009234614255547058,0.0019103603553958237,0.002608661656267941,0.014852381519241524,0.013788495678454638,-0.014921789307014217,0.007554333058318921,-0.0028221292554267813,0.0022659863711201717,0.0026214593692982036,0.004558287128540022,-0.0034741303367939375,-0.004163853167223611,-0.004738682082721165,0.008554348522531134,0.009934961579607,0.001834917314616697,-0.0074298766474904755,0.0026306027180648273,-0.004716851008457265,-0.0035666766509945902,9.739645590473498E-4,-0.0049729136683579,0.006439473889518662,-2.826162547405277E-4,0.007473439011456711,-0.004872761184482702,0.006667457795369305,-0.00191196782647499,-0.011389496353720979,0.008767447234796626,-0.00418693815091891,0.015319510629134519,0.006665098430987979,-0.0017705918954951422,-0.0017570983951113053,0.00537832806419049,0.01245673799089023,0.0027810644158827408]   |\n",
      "|1  |Modernist aparment in the heart of the city       |Modernist aparment in the heart of the city       |[modernist, aparment, in, the, heart, of, the, city]            |[modernist, apar, heart, citi]                    |[-0.025773286179173738,0.005844170605996624,0.008115993288811296,-0.010577692650258541,-0.009913594287354499,0.015960933815222234,-0.01214967982377857,0.014364591937919613,0.013985204976052046,-0.013260427280329168,0.010678132763132453,-0.007245126602356322,-0.004962653329130262,-0.013110902276821434,-0.022059433162212372,0.0023648844507988542,-0.008747822161240038,-8.813851018203422E-4,-0.003201656450983137,-0.0038399226759793237,-0.0022274155635386705,-1.0871876293094829E-4,2.576453553047031E-4,0.005158004190889187,5.747838004026562E-4,-0.012264723976841196,1.8116305000148714E-5,-0.004278248430637177,0.02315043396083638,0.025758029194548726,-0.022512593306601048,0.0048810699954628944,-0.004597732098773122,0.00125470882630907,0.006524603144498542,0.0076748685096390545,-0.003109042067080736,-0.007650343817658722,-0.014409029798116535,0.009782629349501804,0.01079461783683655,0.003890507126925513,-0.015448152553290129,0.004236714041326195,-0.008219768293201923,-0.0013664826838066801,-0.00225576976663433,-0.009493642530287616,0.003464335750322789,0.00507042117533274,0.02068671945016831,-0.008102268213406205,0.005226487512118183,-0.0018399349792161956,-0.021605901361908764,0.003519307589158416,8.171623048838228E-4,0.01782609592191875,0.00633734418079257,-0.009150731086265296,-0.001943660834513139,0.00986912997905165,0.016573433676967397,0.0052459884027484804]              |\n",
      "|2  |double Room -UPC, ESADE, Barça, Real Club Tennis  |double Room  UPC  ESADE  Bar a  Real Club Tennis  |[double, room, , upc, , esade, , bar, a, , real, club, tennis]  |[doubl, room, upc, esad, bar, real, club, tenni]  |[-0.02639858570182696,0.00720593414735049,0.008512976397469174,-0.003844624887278769,-0.014174760566675104,0.010218477822490968,-0.007045112070045434,0.011971260893915314,0.013203347931266762,-0.010777551317005418,0.0071909016915014945,-0.009780972661246778,-0.0057662795297801495,-0.014678571955300868,-0.017958946233193274,0.005750040136263124,-0.009670530533185229,3.4686719300225377E-4,-0.004805602847227419,-0.0024708191922400147,0.0014511081753880717,0.0027148717526870314,0.0020269467786420137,0.0012154697888036026,0.0013109998290019576,-0.013086085747090692,-4.528872450464405E-4,-0.0022053894790587947,0.01870793176931329,0.025888275627949042,-0.020500375656411052,0.009517304570181295,-0.007892558372986969,0.003504712320136605,0.008318483887705952,0.005581943014021817,-0.011507453127705958,-0.007615287967382756,-0.015948958171065897,0.012363980808004271,0.012207688359922031,0.004422315731062554,-0.01660494839597959,0.0029760421384708025,-0.005515664473932702,-0.002143935183994472,6.499813571281265E-4,-0.010174785606068326,0.008330234908498824,0.006942289008293301,0.017029910464771092,-0.0066484024728197255,0.008869302255334333,-0.00466916063305689,-0.01846499052589934,0.007490571559173986,-0.003915907553164288,0.020964853771147318,0.010249847371596843,0.0016481068450957537,-0.0020037791900904267,0.01103647064883262,0.020211039955029264,0.004780300456332043]          |\n",
      "|3  |Magic Fountain B&B WI-FI DOBLE ROOM               |Magic Fountain B B WI FI DOBLE ROOM               |[magic, fountain, b, b, wi, fi, doble, room]                    |[magic, fountain, b, b, wi, fi, dobl, room]       |[-0.012391799438773887,0.0034172397572547197,-0.002685017156181857,-0.005472442499012686,0.002111503970809281,0.012381766780890757,0.004348010028479621,-0.0018629238184075803,0.0037868020444875583,-0.011786388902692124,0.009231523450580426,-0.00934328908988391,-0.0037621533556375653,-0.006488649305538274,-0.00652409449685365,0.0027563354378798977,-0.0075956309447065,-8.794284367468208E-4,-0.0011575277021620423,-0.0028783969100913964,0.005728031086619012,7.60137612815015E-4,0.00677759639438591,0.0024333043475053273,0.005035719164879993,0.001925928343553096,-0.008272029255749658,-0.010741049540229142,0.010099861658090958,0.013957658677099971,-0.00907090945111122,-2.0558200776576996E-4,-0.003371338127180934,-0.0010014553799919668,-0.00495817034970969,0.008775553258601576,7.043320365482941E-4,0.006253080591022808,-0.011661570737487637,-0.0034147913829656318,-0.004945159831549972,-0.0082915925713678,-0.007122068345779553,0.001418802552507259,-0.005056128262367565,0.004928463793476112,-0.0019897090387530625,-0.004543114046100527,0.003467284528142045,0.01167406325112097,0.017872496566269547,-0.008958435195381753,-0.003955139964091359,0.0010996071214322,-0.003202577223419212,0.007982999002706492,-0.0048419902623209055,0.010596240230370313,1.8029805505648255E-4,-0.002621606228785822,4.681151476688683E-4,0.006215631088707596,0.011953464898397215,-7.858331227907911E-4]           |\n",
      "|4  |ob41 Great 2 bedr flat close to Las Ramblas center|ob   Great   bedr flat close to Las Ramblas center|[ob, , , great, , , bedr, flat, close, to, las, ramblas, center]|[ob, great, bedr, flat, close, la, rambla, center]|[-0.030320027755806223,0.011418644040531944,0.0105390211683698,-0.003606609483540524,-0.013919582299422473,0.013661124918144196,-0.011907764303032309,0.01686436202726327,0.01557657468947582,-0.013641700672451407,0.004075602846569382,-0.008414837109739892,-0.008538546098861843,-0.016283114557154477,-0.019924865919165313,0.005633342821965925,-0.004382560247904621,7.260025740833953E-4,-0.005880792756215669,-0.0063678870210424066,0.0029297384608071297,0.004096995937288739,0.001397983251081314,0.004250739584676921,0.004046333378937561,-0.018257663759868592,2.4446860334137455E-4,-5.780886094726156E-4,0.02518360031535849,0.02986183369648643,-0.024846448097378016,0.00589747006597463,-0.004916975187370554,-1.3167000724934042E-4,0.00933295238064602,0.006853926053736359,-0.010243145072308835,-0.004723872185422806,-0.013152801286196336,0.020319015849963762,0.015907088716630824,0.0062120567163219675,-0.01890272175660357,0.003698543252539821,-0.007977086628670804,-0.004461059796085465,-0.0032020456364989514,-0.01161506558128167,0.008759863034356385,0.002998997282702476,0.01619715866399929,-0.008228553575463593,0.01437490462558344,-0.006343119966913946,-0.0240147456061095,0.006745442340616137,-0.005518843652680516,0.02579733682796359,0.011376401351299137,-0.004992595810108469,-0.005994664654281223,0.005487414964591153,0.02496455644723028,0.006781457603210583]                         |\n",
      "|5  |DOUBLE ROOM with WIFI                             |DOUBLE ROOM with WIFI                             |[double, room, with, wifi]                                      |[doubl, room, wifi]                               |[-0.06384691316634417,0.02146114408969879,0.024627353064715862,-0.013191949537334342,-0.035074566840194166,0.028634294789905347,-0.02193063109492262,0.030905824775497116,0.02998010752101739,-0.030222241611530382,0.018575351452454925,-0.023262675657557942,-0.01686768839135766,-0.04091497417539358,-0.04437714101125796,0.009245752356946468,-0.019866243237629533,0.00517174859608834,-0.01746924097339312,-0.01645431698610385,0.00665710757796963,0.0023331671254709363,0.011744723344842592,0.007397808095750709,0.006704569328576326,-0.03263913576180736,-4.0915344531337417E-4,-0.005000441179921229,0.05068307742476463,0.07382028891394535,-0.04875067248940468,0.02284529114452501,-0.02334112534299493,0.008227244989636043,0.023121906056379277,0.014948497371127207,-0.02428851800505072,-0.022042986781646807,-0.03928735572844744,0.0366486688144505,0.0297016945357124,0.01546237194755425,-0.043060244604324296,0.00865989791539808,-0.013786281536643703,-0.0070690978318452835,-0.0025846310891211033,-0.024265038470427193,0.025136242154985666,0.013534013337145248,0.03618177243818839,-0.015490934485569596,0.02611207442047695,-0.012004294510309894,-0.05305169041578968,0.020580493534604706,-0.014710215153172612,0.05232760962098837,0.02560175706942876,-0.004175324769069751,-0.0015291076463957627,0.028630797596027453,0.049054473638534546,0.020295501065750916]                                        |\n",
      "|6  |Plaza Sagrada Familia apartment                   |Plaza Sagrada Familia apartment                   |[plaza, sagrada, familia, apartment]                            |[plaza, sagrada, familia, apart]                  |[-0.03538268408738077,0.023485406301915646,0.02246667235158384,-0.009765855123987421,-0.019707691331859678,0.0014572928776033223,-0.013884139712899923,0.029794983915053308,0.02802727813832462,-0.013697667978703976,0.005983624956570566,-0.007888845051638782,0.0015234418206091505,-0.021429981105029583,-0.016991729149594903,0.01898788195103407,-0.010575339896604419,0.012997112178709358,-0.0061985504580661654,-0.011787209776230156,-0.009395837085321546,-2.0273460540920496E-4,-0.00652127037756145,-9.064740734174848E-4,0.01118274952750653,-0.02985721663571894,0.012399354818626307,0.014078477310249582,0.026267578126862645,0.05707734730094671,-0.03492195997387171,0.012985835084691644,-0.016496708383783698,-0.0014013085747137666,0.0175521609489806,0.016055739077273756,-0.006862783920951188,-0.018555753398686647,-0.02772999822627753,0.03564919484779239,0.030453653307631612,0.02170641894917935,-0.018937208224087954,0.0033714162127580494,-0.005121482070535421,-0.007626897597219795,-0.0040135548915714025,-0.01225271771545522,0.014349872944876552,0.007948297425173223,0.004575742408633232,-0.012840703362599015,0.0292665830347687,-0.012906766583910212,-0.032084249367471784,0.011877963901497424,-0.017438488313928246,0.029045717790722847,0.026158215943723917,-0.014734972035512328,-0.017878990154713392,0.012554513290524483,0.02608749200589955,0.017827024857979268]                        |\n",
      "|7  |CHARMING HOUSE IN BARCELONA NEAR BEACH            |CHARMING HOUSE IN BARCELONA NEAR BEACH            |[charming, house, in, barcelona, near, beach]                   |[charm, hous, barcelona, near, beach]             |[-0.01942369621247053,0.00888703460805118,0.009770930884405971,-0.004577347310259938,-0.009966529463417828,0.011725567653775215,-0.010240424796938897,0.013776375073939563,0.01900225831195712,-0.011793535435572267,0.0034952129237353804,-0.00580626605078578,-0.00555790257640183,-0.009658383671194315,-0.017004666663706303,0.0017766627483069898,-0.0027318156324326994,0.0010119519429281354,-0.0010549211176112295,-0.0021751028718426826,0.0014013764332048595,0.0028178506530821324,0.0017071754904463888,-0.002059950027614832,0.0047161789843812585,-0.01286707976832986,0.002361574396491051,-7.593723479658366E-4,0.019156038202345373,0.01998821469023824,-0.01805742410942912,0.0076400017831474544,-0.001181183644803241,-4.8382757231593134E-4,0.00704084187746048,0.003323870338499546,-0.005588082550093532,-0.006374131189659238,-0.014783788658678533,0.017089491710066795,0.009986471198499203,0.0025234210770577192,-0.01431901566684246,0.0050890904734842484,-0.005466010607779026,-0.00452795890159905,-7.135256426408888E-4,-0.00868036448955536,0.004746680147945881,4.634023644030094E-4,0.016487193433567884,-0.009378723427653314,0.012453231634572149,-0.0037327027413994076,-0.021197230787947774,0.007889187615364791,-0.0041794213815592235,0.019517023162916303,0.007746251253411174,-0.006784163601696491,-0.00423283469863236,0.008541071531362831,0.016770720668137073,0.004356541822198779]           |\n",
      "|8  |Suite con mucho encanto!                          |Suite con mucho encanto                           |[suite, con, mucho, encanto]                                    |[suit, con, mucho, encanto]                       |[0.0031306514283642173,-0.00853261690645013,-0.015271599229890853,-0.00799654220463708,0.014449652400799096,0.013321667676791549,0.011717658693669364,-0.02457367314491421,-0.008635042526293546,-0.007545655942521989,0.014788680884521455,-0.0025047743692994118,-5.05190109834075E-4,0.0016502770013175905,0.014351386693306267,-0.0047944651523721404,-0.0012144799111410975,-0.009275446296669543,-7.663683500140905E-4,0.0014443163672694936,0.003517251112498343,0.0015379397082142532,0.011583955492824316,-0.008628078794572502,-4.079628561157733E-4,0.02074196243484039,-0.008985455715446733,-0.018668145989067852,-6.611745338886976E-4,-0.013195358566008508,0.00580754823749885,-0.006225187098607421,0.008127588123898022,-0.007934201043099165,-0.014711485768202692,4.8456620424985886E-4,0.005185884074307978,0.015891850925982,-7.581953541375697E-4,-0.01952527492539957,-0.019772913015913218,-0.016215005482081324,0.001593409979250282,0.0031039384193718433,-0.004005978902569041,0.008486202859785408,0.005756169994128868,-0.0039035447989590466,-0.01038314716424793,0.014615824911743402,0.014454291260335594,-0.010683165630325675,-0.017248812888283283,0.010528415368753485,0.016589064500294626,0.004759860428748652,0.002609213115647435,-0.0037872905377298594,-0.006773140135919675,-0.005991888931021094,0.007999041030416265,0.0012551940599223599,-0.00546718540135771,-0.0022730165292159654]          |\n",
      "|9  |APARTAMENT IN BARCELONA CENTRE                    |APARTAMENT IN BARCELONA CENTRE                    |[apartament, in, barcelona, centre]                             |[aparta, barcelona, centr]                        |[-0.019028988356391587,0.0052052844936649,0.006715552105257908,-0.004398193889452765,-0.004070976749062538,0.01674657935897509,-0.0066161504946649075,0.013235454369957248,0.013123997719958425,-0.007962672815968592,0.006741061341017485,-0.00954893953166902,-0.003839950542896986,-0.012258712202310562,-0.013439753985342879,5.402098953103025E-4,-0.0028118688302735486,0.002789492718875408,-0.0017491614756484826,-0.007159600732848048,-3.4751975908875465E-4,0.0030612837678442397,-2.2621394600719213E-4,-0.0012389746261760592,0.0025224415585398674,-0.010611329227685928,-0.007193371343115965,-0.005571742619698246,0.02080920028189818,0.01857078541070223,-0.01847654239585002,0.0035488285745183625,0.0028256570609907308,-6.296893892188866E-4,0.007610854071875413,0.005160321559136112,-0.0031624297456194954,-0.0034096678330873447,-0.019249221310019493,0.012841934765068192,0.004795644121865431,-0.004569710697978735,-0.017364902421832085,0.004547213902696967,-0.01043817400932312,-0.006666833534836769,1.7896934878081083E-4,-0.013583084956432382,0.006107631168561056,0.0018267666455358267,0.022502134864528973,-0.00906280040120085,0.007963888036708036,-0.0013395942902813354,-0.015272897823403278,0.010598337665821115,-6.42890518065542E-4,0.015282598324120045,0.008930734707973897,-0.007401948949942986,-0.002357200486585498,0.00649780531724294,0.014080175353835026,0.003968339665637662]        |\n",
      "|10 |BONITA HABITACION CON BAÑO                        |BONITA HABITACION CON BA O                        |[bonita, habitacion, con, ba, o]                                |[bonita, habitacion, con, ba]                     |[-0.002209217520430684,-0.007283911763806827,-0.023853716906160116,-0.010404042201116681,0.015217962441965938,0.03026131709339097,0.01974719378631562,-0.02755709714256227,-0.015495636500418186,-0.012777829921105877,0.011803549597971141,-0.012631532532395795,-9.999224566854537E-4,-0.002360577607760206,0.010634164849761873,-0.0020443963585421443,-0.003709181444719434,-0.007196955266408622,-0.004246405558660626,-0.0029716017452301458,0.007822714745998383,0.001305865531321615,0.01798307872377336,-0.006814399239374325,0.0013134048786014318,0.017819115426391363,-0.014020248199813068,-0.022158542968099937,0.008734664705116302,-0.0072342181811109185,0.005042614822741598,-0.006741226447047666,0.0135813303058967,-0.0073788107838481665,-0.02062990772537887,0.006585965282283723,0.0015970474341884255,0.01420410955324769,-0.006427241663914174,-0.020866672392003238,-0.017351378977764398,-0.023919719038531184,-0.003987383213825524,0.005766864313045517,-0.004783916287124157,0.012502108584158123,0.002054555108770728,-0.0054207198263611645,-0.013041712634731084,0.016076586907729506,0.02218394889496267,-0.01953872200101614,-0.0208721513627097,0.017789894132874906,0.016756133874878287,0.009307664207881317,-0.003987887175753713,0.0017912404728122056,-0.009396369103342295,-0.007402752642519772,0.005099896887259092,-4.686774336732924E-4,-0.0016546248807571828,-0.004151859582634643]           |\n",
      "|11 |Habitación grande y luminosa                      |Habitaci n grande y luminosa                      |[habitaci, n, grande, y, luminosa]                              |[habitaci, n, grand, luminosa]                    |[0.006466217804700136,-0.019872648976161145,-0.0600723959505558,-0.020569127053022385,0.04243239224888384,0.0672625828301534,0.048768857843242586,-0.06357290907180868,-0.029459601501002908,-0.011384864686988294,0.05324163823388517,-0.03565381281077862,-0.003801622719038278,-0.006662220403086394,0.040743422403465956,-0.002718773961532861,-0.007447141033480875,-0.01982887503982056,-0.004872855148278177,0.002131167973857373,0.021056751837022603,-0.0013153674663044512,0.05221808850183152,-0.02495103538967669,-0.00353699189145118,0.052142892382107675,-0.04037708597024903,-0.05350397655274719,0.00460398243740201,-0.02303841759567149,0.025801802170462906,-0.010902126436121762,0.028306967578828335,-0.014601138303987682,-0.05413597938604653,0.004412690817844123,0.00600437301909551,0.05301035124284681,-0.021436578448629007,-0.0638331861118786,-0.06717104918789119,-0.05231377703603357,-0.005624250392429531,0.0034506793308537453,-0.016660555207636207,0.03282243535795715,0.010647099756170064,-0.010122620384208858,-0.03223894874099642,0.04459995581419207,0.04482476552948356,-0.046514166286215186,-0.05568762274924666,0.04269969975575805,0.05865277862176299,0.009665280143963173,-7.867784006521106E-5,-0.007596973038744181,-0.03084166461485438,-0.027344538713805377,0.013916185474954545,0.0029688575596082956,-0.0029809267434757203,-0.019806045427685603]                                   |\n",
      "|12 |Apartment near to Sagrada Familia private terrace |Apartment near to Sagrada Familia private terrace |[apartment, near, to, sagrada, familia, private, terrace]       |[apart, near, sagrada, familia, privat, terrac]   |[-0.05874645430594683,0.029438688109318413,0.032188815375169114,-0.011398936971090734,-0.0320533705332006,0.005303445155732334,-0.031404984959711627,0.04578570555895567,0.042474643637736634,-0.022088781542455155,0.007223122054710984,-0.015492311601216594,-0.006066291779764772,-0.03087328809003035,-0.038596853613853455,0.020495747992148,-0.011466262163594365,0.013598381386448938,-0.009738921886309981,-0.016685652546584606,-0.011095647738936046,-3.5252119414508343E-4,-0.004327661939896643,9.875696850940585E-4,0.01172208417362223,-0.045200917714585856,0.013088543899357319,0.012922831966231266,0.047522118935982384,0.0827180923273166,-0.052020487685998276,0.018542142895360787,-0.02443959998587767,0.004970438623179992,0.028188874634603657,0.020765493313471474,-0.015362512320280075,-0.025540949621548254,-0.04255172641326983,0.049731711546579994,0.044762747672696904,0.0284556009961913,-0.0370267656010886,0.006834817332370827,-0.008713714079931378,-0.014607491864201922,-0.0038701911689713597,-0.021538279155114044,0.02354052321364482,0.008146024541929364,0.01867962535470724,-0.011904065652439991,0.04351071470106641,-0.02253295095094169,-0.0574473434050257,0.01529717034039398,-0.0196761234352986,0.04908304925387104,0.031267929201324776,-0.015201628305173168,-0.021149383392184973,0.01953493027637402,0.044447467817614474,0.021069904168446858]                                        |\n",
      "|13 |(P1) Cozy apart, Gracia LA PEDRERA                | P   Cozy apart  Gracia LA PEDRERA                |[, p, , , cozy, apart, , gracia, la, pedrera]                   |[p, cozi, apart, gracia, la, pedrera]             |[-0.01718263009873529,0.008666418686819572,0.009495208427930871,-0.007592422247398645,-0.011422138738756377,0.002235547687935953,-0.009789720643311739,0.014897444906334082,0.00868439907208085,-0.007859060152744252,-0.001568821103622516,3.532631671987474E-4,-0.006017035319625089,-0.00457152221739913,-0.013845761209571112,0.004794952110387385,-0.0035130492178723216,0.0013584185217041522,-0.0059845728004196035,-0.0024457696902876096,0.002459879978838823,0.0027381459391714693,-0.006755536616158982,5.012071681752179E-4,0.0044217961840331554,-0.016214627656154335,0.005990837836482872,0.005188831904282172,0.011682857448856035,0.01857308321632445,-0.014881049127628405,0.006209182145539671,-0.006588991867223133,0.0029664279766924056,0.011099977379975218,0.003192584942250202,-0.004213608568534255,-0.007098187226802111,-0.007857737403052548,0.017300506859707333,0.013135178790738184,0.011440863056729237,-0.008254529365027944,3.8892049148368335E-4,-0.0027909756803031387,-0.007004640453184644,4.6367048829173047E-4,-0.005967248037147025,0.002727872439815352,-0.001112621782037119,0.003616332047386095,-0.00415303441695869,0.011719492555130273,-0.0067315862979739904,-0.016611045226454735,0.0021807164691078165,-0.0011938509220878282,0.012313615065068007,0.009157549706287682,-0.004619622913499673,-0.006732549498944232,0.004244475693364317,0.008989684254629537,0.008358410947645703]        |\n",
      "|14 |Cozy studio in Barcelona center                   |Cozy studio in Barcelona center                   |[cozy, studio, in, barcelona, center]                           |[cozi, studio, barcelona, center]                 |[-0.031204632949084044,0.008930961863370612,0.01428409677464515,-0.007322556455619633,-0.01732465368695557,0.01612849801313132,-0.01611345587298274,0.02106727520003915,0.018353402090724558,-0.011798855324741453,0.007223522174172103,-0.0073971514066215605,-0.006816585781052709,-0.020284064346924424,-0.02637709936243482,0.005945209879428148,-0.0023545442963950336,0.0010664555011317134,-0.0078845105599612,-0.0073043363518081605,0.0020435309852473438,0.0025865134957712144,-8.907689771149307E-4,-0.0029838680566172116,0.004331833391916007,-0.019571406301110983,7.54231121391058E-4,4.403760249260813E-4,0.02991857100278139,0.03289028163999319,-0.02867964981123805,0.008086990739684552,-0.0057467687875032425,0.0043376407120376825,0.01640455354936421,0.006558505381690338,-0.013059868113487028,-0.007740680768620223,-0.020897111113299616,0.023284093651454896,0.01874083111761138,8.66671500261873E-4,-0.024169290903955698,1.8712488235905766E-4,-0.01012121164239943,-0.007009981432929635,-8.807815502223093E-4,-0.014258354203775525,0.011843726562801749,0.0031839891453273594,0.025128936860710382,-0.010032896243501455,0.017818298190832138,-0.009453523787669837,-0.03613936807960272,0.0075973136408720165,-0.005190737581870053,0.026121412869542837,0.01489290187601,-0.008356571313925087,-0.005553973518544808,0.011102524702437222,0.027527633123099804,0.004231344748404808]                        |\n",
      "|15 |Splendid Attic with TERRACE                       |Splendid Attic with TERRACE                       |[splendid, attic, with, terrace]                                |[splendid, attic, terrac]                         |[-0.02948179507317642,0.010084330569952726,0.0027274775008360543,-0.008940530009567738,-0.010109197833420087,0.012803473917301744,-0.010734346772854526,0.014445366842361787,0.01887006863641242,-0.012821967247873545,0.0030849828229596215,-0.010487871011719108,-0.004442594091718395,-0.015788335974017777,-0.022637240200613935,0.00778499455191195,-0.005541255542387565,0.005053323169704527,-0.00779250351479277,-0.001963709544118804,-0.0034239483065903187,0.0027962736785411835,2.483779098838568E-4,0.004248002524642894,-8.202982135117054E-4,-0.01614720241923351,-0.004282244190108031,-0.0018410019886990388,0.027740090464552242,0.03485744694868723,-0.02284887914235393,0.004498640657402575,-0.008199254904563228,0.0047860108509970205,0.010849310938889781,0.007994228425862577,-0.0046195009878526126,-0.006036095243568221,-0.02235462050884962,0.01577790391941865,0.015520185309772689,0.0011542674619704485,-0.020833454793319106,0.005233314664413531,-0.004517855062052452,-0.001177158672362566,-0.00332351605175063,-0.014574769729127485,0.014832351046303907,0.005062534861887494,0.01961723513280352,-0.007652590051293373,0.012454558551932374,-0.00800859978335211,-0.02278254817550381,0.007100580104937156,-0.0038112918846309185,0.028709439871211846,0.010527297776813308,-0.009230386310567457,-0.006211572792381048,0.007105125968034068,0.02621147890264789,0.008885661140084267]                  |\n",
      "|16 |Beautiful apartment in Barcelona beach            |Beautiful apartment in Barcelona beach            |[beautiful, apartment, in, barcelona, beach]                    |[beauti, apart, barcelona, beach]                 |[-0.027111243456602097,0.01390059688128531,0.018031688290648162,-0.005348013291950338,-0.01381129666697234,0.015035746619105339,-0.009162778267636895,0.01761567289941013,0.022770609706640244,-0.018947121570818126,5.253020644886419E-4,-0.008356456062756479,-0.007760622538626194,-0.01333881146274507,-0.024594095535576344,0.008717385004274547,-0.006787062913645059,-8.948316390160471E-4,-0.001069321937393397,-0.009025616833241656,0.0026382417854620144,0.004012388060800731,-0.0025282211718149483,0.0028814244433306158,0.0059265741147100925,-0.020111969439312816,0.0017032696341630071,0.004288624390028417,0.022279564989730716,0.029295493848621845,-0.02783139725215733,0.010409227397758514,-0.004985960062185768,0.005011983448639512,0.013078459072858095,0.005892119283089414,-0.003999205131549388,-0.008487956249155104,-0.01791810104623437,0.025355422869324684,0.01530215865932405,0.005884409241843969,-0.016358788823708892,0.0021964112675050274,-0.00758135411888361,-0.005430960445664823,-0.0016263203870039433,-0.006871250981930643,0.009728974677273072,8.171686204150319E-4,0.016016324458178133,-0.012356874765828252,0.014706732938066125,-0.008450564811937511,-0.022923850920051336,0.009292110102251172,-0.00568239095446188,0.022678997949697077,0.012742345221340656,-0.0048108770861290395,-0.005325355232344009,0.012163174280431122,0.022361646639183164,0.008853860330418684]                |\n",
      "|17 |TRULY CENTRE NEXT  PLAZA CATALUÑA                 |TRULY CENTRE NEXT  PLAZA CATALU A                 |[truly, centre, next, , plaza, catalu, a]                       |[truli, centr, next, plaza, catalu]               |[-0.010072549618780614,0.0035104378126561645,0.004688785923644901,-0.003008866414893419,-0.004591059731319547,0.004785537533462048,-0.006962239369750023,0.00637396217789501,0.005804591160267592,-0.0022211942123249173,6.853965111076832E-4,-0.004416747763752937,-0.0023991217836737636,-0.0049397947266697885,-0.0034919547149911525,0.004759420431219042,-3.6449662875384094E-4,-0.0014198522083461286,-0.0064460174180567265,-0.001892233593389392,-1.1748634278774261E-5,0.0010755594586953521,-0.0017821388784796,0.0036919064121320845,-7.51932105049491E-4,-0.00450974595732987,0.002807577478233725,0.0018464350374415518,0.006474582199007273,0.010532053420320153,-0.005217851744964719,0.002715493924915791,2.852906007319689E-4,7.983769290149213E-4,0.0052307483740150935,0.004509153449907899,0.0013994336826726795,-0.0027413377538323402,-0.003998571541160345,0.004351238074013964,0.005489348061382771,0.002096068998798728,-0.009157339204102754,-0.003398032020777464,-0.0031246048281900586,-0.004060267843306065,-0.0013762693852186203,-0.006638776534236968,0.0012828752398490906,-0.002251176000572741,9.64792724698782E-4,-0.003016370674595237,0.005753030721098185,-0.00298499409109354,-0.004235380329191685,0.0025702755316160623,-0.007024269195972011,0.005785496009048075,0.004344508890062571,-9.8389201448299E-4,-0.0038120831130072476,0.002118975203484297,0.006742745800875128,0.0020360876340419056] |\n",
      "|18 |Beach Vila Olimpica, near downtown                |Beach Vila Olimpica  near downtown                |[beach, vila, olimpica, , near, downtown]                       |[beach, vila, olimpica, near, downtown]           |[-0.013213632348924876,0.006215236987918616,0.008925188600551337,-0.0017927937326021493,-0.007202844572020695,0.005933745251968503,-0.008141990331932903,0.010428443597629667,0.011994029325433076,-0.006498558126622811,6.554631981998682E-5,-0.0048846428282558925,-0.0027326741605065764,-0.006440511043183506,-0.011726687010377646,0.005165319843217731,-2.4499928113073114E-4,0.0019275604281574488,-0.0034041168633848432,-0.0011157531524077057,-0.001741002465132624,3.337591770105064E-4,-0.0014387414325028659,-5.851841066032648E-4,0.0017804353032261134,-0.013236465421505273,0.0043657086789608,0.0023289680015295745,0.011496569868177176,0.012898787064477802,-0.012740036775358022,0.0019349820096977056,-0.004804302781121806,0.002851210441440344,0.0027611668323515915,0.002086514001712203,-0.005106237455038354,-0.00550877545028925,-0.007678966224193573,0.012642267020419241,0.007443658425472677,0.0031130896881222726,-0.007805389689747245,0.00321681467758026,-3.277079958934337E-4,-0.0026225935900583866,-1.975368242710829E-4,-0.00499955655541271,0.00256405221298337,-0.0015119892777875066,0.01092960354872048,-0.002736451680539176,0.009090888453647495,-0.002594458917155862,-0.014911907329224051,0.0019604931469075384,-0.006552591640502215,0.008736556675285102,0.005125741916708649,-0.0021863095462322235,-0.006384624913334847,0.003090205974876881,0.00936503300908953,0.0036500886868452657]   |\n",
      "|19 |Charming and Central                              |Charming and Central                              |[charming, and, central]                                        |[charm, central]                                  |[-0.009339211508631706,0.0024639503099024296,-0.002800016780383885,-0.00479969650041312,-0.0016497648321092129,0.008860144298523664,-0.002966999774798751,0.00412939372472465,0.007806253852322698,-0.003968422184698284,0.0067674064775928855,-0.009111105464398861,-0.002460982301272452,-0.00369464629329741,-0.007857577875256538,0.0026405206881463528,-0.0012367770541459322,0.003929886734113097,-0.0037742889835499227,5.433161277323961E-4,0.005906989215873182,0.0025776673574000597,0.004627162823453546,-0.002093058661557734,0.003931203100364655,0.002911990159191191,-0.0019825929775834084,-0.004372366121970117,0.008256990928202868,0.0031365302857011557,-0.003826881991699338,0.0011339480988681316,-0.00267409544903785,2.2136373445391655E-5,-0.0015076929703354836,4.832439299207181E-4,8.235314162448049E-4,-0.004240852082148194,-0.005992644466459751,-5.0559570081532E-4,-3.0102208256721497E-5,-0.00767171720508486,-0.0096282500308007,-0.001183910295367241,-0.00622320082038641,-7.082105148583651E-4,-0.0021604259964078665,-2.2670626640319824E-4,-3.718375228345394E-4,0.0025462558260187507,0.004459480638615787,-0.011342754121869802,-0.0012240823707543314,0.0015688793500885367,-0.0045149053912609816,0.00964448507875204,-1.409315736964345E-4,0.01182048674672842,0.002492557163350284,-0.010611212812364101,-1.3231532648205757E-4,0.003351221850607544,0.013123931363224983,-0.0014613809762522578]|\n",
      "+---+--------------------------------------------------+--------------------------------------------------+----------------------------------------------------------------+--------------------------------------------------+-----------------------------------------------------------------------------------------------------------------------------------------------------------------------------------------------------------------------------------------------------------------------------------------------------------------------------------------------------------------------------------------------------------------------------------------------------------------------------------------------------------------------------------------------------------------------------------------------------------------------------------------------------------------------------------------------------------------------------------------------------------------------------------------------------------------------------------------------------------------------------------------------------------------------------------------------------------------------------------------------------------------------------------------------------------------------------------------------------------------------------------------------------------------------------------------------------------------------------------------------------------------------------------------------------------------------------------------------------------------------------------------------------------------------------------------------+\n",
      "only showing top 20 rows\n",
      "\n"
     ]
    },
    {
     "name": "stderr",
     "output_type": "stream",
     "text": [
      "                                                                                \r"
     ]
    }
   ],
   "source": [
    "listings_df = add_features(listings_df, \"name\", \"features\", stemmer='nltk')\n",
    "listings_df.show(truncate=False)"
   ]
  },
  {
   "cell_type": "code",
   "execution_count": 17,
   "metadata": {},
   "outputs": [
    {
     "name": "stderr",
     "output_type": "stream",
     "text": [
      "                                                                                \r"
     ]
    },
    {
     "name": "stdout",
     "output_type": "stream",
     "text": [
      "+---+--------------------+--------------------+--------------------+--------------------+--------------------+--------------------+\n",
      "| id|                name|          name_clean|               words|        stemmedWords|            features| gt_similar_listings|\n",
      "+---+--------------------+--------------------+--------------------+--------------------+--------------------+--------------------+\n",
      "|  0|Stylish Top Floor...|Stylish Top Floor...|[stylish, top, fl...|[stylish, top, fl...|[-0.0157465662674...|[667, 300, 202, 2...|\n",
      "|  1|Modernist aparmen...|Modernist aparmen...|[modernist, aparm...|[modernist, apar,...|[-0.0257732861791...|[430, 585, 669, 8...|\n",
      "|  2|double Room -UPC,...|double Room  UPC ...|[double, room, , ...|[doubl, room, upc...|[-0.0263985857018...|[71, 901, 631, 38...|\n",
      "|  3|Magic Fountain B&...|Magic Fountain B ...|[magic, fountain,...|[magic, fountain,...|[-0.0123917994387...|[800, 578, 680, 3...|\n",
      "|  4|ob41 Great 2 bedr...|ob   Great   bedr...|[ob, , , great, ,...|[ob, great, bedr,...|[-0.0303200277558...|[720, 622, 815, 1...|\n",
      "|  5|DOUBLE ROOM with ...|DOUBLE ROOM with ...|[double, room, wi...| [doubl, room, wifi]|[-0.0638469131663...|[71, 631, 264, 62...|\n",
      "|  6|Plaza Sagrada Fam...|Plaza Sagrada Fam...|[plaza, sagrada, ...|[plaza, sagrada, ...|[-0.0353826840873...|[27, 621, 349, 39...|\n",
      "|  7|CHARMING HOUSE IN...|CHARMING HOUSE IN...|[charming, house,...|[charm, hous, bar...|[-0.0194236962124...|[114, 746, 14, 49...|\n",
      "|  8|Suite con mucho e...|Suite con mucho e...|[suite, con, much...|[suit, con, mucho...|[0.00313065142836...|[527, 871, 684, 4...|\n",
      "|  9|APARTAMENT IN BAR...|APARTAMENT IN BAR...|[apartament, in, ...|[aparta, barcelon...|[-0.0190289883563...|[28, 182, 497, 29...|\n",
      "| 10|BONITA HABITACION...|BONITA HABITACION...|[bonita, habitaci...|[bonita, habitaci...|[-0.0022092175204...|[279, 561, 934, 2...|\n",
      "| 11|Habitación grande...|Habitaci n grande...|[habitaci, n, gra...|[habitaci, n, gra...|[0.00646621780470...|[844, 309, 943, 6...|\n",
      "| 12|Apartment near to...|Apartment near to...|[apartment, near,...|[apart, near, sag...|[-0.0587464543059...|[941, 492, 171, 3...|\n",
      "| 13|(P1) Cozy apart, ...| P   Cozy apart  ...|[, p, , , cozy, a...|[p, cozi, apart, ...|[-0.0171826300987...|[962, 144, 840, 5...|\n",
      "| 14|Cozy studio in Ba...|Cozy studio in Ba...|[cozy, studio, in...|[cozi, studio, ba...|[-0.0312046329490...|[322, 48, 573, 49...|\n",
      "| 15|Splendid Attic wi...|Splendid Attic wi...|[splendid, attic,...|[splendid, attic,...|[-0.0294817950731...|[28, 182, 118, 65...|\n",
      "| 16|Beautiful apartme...|Beautiful apartme...|[beautiful, apart...|[beauti, apart, b...|[-0.0271112434566...|[746, 573, 632, 5...|\n",
      "| 17|TRULY CENTRE NEXT...|TRULY CENTRE NEXT...|[truly, centre, n...|[truli, centr, ne...|[-0.0100725496187...|[519, 357, 969, 1...|\n",
      "| 18|Beach Vila Olimpi...|Beach Vila Olimpi...|[beach, vila, oli...|[beach, vila, oli...|[-0.0132136323489...|[813, 689, 568, 4...|\n",
      "| 19|Charming and Central|Charming and Central|[charming, and, c...|    [charm, central]|[-0.0093392115086...|[640, 602, 566, 9...|\n",
      "+---+--------------------+--------------------+--------------------+--------------------+--------------------+--------------------+\n",
      "only showing top 20 rows\n",
      "\n"
     ]
    }
   ],
   "source": [
    "listings_df = add_gt_similar(listings_df, id_col='id', features_col='features', gt_similar_col='gt_similar_listings')\n",
    "listings_df.show(truncate=True)"
   ]
  },
  {
   "cell_type": "code",
   "execution_count": 18,
   "metadata": {},
   "outputs": [],
   "source": [
    "possibleHashTablesCount = [30, 50]\n",
    "possibleDistanceThresholds = [0.8, 0.9, 0.97]\n",
    "\n",
    "param_grid = []\n",
    "for hashTablesCount in possibleHashTablesCount:\n",
    "    for distanceThreshold in possibleDistanceThresholds:\n",
    "        param_grid.append({'numHashTables': hashTablesCount, 'distanceThreshold': distanceThreshold})"
   ]
  },
  {
   "cell_type": "code",
   "execution_count": 19,
   "metadata": {},
   "outputs": [
    {
     "name": "stderr",
     "output_type": "stream",
     "text": [
      "  0%|          | 0/6 [00:00<?, ?it/s]"
     ]
    },
    {
     "name": "stderr",
     "output_type": "stream",
     "text": [
      "100%|██████████| 6/6 [1:03:44<00:00, 637.42s/it]                                \n"
     ]
    }
   ],
   "source": [
    "airbnb_parameters_evaled = grid_search_tuning(listings_df, \n",
    "                                       param_grid, \n",
    "                                       id_col=\"id\", \n",
    "                                       features_col = 'features', \n",
    "                                       gt_similar_col = 'gt_similar_listings',\n",
    "                                       pred_similar_col = 'pred_similar_listings', \n",
    "                                       top_parameter_sets = -1)"
   ]
  },
  {
   "cell_type": "code",
   "execution_count": 20,
   "metadata": {},
   "outputs": [
    {
     "data": {
      "image/png": "[encoded data removed]",
      "text/plain": [
       "<Figure size 1200x600 with 4 Axes>"
      ]
     },
     "metadata": {},
     "output_type": "display_data"
    }
   ],
   "source": [
    "visualize_gridsearch_res(airbnb_parameters_evaled)"
   ]
  },
  {
   "cell_type": "code",
   "execution_count": 21,
   "metadata": {},
   "outputs": [
    {
     "name": "stdout",
     "output_type": "stream",
     "text": [
      "The best parameter set is {'numHashTables': 50, 'distanceThreshold': 0.97}.\n",
      "It has IOU=0.003 and computation time of 812.286 seconds\n"
     ]
    }
   ],
   "source": [
    "airbnb_top_iou = max(airbnb_parameters_evaled, key=lambda x: x['iou'])['iou']\n",
    "airbnb_top_iou_params = filter(lambda x: x['iou'] == airbnb_top_iou, airbnb_parameters_evaled)\n",
    "airbnb_top_iou_and_smallest_time_params = min(airbnb_top_iou_params, key=lambda x: x['computation_time'])\n",
    "print(f\"\"\"The best parameter set is {airbnb_top_iou_and_smallest_time_params['params']}.\n",
    "It has IOU={airbnb_top_iou_and_smallest_time_params['iou']:.3f} and computation time of {airbnb_top_iou_and_smallest_time_params['computation_time']:.3f} seconds\"\"\")"
   ]
  },
  {
   "cell_type": "markdown",
   "metadata": {},
   "source": [
    "## Part 2. Wikipedia LSH experiment"
   ]
  },
  {
   "cell_type": "markdown",
   "metadata": {},
   "source": [
    "### Obtain data"
   ]
  },
  {
   "cell_type": "code",
   "execution_count": 22,
   "metadata": {},
   "outputs": [],
   "source": [
    "wiki_request_res = requests.get(\"https://wikimedia.org/api/rest_v1/metrics/pageviews/top/uk.wikipedia.org/all-access/2024/09/all-days\", headers={\n",
    "    \"Accept\": \"application/json\",\n",
    "    \"User-Agent\": \"Mozilla/5.0 (X11; Ubuntu; Linux x86_64; rv:129.0) Gecko/20100101 Firefox/129.0\",\n",
    "    \"Referer\": \"https://doc.wikimedia.org/\"\n",
    "})"
   ]
  },
  {
   "cell_type": "code",
   "execution_count": 23,
   "metadata": {},
   "outputs": [],
   "source": [
    "articles_data = wiki_request_res.json()['items'][0]['articles']"
   ]
  },
  {
   "cell_type": "markdown",
   "metadata": {},
   "source": [
    "### Transform data"
   ]
  },
  {
   "cell_type": "code",
   "execution_count": 34,
   "metadata": {},
   "outputs": [],
   "source": [
    "articles_df = SPARK.createDataFrame(articles_data)"
   ]
  },
  {
   "cell_type": "code",
   "execution_count": 35,
   "metadata": {},
   "outputs": [
    {
     "name": "stderr",
     "output_type": "stream",
     "text": [
      "                                                                                \r"
     ]
    },
    {
     "name": "stdout",
     "output_type": "stream",
     "text": [
      "1000\n",
      "+-----------------------------------------------+----+------+\n",
      "|article                                        |rank|views |\n",
      "+-----------------------------------------------+----+------+\n",
      "|Головна_сторінка                               |1   |469652|\n",
      "|Спеціальна:Пошук                               |2   |197066|\n",
      "|Волинська_трагедія                             |3   |82508 |\n",
      "|Klavdia_Petrivna                               |4   |79497 |\n",
      "|Україна                                        |5   |61993 |\n",
      "|YouTube                                        |6   |60683 |\n",
      "|Сибіга_Андрій_Іванович                         |7   |58442 |\n",
      "|Перша_світова_війна                            |8   |50199 |\n",
      "|Національна_суспільна_телерадіокомпанія_України|9   |42675 |\n",
      "|Масляков_Олександр_Васильович                  |10  |37677 |\n",
      "|Нечуй-Левицький_Іван_Семенович                 |11  |37089 |\n",
      "|Президентські_вибори_у_США_2024                |12  |35302 |\n",
      "|Лавров_Сергій_Вікторович                       |13  |34938 |\n",
      "|Білокур_Катерина_Василівна                     |14  |34210 |\n",
      "|Київ                                           |15  |33559 |\n",
      "|Як-130                                         |16  |32892 |\n",
      "|Військові_звання_України                       |17  |32771 |\n",
      "|Радіо_«Свобода»                                |18  |32617 |\n",
      "|Лайл_і_Ерік_Менендеси                          |19  |31860 |\n",
      "|Файл:Battle_of_Ostroleka_1831.PNG              |20  |31396 |\n",
      "+-----------------------------------------------+----+------+\n",
      "only showing top 20 rows\n",
      "\n"
     ]
    }
   ],
   "source": [
    "print(articles_df.count())\n",
    "articles_df.show(truncate=False)"
   ]
  },
  {
   "cell_type": "markdown",
   "metadata": {},
   "source": [
    "Let's add vectors of features to the dataframe:"
   ]
  },
  {
   "cell_type": "code",
   "execution_count": 39,
   "metadata": {},
   "outputs": [
    {
     "name": "stderr",
     "output_type": "stream",
     "text": [
      "                                                                                \r"
     ]
    }
   ],
   "source": [
    "articles_df = add_features(articles_df, \"article\", \"features\")"
   ]
  },
  {
   "cell_type": "code",
   "execution_count": 40,
   "metadata": {},
   "outputs": [
    {
     "name": "stdout",
     "output_type": "stream",
     "text": [
      "+--------------------+----+------+--------------------+--------------------+--------------------+--------------------+\n",
      "|             article|rank| views|       article_clean|               words|        stemmedWords|            features|\n",
      "+--------------------+----+------+--------------------+--------------------+--------------------+--------------------+\n",
      "|    Головна_сторінка|   1|469652|    Головна сторінка| [головна, сторінка]|    [головн, сторін]|[-0.0081472713500...|\n",
      "|    Спеціальна:Пошук|   2|197066|    Спеціальна Пошук| [спеціальна, пошук]|  [спеціальн, пошук]|[-0.0033362268586...|\n",
      "|  Волинська_трагедія|   3| 82508|  Волинська трагедія|[волинська, траге...| [волинськ, трагеді]|[-0.0034532995705...|\n",
      "|    Klavdia_Petrivna|   4| 79497|    Klavdia Petrivna| [klavdia, petrivna]| [klavdia, petrivna]|[-0.0013823012704...|\n",
      "|             Україна|   5| 61993|             Україна|           [україна]|            [україн]|[-0.3136451244354...|\n",
      "|             YouTube|   6| 60683|             YouTube|           [youtube]|           [youtube]|[0.00765934865921...|\n",
      "|Сибіга_Андрій_Іва...|   7| 58442|Сибіга Андрій Іва...|[сибіга, андрій, ...|[сибі, андрі, іва...|[-0.0019091361512...|\n",
      "| Перша_світова_війна|   8| 50199| Перша світова війна|[перша, світова, ...|[перш, світов, війн]|[-0.0030898270197...|\n",
      "|Національна_суспі...|   9| 42675|Національна суспі...|[національна, сус...|[національн, сусп...|[-0.0903161716414...|\n",
      "|Масляков_Олександ...|  10| 37677|Масляков Олександ...|[масляков, олекса...|[масляков, олекса...|[0.00445757301834...|\n",
      "|Нечуй-Левицький_І...|  11| 37089|Нечуй Левицький І...|[нечуй, левицький...|[нечу, левицьк, і...|[0.00175813352689...|\n",
      "|Президентські_виб...|  12| 35302|Президентські виб...|[президентські, в...|[президентськ, ви...|[-5.6150509044528...|\n",
      "|Лавров_Сергій_Вік...|  13| 34938|Лавров Сергій Вік...|[лавров, сергій, ...|[лавров, серг, ві...|[-0.0076308402979...|\n",
      "|Білокур_Катерина_...|  14| 34210|Білокур Катерина ...|[білокур, катерин...|[білокур, катерин...|[0.00121814140584...|\n",
      "|                Київ|  15| 33559|                Київ|              [київ]|                [ки]|[7.73631036281585...|\n",
      "|Військові_звання_...|  17| 32771|Військові звання ...|[військові, званн...|[військ, званн, у...|[-0.1078864346879...|\n",
      "|     Радіо_«Свобода»|  18| 32617|     Радіо  Свобода |  [радіо, , свобода]|       [радіо, своб]|[-8.9061085600405...|\n",
      "|Лайл_і_Ерік_Менен...|  19| 31860|Лайл і Ерік Менен...|[лайл, і, ерік, м...|[лайл, ерік, мене...|[-8.1221759319305...|\n",
      "|Файл:Battle_of_Os...|  20| 31396|Файл Battle of Os...|[файл, battle, of...|[файл, battle, os...|[0.00394455110654...|\n",
      "|Полтавський_війсь...|  21| 30933|Полтавський війсь...|[полтавський, вій...|[полтавськ, війсь...|[-0.0115604027872...|\n",
      "+--------------------+----+------+--------------------+--------------------+--------------------+--------------------+\n",
      "only showing top 20 rows\n",
      "\n"
     ]
    }
   ],
   "source": [
    "articles_df.show()"
   ]
  },
  {
   "cell_type": "markdown",
   "metadata": {},
   "source": [
    "### Obtaining Ground Truth similarities"
   ]
  },
  {
   "cell_type": "code",
   "execution_count": 41,
   "metadata": {},
   "outputs": [
    {
     "name": "stderr",
     "output_type": "stream",
     "text": [
      "                                                                                \r"
     ]
    }
   ],
   "source": [
    "articles_df = add_gt_similar(articles_df, id_col='rank', features_col='features', gt_similar_col='gt_similar_articles')"
   ]
  },
  {
   "cell_type": "markdown",
   "metadata": {},
   "source": [
    "Let's see newly added ground truth similar articles:"
   ]
  },
  {
   "cell_type": "code",
   "execution_count": 42,
   "metadata": {},
   "outputs": [
    {
     "name": "stderr",
     "output_type": "stream",
     "text": [
      "                                                                                \r"
     ]
    },
    {
     "name": "stdout",
     "output_type": "stream",
     "text": [
      "+----+--------------------+------+--------------------+--------------------+--------------------+--------------------+--------------------+\n",
      "|rank|             article| views|       article_clean|               words|        stemmedWords|            features| gt_similar_articles|\n",
      "+----+--------------------+------+--------------------+--------------------+--------------------+--------------------+--------------------+\n",
      "|   1|    Головна_сторінка|469652|    Головна сторінка| [головна, сторінка]|    [головн, сторін]|[-0.0081472713500...|[640, 722, 844, 3...|\n",
      "|   2|    Спеціальна:Пошук|197066|    Спеціальна Пошук| [спеціальна, пошук]|  [спеціальн, пошук]|[-0.0033362268586...|[692, 622, 452, 7...|\n",
      "|   3|  Волинська_трагедія| 82508|  Волинська трагедія|[волинська, траге...| [волинськ, трагеді]|[-0.0034532995705...|[837, 660, 857, 7...|\n",
      "|   4|    Klavdia_Petrivna| 79497|    Klavdia Petrivna| [klavdia, petrivna]| [klavdia, petrivna]|[-0.0013823012704...|[945, 14, 658, 75...|\n",
      "|   5|             Україна| 61993|             Україна|           [україна]|            [україн]|[-0.3136451244354...|[844, 640, 819, 6...|\n",
      "|   6|             YouTube| 60683|             YouTube|           [youtube]|           [youtube]|[0.00765934865921...|[734, 206, 699, 3...|\n",
      "|   7|Сибіга_Андрій_Іва...| 58442|Сибіга Андрій Іва...|[сибіга, андрій, ...|[сибі, андрі, іва...|[-0.0019091361512...|[954, 945, 875, 4...|\n",
      "|   8| Перша_світова_війна| 50199| Перша світова війна|[перша, світова, ...|[перш, світов, війн]|[-0.0030898270197...|[640, 819, 390, 8...|\n",
      "|   9|Національна_суспі...| 42675|Національна суспі...|[національна, сус...|[національн, сусп...|[-0.0903161716414...|[844, 640, 819, 6...|\n",
      "|  10|Масляков_Олександ...| 37677|Масляков Олександ...|[масляков, олекса...|[масляков, олекса...|[0.00445757301834...|[659, 777, 228, 7...|\n",
      "|  11|Нечуй-Левицький_І...| 37089|Нечуй Левицький І...|[нечуй, левицький...|[нечу, левицьк, і...|[0.00175813352689...|[591, 745, 893, 9...|\n",
      "|  12|Президентські_виб...| 35302|Президентські виб...|[президентські, в...|[президентськ, ви...|[-5.6150509044528...|[819, 640, 844, 7...|\n",
      "|  13|Лавров_Сергій_Вік...| 34938|Лавров Сергій Вік...|[лавров, сергій, ...|[лавров, серг, ві...|[-0.0076308402979...|[640, 844, 638, 8...|\n",
      "|  14|Білокур_Катерина_...| 34210|Білокур Катерина ...|[білокур, катерин...|[білокур, катерин...|[0.00121814140584...|[954, 980, 945, 5...|\n",
      "|  15|                Київ| 33559|                Київ|              [київ]|                [ки]|[7.73631036281585...|[647, 312, 777, 8...|\n",
      "|  17|Військові_звання_...| 32771|Військові звання ...|[військові, званн...|[військ, званн, у...|[-0.1078864346879...|[844, 640, 819, 6...|\n",
      "|  18|     Радіо_«Свобода»| 32617|     Радіо  Свобода |  [радіо, , свобода]|       [радіо, своб]|[-8.9061085600405...|[958, 795, 226, 4...|\n",
      "|  19|Лайл_і_Ерік_Менен...| 31860|Лайл і Ерік Менен...|[лайл, і, ерік, м...|[лайл, ерік, мене...|[-8.1221759319305...|[699, 980, 684, 8...|\n",
      "|  20|Файл:Battle_of_Os...| 31396|Файл Battle of Os...|[файл, battle, of...|[файл, battle, os...|[0.00394455110654...|[503, 777, 649, 9...|\n",
      "|  21|Полтавський_війсь...| 30933|Полтавський війсь...|[полтавський, вій...|[полтавськ, війсь...|[-0.0115604027872...|[844, 640, 819, 6...|\n",
      "+----+--------------------+------+--------------------+--------------------+--------------------+--------------------+--------------------+\n",
      "only showing top 20 rows\n",
      "\n"
     ]
    }
   ],
   "source": [
    "articles_df.show()"
   ]
  },
  {
   "cell_type": "markdown",
   "metadata": {},
   "source": [
    "## Prediction with Locality Sensitive Hashing\n",
    "\n",
    "Let's create  a parameters grid:"
   ]
  },
  {
   "cell_type": "code",
   "execution_count": 43,
   "metadata": {},
   "outputs": [],
   "source": [
    "possibleHashTablesCount = [30, 50]\n",
    "possibleDistanceThresholds = [0.8, 0.9, 0.97]\n",
    "\n",
    "param_grid = []\n",
    "for hashTablesCount in possibleHashTablesCount:\n",
    "    for distanceThreshold in possibleDistanceThresholds:\n",
    "        param_grid.append({'numHashTables': hashTablesCount, 'distanceThreshold': distanceThreshold})"
   ]
  },
  {
   "cell_type": "markdown",
   "metadata": {},
   "source": [
    "And perform the grid search. We want to obtain results for all the parameters to perform the visualization:"
   ]
  },
  {
   "cell_type": "code",
   "execution_count": 44,
   "metadata": {},
   "outputs": [
    {
     "name": "stderr",
     "output_type": "stream",
     "text": [
      "  0%|          | 0/6 [00:00<?, ?it/s]"
     ]
    },
    {
     "name": "stderr",
     "output_type": "stream",
     "text": [
      "100%|██████████| 6/6 [1:02:46<00:00, 627.78s/it]                                \n"
     ]
    }
   ],
   "source": [
    "wiki_parameters_evaled = grid_search_tuning(articles_df, \n",
    "                                            param_grid, \n",
    "                                            id_col=\"rank\",\n",
    "                                            features_col = 'features', \n",
    "                                            gt_similar_col = 'gt_similar_articles',\n",
    "                                            pred_similar_col = 'pred_similar_articles', \n",
    "                                            top_parameter_sets = -1)"
   ]
  },
  {
   "cell_type": "code",
   "execution_count": 45,
   "metadata": {},
   "outputs": [
    {
     "data": {
      "image/png": "[encoded data removed]",
      "text/plain": [
       "<Figure size 1200x600 with 4 Axes>"
      ]
     },
     "metadata": {},
     "output_type": "display_data"
    }
   ],
   "source": [
    "visualize_gridsearch_res(wiki_parameters_evaled)"
   ]
  },
  {
   "cell_type": "code",
   "execution_count": 46,
   "metadata": {},
   "outputs": [
    {
     "name": "stdout",
     "output_type": "stream",
     "text": [
      "The best parameter set is {'numHashTables': 50, 'distanceThreshold': 0.8}.\n",
      "It has IOU=0.005 and computation time of 718.617 seconds\n"
     ]
    }
   ],
   "source": [
    "wiki_top_iou = max(wiki_parameters_evaled, key=lambda x: x['iou'])['iou']\n",
    "wiki_top_iou_params = filter(lambda x: x['iou'] == wiki_top_iou, wiki_parameters_evaled)\n",
    "wiki_top_iou_and_smallest_time_params = min(wiki_top_iou_params, key=lambda x: x['computation_time'])\n",
    "print(f\"\"\"The best parameter set is {wiki_top_iou_and_smallest_time_params['params']}.\n",
    "It has IOU={wiki_top_iou_and_smallest_time_params['iou']:.3f} and computation time of {wiki_top_iou_and_smallest_time_params['computation_time']:.3f} seconds\"\"\")"
   ]
  },
  {
   "cell_type": "markdown",
   "metadata": {},
   "source": [
    "## Part 3. Parameter substitution"
   ]
  },
  {
   "cell_type": "code",
   "execution_count": 47,
   "metadata": {},
   "outputs": [
    {
     "name": "stderr",
     "output_type": "stream",
     "text": [
      "                                                                                \r"
     ]
    },
    {
     "data": {
      "text/plain": [
       "{'params': {'numHashTables': 50, 'distanceThreshold': 0.97},\n",
       " 'iou': 0.004845616407482532,\n",
       " 'computation_time': 900.2843160629272}"
      ]
     },
     "execution_count": 47,
     "metadata": {},
     "output_type": "execute_result"
    }
   ],
   "source": [
    "airbnb_params_on_wiki_dataset_evaled = test_lsh_params(\n",
    "    df=articles_df, \n",
    "    params=airbnb_top_iou_and_smallest_time_params['params'], \n",
    "    id_col=\"rank\", \n",
    "    features_col = 'features', \n",
    "    gt_similar_col = 'gt_similar_articles',\n",
    "    pred_similar_col = 'pred_similar_articles')\n",
    "airbnb_params_on_wiki_dataset_evaled"
   ]
  },
  {
   "cell_type": "markdown",
   "metadata": {},
   "source": [
    "## Final"
   ]
  },
  {
   "cell_type": "code",
   "execution_count": 48,
   "metadata": {},
   "outputs": [],
   "source": [
    "SPARK.stop()"
   ]
  },
  {
   "cell_type": "code",
   "execution_count": null,
   "metadata": {},
   "outputs": [],
   "source": []
  }
 ],
 "metadata": {
  "kernelspec": {
   "display_name": "venv",
   "language": "python",
   "name": "python3"
  },
  "language_info": {
   "codemirror_mode": {
    "name": "ipython",
    "version": 3
   },
   "file_extension": ".py",
   "mimetype": "text/x-python",
   "name": "python",
   "nbconvert_exporter": "python",
   "pygments_lexer": "ipython3",
   "version": "3.12.3"
  }
 },
 "nbformat": 4,
 "nbformat_minor": 2
}
