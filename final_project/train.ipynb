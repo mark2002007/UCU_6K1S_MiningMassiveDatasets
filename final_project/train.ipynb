{
 "cells": [
  {
   "cell_type": "code",
   "execution_count": 1,
   "metadata": {},
   "outputs": [],
   "source": [
    "import findspark\n",
    "findspark.init()"
   ]
  },
  {
   "cell_type": "code",
   "execution_count": 2,
   "metadata": {},
   "outputs": [],
   "source": [
    "import pyspark.sql.functions as F\n",
    "import pyspark.sql.types as T\n",
    "\n",
    "from pyspark.sql import SparkSession\n",
    "from pyspark.ml.tuning import ParamGridBuilder, TrainValidationSplit\n",
    "from pyspark.ml.evaluation import BinaryClassificationEvaluator\n",
    "from sklearn.metrics import accuracy_score, precision_score, recall_score, f1_score\n",
    "\n",
    "from models.bloom_filter import BloomFilterBasedModel\n",
    "from models.emb_logreg import EmbeddingsLogReg"
   ]
  },
  {
   "cell_type": "code",
   "execution_count": 3,
   "metadata": {},
   "outputs": [
    {
     "name": "stdout",
     "output_type": "stream",
     "text": [
      ":: loading settings :: url = jar:file:/home/andrii/spark-3.5.3-bin-hadoop3/jars/ivy-2.5.1.jar!/org/apache/ivy/core/settings/ivysettings.xml\n"
     ]
    },
    {
     "name": "stderr",
     "output_type": "stream",
     "text": [
      "Ivy Default Cache set to: /home/andrii/.ivy2/cache\n",
      "The jars for the packages stored in: /home/andrii/.ivy2/jars\n",
      "com.johnsnowlabs.nlp#spark-nlp_2.12 added as a dependency\n",
      ":: resolving dependencies :: org.apache.spark#spark-submit-parent-7385079c-4505-4a8b-ba9c-9d899ca49a51;1.0\n",
      "\tconfs: [default]\n",
      "\tfound com.johnsnowlabs.nlp#spark-nlp_2.12;5.5.1 in central\n",
      "\tfound com.typesafe#config;1.4.2 in central\n",
      "\tfound org.rocksdb#rocksdbjni;6.29.5 in central\n",
      "\tfound com.amazonaws#aws-java-sdk-s3;1.12.500 in central\n",
      "\tfound com.amazonaws#aws-java-sdk-kms;1.12.500 in central\n",
      "\tfound com.amazonaws#aws-java-sdk-core;1.12.500 in central\n",
      "\tfound commons-logging#commons-logging;1.1.3 in central\n",
      "\tfound commons-codec#commons-codec;1.15 in central\n",
      "\tfound org.apache.httpcomponents#httpclient;4.5.13 in central\n",
      "\tfound org.apache.httpcomponents#httpcore;4.4.13 in central\n",
      "\tfound software.amazon.ion#ion-java;1.0.2 in central\n",
      "\tfound joda-time#joda-time;2.8.1 in central\n",
      "\tfound com.amazonaws#jmespath-java;1.12.500 in central\n",
      "\tfound com.github.universal-automata#liblevenshtein;3.0.0 in central\n",
      "\tfound com.google.protobuf#protobuf-java-util;3.0.0-beta-3 in central\n",
      "\tfound com.google.protobuf#protobuf-java;3.0.0-beta-3 in central\n",
      "\tfound com.google.code.gson#gson;2.3 in central\n",
      "\tfound it.unimi.dsi#fastutil;7.0.12 in central\n",
      "\tfound org.projectlombok#lombok;1.16.8 in central\n",
      "\tfound com.google.cloud#google-cloud-storage;2.20.1 in central\n",
      "\tfound com.google.guava#guava;31.1-jre in central\n",
      "\tfound com.google.guava#failureaccess;1.0.1 in central\n",
      "\tfound com.google.guava#listenablefuture;9999.0-empty-to-avoid-conflict-with-guava in central\n",
      "\tfound com.google.errorprone#error_prone_annotations;2.18.0 in central\n",
      "\tfound com.google.j2objc#j2objc-annotations;1.3 in central\n",
      "\tfound com.google.http-client#google-http-client;1.43.0 in central\n",
      "\tfound io.opencensus#opencensus-contrib-http-util;0.31.1 in central\n",
      "\tfound com.google.http-client#google-http-client-jackson2;1.43.0 in central\n",
      "\tfound com.google.http-client#google-http-client-gson;1.43.0 in central\n",
      "\tfound com.google.api-client#google-api-client;2.2.0 in central\n",
      "\tfound com.google.oauth-client#google-oauth-client;1.34.1 in central\n",
      "\tfound com.google.http-client#google-http-client-apache-v2;1.43.0 in central\n",
      "\tfound com.google.apis#google-api-services-storage;v1-rev20220705-2.0.0 in central\n",
      "\tfound com.google.code.gson#gson;2.10.1 in central\n",
      "\tfound com.google.cloud#google-cloud-core;2.12.0 in central\n",
      "\tfound io.grpc#grpc-context;1.53.0 in central\n",
      "\tfound com.google.auto.value#auto-value-annotations;1.10.1 in central\n",
      "\tfound com.google.auto.value#auto-value;1.10.1 in central\n",
      "\tfound javax.annotation#javax.annotation-api;1.3.2 in central\n",
      "\tfound com.google.cloud#google-cloud-core-http;2.12.0 in central\n",
      "\tfound com.google.http-client#google-http-client-appengine;1.43.0 in central\n",
      "\tfound com.google.api#gax-httpjson;0.108.2 in central\n",
      "\tfound com.google.cloud#google-cloud-core-grpc;2.12.0 in central\n",
      "\tfound io.grpc#grpc-alts;1.53.0 in central\n",
      "\tfound io.grpc#grpc-grpclb;1.53.0 in central\n",
      "\tfound org.conscrypt#conscrypt-openjdk-uber;2.5.2 in central\n",
      "\tfound io.grpc#grpc-auth;1.53.0 in central\n",
      "\tfound io.grpc#grpc-protobuf;1.53.0 in central\n",
      "\tfound io.grpc#grpc-protobuf-lite;1.53.0 in central\n",
      "\tfound io.grpc#grpc-core;1.53.0 in central\n",
      "\tfound com.google.api#gax;2.23.2 in central\n",
      "\tfound com.google.api#gax-grpc;2.23.2 in central\n",
      "\tfound com.google.auth#google-auth-library-credentials;1.16.0 in central\n",
      "\tfound com.google.auth#google-auth-library-oauth2-http;1.16.0 in central\n",
      "\tfound com.google.api#api-common;2.6.2 in central\n",
      "\tfound io.opencensus#opencensus-api;0.31.1 in central\n",
      "\tfound com.google.api.grpc#proto-google-iam-v1;1.9.2 in central\n",
      "\tfound com.google.protobuf#protobuf-java;3.21.12 in central\n",
      "\tfound com.google.protobuf#protobuf-java-util;3.21.12 in central\n",
      "\tfound com.google.api.grpc#proto-google-common-protos;2.14.2 in central\n",
      "\tfound org.threeten#threetenbp;1.6.5 in central\n",
      "\tfound com.google.api.grpc#proto-google-cloud-storage-v2;2.20.1-alpha in central\n",
      "\tfound com.google.api.grpc#grpc-google-cloud-storage-v2;2.20.1-alpha in central\n",
      "\tfound com.google.api.grpc#gapic-google-cloud-storage-v2;2.20.1-alpha in central\n",
      "\tfound com.google.code.findbugs#jsr305;3.0.2 in central\n",
      "\tfound io.grpc#grpc-api;1.53.0 in central\n",
      "\tfound io.grpc#grpc-stub;1.53.0 in central\n",
      "\tfound org.checkerframework#checker-qual;3.31.0 in central\n",
      "\tfound io.perfmark#perfmark-api;0.26.0 in central\n",
      "\tfound com.google.android#annotations;4.1.1.4 in central\n",
      "\tfound org.codehaus.mojo#animal-sniffer-annotations;1.22 in central\n",
      "\tfound io.opencensus#opencensus-proto;0.2.0 in central\n",
      "\tfound io.grpc#grpc-services;1.53.0 in central\n",
      "\tfound com.google.re2j#re2j;1.6 in central\n",
      "\tfound io.grpc#grpc-netty-shaded;1.53.0 in central\n",
      "\tfound io.grpc#grpc-googleapis;1.53.0 in central\n",
      "\tfound io.grpc#grpc-xds;1.53.0 in central\n",
      "\tfound com.navigamez#greex;1.0 in central\n",
      "\tfound dk.brics.automaton#automaton;1.11-8 in central\n",
      "\tfound com.johnsnowlabs.nlp#tensorflow-cpu_2.12;0.4.4 in central\n",
      "\tfound com.microsoft.onnxruntime#onnxruntime;1.19.2 in central\n",
      "\tfound com.johnsnowlabs.nlp#jsl-llamacpp-cpu_2.12;0.1.4 in central\n",
      "\tfound org.jetbrains#annotations;24.1.0 in central\n",
      "\tfound com.johnsnowlabs.nlp#jsl-openvino-cpu_2.12;0.1.0 in central\n",
      ":: resolution report :: resolve 1339ms :: artifacts dl 33ms\n",
      "\t:: modules in use:\n",
      "\tcom.amazonaws#aws-java-sdk-core;1.12.500 from central in [default]\n",
      "\tcom.amazonaws#aws-java-sdk-kms;1.12.500 from central in [default]\n",
      "\tcom.amazonaws#aws-java-sdk-s3;1.12.500 from central in [default]\n",
      "\tcom.amazonaws#jmespath-java;1.12.500 from central in [default]\n",
      "\tcom.github.universal-automata#liblevenshtein;3.0.0 from central in [default]\n",
      "\tcom.google.android#annotations;4.1.1.4 from central in [default]\n",
      "\tcom.google.api#api-common;2.6.2 from central in [default]\n",
      "\tcom.google.api#gax;2.23.2 from central in [default]\n",
      "\tcom.google.api#gax-grpc;2.23.2 from central in [default]\n",
      "\tcom.google.api#gax-httpjson;0.108.2 from central in [default]\n",
      "\tcom.google.api-client#google-api-client;2.2.0 from central in [default]\n",
      "\tcom.google.api.grpc#gapic-google-cloud-storage-v2;2.20.1-alpha from central in [default]\n",
      "\tcom.google.api.grpc#grpc-google-cloud-storage-v2;2.20.1-alpha from central in [default]\n",
      "\tcom.google.api.grpc#proto-google-cloud-storage-v2;2.20.1-alpha from central in [default]\n",
      "\tcom.google.api.grpc#proto-google-common-protos;2.14.2 from central in [default]\n",
      "\tcom.google.api.grpc#proto-google-iam-v1;1.9.2 from central in [default]\n",
      "\tcom.google.apis#google-api-services-storage;v1-rev20220705-2.0.0 from central in [default]\n",
      "\tcom.google.auth#google-auth-library-credentials;1.16.0 from central in [default]\n",
      "\tcom.google.auth#google-auth-library-oauth2-http;1.16.0 from central in [default]\n",
      "\tcom.google.auto.value#auto-value;1.10.1 from central in [default]\n",
      "\tcom.google.auto.value#auto-value-annotations;1.10.1 from central in [default]\n",
      "\tcom.google.cloud#google-cloud-core;2.12.0 from central in [default]\n",
      "\tcom.google.cloud#google-cloud-core-grpc;2.12.0 from central in [default]\n",
      "\tcom.google.cloud#google-cloud-core-http;2.12.0 from central in [default]\n",
      "\tcom.google.cloud#google-cloud-storage;2.20.1 from central in [default]\n",
      "\tcom.google.code.findbugs#jsr305;3.0.2 from central in [default]\n",
      "\tcom.google.code.gson#gson;2.10.1 from central in [default]\n",
      "\tcom.google.errorprone#error_prone_annotations;2.18.0 from central in [default]\n",
      "\tcom.google.guava#failureaccess;1.0.1 from central in [default]\n",
      "\tcom.google.guava#guava;31.1-jre from central in [default]\n",
      "\tcom.google.guava#listenablefuture;9999.0-empty-to-avoid-conflict-with-guava from central in [default]\n",
      "\tcom.google.http-client#google-http-client;1.43.0 from central in [default]\n",
      "\tcom.google.http-client#google-http-client-apache-v2;1.43.0 from central in [default]\n",
      "\tcom.google.http-client#google-http-client-appengine;1.43.0 from central in [default]\n",
      "\tcom.google.http-client#google-http-client-gson;1.43.0 from central in [default]\n",
      "\tcom.google.http-client#google-http-client-jackson2;1.43.0 from central in [default]\n",
      "\tcom.google.j2objc#j2objc-annotations;1.3 from central in [default]\n",
      "\tcom.google.oauth-client#google-oauth-client;1.34.1 from central in [default]\n",
      "\tcom.google.protobuf#protobuf-java;3.21.12 from central in [default]\n",
      "\tcom.google.protobuf#protobuf-java-util;3.21.12 from central in [default]\n",
      "\tcom.google.re2j#re2j;1.6 from central in [default]\n",
      "\tcom.johnsnowlabs.nlp#jsl-llamacpp-cpu_2.12;0.1.4 from central in [default]\n",
      "\tcom.johnsnowlabs.nlp#jsl-openvino-cpu_2.12;0.1.0 from central in [default]\n",
      "\tcom.johnsnowlabs.nlp#spark-nlp_2.12;5.5.1 from central in [default]\n",
      "\tcom.johnsnowlabs.nlp#tensorflow-cpu_2.12;0.4.4 from central in [default]\n",
      "\tcom.microsoft.onnxruntime#onnxruntime;1.19.2 from central in [default]\n",
      "\tcom.navigamez#greex;1.0 from central in [default]\n",
      "\tcom.typesafe#config;1.4.2 from central in [default]\n",
      "\tcommons-codec#commons-codec;1.15 from central in [default]\n",
      "\tcommons-logging#commons-logging;1.1.3 from central in [default]\n",
      "\tdk.brics.automaton#automaton;1.11-8 from central in [default]\n",
      "\tio.grpc#grpc-alts;1.53.0 from central in [default]\n",
      "\tio.grpc#grpc-api;1.53.0 from central in [default]\n",
      "\tio.grpc#grpc-auth;1.53.0 from central in [default]\n",
      "\tio.grpc#grpc-context;1.53.0 from central in [default]\n",
      "\tio.grpc#grpc-core;1.53.0 from central in [default]\n",
      "\tio.grpc#grpc-googleapis;1.53.0 from central in [default]\n",
      "\tio.grpc#grpc-grpclb;1.53.0 from central in [default]\n",
      "\tio.grpc#grpc-netty-shaded;1.53.0 from central in [default]\n",
      "\tio.grpc#grpc-protobuf;1.53.0 from central in [default]\n",
      "\tio.grpc#grpc-protobuf-lite;1.53.0 from central in [default]\n",
      "\tio.grpc#grpc-services;1.53.0 from central in [default]\n",
      "\tio.grpc#grpc-stub;1.53.0 from central in [default]\n",
      "\tio.grpc#grpc-xds;1.53.0 from central in [default]\n",
      "\tio.opencensus#opencensus-api;0.31.1 from central in [default]\n",
      "\tio.opencensus#opencensus-contrib-http-util;0.31.1 from central in [default]\n",
      "\tio.opencensus#opencensus-proto;0.2.0 from central in [default]\n",
      "\tio.perfmark#perfmark-api;0.26.0 from central in [default]\n",
      "\tit.unimi.dsi#fastutil;7.0.12 from central in [default]\n",
      "\tjavax.annotation#javax.annotation-api;1.3.2 from central in [default]\n",
      "\tjoda-time#joda-time;2.8.1 from central in [default]\n",
      "\torg.apache.httpcomponents#httpclient;4.5.13 from central in [default]\n",
      "\torg.apache.httpcomponents#httpcore;4.4.13 from central in [default]\n",
      "\torg.checkerframework#checker-qual;3.31.0 from central in [default]\n",
      "\torg.codehaus.mojo#animal-sniffer-annotations;1.22 from central in [default]\n",
      "\torg.conscrypt#conscrypt-openjdk-uber;2.5.2 from central in [default]\n",
      "\torg.jetbrains#annotations;24.1.0 from central in [default]\n",
      "\torg.projectlombok#lombok;1.16.8 from central in [default]\n",
      "\torg.rocksdb#rocksdbjni;6.29.5 from central in [default]\n",
      "\torg.threeten#threetenbp;1.6.5 from central in [default]\n",
      "\tsoftware.amazon.ion#ion-java;1.0.2 from central in [default]\n",
      "\t:: evicted modules:\n",
      "\tcommons-logging#commons-logging;1.2 by [commons-logging#commons-logging;1.1.3] in [default]\n",
      "\tcommons-codec#commons-codec;1.11 by [commons-codec#commons-codec;1.15] in [default]\n",
      "\tcom.google.protobuf#protobuf-java-util;3.0.0-beta-3 by [com.google.protobuf#protobuf-java-util;3.21.12] in [default]\n",
      "\tcom.google.protobuf#protobuf-java;3.0.0-beta-3 by [com.google.protobuf#protobuf-java;3.21.12] in [default]\n",
      "\tcom.google.code.gson#gson;2.3 by [com.google.code.gson#gson;2.10.1] in [default]\n",
      "\t---------------------------------------------------------------------\n",
      "\t|                  |            modules            ||   artifacts   |\n",
      "\t|       conf       | number| search|dwnlded|evicted|| number|dwnlded|\n",
      "\t---------------------------------------------------------------------\n",
      "\t|      default     |   86  |   0   |   0   |   5   ||   81  |   0   |\n",
      "\t---------------------------------------------------------------------\n",
      ":: retrieving :: org.apache.spark#spark-submit-parent-7385079c-4505-4a8b-ba9c-9d899ca49a51\n",
      "\tconfs: [default]\n",
      "\t0 artifacts copied, 81 already retrieved (0kB/19ms)\n",
      "Setting default log level to \"WARN\".\n",
      "To adjust logging level use sc.setLogLevel(newLevel). For SparkR, use setLogLevel(newLevel).\n"
     ]
    }
   ],
   "source": [
    "spark = SparkSession.builder \\\n",
    "    .appName(\"WikimediaStreamProcessor\") \\\n",
    "    .config(\"spark.driver.memory\", \"12G\") \\\n",
    "    .config(\"spark.jars.packages\", \"com.johnsnowlabs.nlp:spark-nlp_2.12:5.5.1\") \\\n",
    "    .getOrCreate()"
   ]
  },
  {
   "cell_type": "markdown",
   "metadata": {},
   "source": [
    "## Data preparation"
   ]
  },
  {
   "cell_type": "code",
   "execution_count": 35,
   "metadata": {},
   "outputs": [],
   "source": [
    "train_df = spark.read.csv(\n",
    "    \"./data/train/train_dataset_big.csv\",\n",
    "    header=True,\n",
    "    inferSchema=True,\n",
    "    multiLine=True,\n",
    "    escape=\"\\\"\",\n",
    "    quote=\"\\\"\",\n",
    "    sep=\",\",\n",
    ")"
   ]
  },
  {
   "cell_type": "code",
   "execution_count": 36,
   "metadata": {},
   "outputs": [],
   "source": [
    "train_df_wtext = train_df.withColumn(\n",
    "    \"text\",\n",
    "    F.concat(\n",
    "        F.col(\"title\"),\n",
    "        F.when(F.col(\"comment\").isNotNull(), F.col(\"comment\")).otherwise(F.lit(\"NULL\"))\n",
    "    )\n",
    ")"
   ]
  },
  {
   "cell_type": "code",
   "execution_count": 37,
   "metadata": {},
   "outputs": [],
   "source": [
    "train_df_wtext = train_df_wtext.withColumn(\"label\", F.udf(lambda x: 1 if x else 0, T.IntegerType())(F.col(\"bot\")))"
   ]
  },
  {
   "cell_type": "markdown",
   "metadata": {},
   "source": [
    "## Pure Logistic Regression with Embeddings training"
   ]
  },
  {
   "cell_type": "code",
   "execution_count": 40,
   "metadata": {},
   "outputs": [
    {
     "name": "stdout",
     "output_type": "stream",
     "text": [
      "Training Dataset Count: 36001\n",
      "Val Dataset Count: 3999\n"
     ]
    }
   ],
   "source": [
    "total_rows = train_df_wtext.count()\n",
    "train_split_index = int(total_rows * 0.9)\n",
    "\n",
    "train_df_wtext = train_df_wtext.withColumn(\"row_index\", F.monotonically_increasing_id())\n",
    "\n",
    "train_df_ = train_df_wtext.filter(F.col(\"row_index\") <= train_split_index).drop(\"row_index\")\n",
    "val_df = train_df_wtext.filter(F.col(\"row_index\") > train_split_index).drop(\"row_index\")\n",
    "\n",
    "print(\"Training Dataset Count: \" + str(train_df_.count()))\n",
    "print(\"Val Dataset Count: \" + str(val_df.count()))\n"
   ]
  },
  {
   "cell_type": "code",
   "execution_count": 26,
   "metadata": {},
   "outputs": [
    {
     "name": "stdout",
     "output_type": "stream",
     "text": [
      "word2vec_gigaword_300 download started this may take some time.\n",
      "Approximate size to download 312.3 MB\n",
      "[OK!]\n"
     ]
    }
   ],
   "source": [
    "embeddingLogReg = EmbeddingsLogReg(maxIter=10, regParam=0.3, elasticNetParam=0, weightType=\"balanced\")"
   ]
  },
  {
   "cell_type": "code",
   "execution_count": 27,
   "metadata": {},
   "outputs": [
    {
     "name": "stderr",
     "output_type": "stream",
     "text": [
      "                                                                                \r"
     ]
    }
   ],
   "source": [
    "embeddingLogReg.fit(train_df_)"
   ]
  },
  {
   "cell_type": "code",
   "execution_count": 28,
   "metadata": {},
   "outputs": [],
   "source": [
    "predictions = embeddingLogReg.predict(val_df)"
   ]
  },
  {
   "cell_type": "code",
   "execution_count": 29,
   "metadata": {},
   "outputs": [
    {
     "name": "stderr",
     "output_type": "stream",
     "text": [
      "                                                                                \r"
     ]
    }
   ],
   "source": [
    "val_labels = predictions.select(\"label\").rdd.flatMap(lambda x: x).collect()\n",
    "val_preds = predictions.select(\"prediction\").rdd.flatMap(lambda x: x).collect()"
   ]
  },
  {
   "cell_type": "code",
   "execution_count": 30,
   "metadata": {},
   "outputs": [
    {
     "data": {
      "text/plain": [
       "(0.9446297531687792,\n",
       " np.float64(0.9448946515397083),\n",
       " np.float64(0.9224683544303798),\n",
       " np.float64(0.933546837469976))"
      ]
     },
     "execution_count": 30,
     "metadata": {},
     "output_type": "execute_result"
    }
   ],
   "source": [
    "accuracy_score(val_labels, val_preds), precision_score(val_labels, val_preds), recall_score(val_labels, val_preds), f1_score(val_labels, val_preds)"
   ]
  },
  {
   "cell_type": "code",
   "execution_count": 31,
   "metadata": {},
   "outputs": [
    {
     "ename": "ValueError",
     "evalue": "Target folder should be empty or nonexistent",
     "output_type": "error",
     "traceback": [
      "\u001b[0;31m---------------------------------------------------------------------------\u001b[0m",
      "\u001b[0;31mValueError\u001b[0m                                Traceback (most recent call last)",
      "Cell \u001b[0;32mIn[31], line 1\u001b[0m\n\u001b[0;32m----> 1\u001b[0m \u001b[43membeddingLogReg\u001b[49m\u001b[38;5;241;43m.\u001b[39;49m\u001b[43msave\u001b[49m\u001b[43m(\u001b[49m\u001b[38;5;124;43m\"\u001b[39;49m\u001b[38;5;124;43m./data/logreg_tiny\u001b[39;49m\u001b[38;5;124;43m\"\u001b[39;49m\u001b[43m)\u001b[49m\n",
      "Cell \u001b[0;32mIn[25], line 131\u001b[0m, in \u001b[0;36mEmbeddingsLogReg.save\u001b[0;34m(self, path)\u001b[0m\n\u001b[1;32m    129\u001b[0m     \u001b[38;5;28;01mraise\u001b[39;00m \u001b[38;5;167;01mValueError\u001b[39;00m(\u001b[38;5;124m\"\u001b[39m\u001b[38;5;124mModel is not trained\u001b[39m\u001b[38;5;124m\"\u001b[39m)\n\u001b[1;32m    130\u001b[0m \u001b[38;5;28;01mif\u001b[39;00m os\u001b[38;5;241m.\u001b[39mpath\u001b[38;5;241m.\u001b[39mexists(path) \u001b[38;5;129;01mand\u001b[39;00m \u001b[38;5;28mlen\u001b[39m(os\u001b[38;5;241m.\u001b[39mlistdir(path)) \u001b[38;5;241m>\u001b[39m \u001b[38;5;241m0\u001b[39m:\n\u001b[0;32m--> 131\u001b[0m     \u001b[38;5;28;01mraise\u001b[39;00m \u001b[38;5;167;01mValueError\u001b[39;00m(\u001b[38;5;124m\"\u001b[39m\u001b[38;5;124mTarget folder should be empty or nonexistent\u001b[39m\u001b[38;5;124m\"\u001b[39m)\n\u001b[1;32m    133\u001b[0m os\u001b[38;5;241m.\u001b[39mmakedirs(path, exist_ok\u001b[38;5;241m=\u001b[39m\u001b[38;5;28;01mTrue\u001b[39;00m)\n\u001b[1;32m    135\u001b[0m \u001b[38;5;28mself\u001b[39m\u001b[38;5;241m.\u001b[39mpipelineModel\u001b[38;5;241m.\u001b[39msave(os\u001b[38;5;241m.\u001b[39mpath\u001b[38;5;241m.\u001b[39mjoin(path, \u001b[38;5;124m\"\u001b[39m\u001b[38;5;124membedding_pipeline\u001b[39m\u001b[38;5;124m\"\u001b[39m))\n",
      "\u001b[0;31mValueError\u001b[0m: Target folder should be empty or nonexistent"
     ]
    }
   ],
   "source": [
    "embeddingLogReg.save(\"./data/logreg_tiny\")"
   ]
  },
  {
   "cell_type": "markdown",
   "metadata": {},
   "source": [
    "## LogReg Parameter search"
   ]
  },
  {
   "cell_type": "code",
   "execution_count": 44,
   "metadata": {},
   "outputs": [],
   "source": [
    "class F1WithPrecisionConstraint:\n",
    "    def __init__(self, spark, precision_boundary=0.95):\n",
    "        self.spark = spark\n",
    "        self.precision_boundary = precision_boundary\n",
    "\n",
    "    def evaluate(self, predictions):\n",
    "        metrics = predictions.withColumn(\n",
    "            \"tp\", F.expr(\"CASE WHEN bot AND prediction = 1 THEN 1 ELSE 0 END\")\n",
    "        ).withColumn(\n",
    "            \"fp\", F.expr(\"CASE WHEN NOT bot AND prediction = 1 THEN 1 ELSE 0 END\")\n",
    "        ).withColumn(\n",
    "            \"fn\", F.expr(\"CASE WHEN bot AND prediction = 0 THEN 1 ELSE 0 END\")\n",
    "        )\n",
    "\n",
    "        metrics = metrics.groupBy().agg(\n",
    "            F.sum(\"tp\").alias(\"true_positives\"),\n",
    "            F.sum(\"fp\").alias(\"false_positives\"),\n",
    "            F.sum(\"fn\").alias(\"false_negatives\"),\n",
    "            F.count(\"*\").alias(\"total_observations\")\n",
    "        ).withColumn(\n",
    "            \"precision\", F.expr(\"CASE WHEN false_positives = 0 AND true_positives = 0 THEN 0 ELSE true_positives / (true_positives + false_positives) END\")\n",
    "        ).withColumn(\n",
    "            \"recall\", F.expr(\"CASE WHEN false_negatives = 0 AND true_positives = 0 THEN 0 ELSE true_positives / (true_positives + false_negatives) END\")\n",
    "        )\n",
    "\n",
    "        precision = metrics.select(\"precision\").first()[0]\n",
    "        recall = metrics.select(\"recall\").first()[0]\n",
    "        if precision == 0 and recall == 0:\n",
    "            f1 = 0\n",
    "        else:\n",
    "            f1 = 2*precision*recall/(precision + recall)\n",
    "\n",
    "        print(f\"Precision = {precision:.3f}, Recall = {recall:.3f}\")\n",
    "\n",
    "        if precision >= self.precision_boundary:\n",
    "            return 0.2 + f1 # If precision is self.precision_boundary+, it's better to start maximizing recall too\n",
    "        else:\n",
    "            return f1"
   ]
  },
  {
   "cell_type": "code",
   "execution_count": 45,
   "metadata": {},
   "outputs": [
    {
     "name": "stdout",
     "output_type": "stream",
     "text": [
      "Training with parameters: {'maxIter': 5, 'regParam': 0.1, 'elasticNetParam': 0.0, 'weightType': None}\n"
     ]
    },
    {
     "name": "stderr",
     "output_type": "stream",
     "text": [
      "                                                                                \r"
     ]
    },
    {
     "name": "stdout",
     "output_type": "stream",
     "text": [
      "Precision = 0.775, Recall = 0.493\n",
      "Score for parameters {'maxIter': 5, 'regParam': 0.1, 'elasticNetParam': 0.0, 'weightType': None}: 0.6024636058230683\n",
      "Training with parameters: {'maxIter': 5, 'regParam': 0.1, 'elasticNetParam': 0.0, 'weightType': 'balanced'}\n"
     ]
    },
    {
     "name": "stderr",
     "output_type": "stream",
     "text": [
      "                                                                                \r"
     ]
    },
    {
     "name": "stdout",
     "output_type": "stream",
     "text": [
      "Precision = 0.730, Recall = 0.650\n",
      "Score for parameters {'maxIter': 5, 'regParam': 0.1, 'elasticNetParam': 0.0, 'weightType': 'balanced'}: 0.687984496124031\n",
      "Training with parameters: {'maxIter': 5, 'regParam': 0.1, 'elasticNetParam': 0.0, 'weightType': 'sqrt'}\n"
     ]
    },
    {
     "name": "stderr",
     "output_type": "stream",
     "text": [
      "                                                                                \r"
     ]
    },
    {
     "name": "stdout",
     "output_type": "stream",
     "text": [
      "Precision = 0.763, Recall = 0.606\n",
      "Score for parameters {'maxIter': 5, 'regParam': 0.1, 'elasticNetParam': 0.0, 'weightType': 'sqrt'}: 0.6755102040816326\n",
      "Training with parameters: {'maxIter': 5, 'regParam': 0.1, 'elasticNetParam': 0.3, 'weightType': None}\n"
     ]
    },
    {
     "name": "stderr",
     "output_type": "stream",
     "text": [
      "                                                                                \r"
     ]
    },
    {
     "name": "stdout",
     "output_type": "stream",
     "text": [
      "Precision = 0.632, Recall = 0.158\n",
      "Score for parameters {'maxIter': 5, 'regParam': 0.1, 'elasticNetParam': 0.3, 'weightType': None}: 0.25219941348973607\n",
      "Training with parameters: {'maxIter': 5, 'regParam': 0.1, 'elasticNetParam': 0.3, 'weightType': 'balanced'}\n"
     ]
    },
    {
     "name": "stderr",
     "output_type": "stream",
     "text": [
      "                                                                                \r"
     ]
    },
    {
     "name": "stdout",
     "output_type": "stream",
     "text": [
      "Precision = 0.622, Recall = 0.505\n",
      "Score for parameters {'maxIter': 5, 'regParam': 0.1, 'elasticNetParam': 0.3, 'weightType': 'balanced'}: 0.5575757575757576\n",
      "Training with parameters: {'maxIter': 5, 'regParam': 0.1, 'elasticNetParam': 0.3, 'weightType': 'sqrt'}\n"
     ]
    },
    {
     "name": "stderr",
     "output_type": "stream",
     "text": [
      "                                                                                \r"
     ]
    },
    {
     "name": "stdout",
     "output_type": "stream",
     "text": [
      "Precision = 0.676, Recall = 0.390\n",
      "Score for parameters {'maxIter': 5, 'regParam': 0.1, 'elasticNetParam': 0.3, 'weightType': 'sqrt'}: 0.4947735191637631\n",
      "Training with parameters: {'maxIter': 5, 'regParam': 0.3, 'elasticNetParam': 0.0, 'weightType': None}\n"
     ]
    },
    {
     "name": "stderr",
     "output_type": "stream",
     "text": [
      "                                                                                \r"
     ]
    },
    {
     "name": "stdout",
     "output_type": "stream",
     "text": [
      "Precision = 0.783, Recall = 0.397\n",
      "Score for parameters {'maxIter': 5, 'regParam': 0.3, 'elasticNetParam': 0.0, 'weightType': None}: 0.5273390036452005\n",
      "Training with parameters: {'maxIter': 5, 'regParam': 0.3, 'elasticNetParam': 0.0, 'weightType': 'balanced'}\n"
     ]
    },
    {
     "name": "stderr",
     "output_type": "stream",
     "text": [
      "                                                                                \r"
     ]
    },
    {
     "name": "stdout",
     "output_type": "stream",
     "text": [
      "Precision = 0.682, Recall = 0.562\n",
      "Score for parameters {'maxIter': 5, 'regParam': 0.3, 'elasticNetParam': 0.0, 'weightType': 'balanced'}: 0.6164658634538153\n",
      "Training with parameters: {'maxIter': 5, 'regParam': 0.3, 'elasticNetParam': 0.0, 'weightType': 'sqrt'}\n"
     ]
    },
    {
     "name": "stderr",
     "output_type": "stream",
     "text": [
      "                                                                                \r"
     ]
    },
    {
     "name": "stdout",
     "output_type": "stream",
     "text": [
      "Precision = 0.721, Recall = 0.498\n",
      "Score for parameters {'maxIter': 5, 'regParam': 0.3, 'elasticNetParam': 0.0, 'weightType': 'sqrt'}: 0.5893824485373781\n",
      "Training with parameters: {'maxIter': 5, 'regParam': 0.3, 'elasticNetParam': 0.3, 'weightType': None}\n"
     ]
    },
    {
     "name": "stderr",
     "output_type": "stream",
     "text": [
      "                                                                                \r"
     ]
    },
    {
     "name": "stdout",
     "output_type": "stream",
     "text": [
      "Precision = 0.655, Recall = 0.035\n",
      "Score for parameters {'maxIter': 5, 'regParam': 0.3, 'elasticNetParam': 0.3, 'weightType': None}: 0.06608695652173914\n",
      "Training with parameters: {'maxIter': 5, 'regParam': 0.3, 'elasticNetParam': 0.3, 'weightType': 'balanced'}\n"
     ]
    },
    {
     "name": "stderr",
     "output_type": "stream",
     "text": [
      "                                                                                \r"
     ]
    },
    {
     "name": "stdout",
     "output_type": "stream",
     "text": [
      "Precision = 0.529, Recall = 0.549\n",
      "Score for parameters {'maxIter': 5, 'regParam': 0.3, 'elasticNetParam': 0.3, 'weightType': 'balanced'}: 0.5390835579514826\n",
      "Training with parameters: {'maxIter': 5, 'regParam': 0.3, 'elasticNetParam': 0.3, 'weightType': 'sqrt'}\n"
     ]
    },
    {
     "name": "stderr",
     "output_type": "stream",
     "text": [
      "                                                                                \r"
     ]
    },
    {
     "name": "stdout",
     "output_type": "stream",
     "text": [
      "Precision = 0.706, Recall = 0.141\n",
      "Score for parameters {'maxIter': 5, 'regParam': 0.3, 'elasticNetParam': 0.3, 'weightType': 'sqrt'}: 0.2351145038167939\n",
      "Training with parameters: {'maxIter': 10, 'regParam': 0.1, 'elasticNetParam': 0.0, 'weightType': None}\n"
     ]
    },
    {
     "name": "stderr",
     "output_type": "stream",
     "text": [
      "                                                                                \r"
     ]
    },
    {
     "name": "stdout",
     "output_type": "stream",
     "text": [
      "Precision = 0.837, Recall = 0.489\n",
      "Score for parameters {'maxIter': 10, 'regParam': 0.1, 'elasticNetParam': 0.0, 'weightType': None}: 0.8173410404624277\n",
      "Training with parameters: {'maxIter': 10, 'regParam': 0.1, 'elasticNetParam': 0.0, 'weightType': 'balanced'}\n"
     ]
    },
    {
     "name": "stderr",
     "output_type": "stream",
     "text": [
      "                                                                                \r"
     ]
    },
    {
     "name": "stdout",
     "output_type": "stream",
     "text": [
      "Precision = 0.741, Recall = 0.648\n",
      "Score for parameters {'maxIter': 10, 'regParam': 0.1, 'elasticNetParam': 0.0, 'weightType': 'balanced'}: 0.69140625\n",
      "Training with parameters: {'maxIter': 10, 'regParam': 0.1, 'elasticNetParam': 0.0, 'weightType': 'sqrt'}\n"
     ]
    },
    {
     "name": "stderr",
     "output_type": "stream",
     "text": [
      "                                                                                \r"
     ]
    },
    {
     "name": "stdout",
     "output_type": "stream",
     "text": [
      "Precision = 0.790, Recall = 0.538\n",
      "Score for parameters {'maxIter': 10, 'regParam': 0.1, 'elasticNetParam': 0.0, 'weightType': 'sqrt'}: 0.6405228758169934\n",
      "Training with parameters: {'maxIter': 10, 'regParam': 0.1, 'elasticNetParam': 0.3, 'weightType': None}\n"
     ]
    },
    {
     "name": "stderr",
     "output_type": "stream",
     "text": [
      "                                                                                \r"
     ]
    },
    {
     "name": "stdout",
     "output_type": "stream",
     "text": [
      "Precision = 0.686, Recall = 0.148\n",
      "Score for parameters {'maxIter': 10, 'regParam': 0.1, 'elasticNetParam': 0.3, 'weightType': None}: 0.2439759036144578\n",
      "Training with parameters: {'maxIter': 10, 'regParam': 0.1, 'elasticNetParam': 0.3, 'weightType': 'balanced'}\n"
     ]
    },
    {
     "name": "stderr",
     "output_type": "stream",
     "text": [
      "                                                                                \r"
     ]
    },
    {
     "name": "stdout",
     "output_type": "stream",
     "text": [
      "Precision = 0.600, Recall = 0.515\n",
      "Score for parameters {'maxIter': 10, 'regParam': 0.1, 'elasticNetParam': 0.3, 'weightType': 'balanced'}: 0.554240631163708\n",
      "Training with parameters: {'maxIter': 10, 'regParam': 0.1, 'elasticNetParam': 0.3, 'weightType': 'sqrt'}\n"
     ]
    },
    {
     "name": "stderr",
     "output_type": "stream",
     "text": [
      "                                                                                \r"
     ]
    },
    {
     "name": "stdout",
     "output_type": "stream",
     "text": [
      "Precision = 0.717, Recall = 0.372\n",
      "Score for parameters {'maxIter': 10, 'regParam': 0.1, 'elasticNetParam': 0.3, 'weightType': 'sqrt'}: 0.48974668275030153\n",
      "Training with parameters: {'maxIter': 10, 'regParam': 0.3, 'elasticNetParam': 0.0, 'weightType': None}\n"
     ]
    },
    {
     "name": "stderr",
     "output_type": "stream",
     "text": [
      "                                                                                \r"
     ]
    },
    {
     "name": "stdout",
     "output_type": "stream",
     "text": [
      "Precision = 0.698, Recall = 0.178\n",
      "Score for parameters {'maxIter': 10, 'regParam': 0.3, 'elasticNetParam': 0.0, 'weightType': None}: 0.2832116788321168\n",
      "Training with parameters: {'maxIter': 10, 'regParam': 0.3, 'elasticNetParam': 0.0, 'weightType': 'balanced'}\n"
     ]
    },
    {
     "name": "stderr",
     "output_type": "stream",
     "text": [
      "                                                                                \r"
     ]
    },
    {
     "name": "stdout",
     "output_type": "stream",
     "text": [
      "Precision = 0.691, Recall = 0.562\n",
      "Score for parameters {'maxIter': 10, 'regParam': 0.3, 'elasticNetParam': 0.0, 'weightType': 'balanced'}: 0.6202020202020202\n",
      "Training with parameters: {'maxIter': 10, 'regParam': 0.3, 'elasticNetParam': 0.0, 'weightType': 'sqrt'}\n"
     ]
    },
    {
     "name": "stderr",
     "output_type": "stream",
     "text": [
      "                                                                                \r"
     ]
    },
    {
     "name": "stdout",
     "output_type": "stream",
     "text": [
      "Precision = 0.783, Recall = 0.496\n",
      "Score for parameters {'maxIter': 10, 'regParam': 0.3, 'elasticNetParam': 0.0, 'weightType': 'sqrt'}: 0.6076233183856502\n",
      "Training with parameters: {'maxIter': 10, 'regParam': 0.3, 'elasticNetParam': 0.3, 'weightType': None}\n"
     ]
    },
    {
     "name": "stderr",
     "output_type": "stream",
     "text": [
      "                                                                                \r"
     ]
    },
    {
     "name": "stdout",
     "output_type": "stream",
     "text": [
      "Precision = 0.625, Recall = 0.027\n",
      "Score for parameters {'maxIter': 10, 'regParam': 0.3, 'elasticNetParam': 0.3, 'weightType': None}: 0.052631578947368425\n",
      "Training with parameters: {'maxIter': 10, 'regParam': 0.3, 'elasticNetParam': 0.3, 'weightType': 'balanced'}\n"
     ]
    },
    {
     "name": "stderr",
     "output_type": "stream",
     "text": [
      "                                                                                \r"
     ]
    },
    {
     "name": "stdout",
     "output_type": "stream",
     "text": [
      "Precision = 0.357, Recall = 0.553\n",
      "Score for parameters {'maxIter': 10, 'regParam': 0.3, 'elasticNetParam': 0.3, 'weightType': 'balanced'}: 0.4342199856218548\n",
      "Training with parameters: {'maxIter': 10, 'regParam': 0.3, 'elasticNetParam': 0.3, 'weightType': 'sqrt'}\n"
     ]
    },
    {
     "name": "stderr",
     "output_type": "stream",
     "text": [
      "                                                                                \r"
     ]
    },
    {
     "name": "stdout",
     "output_type": "stream",
     "text": [
      "Precision = 0.667, Recall = 0.147\n",
      "Score for parameters {'maxIter': 10, 'regParam': 0.3, 'elasticNetParam': 0.3, 'weightType': 'sqrt'}: 0.24024024024024024\n",
      "Best model parameters: {'maxIter': 10, 'regParam': 0.1, 'elasticNetParam': 0.0, 'weightType': None}\n"
     ]
    },
    {
     "name": "stderr",
     "output_type": "stream",
     "text": [
      "                                                                                \r"
     ]
    },
    {
     "name": "stdout",
     "output_type": "stream",
     "text": [
      "Best Model Metrics -> Precision: 0.8369905956112853, Recall: 0.489010989010989, F1-Score: 0.6173410404624278, Accuracy: 0.9172293073268317\n"
     ]
    }
   ],
   "source": [
    "param_grid = [\n",
    "    {\"maxIter\": max_iter, \"regParam\": reg_param, \"elasticNetParam\": elastic_net_param, \"weightType\": weight_type}\n",
    "    for max_iter in [5, 10]\n",
    "    for reg_param in [0.1, 0.3]\n",
    "    for elastic_net_param in [0.0, 0.3]\n",
    "    for weight_type in [None, \"balanced\", \"sqrt\"]\n",
    "]\n",
    "\n",
    "best_model = None\n",
    "best_score = float(\"-inf\")\n",
    "evaluator = F1WithPrecisionConstraint(spark, precision_boundary=0.8)\n",
    "\n",
    "for params in param_grid:\n",
    "    print(f\"Training with parameters: {params}\")\n",
    "    \n",
    "    model = EmbeddingsLogReg(\n",
    "        maxIter=params[\"maxIter\"], \n",
    "        regParam=params[\"regParam\"], \n",
    "        elasticNetParam=params[\"elasticNetParam\"],\n",
    "        weightType=params[\"weightType\"],\n",
    "    )\n",
    "    \n",
    "    model.fit(train_df_)\n",
    "    \n",
    "    predictions = model.predict(val_df)\n",
    "    \n",
    "    score = evaluator.evaluate(predictions)\n",
    "    print(f\"Score for parameters {params}: {score}\")\n",
    "    \n",
    "    if score > best_score:\n",
    "        best_score = score\n",
    "        best_model = model\n",
    "        best_params = params\n",
    "\n",
    "print(f\"Best model parameters: {best_params}\")\n",
    "best_model = EmbeddingsLogReg(\n",
    "    maxIter=best_params[\"maxIter\"], \n",
    "    regParam=best_params[\"regParam\"], \n",
    "    elasticNetParam=best_params[\"elasticNetParam\"],\n",
    "    weightType=best_params[\"weightType\"],\n",
    ")\n",
    "best_model.fit(train_df_)\n",
    "predictions = best_model.predict(val_df)\n",
    "\n",
    "val_labels = predictions.select(\"label\").rdd.flatMap(lambda x: x).collect()\n",
    "val_preds = predictions.select(\"prediction\").rdd.flatMap(lambda x: x).collect()\n",
    "\n",
    "precision = precision_score(val_labels, val_preds)\n",
    "recall = recall_score(val_labels, val_preds)\n",
    "f1 = f1_score(val_labels, val_preds)\n",
    "accuracy = accuracy_score(val_labels, val_preds)\n",
    "\n",
    "print(f\"Best Model Metrics -> Precision: {precision}, Recall: {recall}, F1-Score: {f1}, Accuracy: {accuracy}\")"
   ]
  },
  {
   "cell_type": "code",
   "execution_count": 46,
   "metadata": {},
   "outputs": [],
   "source": [
    "best_model.save(\"./data/logreg_big_best\")"
   ]
  },
  {
   "cell_type": "markdown",
   "metadata": {},
   "source": [
    "## Bloom filter sample training"
   ]
  },
  {
   "cell_type": "code",
   "execution_count": 47,
   "metadata": {},
   "outputs": [],
   "source": [
    "bloom_filter = BloomFilterBasedModel(spark, fpr=0.1)"
   ]
  },
  {
   "cell_type": "code",
   "execution_count": 48,
   "metadata": {},
   "outputs": [
    {
     "name": "stderr",
     "output_type": "stream",
     "text": [
      "                                                                                \r"
     ]
    }
   ],
   "source": [
    "bloom_filter.fit(train_df_)"
   ]
  },
  {
   "cell_type": "code",
   "execution_count": 49,
   "metadata": {},
   "outputs": [],
   "source": [
    "predictions = bloom_filter.predict(val_df)"
   ]
  },
  {
   "cell_type": "code",
   "execution_count": 51,
   "metadata": {},
   "outputs": [
    {
     "name": "stdout",
     "output_type": "stream",
     "text": [
      "Bloom filter metrics on validation:\n",
      "\t- Accuracy: 0.92673\n",
      "\t- Precision: 0.65408\n",
      "\t- Recall: 0.98352\n",
      "\t- F1-score: 0.78566\n"
     ]
    }
   ],
   "source": [
    "val_labels = predictions.select(\"label\").rdd.flatMap(lambda x: x).collect()\n",
    "val_preds = predictions.select(\"prediction\").rdd.flatMap(lambda x: x).collect()\n",
    "\n",
    "print(\"Bloom filter metrics on validation:\")\n",
    "print(f\"\\t- Accuracy: {accuracy_score(val_labels, val_preds):.5f}\")\n",
    "print(f\"\\t- Precision: {precision_score(val_labels, val_preds):.5f}\")\n",
    "print(f\"\\t- Recall: {recall_score(val_labels, val_preds):.5f}\")\n",
    "print(f\"\\t- F1-score: {f1_score(val_labels, val_preds):.5f}\")"
   ]
  },
  {
   "cell_type": "code",
   "execution_count": 52,
   "metadata": {},
   "outputs": [],
   "source": [
    "bloom_filter.save(\"./data/filter\")"
   ]
  },
  {
   "cell_type": "code",
   "execution_count": 53,
   "metadata": {},
   "outputs": [],
   "source": [
    "filter2 = BloomFilterBasedModel.load(spark, \"./data/filter\")"
   ]
  },
  {
   "cell_type": "code",
   "execution_count": 54,
   "metadata": {},
   "outputs": [],
   "source": [
    "triggered_users = predictions.filter(F.col(\"prediction\") == 1).select(\"user\").distinct().rdd.map(lambda r: r[0]).collect()"
   ]
  },
  {
   "cell_type": "code",
   "execution_count": 55,
   "metadata": {},
   "outputs": [],
   "source": [
    "train_bots = train_df_.filter(F.col(\"bot\")).select(\"user\").distinct().rdd.map(lambda r: r[0]).collect()"
   ]
  },
  {
   "cell_type": "code",
   "execution_count": 56,
   "metadata": {},
   "outputs": [],
   "source": [
    "val_bots = val_df.filter(F.col(\"bot\")).select(\"user\").distinct().rdd.map(lambda r: r[0]).collect()"
   ]
  },
  {
   "cell_type": "code",
   "execution_count": 57,
   "metadata": {},
   "outputs": [],
   "source": [
    "predictions = filter2.predict(val_df)"
   ]
  },
  {
   "cell_type": "code",
   "execution_count": 58,
   "metadata": {},
   "outputs": [
    {
     "data": {
      "text/plain": [
       "(0.9267316829207302,\n",
       " np.float64(0.6540803897685749),\n",
       " np.float64(0.9835164835164835),\n",
       " np.float64(0.7856620336503292))"
      ]
     },
     "execution_count": 58,
     "metadata": {},
     "output_type": "execute_result"
    }
   ],
   "source": [
    "val_labels = predictions.select(\"label\").rdd.flatMap(lambda x: x).collect()\n",
    "val_preds = predictions.select(\"prediction\").rdd.flatMap(lambda x: x).collect()\n",
    "\n",
    "accuracy_score(val_labels, val_preds), precision_score(val_labels, val_preds), recall_score(val_labels, val_preds), f1_score(val_labels, val_preds)"
   ]
  },
  {
   "cell_type": "markdown",
   "metadata": {},
   "source": [
    "## Finally"
   ]
  },
  {
   "cell_type": "code",
   "execution_count": 59,
   "metadata": {},
   "outputs": [],
   "source": [
    "spark.stop()"
   ]
  },
  {
   "cell_type": "code",
   "execution_count": null,
   "metadata": {},
   "outputs": [],
   "source": []
  }
 ],
 "metadata": {
  "kernelspec": {
   "display_name": "venv",
   "language": "python",
   "name": "python3"
  },
  "language_info": {
   "codemirror_mode": {
    "name": "ipython",
    "version": 3
   },
   "file_extension": ".py",
   "mimetype": "text/x-python",
   "name": "python",
   "nbconvert_exporter": "python",
   "pygments_lexer": "ipython3",
   "version": "3.12.3"
  }
 },
 "nbformat": 4,
 "nbformat_minor": 2
}
