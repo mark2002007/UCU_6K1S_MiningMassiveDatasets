{
 "cells": [
  {
   "cell_type": "code",
   "execution_count": 1,
   "metadata": {},
   "outputs": [],
   "source": [
    "import findspark\n",
    "findspark.init()"
   ]
  },
  {
   "cell_type": "code",
   "execution_count": 2,
   "metadata": {},
   "outputs": [],
   "source": [
    "import pyspark.sql.functions as F\n",
    "import pyspark.sql.types as T\n",
    "\n",
    "from pyspark.sql import SparkSession\n",
    "from pyspark.ml.tuning import ParamGridBuilder, TrainValidationSplit\n",
    "from pyspark.ml.evaluation import BinaryClassificationEvaluator\n",
    "from sklearn.metrics import accuracy_score, precision_score, recall_score, f1_score\n",
    "\n",
    "from models.bloom_filter import BloomFilterBasedModel\n",
    "from models.emb_logreg import EmbeddingsLogReg"
   ]
  },
  {
   "cell_type": "code",
   "execution_count": 3,
   "metadata": {},
   "outputs": [
    {
     "name": "stdout",
     "output_type": "stream",
     "text": [
      ":: loading settings :: url = jar:file:/Users/markson/Desktop/UCU/UCU_6K1S_MiningMassiveDatasets/venv/lib/python3.11/site-packages/pyspark/jars/ivy-2.5.1.jar!/org/apache/ivy/core/settings/ivysettings.xml\n"
     ]
    },
    {
     "name": "stderr",
     "output_type": "stream",
     "text": [
      "Ivy Default Cache set to: /Users/markson/.ivy2/cache\n",
      "The jars for the packages stored in: /Users/markson/.ivy2/jars\n",
      "com.johnsnowlabs.nlp#spark-nlp_2.12 added as a dependency\n",
      ":: resolving dependencies :: org.apache.spark#spark-submit-parent-60cb92c3-92ad-4470-8f04-14e195c2ad9e;1.0\n",
      "\tconfs: [default]\n",
      "\tfound com.johnsnowlabs.nlp#spark-nlp_2.12;5.5.1 in central\n",
      "\tfound com.typesafe#config;1.4.2 in central\n",
      "\tfound org.rocksdb#rocksdbjni;6.29.5 in central\n",
      "\tfound com.amazonaws#aws-java-sdk-s3;1.12.500 in central\n",
      "\tfound com.amazonaws#aws-java-sdk-kms;1.12.500 in central\n",
      "\tfound com.amazonaws#aws-java-sdk-core;1.12.500 in central\n",
      "\tfound commons-logging#commons-logging;1.1.3 in central\n",
      "\tfound commons-codec#commons-codec;1.15 in central\n",
      "\tfound org.apache.httpcomponents#httpclient;4.5.13 in central\n",
      "\tfound org.apache.httpcomponents#httpcore;4.4.13 in central\n",
      "\tfound software.amazon.ion#ion-java;1.0.2 in central\n",
      "\tfound joda-time#joda-time;2.8.1 in central\n",
      "\tfound com.amazonaws#jmespath-java;1.12.500 in central\n",
      "\tfound com.github.universal-automata#liblevenshtein;3.0.0 in central\n",
      "\tfound com.google.protobuf#protobuf-java-util;3.0.0-beta-3 in central\n",
      "\tfound com.google.protobuf#protobuf-java;3.0.0-beta-3 in central\n",
      "\tfound com.google.code.gson#gson;2.3 in central\n",
      "\tfound it.unimi.dsi#fastutil;7.0.12 in central\n",
      "\tfound org.projectlombok#lombok;1.16.8 in central\n",
      "\tfound com.google.cloud#google-cloud-storage;2.20.1 in central\n",
      "\tfound com.google.guava#guava;31.1-jre in central\n",
      "\tfound com.google.guava#failureaccess;1.0.1 in central\n",
      "\tfound com.google.guava#listenablefuture;9999.0-empty-to-avoid-conflict-with-guava in central\n",
      "\tfound com.google.errorprone#error_prone_annotations;2.18.0 in central\n",
      "\tfound com.google.j2objc#j2objc-annotations;1.3 in central\n",
      "\tfound com.google.http-client#google-http-client;1.43.0 in central\n",
      "\tfound io.opencensus#opencensus-contrib-http-util;0.31.1 in central\n",
      "\tfound com.google.http-client#google-http-client-jackson2;1.43.0 in central\n",
      "\tfound com.google.http-client#google-http-client-gson;1.43.0 in central\n",
      "\tfound com.google.api-client#google-api-client;2.2.0 in central\n",
      "\tfound com.google.oauth-client#google-oauth-client;1.34.1 in central\n",
      "\tfound com.google.http-client#google-http-client-apache-v2;1.43.0 in central\n",
      "\tfound com.google.apis#google-api-services-storage;v1-rev20220705-2.0.0 in central\n",
      "\tfound com.google.code.gson#gson;2.10.1 in central\n",
      "\tfound com.google.cloud#google-cloud-core;2.12.0 in central\n",
      "\tfound io.grpc#grpc-context;1.53.0 in central\n",
      "\tfound com.google.auto.value#auto-value-annotations;1.10.1 in central\n",
      "\tfound com.google.auto.value#auto-value;1.10.1 in central\n",
      "\tfound javax.annotation#javax.annotation-api;1.3.2 in central\n",
      "\tfound com.google.cloud#google-cloud-core-http;2.12.0 in central\n",
      "\tfound com.google.http-client#google-http-client-appengine;1.43.0 in central\n",
      "\tfound com.google.api#gax-httpjson;0.108.2 in central\n",
      "\tfound com.google.cloud#google-cloud-core-grpc;2.12.0 in central\n",
      "\tfound io.grpc#grpc-alts;1.53.0 in central\n",
      "\tfound io.grpc#grpc-grpclb;1.53.0 in central\n",
      "\tfound org.conscrypt#conscrypt-openjdk-uber;2.5.2 in central\n",
      "\tfound io.grpc#grpc-auth;1.53.0 in central\n",
      "\tfound io.grpc#grpc-protobuf;1.53.0 in central\n",
      "\tfound io.grpc#grpc-protobuf-lite;1.53.0 in central\n",
      "\tfound io.grpc#grpc-core;1.53.0 in central\n",
      "\tfound com.google.api#gax;2.23.2 in central\n",
      "\tfound com.google.api#gax-grpc;2.23.2 in central\n",
      "\tfound com.google.auth#google-auth-library-credentials;1.16.0 in central\n",
      "\tfound com.google.auth#google-auth-library-oauth2-http;1.16.0 in central\n",
      "\tfound com.google.api#api-common;2.6.2 in central\n",
      "\tfound io.opencensus#opencensus-api;0.31.1 in central\n",
      "\tfound com.google.api.grpc#proto-google-iam-v1;1.9.2 in central\n",
      "\tfound com.google.protobuf#protobuf-java;3.21.12 in central\n",
      "\tfound com.google.protobuf#protobuf-java-util;3.21.12 in central\n",
      "\tfound com.google.api.grpc#proto-google-common-protos;2.14.2 in central\n",
      "\tfound org.threeten#threetenbp;1.6.5 in central\n",
      "\tfound com.google.api.grpc#proto-google-cloud-storage-v2;2.20.1-alpha in central\n",
      "\tfound com.google.api.grpc#grpc-google-cloud-storage-v2;2.20.1-alpha in central\n",
      "\tfound com.google.api.grpc#gapic-google-cloud-storage-v2;2.20.1-alpha in central\n",
      "\tfound com.google.code.findbugs#jsr305;3.0.2 in central\n",
      "\tfound io.grpc#grpc-api;1.53.0 in central\n",
      "\tfound io.grpc#grpc-stub;1.53.0 in central\n",
      "\tfound org.checkerframework#checker-qual;3.31.0 in central\n",
      "\tfound io.perfmark#perfmark-api;0.26.0 in central\n",
      "\tfound com.google.android#annotations;4.1.1.4 in central\n",
      "\tfound org.codehaus.mojo#animal-sniffer-annotations;1.22 in central\n",
      "\tfound io.opencensus#opencensus-proto;0.2.0 in central\n",
      "\tfound io.grpc#grpc-services;1.53.0 in central\n",
      "\tfound com.google.re2j#re2j;1.6 in central\n",
      "\tfound io.grpc#grpc-netty-shaded;1.53.0 in central\n",
      "\tfound io.grpc#grpc-googleapis;1.53.0 in central\n",
      "\tfound io.grpc#grpc-xds;1.53.0 in central\n",
      "\tfound com.navigamez#greex;1.0 in central\n",
      "\tfound dk.brics.automaton#automaton;1.11-8 in central\n",
      "\tfound com.johnsnowlabs.nlp#tensorflow-cpu_2.12;0.4.4 in central\n",
      "\tfound com.microsoft.onnxruntime#onnxruntime;1.19.2 in central\n",
      "\tfound com.johnsnowlabs.nlp#jsl-llamacpp-cpu_2.12;0.1.4 in central\n",
      "\tfound org.jetbrains#annotations;24.1.0 in central\n",
      "\tfound com.johnsnowlabs.nlp#jsl-openvino-cpu_2.12;0.1.0 in central\n",
      ":: resolution report :: resolve 515ms :: artifacts dl 15ms\n",
      "\t:: modules in use:\n",
      "\tcom.amazonaws#aws-java-sdk-core;1.12.500 from central in [default]\n",
      "\tcom.amazonaws#aws-java-sdk-kms;1.12.500 from central in [default]\n",
      "\tcom.amazonaws#aws-java-sdk-s3;1.12.500 from central in [default]\n",
      "\tcom.amazonaws#jmespath-java;1.12.500 from central in [default]\n",
      "\tcom.github.universal-automata#liblevenshtein;3.0.0 from central in [default]\n",
      "\tcom.google.android#annotations;4.1.1.4 from central in [default]\n",
      "\tcom.google.api#api-common;2.6.2 from central in [default]\n",
      "\tcom.google.api#gax;2.23.2 from central in [default]\n",
      "\tcom.google.api#gax-grpc;2.23.2 from central in [default]\n",
      "\tcom.google.api#gax-httpjson;0.108.2 from central in [default]\n",
      "\tcom.google.api-client#google-api-client;2.2.0 from central in [default]\n",
      "\tcom.google.api.grpc#gapic-google-cloud-storage-v2;2.20.1-alpha from central in [default]\n",
      "\tcom.google.api.grpc#grpc-google-cloud-storage-v2;2.20.1-alpha from central in [default]\n",
      "\tcom.google.api.grpc#proto-google-cloud-storage-v2;2.20.1-alpha from central in [default]\n",
      "\tcom.google.api.grpc#proto-google-common-protos;2.14.2 from central in [default]\n",
      "\tcom.google.api.grpc#proto-google-iam-v1;1.9.2 from central in [default]\n",
      "\tcom.google.apis#google-api-services-storage;v1-rev20220705-2.0.0 from central in [default]\n",
      "\tcom.google.auth#google-auth-library-credentials;1.16.0 from central in [default]\n",
      "\tcom.google.auth#google-auth-library-oauth2-http;1.16.0 from central in [default]\n",
      "\tcom.google.auto.value#auto-value;1.10.1 from central in [default]\n",
      "\tcom.google.auto.value#auto-value-annotations;1.10.1 from central in [default]\n",
      "\tcom.google.cloud#google-cloud-core;2.12.0 from central in [default]\n",
      "\tcom.google.cloud#google-cloud-core-grpc;2.12.0 from central in [default]\n",
      "\tcom.google.cloud#google-cloud-core-http;2.12.0 from central in [default]\n",
      "\tcom.google.cloud#google-cloud-storage;2.20.1 from central in [default]\n",
      "\tcom.google.code.findbugs#jsr305;3.0.2 from central in [default]\n",
      "\tcom.google.code.gson#gson;2.10.1 from central in [default]\n",
      "\tcom.google.errorprone#error_prone_annotations;2.18.0 from central in [default]\n",
      "\tcom.google.guava#failureaccess;1.0.1 from central in [default]\n",
      "\tcom.google.guava#guava;31.1-jre from central in [default]\n",
      "\tcom.google.guava#listenablefuture;9999.0-empty-to-avoid-conflict-with-guava from central in [default]\n",
      "\tcom.google.http-client#google-http-client;1.43.0 from central in [default]\n",
      "\tcom.google.http-client#google-http-client-apache-v2;1.43.0 from central in [default]\n",
      "\tcom.google.http-client#google-http-client-appengine;1.43.0 from central in [default]\n",
      "\tcom.google.http-client#google-http-client-gson;1.43.0 from central in [default]\n",
      "\tcom.google.http-client#google-http-client-jackson2;1.43.0 from central in [default]\n",
      "\tcom.google.j2objc#j2objc-annotations;1.3 from central in [default]\n",
      "\tcom.google.oauth-client#google-oauth-client;1.34.1 from central in [default]\n",
      "\tcom.google.protobuf#protobuf-java;3.21.12 from central in [default]\n",
      "\tcom.google.protobuf#protobuf-java-util;3.21.12 from central in [default]\n",
      "\tcom.google.re2j#re2j;1.6 from central in [default]\n",
      "\tcom.johnsnowlabs.nlp#jsl-llamacpp-cpu_2.12;0.1.4 from central in [default]\n",
      "\tcom.johnsnowlabs.nlp#jsl-openvino-cpu_2.12;0.1.0 from central in [default]\n",
      "\tcom.johnsnowlabs.nlp#spark-nlp_2.12;5.5.1 from central in [default]\n",
      "\tcom.johnsnowlabs.nlp#tensorflow-cpu_2.12;0.4.4 from central in [default]\n",
      "\tcom.microsoft.onnxruntime#onnxruntime;1.19.2 from central in [default]\n",
      "\tcom.navigamez#greex;1.0 from central in [default]\n",
      "\tcom.typesafe#config;1.4.2 from central in [default]\n",
      "\tcommons-codec#commons-codec;1.15 from central in [default]\n",
      "\tcommons-logging#commons-logging;1.1.3 from central in [default]\n",
      "\tdk.brics.automaton#automaton;1.11-8 from central in [default]\n",
      "\tio.grpc#grpc-alts;1.53.0 from central in [default]\n",
      "\tio.grpc#grpc-api;1.53.0 from central in [default]\n",
      "\tio.grpc#grpc-auth;1.53.0 from central in [default]\n",
      "\tio.grpc#grpc-context;1.53.0 from central in [default]\n",
      "\tio.grpc#grpc-core;1.53.0 from central in [default]\n",
      "\tio.grpc#grpc-googleapis;1.53.0 from central in [default]\n",
      "\tio.grpc#grpc-grpclb;1.53.0 from central in [default]\n",
      "\tio.grpc#grpc-netty-shaded;1.53.0 from central in [default]\n",
      "\tio.grpc#grpc-protobuf;1.53.0 from central in [default]\n",
      "\tio.grpc#grpc-protobuf-lite;1.53.0 from central in [default]\n",
      "\tio.grpc#grpc-services;1.53.0 from central in [default]\n",
      "\tio.grpc#grpc-stub;1.53.0 from central in [default]\n",
      "\tio.grpc#grpc-xds;1.53.0 from central in [default]\n",
      "\tio.opencensus#opencensus-api;0.31.1 from central in [default]\n",
      "\tio.opencensus#opencensus-contrib-http-util;0.31.1 from central in [default]\n",
      "\tio.opencensus#opencensus-proto;0.2.0 from central in [default]\n",
      "\tio.perfmark#perfmark-api;0.26.0 from central in [default]\n",
      "\tit.unimi.dsi#fastutil;7.0.12 from central in [default]\n",
      "\tjavax.annotation#javax.annotation-api;1.3.2 from central in [default]\n",
      "\tjoda-time#joda-time;2.8.1 from central in [default]\n",
      "\torg.apache.httpcomponents#httpclient;4.5.13 from central in [default]\n",
      "\torg.apache.httpcomponents#httpcore;4.4.13 from central in [default]\n",
      "\torg.checkerframework#checker-qual;3.31.0 from central in [default]\n",
      "\torg.codehaus.mojo#animal-sniffer-annotations;1.22 from central in [default]\n",
      "\torg.conscrypt#conscrypt-openjdk-uber;2.5.2 from central in [default]\n",
      "\torg.jetbrains#annotations;24.1.0 from central in [default]\n",
      "\torg.projectlombok#lombok;1.16.8 from central in [default]\n",
      "\torg.rocksdb#rocksdbjni;6.29.5 from central in [default]\n",
      "\torg.threeten#threetenbp;1.6.5 from central in [default]\n",
      "\tsoftware.amazon.ion#ion-java;1.0.2 from central in [default]\n",
      "\t:: evicted modules:\n",
      "\tcommons-logging#commons-logging;1.2 by [commons-logging#commons-logging;1.1.3] in [default]\n",
      "\tcommons-codec#commons-codec;1.11 by [commons-codec#commons-codec;1.15] in [default]\n",
      "\tcom.google.protobuf#protobuf-java-util;3.0.0-beta-3 by [com.google.protobuf#protobuf-java-util;3.21.12] in [default]\n",
      "\tcom.google.protobuf#protobuf-java;3.0.0-beta-3 by [com.google.protobuf#protobuf-java;3.21.12] in [default]\n",
      "\tcom.google.code.gson#gson;2.3 by [com.google.code.gson#gson;2.10.1] in [default]\n",
      "\t---------------------------------------------------------------------\n",
      "\t|                  |            modules            ||   artifacts   |\n",
      "\t|       conf       | number| search|dwnlded|evicted|| number|dwnlded|\n",
      "\t---------------------------------------------------------------------\n",
      "\t|      default     |   86  |   0   |   0   |   5   ||   81  |   0   |\n",
      "\t---------------------------------------------------------------------\n",
      ":: retrieving :: org.apache.spark#spark-submit-parent-60cb92c3-92ad-4470-8f04-14e195c2ad9e\n",
      "\tconfs: [default]\n",
      "\t0 artifacts copied, 81 already retrieved (0kB/10ms)\n",
      "24/11/19 20:30:27 WARN NativeCodeLoader: Unable to load native-hadoop library for your platform... using builtin-java classes where applicable\n",
      "Setting default log level to \"WARN\".\n",
      "To adjust logging level use sc.setLogLevel(newLevel). For SparkR, use setLogLevel(newLevel).\n"
     ]
    }
   ],
   "source": [
    "spark = SparkSession.builder \\\n",
    "    .appName(\"WikimediaStreamProcessor\") \\\n",
    "    .config(\"spark.driver.memory\", \"12G\") \\\n",
    "    .config(\"spark.jars.packages\", \"com.johnsnowlabs.nlp:spark-nlp_2.12:5.5.1\") \\\n",
    "    .getOrCreate()"
   ]
  },
  {
   "cell_type": "markdown",
   "metadata": {},
   "source": [
    "## Data preparation"
   ]
  },
  {
   "cell_type": "code",
   "execution_count": 4,
   "metadata": {},
   "outputs": [],
   "source": [
    "train_df = spark.read.csv(\n",
    "    \"./data/train/train_dataset_big.csv\",\n",
    "    header=True,\n",
    "    inferSchema=True,\n",
    "    multiLine=True,\n",
    "    escape=\"\\\"\",\n",
    "    quote=\"\\\"\",\n",
    "    sep=\",\",\n",
    ")"
   ]
  },
  {
   "cell_type": "code",
   "execution_count": 5,
   "metadata": {},
   "outputs": [],
   "source": [
    "train_df_wtext = train_df.withColumn(\n",
    "    \"text\",\n",
    "    F.concat(\n",
    "        F.col(\"title\"),\n",
    "        F.when(F.col(\"comment\").isNotNull(), F.col(\"comment\")).otherwise(F.lit(\"NULL\"))\n",
    "    )\n",
    ")"
   ]
  },
  {
   "cell_type": "code",
   "execution_count": 6,
   "metadata": {},
   "outputs": [],
   "source": [
    "train_df_wtext = train_df_wtext.withColumn(\"label\", F.udf(lambda x: 1 if x else 0, T.IntegerType())(F.col(\"bot\")))"
   ]
  },
  {
   "cell_type": "markdown",
   "metadata": {},
   "source": [
    "## Pure Logistic Regression with Embeddings training"
   ]
  },
  {
   "cell_type": "code",
   "execution_count": 7,
   "metadata": {},
   "outputs": [
    {
     "name": "stdout",
     "output_type": "stream",
     "text": [
      "Training Dataset Count: 28001\n",
      "Val Dataset Count: 11999\n"
     ]
    }
   ],
   "source": [
    "total_rows = train_df_wtext.count()\n",
    "train_split_index = int(total_rows * 0.7)\n",
    "\n",
    "train_df_wtext = train_df_wtext.withColumn(\"row_index\", F.monotonically_increasing_id())\n",
    "\n",
    "train_df_ = train_df_wtext.filter(F.col(\"row_index\") <= train_split_index).drop(\"row_index\")\n",
    "val_df = train_df_wtext.filter(F.col(\"row_index\") > train_split_index).drop(\"row_index\")\n",
    "\n",
    "print(\"Training Dataset Count: \" + str(train_df_.count()))\n",
    "print(\"Val Dataset Count: \" + str(val_df.count()))\n"
   ]
  },
  {
   "cell_type": "code",
   "execution_count": 8,
   "metadata": {},
   "outputs": [
    {
     "name": "stdout",
     "output_type": "stream",
     "text": [
      "word2vec_gigaword_300 download started this may take some time.\n",
      "Approximate size to download 312.3 MB\n",
      "[ | ]"
     ]
    },
    {
     "name": "stderr",
     "output_type": "stream",
     "text": [
      "24/11/19 20:35:22 WARN S3AbortableInputStream: Not all bytes were read from the S3ObjectInputStream, aborting HTTP connection. This is likely an error and may result in sub-optimal behavior. Request only the bytes you need via a ranged GET or drain the input stream after use.\n",
      "24/11/19 20:35:22 WARN S3AbortableInputStream: Not all bytes were read from the S3ObjectInputStream, aborting HTTP connection. This is likely an error and may result in sub-optimal behavior. Request only the bytes you need via a ranged GET or drain the input stream after use.\n"
     ]
    },
    {
     "name": "stdout",
     "output_type": "stream",
     "text": [
      "word2vec_gigaword_300 download started this may take some time.\n",
      "Approximate size to download 312.3 MB\n",
      "Download done! Loading the resource.\n",
      "[ / ]"
     ]
    },
    {
     "name": "stderr",
     "output_type": "stream",
     "text": [
      "                                                                                \r"
     ]
    },
    {
     "name": "stdout",
     "output_type": "stream",
     "text": [
      "[OK!]\n"
     ]
    }
   ],
   "source": [
    "embeddingLogReg = EmbeddingsLogReg(maxIter=10, regParam=0.3, elasticNetParam=0)"
   ]
  },
  {
   "cell_type": "code",
   "execution_count": 9,
   "metadata": {},
   "outputs": [
    {
     "name": "stderr",
     "output_type": "stream",
     "text": [
      "WARNING: An illegal reflective access operation has occurred\n",
      "WARNING: Illegal reflective access by org.apache.spark.util.SizeEstimator$ (file:/Users/markson/Desktop/UCU/UCU_6K1S_MiningMassiveDatasets/venv/lib/python3.11/site-packages/pyspark/jars/spark-core_2.12-3.5.3.jar) to field java.util.regex.Pattern.pattern\n",
      "WARNING: Please consider reporting this to the maintainers of org.apache.spark.util.SizeEstimator$\n",
      "WARNING: Use --illegal-access=warn to enable warnings of further illegal reflective access operations\n",
      "WARNING: All illegal access operations will be denied in a future release\n",
      "24/11/19 20:35:42 WARN InstanceBuilder: Failed to load implementation from:dev.ludovic.netlib.blas.JNIBLAS\n",
      "                                                                                \r"
     ]
    }
   ],
   "source": [
    "embeddingLogReg.fit(train_df_)"
   ]
  },
  {
   "cell_type": "code",
   "execution_count": 10,
   "metadata": {},
   "outputs": [],
   "source": [
    "predictions = embeddingLogReg.predict(val_df)"
   ]
  },
  {
   "cell_type": "code",
   "execution_count": 11,
   "metadata": {},
   "outputs": [
    {
     "name": "stderr",
     "output_type": "stream",
     "text": [
      "                                                                                \r"
     ]
    }
   ],
   "source": [
    "val_labels = predictions.select(\"label\").rdd.flatMap(lambda x: x).collect()\n",
    "val_preds = predictions.select(\"prediction\").rdd.flatMap(lambda x: x).collect()"
   ]
  },
  {
   "cell_type": "code",
   "execution_count": 12,
   "metadata": {},
   "outputs": [
    {
     "data": {
      "text/plain": [
       "(0.9160763396949746,\n",
       " np.float64(0.7622478386167147),\n",
       " np.float64(0.38584974471188915),\n",
       " np.float64(0.5123486682808717))"
      ]
     },
     "execution_count": 12,
     "metadata": {},
     "output_type": "execute_result"
    }
   ],
   "source": [
    "accuracy_score(val_labels, val_preds), precision_score(val_labels, val_preds), recall_score(val_labels, val_preds), f1_score(val_labels, val_preds)"
   ]
  },
  {
   "cell_type": "code",
   "execution_count": 13,
   "metadata": {},
   "outputs": [],
   "source": [
    "embeddingLogReg.save(\"./data/logreg_big\")"
   ]
  },
  {
   "cell_type": "markdown",
   "metadata": {},
   "source": [
    "## LogReg Parameter search"
   ]
  },
  {
   "cell_type": "code",
   "execution_count": 14,
   "metadata": {},
   "outputs": [],
   "source": [
    "class RecallWithPrecisionConstraint:\n",
    "    def __init__(self, spark, precision_boundary=0.95):\n",
    "        self.spark = spark\n",
    "        self.precision_boundary = precision_boundary\n",
    "\n",
    "    def evaluate(self, predictions):\n",
    "        metrics = predictions.withColumn(\n",
    "            \"tp\", F.expr(\"CASE WHEN bot AND prediction = 1 THEN 1 ELSE 0 END\")\n",
    "        ).withColumn(\n",
    "            \"fp\", F.expr(\"CASE WHEN NOT bot AND prediction = 1 THEN 1 ELSE 0 END\")\n",
    "        ).withColumn(\n",
    "            \"fn\", F.expr(\"CASE WHEN bot AND prediction = 0 THEN 1 ELSE 0 END\")\n",
    "        )\n",
    "\n",
    "        metrics = metrics.groupBy().agg(\n",
    "            F.sum(\"tp\").alias(\"true_positives\"),\n",
    "            F.sum(\"fp\").alias(\"false_positives\"),\n",
    "            F.sum(\"fn\").alias(\"false_negatives\"),\n",
    "            F.count(\"*\").alias(\"total_observations\")\n",
    "        ).withColumn(\n",
    "            \"precision\", F.expr(\"CASE WHEN false_positives = 0 AND true_positives = 0 THEN 1 ELSE true_positives / (true_positives + false_positives) END\")\n",
    "        ).withColumn(\n",
    "            \"recall\", F.expr(\"CASE WHEN false_negatives = 0 AND true_positives = 0 THEN 1 ELSE true_positives / (true_positives + false_negatives) END\")\n",
    "        )\n",
    "\n",
    "        precision = metrics.select(\"precision\").first()[0]\n",
    "        recall = metrics.select(\"recall\").first()[0]\n",
    "\n",
    "        if precision >= self.precision_boundary:\n",
    "            return 1 + recall # If precision is self.precision_boundary+, it's better than maximizing precision\n",
    "        else:\n",
    "            return precision"
   ]
  },
  {
   "cell_type": "code",
   "execution_count": null,
   "metadata": {},
   "outputs": [
    {
     "name": "stdout",
     "output_type": "stream",
     "text": [
      "Training with parameters: {'maxIter': 10, 'regParam': 0.1, 'elasticNetParam': 0.0}\n"
     ]
    },
    {
     "name": "stderr",
     "output_type": "stream",
     "text": [
      "                                                                                \r"
     ]
    },
    {
     "name": "stdout",
     "output_type": "stream",
     "text": [
      "Score for parameters {'maxIter': 10, 'regParam': 0.1, 'elasticNetParam': 0.0}: 0.8188118811881188\n",
      "Training with parameters: {'maxIter': 10, 'regParam': 0.1, 'elasticNetParam': 0.5}\n"
     ]
    },
    {
     "name": "stderr",
     "output_type": "stream",
     "text": [
      "                                                                                \r"
     ]
    },
    {
     "name": "stdout",
     "output_type": "stream",
     "text": [
      "Score for parameters {'maxIter': 10, 'regParam': 0.1, 'elasticNetParam': 0.5}: 0.4783783783783784\n",
      "Training with parameters: {'maxIter': 10, 'regParam': 0.1, 'elasticNetParam': 1.0}\n"
     ]
    },
    {
     "name": "stderr",
     "output_type": "stream",
     "text": [
      "                                                                                \r"
     ]
    },
    {
     "name": "stdout",
     "output_type": "stream",
     "text": [
      "Score for parameters {'maxIter': 10, 'regParam': 0.1, 'elasticNetParam': 1.0}: 0.4339622641509434\n",
      "Training with parameters: {'maxIter': 10, 'regParam': 0.3, 'elasticNetParam': 0.0}\n"
     ]
    },
    {
     "name": "stderr",
     "output_type": "stream",
     "text": [
      "                                                                                \r"
     ]
    },
    {
     "name": "stdout",
     "output_type": "stream",
     "text": [
      "Score for parameters {'maxIter': 10, 'regParam': 0.3, 'elasticNetParam': 0.0}: 0.7622478386167147\n",
      "Training with parameters: {'maxIter': 10, 'regParam': 0.3, 'elasticNetParam': 0.5}\n"
     ]
    },
    {
     "name": "stderr",
     "output_type": "stream",
     "text": [
      "                                                                                \r"
     ]
    },
    {
     "name": "stdout",
     "output_type": "stream",
     "text": [
      "Score for parameters {'maxIter': 10, 'regParam': 0.3, 'elasticNetParam': 0.5}: 0.0\n",
      "Training with parameters: {'maxIter': 10, 'regParam': 0.3, 'elasticNetParam': 1.0}\n"
     ]
    },
    {
     "name": "stderr",
     "output_type": "stream",
     "text": [
      "                                                                                \r"
     ]
    },
    {
     "name": "stdout",
     "output_type": "stream",
     "text": [
      "Score for parameters {'maxIter': 10, 'regParam': 0.3, 'elasticNetParam': 1.0}: 1.0\n",
      "Training with parameters: {'maxIter': 10, 'regParam': 0.5, 'elasticNetParam': 0.0}\n"
     ]
    },
    {
     "name": "stderr",
     "output_type": "stream",
     "text": [
      "                                                                                \r"
     ]
    },
    {
     "name": "stdout",
     "output_type": "stream",
     "text": [
      "Score for parameters {'maxIter': 10, 'regParam': 0.5, 'elasticNetParam': 0.0}: 0.6466346153846154\n",
      "Training with parameters: {'maxIter': 10, 'regParam': 0.5, 'elasticNetParam': 0.5}\n"
     ]
    },
    {
     "name": "stderr",
     "output_type": "stream",
     "text": [
      "                                                                                \r"
     ]
    },
    {
     "name": "stdout",
     "output_type": "stream",
     "text": [
      "Score for parameters {'maxIter': 10, 'regParam': 0.5, 'elasticNetParam': 0.5}: 1.0\n",
      "Training with parameters: {'maxIter': 10, 'regParam': 0.5, 'elasticNetParam': 1.0}\n"
     ]
    },
    {
     "name": "stderr",
     "output_type": "stream",
     "text": [
      "                                                                                \r"
     ]
    },
    {
     "name": "stdout",
     "output_type": "stream",
     "text": [
      "Score for parameters {'maxIter': 10, 'regParam': 0.5, 'elasticNetParam': 1.0}: 1.0\n",
      "Training with parameters: {'maxIter': 20, 'regParam': 0.1, 'elasticNetParam': 0.0}\n"
     ]
    },
    {
     "name": "stderr",
     "output_type": "stream",
     "text": [
      "                                                                                \r"
     ]
    },
    {
     "name": "stdout",
     "output_type": "stream",
     "text": [
      "Score for parameters {'maxIter': 20, 'regParam': 0.1, 'elasticNetParam': 0.0}: 0.817279046673287\n",
      "Training with parameters: {'maxIter': 20, 'regParam': 0.1, 'elasticNetParam': 0.5}\n"
     ]
    },
    {
     "name": "stderr",
     "output_type": "stream",
     "text": [
      "                                                                                \r"
     ]
    },
    {
     "name": "stdout",
     "output_type": "stream",
     "text": [
      "Score for parameters {'maxIter': 20, 'regParam': 0.1, 'elasticNetParam': 0.5}: 0.49441340782122906\n",
      "Training with parameters: {'maxIter': 20, 'regParam': 0.1, 'elasticNetParam': 1.0}\n"
     ]
    },
    {
     "name": "stderr",
     "output_type": "stream",
     "text": [
      "                                                                                \r"
     ]
    },
    {
     "name": "stdout",
     "output_type": "stream",
     "text": [
      "Score for parameters {'maxIter': 20, 'regParam': 0.1, 'elasticNetParam': 1.0}: 0.4753521126760563\n",
      "Training with parameters: {'maxIter': 20, 'regParam': 0.3, 'elasticNetParam': 0.0}\n"
     ]
    },
    {
     "name": "stderr",
     "output_type": "stream",
     "text": [
      "                                                                                \r"
     ]
    },
    {
     "name": "stdout",
     "output_type": "stream",
     "text": [
      "Score for parameters {'maxIter': 20, 'regParam': 0.3, 'elasticNetParam': 0.0}: 0.7633477633477633\n",
      "Training with parameters: {'maxIter': 20, 'regParam': 0.3, 'elasticNetParam': 0.5}\n"
     ]
    },
    {
     "name": "stderr",
     "output_type": "stream",
     "text": [
      "                                                                                \r"
     ]
    },
    {
     "name": "stdout",
     "output_type": "stream",
     "text": [
      "Score for parameters {'maxIter': 20, 'regParam': 0.3, 'elasticNetParam': 0.5}: 0.0\n",
      "Training with parameters: {'maxIter': 20, 'regParam': 0.3, 'elasticNetParam': 1.0}\n"
     ]
    },
    {
     "name": "stderr",
     "output_type": "stream",
     "text": [
      "                                                                                \r"
     ]
    },
    {
     "name": "stdout",
     "output_type": "stream",
     "text": [
      "Score for parameters {'maxIter': 20, 'regParam': 0.3, 'elasticNetParam': 1.0}: 1.0\n",
      "Training with parameters: {'maxIter': 20, 'regParam': 0.5, 'elasticNetParam': 0.0}\n"
     ]
    },
    {
     "name": "stderr",
     "output_type": "stream",
     "text": [
      "                                                                                \r"
     ]
    },
    {
     "name": "stdout",
     "output_type": "stream",
     "text": [
      "Score for parameters {'maxIter': 20, 'regParam': 0.5, 'elasticNetParam': 0.0}: 0.6391509433962265\n",
      "Training with parameters: {'maxIter': 20, 'regParam': 0.5, 'elasticNetParam': 0.5}\n"
     ]
    },
    {
     "name": "stderr",
     "output_type": "stream",
     "text": [
      "                                                                                \r"
     ]
    },
    {
     "name": "stdout",
     "output_type": "stream",
     "text": [
      "Score for parameters {'maxIter': 20, 'regParam': 0.5, 'elasticNetParam': 0.5}: 1.0\n",
      "Training with parameters: {'maxIter': 20, 'regParam': 0.5, 'elasticNetParam': 1.0}\n"
     ]
    },
    {
     "name": "stderr",
     "output_type": "stream",
     "text": [
      "                                                                                \r"
     ]
    },
    {
     "name": "stdout",
     "output_type": "stream",
     "text": [
      "Score for parameters {'maxIter': 20, 'regParam': 0.5, 'elasticNetParam': 1.0}: 1.0\n",
      "Training with parameters: {'maxIter': 50, 'regParam': 0.1, 'elasticNetParam': 0.0}\n"
     ]
    },
    {
     "name": "stderr",
     "output_type": "stream",
     "text": [
      "                                                                                \r"
     ]
    },
    {
     "name": "stdout",
     "output_type": "stream",
     "text": [
      "Score for parameters {'maxIter': 50, 'regParam': 0.1, 'elasticNetParam': 0.0}: 0.817279046673287\n",
      "Training with parameters: {'maxIter': 50, 'regParam': 0.1, 'elasticNetParam': 0.5}\n"
     ]
    },
    {
     "name": "stderr",
     "output_type": "stream",
     "text": [
      "                                                                                \r"
     ]
    },
    {
     "name": "stdout",
     "output_type": "stream",
     "text": [
      "Score for parameters {'maxIter': 50, 'regParam': 0.1, 'elasticNetParam': 0.5}: 0.49441340782122906\n",
      "Training with parameters: {'maxIter': 50, 'regParam': 0.1, 'elasticNetParam': 1.0}\n"
     ]
    },
    {
     "name": "stderr",
     "output_type": "stream",
     "text": [
      "                                                                                \r"
     ]
    },
    {
     "name": "stdout",
     "output_type": "stream",
     "text": [
      "Score for parameters {'maxIter': 50, 'regParam': 0.1, 'elasticNetParam': 1.0}: 0.4753521126760563\n",
      "Training with parameters: {'maxIter': 50, 'regParam': 0.3, 'elasticNetParam': 0.0}\n"
     ]
    },
    {
     "name": "stderr",
     "output_type": "stream",
     "text": [
      "                                                                                \r"
     ]
    },
    {
     "name": "stdout",
     "output_type": "stream",
     "text": [
      "Score for parameters {'maxIter': 50, 'regParam': 0.3, 'elasticNetParam': 0.0}: 0.7633477633477633\n",
      "Training with parameters: {'maxIter': 50, 'regParam': 0.3, 'elasticNetParam': 0.5}\n"
     ]
    },
    {
     "name": "stderr",
     "output_type": "stream",
     "text": [
      "                                                                                \r"
     ]
    },
    {
     "name": "stdout",
     "output_type": "stream",
     "text": [
      "Score for parameters {'maxIter': 50, 'regParam': 0.3, 'elasticNetParam': 0.5}: 0.0\n",
      "Training with parameters: {'maxIter': 50, 'regParam': 0.3, 'elasticNetParam': 1.0}\n"
     ]
    },
    {
     "name": "stderr",
     "output_type": "stream",
     "text": [
      "                                                                                \r"
     ]
    },
    {
     "name": "stdout",
     "output_type": "stream",
     "text": [
      "Score for parameters {'maxIter': 50, 'regParam': 0.3, 'elasticNetParam': 1.0}: 1.0\n",
      "Training with parameters: {'maxIter': 50, 'regParam': 0.5, 'elasticNetParam': 0.0}\n"
     ]
    },
    {
     "name": "stderr",
     "output_type": "stream",
     "text": [
      "                                                                                \r"
     ]
    },
    {
     "name": "stdout",
     "output_type": "stream",
     "text": [
      "Score for parameters {'maxIter': 50, 'regParam': 0.5, 'elasticNetParam': 0.0}: 0.6391509433962265\n",
      "Training with parameters: {'maxIter': 50, 'regParam': 0.5, 'elasticNetParam': 0.5}\n"
     ]
    },
    {
     "name": "stderr",
     "output_type": "stream",
     "text": [
      "                                                                                \r"
     ]
    },
    {
     "name": "stdout",
     "output_type": "stream",
     "text": [
      "Score for parameters {'maxIter': 50, 'regParam': 0.5, 'elasticNetParam': 0.5}: 1.0\n",
      "Training with parameters: {'maxIter': 50, 'regParam': 0.5, 'elasticNetParam': 1.0}\n"
     ]
    },
    {
     "name": "stderr",
     "output_type": "stream",
     "text": [
      "                                                                                \r"
     ]
    },
    {
     "name": "stdout",
     "output_type": "stream",
     "text": [
      "Score for parameters {'maxIter': 50, 'regParam': 0.5, 'elasticNetParam': 1.0}: 1.0\n",
      "Best model parameters: {'maxIter': 10, 'regParam': 0.3, 'elasticNetParam': 1.0}\n"
     ]
    },
    {
     "name": "stderr",
     "output_type": "stream",
     "text": [
      "[Stage 653:>                                                        (0 + 1) / 1]\r"
     ]
    },
    {
     "name": "stdout",
     "output_type": "stream",
     "text": [
      "Best Model Metrics -> Precision: 0.0, Recall: 0.0, F1-Score: 0.0, Accuracy: 0.8857404783731978\n"
     ]
    },
    {
     "name": "stderr",
     "output_type": "stream",
     "text": [
      "/Users/markson/Desktop/UCU/UCU_6K1S_MiningMassiveDatasets/venv/lib/python3.11/site-packages/sklearn/metrics/_classification.py:1531: UndefinedMetricWarning: Precision is ill-defined and being set to 0.0 due to no predicted samples. Use `zero_division` parameter to control this behavior.\n",
      "  _warn_prf(average, modifier, f\"{metric.capitalize()} is\", len(result))\n"
     ]
    }
   ],
   "source": [
    "param_grid = [\n",
    "    {\"maxIter\": max_iter, \"regParam\": reg_param, \"elasticNetParam\": elastic_net_param}\n",
    "    for max_iter in [10, 20, 50]\n",
    "    for reg_param in [0.1, 0.3, 0.5]\n",
    "    for elastic_net_param in [0.0, 0.5, 1.0]\n",
    "]\n",
    "\n",
    "best_model = None\n",
    "best_score = float(\"-inf\")\n",
    "evaluator = RecallWithPrecisionConstraint(spark)\n",
    "\n",
    "for params in param_grid:\n",
    "    print(f\"Training with parameters: {params}\")\n",
    "    \n",
    "    model = EmbeddingsLogReg(\n",
    "        maxIter=params[\"maxIter\"], \n",
    "        regParam=params[\"regParam\"], \n",
    "        elasticNetParam=params[\"elasticNetParam\"]\n",
    "    )\n",
    "    \n",
    "    model.fit(train_df_)\n",
    "    \n",
    "    predictions = model.predict(val_df)\n",
    "    \n",
    "    score = evaluator.evaluate(predictions)\n",
    "    print(f\"Score for parameters {params}: {score}\")\n",
    "    \n",
    "    if score > best_score:\n",
    "        best_score = score\n",
    "        best_model = model\n",
    "        best_params = params\n",
    "\n",
    "print(f\"Best model parameters: {best_params}\")\n",
    "predictions = best_model.predict(val_df)\n",
    "\n",
    "val_labels = predictions.select(\"label\").rdd.flatMap(lambda x: x).collect()\n",
    "val_preds = predictions.select(\"prediction\").rdd.flatMap(lambda x: x).collect()\n",
    "\n",
    "precision = precision_score(val_labels, val_preds)\n",
    "recall = recall_score(val_labels, val_preds)\n",
    "f1 = f1_score(val_labels, val_preds)\n",
    "accuracy = accuracy_score(val_labels, val_preds)\n",
    "\n",
    "print(f\"Best Model Metrics -> Precision: {precision}, Recall: {recall}, F1-Score: {f1}, Accuracy: {accuracy}\")"
   ]
  },
  {
   "cell_type": "code",
   "execution_count": 39,
   "metadata": {},
   "outputs": [
    {
     "name": "stdout",
     "output_type": "stream",
     "text": [
      "Best model score: 1.0\n"
     ]
    }
   ],
   "source": [
    "print(f\"Best model score: {best_score}\")"
   ]
  },
  {
   "cell_type": "code",
   "execution_count": 16,
   "metadata": {},
   "outputs": [],
   "source": [
    "best_model.save(\"./data/logreg_big_best\")"
   ]
  },
  {
   "cell_type": "code",
   "execution_count": null,
   "metadata": {},
   "outputs": [],
   "source": [
    "# embeddingLogReg = EmbeddingsLogReg(maxIter=10, regParam=0.3, elasticNetParam=0)"
   ]
  },
  {
   "cell_type": "code",
   "execution_count": null,
   "metadata": {},
   "outputs": [],
   "source": [
    "# param_grid = ParamGridBuilder() \\\n",
    "#     .addGrid(embeddingLogReg.lr.maxIter, [10, 20, 50]) \\\n",
    "#     .addGrid(embeddingLogReg.lr.regParam, [0.1, 0.3, 0.5]) \\\n",
    "#     .addGrid(embeddingLogReg.lr.elasticNetParam, [0.0, 0.5, 1.0]) \\\n",
    "#     .build()"
   ]
  },
  {
   "cell_type": "code",
   "execution_count": null,
   "metadata": {},
   "outputs": [],
   "source": [
    "# train_val_split = TrainValidationSplit(\n",
    "#     estimator=embeddingLogReg,\n",
    "#     estimatorParamMaps=param_grid,\n",
    "#     evaluator=evaluator,\n",
    "#     trainRatio=0.8\n",
    "# )"
   ]
  },
  {
   "cell_type": "code",
   "execution_count": null,
   "metadata": {},
   "outputs": [],
   "source": [
    "# best_model = train_val_split.fit(train_df_wtext)"
   ]
  },
  {
   "cell_type": "code",
   "execution_count": 17,
   "metadata": {},
   "outputs": [],
   "source": [
    "# best_model = train_val_split.bestModel\n",
    "\n",
    "# print(f\"Best model parameters: {best_model}\")\n",
    "\n",
    "# predictions = best_model.transform(val_df)\n",
    "# val_labels = predictions.select(\"label\").rdd.flatMap(lambda x: x).collect()\n",
    "# val_preds = predictions.select(\"prediction\").rdd.flatMap(lambda x: x).collect()\n",
    "\n",
    "# precision = precision_score(val_labels, val_preds)\n",
    "# recall = recall_score(val_labels, val_preds)\n",
    "# f1 = f1_score(val_labels, val_preds)\n",
    "# accuracy = accuracy_score(val_labels, val_preds)\n",
    "# print(f\"Precision: {precision}, Recall: {recall}, F1-Score: {f1}, Accuracy: {accuracy}\")"
   ]
  },
  {
   "cell_type": "markdown",
   "metadata": {},
   "source": [
    "## Bloom filter sample training"
   ]
  },
  {
   "cell_type": "code",
   "execution_count": 18,
   "metadata": {},
   "outputs": [],
   "source": [
    "bloom_filter = BloomFilterBasedModel(spark, fpr=0.1)"
   ]
  },
  {
   "cell_type": "code",
   "execution_count": 19,
   "metadata": {},
   "outputs": [],
   "source": [
    "bloom_filter.fit(train_df_)"
   ]
  },
  {
   "cell_type": "code",
   "execution_count": 20,
   "metadata": {},
   "outputs": [],
   "source": [
    "predictions = bloom_filter.predict(val_df)"
   ]
  },
  {
   "cell_type": "code",
   "execution_count": 21,
   "metadata": {},
   "outputs": [
    {
     "data": {
      "text/plain": [
       "(0.9075756313026085,\n",
       " np.float64(0.5545378850957535),\n",
       " np.float64(0.9715536105032823),\n",
       " np.float64(0.7060694407633183))"
      ]
     },
     "execution_count": 21,
     "metadata": {},
     "output_type": "execute_result"
    }
   ],
   "source": [
    "val_labels = predictions.select(\"label\").rdd.flatMap(lambda x: x).collect()\n",
    "val_preds = predictions.select(\"prediction\").rdd.flatMap(lambda x: x).collect()\n",
    "\n",
    "accuracy_score(val_labels, val_preds), precision_score(val_labels, val_preds), recall_score(val_labels, val_preds), f1_score(val_labels, val_preds)"
   ]
  },
  {
   "cell_type": "code",
   "execution_count": 22,
   "metadata": {},
   "outputs": [],
   "source": [
    "bloom_filter.save(\"./data/filter_train_small\")"
   ]
  },
  {
   "cell_type": "code",
   "execution_count": 23,
   "metadata": {},
   "outputs": [],
   "source": [
    "filter2 = BloomFilterBasedModel.load(spark, \"./data/filter_train_small\")"
   ]
  },
  {
   "cell_type": "code",
   "execution_count": 24,
   "metadata": {},
   "outputs": [],
   "source": [
    "triggered_users = predictions.filter(F.col(\"prediction\") == 1).select(\"user\").distinct().rdd.map(lambda r: r[0]).collect()"
   ]
  },
  {
   "cell_type": "code",
   "execution_count": 25,
   "metadata": {},
   "outputs": [],
   "source": [
    "train_bots = train_df_.filter(F.col(\"bot\")).select(\"user\").distinct().rdd.map(lambda r: r[0]).collect()"
   ]
  },
  {
   "cell_type": "code",
   "execution_count": 26,
   "metadata": {},
   "outputs": [],
   "source": [
    "val_bots = val_df.filter(F.col(\"bot\")).select(\"user\").distinct().rdd.map(lambda r: r[0]).collect()"
   ]
  },
  {
   "cell_type": "code",
   "execution_count": 27,
   "metadata": {},
   "outputs": [
    {
     "data": {
      "text/plain": [
       "{'AnomieBOT',\n",
       " 'BaranBOT',\n",
       " 'Bot1058',\n",
       " 'Cewbot',\n",
       " 'ChristieBot',\n",
       " 'Citation bot',\n",
       " 'ClueBot III',\n",
       " 'Community Tech bot',\n",
       " 'Cyberbot I',\n",
       " 'DPL bot',\n",
       " 'DYKHousekeepingBot',\n",
       " 'DYKToolsBot',\n",
       " 'DatBot',\n",
       " 'DeltaQuadBot',\n",
       " 'EarwigBot',\n",
       " 'Filedelinkerbot',\n",
       " 'FireflyBot',\n",
       " 'GalliumBot',\n",
       " 'HBC AIV helperbot14',\n",
       " 'ImageTaggingBot',\n",
       " 'InceptionBot',\n",
       " 'InternetArchiveBot',\n",
       " 'JJMC89 bot',\n",
       " 'JJMC89 bot III',\n",
       " 'Legobot',\n",
       " 'ListeriaBot',\n",
       " 'Lowercase sigmabot III',\n",
       " 'MajavahBot',\n",
       " 'MilHistBot',\n",
       " 'MusikBot',\n",
       " 'MusikBot II',\n",
       " 'Mz7 (bot)',\n",
       " 'Qwerfjkl (bot)',\n",
       " 'RMCD bot',\n",
       " 'Reports bot',\n",
       " 'RussBot',\n",
       " 'SDZeroBot',\n",
       " 'SineBot',\n",
       " 'TNTBot',\n",
       " 'WugBot',\n",
       " 'Yapperbot'}"
      ]
     },
     "execution_count": 27,
     "metadata": {},
     "output_type": "execute_result"
    }
   ],
   "source": [
    "set(train_bots) & set(val_bots)"
   ]
  },
  {
   "cell_type": "code",
   "execution_count": 28,
   "metadata": {},
   "outputs": [
    {
     "data": {
      "text/plain": [
       "{'AnomieBOT',\n",
       " 'BaranBOT',\n",
       " 'Bot1058',\n",
       " 'Cewbot',\n",
       " 'ChristieBot',\n",
       " 'Citation bot',\n",
       " 'ClueBot III',\n",
       " 'Community Tech bot',\n",
       " 'Cyberbot I',\n",
       " 'DPL bot',\n",
       " 'DYKHousekeepingBot',\n",
       " 'DYKToolsBot',\n",
       " 'DatBot',\n",
       " 'DeltaQuadBot',\n",
       " 'EarwigBot',\n",
       " 'Filedelinkerbot',\n",
       " 'FireflyBot',\n",
       " 'GalliumBot',\n",
       " 'HBC AIV helperbot14',\n",
       " 'Hazard-Bot',\n",
       " 'ImageTaggingBot',\n",
       " 'InceptionBot',\n",
       " 'InternetArchiveBot',\n",
       " 'JJMC89 bot',\n",
       " 'JJMC89 bot III',\n",
       " 'Legobot',\n",
       " 'ListeriaBot',\n",
       " 'Lowercase sigmabot III',\n",
       " 'MajavahBot',\n",
       " 'MilHistBot',\n",
       " 'MusikBot',\n",
       " 'MusikBot II',\n",
       " 'Mz7 (bot)',\n",
       " 'Qwerfjkl (bot)',\n",
       " 'RMCD bot',\n",
       " 'Reports bot',\n",
       " 'RussBot',\n",
       " 'SDZeroBot',\n",
       " 'SineBot',\n",
       " 'SporkBot',\n",
       " 'TNTBot',\n",
       " 'WugBot',\n",
       " 'Yapperbot'}"
      ]
     },
     "execution_count": 28,
     "metadata": {},
     "output_type": "execute_result"
    }
   ],
   "source": [
    "set(val_bots) & set(triggered_users)"
   ]
  },
  {
   "cell_type": "code",
   "execution_count": 29,
   "metadata": {},
   "outputs": [
    {
     "data": {
      "text/plain": [
       "{'AnomieBOT',\n",
       " 'BaranBOT',\n",
       " 'Bot1058',\n",
       " 'Cewbot',\n",
       " 'ChristieBot',\n",
       " 'Citation bot',\n",
       " 'ClueBot III',\n",
       " 'Community Tech bot',\n",
       " 'Cyberbot I',\n",
       " 'DPL bot',\n",
       " 'DYKHousekeepingBot',\n",
       " 'DYKToolsBot',\n",
       " 'DatBot',\n",
       " 'DeltaQuadBot',\n",
       " 'EarwigBot',\n",
       " 'Filedelinkerbot',\n",
       " 'FireflyBot',\n",
       " 'GalliumBot',\n",
       " 'HBC AIV helperbot14',\n",
       " 'ImageTaggingBot',\n",
       " 'InceptionBot',\n",
       " 'InternetArchiveBot',\n",
       " 'JJMC89 bot',\n",
       " 'JJMC89 bot III',\n",
       " 'Legobot',\n",
       " 'ListeriaBot',\n",
       " 'Lowercase sigmabot III',\n",
       " 'MDanielsBot',\n",
       " 'MajavahBot',\n",
       " 'MilHistBot',\n",
       " 'MusikBot',\n",
       " 'MusikBot II',\n",
       " 'Mz7 (bot)',\n",
       " 'Qwerfjkl (bot)',\n",
       " 'RMCD bot',\n",
       " 'Reports bot',\n",
       " 'RussBot',\n",
       " 'SDZeroBot',\n",
       " 'SineBot',\n",
       " 'TNTBot',\n",
       " 'WugBot',\n",
       " 'Yapperbot'}"
      ]
     },
     "execution_count": 29,
     "metadata": {},
     "output_type": "execute_result"
    }
   ],
   "source": [
    "set(train_bots) & set(triggered_users)"
   ]
  },
  {
   "cell_type": "code",
   "execution_count": 30,
   "metadata": {},
   "outputs": [
    {
     "data": {
      "text/plain": [
       "True"
      ]
     },
     "execution_count": 30,
     "metadata": {},
     "output_type": "execute_result"
    }
   ],
   "source": [
    "filter2.bloom_filter.lookup('Georgymm')"
   ]
  },
  {
   "cell_type": "code",
   "execution_count": 31,
   "metadata": {},
   "outputs": [
    {
     "data": {
      "text/plain": [
       "{'100.40.177.247',\n",
       " '103.111.34.186',\n",
       " '103.131.214.227',\n",
       " '103.155.223.62',\n",
       " '103.185.24.153',\n",
       " '103.76.183.72',\n",
       " '104.160.102.106',\n",
       " '109.193.38.37',\n",
       " '1112Gumdaddy',\n",
       " '112.134.185.0',\n",
       " '115.66.95.78',\n",
       " '117.200.185.208',\n",
       " '117.250.240.128',\n",
       " '134.228.208.207',\n",
       " '139.47.115.113',\n",
       " '144.48.128.182',\n",
       " '146.199.122.154',\n",
       " '162.251.173.193',\n",
       " '171.248.216.35',\n",
       " '173.73.64.102',\n",
       " '186.29.35.253',\n",
       " '189.28.69.105',\n",
       " '194.230.160.108',\n",
       " '198.239.119.4',\n",
       " '2001:4C4E:10DE:5C00:4196:F8A2:680:1225',\n",
       " '2001:56A:F919:7500:C0DC:4F47:59AC:4F94',\n",
       " '2001:5B0:ACE1:F180:FC0C:34D8:2B81:9FD7',\n",
       " '2003:C0:5744:26B6:18AC:BF25:9073:98DD',\n",
       " '2003:E6:1F02:4A00:D911:15D8:24F1:FD9E',\n",
       " '202.179.76.97',\n",
       " '212.159.141.14',\n",
       " '212.159.19.92',\n",
       " '212.171.67.228',\n",
       " '223.25.63.192',\n",
       " '24.154.56.98',\n",
       " '2400:9800:180:9B21:682F:30C0:AFC0:3865',\n",
       " '2402:7500:4F1:77E2:29E1:7B52:9032:8255',\n",
       " '2402:800:6236:B30:C8C7:94A4:F9E5:C281',\n",
       " '2405:3800:8A6:69A2:0:0:0:1',\n",
       " '2405:6E00:238:370C:C5C5:DDD3:ED17:161A',\n",
       " '2406:3003:2077:17A2:C2A:FB83:27E7:F92A',\n",
       " '2406:7400:61:9BD3:97A:9F93:F5CF:A91D',\n",
       " '2409:4072:AE94:237A:40EC:9DEF:581B:5E3C',\n",
       " '2409:40F3:1096:C892:9CFA:74FF:FEE2:3413',\n",
       " '2600:1001:B105:2B29:A791:6549:791:D53E',\n",
       " '2600:1005:B1C7:A64A:0:18:7819:FD01',\n",
       " '2600:1700:69C1:2450:A867:D69A:B6B7:F2CC',\n",
       " '2600:1700:6D90:E760:F4FA:890D:9ACB:F2A7',\n",
       " '2600:1700:76F0:1C50:2D0D:EC68:69A4:373D',\n",
       " '2600:1700:B1C0:F1C0:7D97:894F:2FE2:1A66',\n",
       " '2600:1700:B79:6E00:3443:6B4C:7466:FC0B',\n",
       " '2601:4C3:200:2220:B6F8:2114:B03D:8589',\n",
       " '2601:547:CA01:A2A0:BC5E:9305:88AF:E112',\n",
       " '2601:582:8600:DC20:0:0:0:24DC',\n",
       " '2601:700:4100:DAD0:3C4C:432C:5544:153E',\n",
       " '2602:FFE4:C09:109:0:0:0:D101',\n",
       " '2603:6000:C305:78DF:4418:5541:DC52:DA20',\n",
       " '2603:6011:3E02:DAFC:29EE:663A:6918:1C76',\n",
       " '2603:6011:6EF0:87A0:44AE:DD6B:807:6058',\n",
       " '2603:8080:3C00:2C16:CDFB:6F95:6554:F984',\n",
       " '2605:B100:112A:7962:6144:4F7B:108D:83D9',\n",
       " '2620:6E:6000:3100:5117:2B6C:14F:E62D',\n",
       " '2806:1016:D:96F4:C999:BE7B:8920:19CD',\n",
       " '2A00:23C5:B33C:4101:9055:B361:BDFD:9D47',\n",
       " '2A00:23C6:F389:B301:C4F1:FCA2:233D:8E53',\n",
       " '2A00:23C8:1BCF:2700:C19E:F340:B433:2635',\n",
       " '2A00:23C8:8B0F:101:C138:4E1C:94B5:49AE',\n",
       " '2A00:807:D9:A0A0:D43E:4E18:542:30DC',\n",
       " '2A00:F41:58E5:A38D:2924:2CD0:D3F5:85EC',\n",
       " '2A01:5EC0:D005:567A:E53A:4A2D:CCB2:7BF4',\n",
       " '2A02:27B0:4404:4680:9B9:A1A4:3788:4B1',\n",
       " '2A02:8012:B5B2:0:D9ED:A8AC:2AB8:6402',\n",
       " '2A02:C7C:F34A:4A00:2CB9:2A1B:287A:6A35',\n",
       " '2A06:5906:1605:8500:B186:479F:8E1E:2FE6',\n",
       " '2A0A:EF40:138B:C501:C699:F071:825A:3863',\n",
       " '2pou',\n",
       " '31.208.30.79',\n",
       " '35.134.24.120',\n",
       " '37.109.167.3',\n",
       " '39.48.10.110',\n",
       " '41.114.235.8',\n",
       " '41.251.223.238',\n",
       " '45.175.207.250',\n",
       " '46.110.76.119',\n",
       " '46.7.198.244',\n",
       " '47.186.64.226',\n",
       " '5.151.132.234',\n",
       " '50.221.96.2',\n",
       " '58.69.101.132',\n",
       " '66.185.9.218',\n",
       " '69.118.231.208',\n",
       " '71.127.170.194',\n",
       " '73.175.202.3',\n",
       " '75.162.238.114',\n",
       " '77.162.124.82',\n",
       " '81.111.238.102',\n",
       " '82.18.0.115',\n",
       " '82.63.75.63',\n",
       " '86.31.185.208',\n",
       " '87.2.35.33',\n",
       " '89.103.74.168',\n",
       " '89.69.236.179',\n",
       " '91.180.172.104',\n",
       " '92.10.55.26',\n",
       " '92.10.6.2',\n",
       " '93',\n",
       " '95.29.133.11',\n",
       " '95.54.230.254',\n",
       " 'Adakiko',\n",
       " 'Adamantine123',\n",
       " 'Afernand74',\n",
       " 'Afheather',\n",
       " 'Alexandar au Arcos',\n",
       " 'Alice793',\n",
       " 'Allthemilescombined1',\n",
       " 'Alternativecarpark',\n",
       " 'Annh07',\n",
       " 'Anomie',\n",
       " 'Aoidh',\n",
       " 'Arbitorya',\n",
       " 'Archon 2488',\n",
       " 'Arlo Barnes',\n",
       " 'ArsiArmo',\n",
       " 'AuH2ORepublican',\n",
       " 'Battang',\n",
       " 'Batthini Vinay Kumar Goud',\n",
       " 'Bikesrcool',\n",
       " 'Bis-Serjetà?',\n",
       " 'Blurble',\n",
       " 'BorgQueen',\n",
       " 'Brandonl728',\n",
       " 'Brandonlw97',\n",
       " \"Breshnev's lada\",\n",
       " 'Bri',\n",
       " 'Bruce1ee',\n",
       " 'Cabj94',\n",
       " 'Cfierf',\n",
       " 'Charles Oliver Mabel',\n",
       " 'Chlod',\n",
       " 'Chris Capoccia',\n",
       " 'Chris the speller',\n",
       " 'ChrisTheDude',\n",
       " 'Clariniie',\n",
       " 'Colin1117',\n",
       " 'Coplandesque',\n",
       " 'Crboyer',\n",
       " 'Crwd-ppu',\n",
       " 'CurryTime7-24',\n",
       " 'Danial Bass',\n",
       " 'DariusEpps',\n",
       " 'Darrelljon',\n",
       " 'Darwizzy974',\n",
       " 'Dave Lars',\n",
       " 'David Fuchs',\n",
       " 'Dcotos',\n",
       " 'Delagranja',\n",
       " 'Delectable1',\n",
       " 'DepressedPer',\n",
       " 'Der Overmind',\n",
       " 'Dimitarkol05',\n",
       " 'Discospinster',\n",
       " 'Dl2000',\n",
       " 'Dlauri',\n",
       " 'Doc Cardio',\n",
       " 'DocWatson42',\n",
       " 'Drdpw',\n",
       " 'DreamRimmer',\n",
       " 'Drnoble',\n",
       " 'DuriSenyum',\n",
       " 'Dwkaminski',\n",
       " 'EddyBenoit',\n",
       " 'Ekpyros',\n",
       " 'EllaforToma',\n",
       " 'Emilia.silvestre',\n",
       " 'EssNS',\n",
       " 'Fainiteauguste',\n",
       " 'FanOfYoshi',\n",
       " 'Fau Tzy',\n",
       " 'Finavon',\n",
       " 'Foristslow',\n",
       " 'Fowler&fowler',\n",
       " 'FrB.TG',\n",
       " 'FreddieBlackman',\n",
       " 'Gaggi96',\n",
       " 'Gaismagorm',\n",
       " 'GaterJuv',\n",
       " 'Gedrose',\n",
       " 'Geraldo Perez',\n",
       " 'Giovanni 0331',\n",
       " 'GleisReis',\n",
       " 'Gorokoto',\n",
       " 'Goswami21',\n",
       " 'Graham87',\n",
       " 'Grdijk',\n",
       " 'GreekApple123',\n",
       " 'Grimes2',\n",
       " 'Grunty89',\n",
       " 'HELP155',\n",
       " 'HJ Mitchell',\n",
       " 'Hairy Dude',\n",
       " 'Hazard-Bot',\n",
       " 'Helioz9',\n",
       " 'Hexatekin',\n",
       " 'Hhs7',\n",
       " 'History6042',\n",
       " 'Hiyanius Srenius',\n",
       " 'HomerPap17',\n",
       " 'HudecEmil',\n",
       " 'Hungerdome',\n",
       " 'Hwaikdoviwbwwko',\n",
       " 'IVapor',\n",
       " 'IZAK',\n",
       " 'Ideophagous',\n",
       " 'Ikshya',\n",
       " 'IndyBallFan',\n",
       " 'Infoadder95',\n",
       " 'Interstatefive',\n",
       " 'Isaacl',\n",
       " 'Issan Sumisu',\n",
       " 'Itsziggyp',\n",
       " 'Ivebeenhacked',\n",
       " 'J Mo 101',\n",
       " 'Jasonbunny',\n",
       " 'John K',\n",
       " 'Johnj1995',\n",
       " 'Josh0108 (alt)',\n",
       " 'JpTheNotSoSuperior',\n",
       " 'Just plain Bill',\n",
       " 'KMS RANVIJAYA',\n",
       " 'Kaizako10',\n",
       " 'Keith D',\n",
       " 'Ketil3',\n",
       " 'KeyMen12',\n",
       " 'Kompik',\n",
       " 'KopikoBlanca2014',\n",
       " 'Kosasanmlad',\n",
       " 'Krishna.cell',\n",
       " 'Kypickle',\n",
       " 'Lackadaisicalnereid',\n",
       " 'Lambiam',\n",
       " 'Ldm1954',\n",
       " 'Lee Vilenski',\n",
       " 'Leventio',\n",
       " 'LicenceToCrenellate',\n",
       " 'Liz',\n",
       " 'Lnhbm',\n",
       " 'LordTort',\n",
       " 'Louislemieux',\n",
       " 'Louisrussian',\n",
       " 'Mahmoudali123',\n",
       " 'Mariamnei',\n",
       " 'Mark J',\n",
       " 'Martiniakhil',\n",
       " 'Matarisvan',\n",
       " 'Mateus2019',\n",
       " 'Mattbr',\n",
       " 'Mes tex',\n",
       " 'Mika1h',\n",
       " 'Milosppf',\n",
       " 'Mirus255',\n",
       " 'Mn1548',\n",
       " 'ModernDayTrilobite',\n",
       " 'Moncrief',\n",
       " 'MountVic127',\n",
       " 'MustafaO',\n",
       " 'MysticCipher87(alt-account)',\n",
       " 'NYCKURTCOBAIN',\n",
       " 'Naraht',\n",
       " 'Naskarjoydeep',\n",
       " 'Nedhartley',\n",
       " 'Needforname',\n",
       " 'Nerd271',\n",
       " 'Nisf',\n",
       " 'Nobleking90',\n",
       " 'Novem Linguae',\n",
       " 'Nowtis',\n",
       " 'Nurtenge',\n",
       " 'Omnipaedista',\n",
       " 'Ostalocutanje',\n",
       " 'PLATEL',\n",
       " 'PacmanPuncher72',\n",
       " 'Paladyn-john',\n",
       " 'Patriarca12',\n",
       " 'Patty J H',\n",
       " 'Pharaoh of the Wizards',\n",
       " 'PharaohCrab',\n",
       " 'Phichanad',\n",
       " \"Plane'n Boom1\",\n",
       " 'Polavarapu Mokshith Sai',\n",
       " 'Polish kurd',\n",
       " 'Prakashs27',\n",
       " 'Qbox673',\n",
       " 'RTSthestardust',\n",
       " 'Randompersonediting',\n",
       " 'RapsTooFocussed',\n",
       " 'Raskuly',\n",
       " 'RationalIndia',\n",
       " 'Reading Beans',\n",
       " 'Reboutinoperation',\n",
       " 'RedPatch',\n",
       " 'RegentsPark',\n",
       " 'RevampedEditor',\n",
       " 'Richiekim',\n",
       " 'Rileeeey',\n",
       " 'Rodw',\n",
       " 'Rugbyfan22',\n",
       " 'Runningonbrains',\n",
       " 'RyeBoule',\n",
       " 'Sabri76',\n",
       " 'Sahaib',\n",
       " 'Sarakhraisha',\n",
       " 'Sarcelles',\n",
       " 'SashiRolls',\n",
       " 'Schützenpanzer',\n",
       " 'Seinfeld429',\n",
       " 'Seraphimblade',\n",
       " 'Setenzatsu.2',\n",
       " 'Sgubaldo',\n",
       " \"Shane O'Sullivan the 1\",\n",
       " 'Shanidlm10',\n",
       " 'Shhhnotsoloud',\n",
       " 'Shinboke55',\n",
       " 'Shout4Serenity',\n",
       " 'Silva184',\n",
       " 'Simon Peter Hughes',\n",
       " 'Sirfurboy',\n",
       " 'Skillfulpledge',\n",
       " 'Smitty Smitty',\n",
       " 'Smobes',\n",
       " 'Smokefoot',\n",
       " 'Spoon4704',\n",
       " 'SporkBot',\n",
       " 'SportingFlyer',\n",
       " 'SportsWatch1',\n",
       " 'SqueakSquawk4',\n",
       " 'Stannis265',\n",
       " 'Steelstrike',\n",
       " 'Sultanify05',\n",
       " 'SunloungerFrog',\n",
       " 'SuperJew',\n",
       " 'Surfmaster23',\n",
       " 'Sweatestperfection',\n",
       " 'Swiss512',\n",
       " 'Symbol & Font Hunter',\n",
       " 'Tabbytakoma',\n",
       " 'Tassedethe',\n",
       " 'Tebus19',\n",
       " 'TeenAngels1234',\n",
       " 'Telenovelafan215',\n",
       " 'Telikalive',\n",
       " 'Tensorproduct',\n",
       " 'The MK',\n",
       " 'The Sports Gnome',\n",
       " 'TheSupremeMoron',\n",
       " 'Thehornet',\n",
       " 'Tobias222',\n",
       " 'TommyGundam',\n",
       " 'Toweli',\n",
       " 'Trailblazer101',\n",
       " 'Traveltheglobe',\n",
       " 'Triggerhippie4',\n",
       " 'Tô Ngọc Khang',\n",
       " 'UpTheOctave!',\n",
       " 'Vector legacy (2010)',\n",
       " 'Venezuelanlaw',\n",
       " 'Verbarson',\n",
       " 'Vivo78',\n",
       " 'Vmanjr',\n",
       " 'WereSpielChequers',\n",
       " 'Wetchup',\n",
       " 'Wh8t0n3arth',\n",
       " 'Wi5hakeki',\n",
       " 'William Macadam',\n",
       " 'Writer-ian26',\n",
       " 'XTheBedrockX',\n",
       " 'Xandercorvus389',\n",
       " 'XtraJovial',\n",
       " 'Yeon Jae Hwang',\n",
       " 'YorkshireExpat',\n",
       " 'ZanderAlbatraz1145',\n",
       " 'Zinnober9',\n",
       " 'ZlatanSweden10',\n",
       " '爨龘龘',\n",
       " '태현 정'}"
      ]
     },
     "execution_count": 31,
     "metadata": {},
     "output_type": "execute_result"
    }
   ],
   "source": [
    "set(triggered_users) - set(train_bots)"
   ]
  },
  {
   "cell_type": "code",
   "execution_count": 32,
   "metadata": {},
   "outputs": [],
   "source": [
    "untriggered_users = predictions.filter((F.col(\"prediction\") == 0) & (F.col(\"label\") == 0)).select(\"user\").distinct().rdd.map(lambda r: r[0]).collect()"
   ]
  },
  {
   "cell_type": "code",
   "execution_count": 33,
   "metadata": {},
   "outputs": [
    {
     "data": {
      "text/plain": [
       "(3418, 426)"
      ]
     },
     "execution_count": 33,
     "metadata": {},
     "output_type": "execute_result"
    }
   ],
   "source": [
    "len(set(untriggered_users)), len(set(triggered_users))"
   ]
  },
  {
   "cell_type": "code",
   "execution_count": 34,
   "metadata": {},
   "outputs": [],
   "source": [
    "predictions = filter2.predict(val_df)"
   ]
  },
  {
   "cell_type": "code",
   "execution_count": 35,
   "metadata": {},
   "outputs": [
    {
     "data": {
      "text/plain": [
       "(0.9075756313026085,\n",
       " np.float64(0.5545378850957535),\n",
       " np.float64(0.9715536105032823),\n",
       " np.float64(0.7060694407633183))"
      ]
     },
     "execution_count": 35,
     "metadata": {},
     "output_type": "execute_result"
    }
   ],
   "source": [
    "val_labels = predictions.select(\"label\").rdd.flatMap(lambda x: x).collect()\n",
    "val_preds = predictions.select(\"prediction\").rdd.flatMap(lambda x: x).collect()\n",
    "\n",
    "accuracy_score(val_labels, val_preds), precision_score(val_labels, val_preds), recall_score(val_labels, val_preds), f1_score(val_labels, val_preds)"
   ]
  },
  {
   "cell_type": "code",
   "execution_count": 36,
   "metadata": {},
   "outputs": [],
   "source": [
    "spark.stop()"
   ]
  },
  {
   "cell_type": "code",
   "execution_count": null,
   "metadata": {},
   "outputs": [],
   "source": []
  },
  {
   "cell_type": "code",
   "execution_count": null,
   "metadata": {},
   "outputs": [],
   "source": []
  }
 ],
 "metadata": {
  "kernelspec": {
   "display_name": "venv",
   "language": "python",
   "name": "python3"
  },
  "language_info": {
   "codemirror_mode": {
    "name": "ipython",
    "version": 3
   },
   "file_extension": ".py",
   "mimetype": "text/x-python",
   "name": "python",
   "nbconvert_exporter": "python",
   "pygments_lexer": "ipython3",
   "version": "3.11.9"
  }
 },
 "nbformat": 4,
 "nbformat_minor": 2
}
